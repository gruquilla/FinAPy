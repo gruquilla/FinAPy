{
 "cells": [
  {
   "cell_type": "code",
   "execution_count": 12,
   "id": "a17a097c-86d4-4b33-a1ae-f85aaf429104",
   "metadata": {
    "scrolled": true
   },
   "outputs": [
    {
     "data": {
      "text/html": [
       "<pre style=\"white-space:pre;overflow-x:auto;line-height:normal;font-family:Menlo,'DejaVu Sans Mono',consolas,'Courier New',monospace\"></pre>\n"
      ],
      "text/plain": []
     },
     "metadata": {},
     "output_type": "display_data"
    },
    {
     "name": "stdout",
     "output_type": "stream",
     "text": [
      "\u001b[36m╭──────────────────────────────────────╮\u001b[0m                                                                           \n",
      "\u001b[36m│\u001b[0mFinAPy: Financial Analysis with Python\u001b[36m│\u001b[0m                                                                           \n",
      "\u001b[36m╰──────────────────────────────────────╯\u001b[0m                                                                           \n",
      "\n"
     ]
    },
    {
     "name": "stdin",
     "output_type": "stream",
     "text": [
      "Enter the ticker of the stock:  NFLX\n",
      "Would you like to have local AI synthetic analysis? This feature requires Ollama and demands both time and processing power. Type y for yes, n for no n\n"
     ]
    },
    {
     "data": {
      "text/html": [
       "<pre style=\"white-space:pre;overflow-x:auto;line-height:normal;font-family:Menlo,'DejaVu Sans Mono',consolas,'Courier New',monospace\"></pre>\n"
      ],
      "text/plain": []
     },
     "metadata": {},
     "output_type": "display_data"
    },
    {
     "name": "stdout",
     "output_type": "stream",
     "text": [
      "\u001b[32m╭─────────────────────────────────────────────────────────────────────────────────────────────────────────────────╮\u001b[0m\n",
      "\u001b[32m│\u001b[0mI identified the company as Netflix, Inc.. It is a company of the Entertainment industry, part of the            \u001b[32m│\u001b[0m\n",
      "\u001b[32m│\u001b[0mCommunication Services sector, based in Los Gatos, United States. It employs 14000 full time employees. I am now \u001b[32m│\u001b[0m\n",
      "\u001b[32m│\u001b[0mfetching the news, it can take a few minutes...                                                                  \u001b[32m│\u001b[0m\n",
      "\u001b[32m╰─────────────────────────────────────────────────────────────────────────────────────────────────────────────────╯\u001b[0m\n",
      "\n"
     ]
    },
    {
     "data": {
      "text/markdown": [
       "In the meantime, for your information, Netflix, Inc. provides entertainment services. The company offers television (TV) series, documentaries, feature films, and games across various genres and languages. It also provides members the ability to receive streaming content through a host of internet-connected devices, including TVs, digital video players, TV set-top boxes, and mobile devices. The company operates approximately in 190 countries. Netflix, Inc. was incorporated in 1997 and is headquartered in Los Gatos, California."
      ],
      "text/plain": [
       "<IPython.core.display.Markdown object>"
      ]
     },
     "metadata": {},
     "output_type": "display_data"
    },
    {
     "name": "stderr",
     "output_type": "stream",
     "text": [
      "Device set to use cpu\n"
     ]
    },
    {
     "name": "stdout",
     "output_type": "stream",
     "text": [
      "\n",
      "Found 100 news articles for Netflix, Inc.. I will now proceed to the analysis, this can take a few minutes.\n"
     ]
    },
    {
     "data": {
      "text/html": [
       "<pre style=\"white-space:pre;overflow-x:auto;line-height:normal;font-family:Menlo,'DejaVu Sans Mono',consolas,'Courier New',monospace\"></pre>\n"
      ],
      "text/plain": []
     },
     "metadata": {},
     "output_type": "display_data"
    },
    {
     "name": "stdout",
     "output_type": "stream",
     "text": [
      "\u001b[36m╭───────────────────────╮\u001b[0m                                                                                          \n",
      "\u001b[36m│\u001b[0mI. Market data analysis\u001b[36m│\u001b[0m                                                                                          \n",
      "\u001b[36m╰───────────────────────╯\u001b[0m                                                                                          \n",
      "\n"
     ]
    },
    {
     "data": {
      "application/vnd.plotly.v1+json": {
       "config": {
        "plotlyServerURL": "https://plot.ly"
       },
       "data": [
        {
         "close": {
          "bdata": "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",
          "dtype": "f8"
         },
         "high": {
          "bdata": "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",
          "dtype": "f8"
         },
         "legendgroup": "Base information",
         "low": {
          "bdata": "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",
          "dtype": "f8"
         },
         "name": "Price",
         "open": {
          "bdata": "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",
          "dtype": "f8"
         },
         "type": "candlestick",
         "x": [
          "2024-09-23T00:00:00.000000000",
          "2024-09-24T00:00:00.000000000",
          "2024-09-25T00:00:00.000000000",
          "2024-09-26T00:00:00.000000000",
          "2024-09-27T00:00:00.000000000",
          "2024-09-30T00:00:00.000000000",
          "2024-10-01T00:00:00.000000000",
          "2024-10-02T00:00:00.000000000",
          "2024-10-03T00:00:00.000000000",
          "2024-10-04T00:00:00.000000000",
          "2024-10-07T00:00:00.000000000",
          "2024-10-08T00:00:00.000000000",
          "2024-10-09T00:00:00.000000000",
          "2024-10-10T00:00:00.000000000",
          "2024-10-11T00:00:00.000000000",
          "2024-10-14T00:00:00.000000000",
          "2024-10-15T00:00:00.000000000",
          "2024-10-16T00:00:00.000000000",
          "2024-10-17T00:00:00.000000000",
          "2024-10-18T00:00:00.000000000",
          "2024-10-21T00:00:00.000000000",
          "2024-10-22T00:00:00.000000000",
          "2024-10-23T00:00:00.000000000",
          "2024-10-24T00:00:00.000000000",
          "2024-10-25T00:00:00.000000000",
          "2024-10-28T00:00:00.000000000",
          "2024-10-29T00:00:00.000000000",
          "2024-10-30T00:00:00.000000000",
          "2024-10-31T00:00:00.000000000",
          "2024-11-01T00:00:00.000000000",
          "2024-11-04T00:00:00.000000000",
          "2024-11-05T00:00:00.000000000",
          "2024-11-06T00:00:00.000000000",
          "2024-11-07T00:00:00.000000000",
          "2024-11-08T00:00:00.000000000",
          "2024-11-11T00:00:00.000000000",
          "2024-11-12T00:00:00.000000000",
          "2024-11-13T00:00:00.000000000",
          "2024-11-14T00:00:00.000000000",
          "2024-11-15T00:00:00.000000000",
          "2024-11-18T00:00:00.000000000",
          "2024-11-19T00:00:00.000000000",
          "2024-11-20T00:00:00.000000000",
          "2024-11-21T00:00:00.000000000",
          "2024-11-22T00:00:00.000000000",
          "2024-11-25T00:00:00.000000000",
          "2024-11-26T00:00:00.000000000",
          "2024-11-27T00:00:00.000000000",
          "2024-11-29T00:00:00.000000000",
          "2024-12-02T00:00:00.000000000",
          "2024-12-03T00:00:00.000000000",
          "2024-12-04T00:00:00.000000000",
          "2024-12-05T00:00:00.000000000",
          "2024-12-06T00:00:00.000000000",
          "2024-12-09T00:00:00.000000000",
          "2024-12-10T00:00:00.000000000",
          "2024-12-11T00:00:00.000000000",
          "2024-12-12T00:00:00.000000000",
          "2024-12-13T00:00:00.000000000",
          "2024-12-16T00:00:00.000000000",
          "2024-12-17T00:00:00.000000000",
          "2024-12-18T00:00:00.000000000",
          "2024-12-19T00:00:00.000000000",
          "2024-12-20T00:00:00.000000000",
          "2024-12-23T00:00:00.000000000",
          "2024-12-24T00:00:00.000000000",
          "2024-12-26T00:00:00.000000000",
          "2024-12-27T00:00:00.000000000",
          "2024-12-30T00:00:00.000000000",
          "2024-12-31T00:00:00.000000000",
          "2025-01-02T00:00:00.000000000",
          "2025-01-03T00:00:00.000000000",
          "2025-01-06T00:00:00.000000000",
          "2025-01-07T00:00:00.000000000",
          "2025-01-08T00:00:00.000000000",
          "2025-01-10T00:00:00.000000000",
          "2025-01-13T00:00:00.000000000",
          "2025-01-14T00:00:00.000000000",
          "2025-01-15T00:00:00.000000000",
          "2025-01-16T00:00:00.000000000",
          "2025-01-17T00:00:00.000000000",
          "2025-01-21T00:00:00.000000000",
          "2025-01-22T00:00:00.000000000",
          "2025-01-23T00:00:00.000000000",
          "2025-01-24T00:00:00.000000000",
          "2025-01-27T00:00:00.000000000",
          "2025-01-28T00:00:00.000000000",
          "2025-01-29T00:00:00.000000000",
          "2025-01-30T00:00:00.000000000",
          "2025-01-31T00:00:00.000000000",
          "2025-02-03T00:00:00.000000000",
          "2025-02-04T00:00:00.000000000",
          "2025-02-05T00:00:00.000000000",
          "2025-02-06T00:00:00.000000000",
          "2025-02-07T00:00:00.000000000",
          "2025-02-10T00:00:00.000000000",
          "2025-02-11T00:00:00.000000000",
          "2025-02-12T00:00:00.000000000",
          "2025-02-13T00:00:00.000000000",
          "2025-02-14T00:00:00.000000000",
          "2025-02-18T00:00:00.000000000",
          "2025-02-19T00:00:00.000000000",
          "2025-02-20T00:00:00.000000000",
          "2025-02-21T00:00:00.000000000",
          "2025-02-24T00:00:00.000000000",
          "2025-02-25T00:00:00.000000000",
          "2025-02-26T00:00:00.000000000",
          "2025-02-27T00:00:00.000000000",
          "2025-02-28T00:00:00.000000000",
          "2025-03-03T00:00:00.000000000",
          "2025-03-04T00:00:00.000000000",
          "2025-03-05T00:00:00.000000000",
          "2025-03-06T00:00:00.000000000",
          "2025-03-07T00:00:00.000000000",
          "2025-03-10T00:00:00.000000000",
          "2025-03-11T00:00:00.000000000",
          "2025-03-12T00:00:00.000000000",
          "2025-03-13T00:00:00.000000000",
          "2025-03-14T00:00:00.000000000",
          "2025-03-17T00:00:00.000000000",
          "2025-03-18T00:00:00.000000000",
          "2025-03-19T00:00:00.000000000",
          "2025-03-20T00:00:00.000000000",
          "2025-03-21T00:00:00.000000000",
          "2025-03-24T00:00:00.000000000",
          "2025-03-25T00:00:00.000000000",
          "2025-03-26T00:00:00.000000000",
          "2025-03-27T00:00:00.000000000",
          "2025-03-28T00:00:00.000000000",
          "2025-03-31T00:00:00.000000000",
          "2025-04-01T00:00:00.000000000",
          "2025-04-02T00:00:00.000000000",
          "2025-04-03T00:00:00.000000000",
          "2025-04-04T00:00:00.000000000",
          "2025-04-07T00:00:00.000000000",
          "2025-04-08T00:00:00.000000000",
          "2025-04-09T00:00:00.000000000",
          "2025-04-10T00:00:00.000000000",
          "2025-04-11T00:00:00.000000000",
          "2025-04-14T00:00:00.000000000",
          "2025-04-15T00:00:00.000000000",
          "2025-04-16T00:00:00.000000000",
          "2025-04-17T00:00:00.000000000",
          "2025-04-21T00:00:00.000000000",
          "2025-04-22T00:00:00.000000000",
          "2025-04-23T00:00:00.000000000",
          "2025-04-24T00:00:00.000000000",
          "2025-04-25T00:00:00.000000000",
          "2025-04-28T00:00:00.000000000",
          "2025-04-29T00:00:00.000000000",
          "2025-04-30T00:00:00.000000000",
          "2025-05-01T00:00:00.000000000",
          "2025-05-02T00:00:00.000000000",
          "2025-05-05T00:00:00.000000000",
          "2025-05-06T00:00:00.000000000",
          "2025-05-07T00:00:00.000000000",
          "2025-05-08T00:00:00.000000000",
          "2025-05-09T00:00:00.000000000",
          "2025-05-12T00:00:00.000000000",
          "2025-05-13T00:00:00.000000000",
          "2025-05-14T00:00:00.000000000",
          "2025-05-15T00:00:00.000000000",
          "2025-05-16T00:00:00.000000000",
          "2025-05-19T00:00:00.000000000",
          "2025-05-20T00:00:00.000000000",
          "2025-05-21T00:00:00.000000000",
          "2025-05-22T00:00:00.000000000",
          "2025-05-23T00:00:00.000000000",
          "2025-05-27T00:00:00.000000000",
          "2025-05-28T00:00:00.000000000",
          "2025-05-29T00:00:00.000000000",
          "2025-05-30T00:00:00.000000000",
          "2025-06-02T00:00:00.000000000",
          "2025-06-03T00:00:00.000000000",
          "2025-06-04T00:00:00.000000000",
          "2025-06-05T00:00:00.000000000",
          "2025-06-06T00:00:00.000000000",
          "2025-06-09T00:00:00.000000000",
          "2025-06-10T00:00:00.000000000",
          "2025-06-11T00:00:00.000000000",
          "2025-06-12T00:00:00.000000000",
          "2025-06-13T00:00:00.000000000",
          "2025-06-16T00:00:00.000000000",
          "2025-06-17T00:00:00.000000000",
          "2025-06-18T00:00:00.000000000",
          "2025-06-20T00:00:00.000000000",
          "2025-06-23T00:00:00.000000000",
          "2025-06-24T00:00:00.000000000",
          "2025-06-25T00:00:00.000000000",
          "2025-06-26T00:00:00.000000000",
          "2025-06-27T00:00:00.000000000",
          "2025-06-30T00:00:00.000000000",
          "2025-07-01T00:00:00.000000000",
          "2025-07-02T00:00:00.000000000",
          "2025-07-03T00:00:00.000000000",
          "2025-07-07T00:00:00.000000000",
          "2025-07-08T00:00:00.000000000",
          "2025-07-09T00:00:00.000000000",
          "2025-07-10T00:00:00.000000000",
          "2025-07-11T00:00:00.000000000",
          "2025-07-14T00:00:00.000000000",
          "2025-07-15T00:00:00.000000000",
          "2025-07-16T00:00:00.000000000",
          "2025-07-17T00:00:00.000000000",
          "2025-07-18T00:00:00.000000000",
          "2025-07-21T00:00:00.000000000",
          "2025-07-22T00:00:00.000000000",
          "2025-07-23T00:00:00.000000000",
          "2025-07-24T00:00:00.000000000",
          "2025-07-25T00:00:00.000000000",
          "2025-07-28T00:00:00.000000000",
          "2025-07-29T00:00:00.000000000",
          "2025-07-30T00:00:00.000000000",
          "2025-07-31T00:00:00.000000000",
          "2025-08-01T00:00:00.000000000",
          "2025-08-04T00:00:00.000000000",
          "2025-08-05T00:00:00.000000000",
          "2025-08-06T00:00:00.000000000",
          "2025-08-07T00:00:00.000000000",
          "2025-08-08T00:00:00.000000000",
          "2025-08-11T00:00:00.000000000",
          "2025-08-12T00:00:00.000000000",
          "2025-08-13T00:00:00.000000000",
          "2025-08-14T00:00:00.000000000",
          "2025-08-15T00:00:00.000000000",
          "2025-08-18T00:00:00.000000000",
          "2025-08-19T00:00:00.000000000",
          "2025-08-20T00:00:00.000000000",
          "2025-08-21T00:00:00.000000000",
          "2025-08-22T00:00:00.000000000",
          "2025-08-25T00:00:00.000000000",
          "2025-08-26T00:00:00.000000000",
          "2025-08-27T00:00:00.000000000",
          "2025-08-28T00:00:00.000000000",
          "2025-08-29T00:00:00.000000000",
          "2025-09-02T00:00:00.000000000",
          "2025-09-03T00:00:00.000000000",
          "2025-09-04T00:00:00.000000000",
          "2025-09-05T00:00:00.000000000",
          "2025-09-08T00:00:00.000000000",
          "2025-09-09T00:00:00.000000000",
          "2025-09-10T00:00:00.000000000",
          "2025-09-11T00:00:00.000000000",
          "2025-09-12T00:00:00.000000000",
          "2025-09-15T00:00:00.000000000",
          "2025-09-16T00:00:00.000000000",
          "2025-09-17T00:00:00.000000000",
          "2025-09-18T00:00:00.000000000",
          "2025-09-19T00:00:00.000000000",
          "2025-09-22T00:00:00.000000000"
         ],
         "xaxis": "x",
         "yaxis": "y"
        },
        {
         "hoverinfo": "text+x",
         "legendgroup": "Events",
         "marker": {
          "cmax": 1,
          "cmin": -1,
          "color": {
           "bdata": "AAAAAAAAAADLoUW28/3sv0ATYcPTK+s/AAAAAAAAAAAdyeU/pN/sPwAAAAAAAAAAAAAAAAAAAAAAAAAAAAAAAAAAAAAAAAAAAAAAAAAAAAA7AU2EDU/tvwAAAAAAAAAAEhQ/xty17r+KH2PuWkLiPwfwFkhQ/Oo/AAAAAAAAAAAAAAAAAAAAADJVMCqpE+4/AAAAAAAAAAAsZRniWBftPwAAAAAAAAAAAAAAAAAAAAACK4cW2c7tPwAAAAAAAAAAAAAAAAAAAACIY13cRgPuPwAAAAAAAAAAAAAAAAAAAAAAAAAAAAAAAAAAAAAAAAAAAAAAAAAAAAAAAAAAAAAAAAAAAAAAAAAAtRX7y+7J7b8AAAAAAAAAAAAAAAAAAAAAAAAAAAAAAAAAAAAAAAAAAAAAAAAAAAAAAAAAAAAAAAAAAAAAAAAAAAAAAAAAAAAAUkmdgCbC4D+1FfvL7snrP3BfB84ZUew/c2iR7Xw/6T8AAAAAAAAAAAskKH6Muek/CfmgZ7Pq3z87cM6I0t7sP/32deCcEe0/Imx4eqUs4z+lLEMc6+Lsv4PAyqFFtu0/AAAAAAAAAAB6xyk6ksvnPzvfT42Xbu6/5IOezarP7T/pt68D54zsP4lBYOXQIu0/8rBQa5p34j+coiO5/IfqvzcawFsgQeM/AAAAAAAAAADHuriNBvDuvwAAAAAAAAAAAAAAAAAAAAAxCKwcWmTlv2Kh1jTvOO0/AAAAAAAAAAAAAAAAAAAAAAAAAAAAAAAAAAAAAAAAAAAAAAAAAAAAAAAAAAAAAAAAAAAAAAAAAAAAAAAAAAAAAIbJVMGopOq/AAAAAAAAAAAAAAAAAAAAAAAAAAAAAAAAAAAAAAAAAAAAAAAAAAAAAAAAAAAAAAAAGeJYF7fR7L+jkjoBTYTtvzeJQWDl0O6/AAAAAAAAAAAAAAAAAAAAAAAAAAAAAAAANxrAWyBB6b9MN4lBYOXmPwAAAAAAAAAAAAAAAAAAAAAAAAAAAAAAAAAAAAAAAAAAoBov3SQG6T/gLZCg+DHqP0vIBz2bVe0/PSzUmuYd6T8=",
           "dtype": "f8"
          },
          "colorbar": {
           "title": {
            "text": "Sentiment"
           }
          },
          "colorscale": [
           [
            0,
            "crimson"
           ],
           [
            0.5,
            "white"
           ],
           [
            1,
            "springGreen"
           ]
          ],
          "line": {
           "color": "dodgerblue",
           "width": 1
          },
          "size": {
           "bdata": "AAAAAAAAGEDJdr6fGq8yQGx4eqUs4zFAAAAAAAAAGED8h/Tb16EyQAAAAAAAABhAAAAAAAAAGEAAAAAAAAAYQAAAAAAAABhAAAAAAAAAGECKsOHpldIyQAAAAAAAABhAyJi7lpBvM0CZu5aQD/orQAMJih9jzjFAAAAAAAAAGEAAAAAAAAAYQEYldQKaKDNAAAAAAAAAGEBDHOviNroyQAAAAAAAABhAAAAAAAAAGEDRItv5fgozQAAAAAAAABhAAAAAAAAAGECM22gAbyEzQAAAAAAAABhAAAAAAAAAGEAAAAAAAAAYQAAAAAAAABhAAAAAAAAAGEAAAAAAAAAYQAAAAAAAABhAf9k9eVgIM0AAAAAAAAAYQAAAAAAAABhAAAAAAAAAGEAAAAAAAAAYQAAAAAAAABhAAAAAAAAAGEAAAAAAAAAYQAAAAAAAABhAKKCJsOGpKkB/2T15WCgyQME5I0p7YzJAsp3vp8YLMUAAAAAAAAAYQMWPMXctQTFA9GxWfa72KUAaUdobfKEyQA6cM6K0tzJAnl4pyxDHLECIY13cRqMyQDq0yHa+/zJAAAAAAAAAGEBGR3L5D2kwQKrx0k1iUDNAtFn1udoKM0B24JwRpX0yQKwcWmQ7vzJA1JrmHacoLEAkl/+QfpsxQPAWSFD82CxAAAAAAAAAGEC30QDeAokzQAAAAAAAABhAAAAAAAAAGEArhxbZzrcuQJvmHafoyDJAAAAAAAAAGEAAAAAAAAAYQAAAAAAAABhAAAAAAAAAGEAAAAAAAAAYQAAAAAAAABhAAAAAAAAAGEAAAAAAAAAYQCoYldQJqDFAAAAAAAAAGEAAAAAAAAAYQAAAAAAAABhAAAAAAAAAGEAAAAAAAAAYQAAAAAAAABhA6+I2GsCbMkAooImw4ekyQAisHFpkezNAAAAAAAAAGEAAAAAAAAAYQAAAAAAAABhAeAskKH4MMUAxCKwcWgQwQAAAAAAAABhAAAAAAAAAGEAAAAAAAAAYQAAAAAAAABhAppvEILDyMEASFD/G3HUxQKFns+pz1TJAWtO84xT9MEA=",
           "dtype": "f8"
          },
          "symbol": "circle"
         },
         "mode": "markers",
         "name": "News Headlines",
         "text": [
          "Netflix, Inc. $NFLX is Clare Market Investments LLC's 5th Largest Position - MarketBeat",
          "UMB Bank n.a. Lowers Stock Holdings in Netflix, Inc. $NFLX - MarketBeat",
          "SeaCrest Wealth Management LLC Grows Stock Position in Netflix, Inc. $NFLX - MarketBeat",
          "3 Reasons to Avoid Netflix Stock Despite Its 28% Surge in 6 Months - Zacks Investment Research",
          "Advisors Capital Boosts Netflix, Inc. (NFLX) Stake as Company Partners with Amazon Ads - Yahoo Finance",
          "RB Capital Management LLC Purchases 316 Shares of Netflix, Inc. $NFLX - MarketBeat",
          "Netflix Stock (NFLX) Opinions on Streaming Market Competition - Quiver Quantitative",
          "What's Going On With Netflix Stock Thursday? - Netflix (NASDAQ:NFLX) - Benzinga",
          "People Now Spend On Netflix, Inc. (NFLX) Instead Of Shopping, Says Jim Cramer - Yahoo Finance",
          "Netflix, Inc. (NFLX) is Attracting Investor Attention: Here is What You Should Know - Yahoo Finance",
          "Is Netflix Stock Outperforming The Nasdaq? - Barchart.com",
          "Netflix (NASDAQ: NFLX) Stock Price Prediction and Forecast 2025-2030 (Aug 2025) - 24/7 Wall St.",
          "Netflix: Shares Are Getting Perilously Close To Warranting A Downgrade (NASDAQ:NFLX) - Seeking Alpha",
          "Netflix: Positives Are Priced In (NASDAQ:NFLX) - Seeking Alpha",
          "Netflix: Growth Priced In, Expect Consolidation - Seeking Alpha",
          "Netflix, Inc. (NFLX) Is a Trending Stock: Facts to Know Before Betting on It - Yahoo Finance",
          "Should You Buy Netflix at 40.8x P/E? 3 Reasons Despite the Premium - Yahoo Finance",
          "Netflix: Second Half Is Shaping Up Exceptionally Strong (Upgrade) (NASDAQ:NFLX) - Seeking Alpha",
          "Signal: Buy the Dip on Netflix Stock - Schaeffer's Investment Research",
          "Why the Market Dipped But Netflix (NFLX) Gained Today - Yahoo Finance",
          "Netflix, Inc. (NFLX) Becomes Corient IA LLC’s 4th-Largest Holding - Yahoo Finance",
          "Netflix Stock (NFLX) Opinions on Q2 Earnings Report | NFLX Stock News - Quiver Quantitative",
          "Has Netflix (NFLX) Outpaced Other Consumer Discretionary Stocks This Year? - Yahoo Finance",
          "Top Analyst Reports for Netflix, Mastercard & Shell - Yahoo Finance",
          "Should You Invest in Netflix (NFLX) Based on Bullish Wall Street Views? - Yahoo Finance",
          "Netflix (NFLX) Keeps Momentum with Strong Content Pipeline, Says Piper Sandler - Yahoo Finance",
          "Investors Heavily Search Netflix, Inc. (NFLX): Here is What You Need to Know - Yahoo Finance",
          "NFLX vs. ROKU: Which Ad-Supported Streaming Stock is the Better Buy? - Yahoo Finance",
          "What's Going On With Netflix Stock Thursday? - Netflix (NASDAQ:NFLX) - Benzinga",
          "Bull/Bear Debate: What's the future look like for streaming giant Netflix? - Seeking Alpha",
          "Netflix (NFLX) Secures Broadcasting Rights for FIFA Women’s World Cup - Yahoo Finance",
          "Why Is Netflix Stock Gaining Friday? - Netflix (NASDAQ:NFLX) - Benzinga",
          "Jim Cramer on Netflix: \"It’s a Very Highly Valued Stock\" - Yahoo Finance",
          "Netflix, Inc. (NASDAQ:NFLX) Stock Has Shown Weakness Lately But Financials Look Strong: Should Prospective Shareholders Make The Leap? - Yahoo Finance",
          "Netflix Stock Hasn’t Gone Anywhere in 3 Months. How Should You Play NFLX Here? - Yahoo Finance",
          "Bull of the Day: Netflix, Inc. (NFLX) - August 5, 2025 - Zacks Investment Research",
          "Netflix and Badger Meter have been highlighted as Zacks Bull and Bear of the Day - Yahoo Finance",
          "Here is What to Know Beyond Why Netflix, Inc. (NFLX) is a Trending Stock - Yahoo Finance",
          "Netflix, Palo Alto And An Energy Stock On CNBC's 'Final Trades' - Benzinga",
          "What Aiming To Be The Next Disney Could Mean For Netflix Stock - Investor's Business Daily",
          "Jim Cramer on Netflix: \"It’s Going To Be Fine\" - Yahoo Finance",
          "Wall Street Analysts Look Bullish on Netflix (NFLX): Should You Buy? - Yahoo Finance",
          "Jefferies Raises Netflix (NFLX) PT, Maintains Buy Rating - Yahoo Finance",
          "Citi Raises Netflix (NFLX) Price Target After Solid Q2 Results - Yahoo Finance",
          "Netflix: Tremendous Performance, But A Selloff Was Overdue - Seeking Alpha",
          "Netflix: Great Results, An Overpriced Stock (NASDAQ:NFLX) - Seeking Alpha",
          "After Earnings, Is Netflix Stock a Buy, a Sell, or Fairly Valued? - Morningstar",
          "Netflix Stock Ready to Move Back Toward Record Peak - Schaeffer's Investment Research",
          "Netflix Is Printing Money (Rating Upgrade) (NASDAQ:NFLX) - Seeking Alpha",
          "Despite Excellent Capital Allocation Decisions, Netflix Seems Fairly Valued (NASDAQ:NFLX) - Seeking Alpha",
          "Netflix (NFLX) Upgraded to Strong Buy: Here's Why - Yahoo Finance",
          "Is Trending Stock Netflix, Inc. (NFLX) a Buy Now? - Yahoo Finance",
          "Netflix Has Much Further To Fall (NASDAQ:NFLX) - Seeking Alpha",
          "Netflix's Outlook Remains Strong Post Q2 Earnings Beat: Time to Hold? - Yahoo Finance",
          "Netflix, Inc. (NFLX): Not An Analyst Who Isn’t Buying Netflix, Says Jim Cramer - Yahoo Finance",
          "Analyst Highlights Netflix’s (NFLX) ‘Biggest Advantage’ – Can The Stock Keep Rising Amid Competition? - Yahoo Finance",
          "Netflix, Inc. (NFLX) Stock: Slips Despite Q2 Earnings Beat and Raised Forecast - CoinCentral",
          "Netflix Stock: Q2 Earnings Were Much Better Than The Market Thinks (NASDAQ:NFLX) - Seeking Alpha",
          "Netflix Inc (NFLX) Q2 2025 Earnings Call Highlights: Strong Revenue Growth and Strategic Challenges - Yahoo Finance",
          "Netflix Tops Wall Street’s Lofty Estimates, Raises Forecast - Bloomberg.com",
          "Netflix: Success Of Ads Business Has Become More Vital Than Ever (NASDAQ:NFLX) - Seeking Alpha",
          "NFLX: Netflix Stock Hit After Margin Forecast Offsets Blowout Second Quarter - Yahoo Finance",
          "Netflix’s profit surges. But it was not enough for the stock. - MarketWatch",
          "Key takeaways from Netflix's Q2, with stock dipping (NFLX:NASDAQ) - Seeking Alpha",
          "Netflix revenue soars 16% in Q2, but the stock still slips - qz.com",
          "Should You Buy, Hold, or Sell Netflix Stock Ahead of Q2 Earnings? - Yahoo Finance",
          "Why Netflix (NFLX) is a Top Momentum Stock for the Long-Term - Yahoo Finance",
          "Netflix Stock Is Soaring: Is It a Buy, Sell, or Hold? - The Motley Fool",
          "Netflix Earnings Preview: Margin Guidance Continues To Be Revised Higher (NFLX) - Seeking Alpha",
          "Netflix Set to Report Q2 Earnings: Buy, Sell or Hold NFLX Stock? - Nasdaq",
          "Should You Buy, Hold, or Sell Netflix Stock Ahead of Q2 Earnings? - Zacks Investment Research",
          "What Analysts Think of Netflix Stock Ahead of Earnings - Investopedia",
          "Is It Worth Investing in Netflix (NFLX) Based on Wall Street's Bullish Views? - Yahoo Finance",
          "NFLX vs. WBD: Which Entertainment Stock Has an Edge Right Now? - Yahoo Finance",
          "Netflix Q2 Preview: Advertising Is The Real Game Changer - Seeking Alpha",
          "Netflix Stock Price Levels to Watch as Earnings Report Set for Thursday - Investopedia",
          "Is Netflix Stock A Buy Before July 17? - Barchart.com",
          "Investors Still Waiting For A Pull Back In Netflix, Inc. (NASDAQ:NFLX) - simplywall.st",
          "Netflix, Inc. (NFLX): You Can Take It Off The Table If You Want, Says Jim Cramer - Yahoo",
          "Netflix, Inc. (NFLX) is Attracting Investor Attention: Here is What You Should Know - Yahoo Finance",
          "Going Into Earnings, Is Netflix Stock a Buy, a Sell, or Fairly Valued? - Morningstar",
          "Netflix: Why I Decided To Trim After 3 Years (Downgrade) (NASDAQ:NFLX) - Seeking Alpha",
          "Should You Buy Netflix Stock Before July 17? - The Motley Fool",
          "Netflix: These 3 Metrics Explain The Valuation (NASDAQ:NFLX) - Seeking Alpha",
          "Netflix Q2 Earnings Preview: Recent Price Spike Makes Me Cautious (Rating Downgrade) (NASDAQ:NFLX) - Seeking Alpha",
          "Netflix Stock Downgraded. Here’s Why. - Investor's Business Daily",
          "Netflix Stock Stalled as Analyst Voices Valuation Concerns - Schaeffer's Investment Research",
          "Netflix: This Is What A Blow Off Top Looks Like (NASDAQ:NFLX) - Seeking Alpha",
          "Netflix (NFLX) Opinions on Stock Valuation and Strategic Expansions - Nasdaq",
          "Can Gaming Become the Next Revenue Pillar for Netflix Stock? - Nasdaq",
          "(NFLX) Netflix’s Lofty Valuation Has Even Bullish Investors Nervous - Bloomberg.com",
          "Netflix (NFLX) Stock Hits A New All-Time High: What's Going On? - Benzinga",
          "3 Reasons to Hold Netflix Stock in 2H25 Beyond its 38% YTD Growth - Nasdaq",
          "3 Reasons to Hold Netflix Stock in 2H25 Beyond its 38% YTD Growth - Zacks Investment Research",
          "Could Netflix Stock Help You Become a Millionaire? - Nasdaq",
          "The 3 Most Overvalued Stocks Top Managers Are Selling in 2025 - Morningstar",
          "3 Key Reasons to Buy Netflix Stock Beyond its 33% Year-to-Date Surge - Nasdaq",
          "Netflix stock soars to all-time high of $1197.86 - Investing.com",
          "Netflix is still a 'buy' even after its recent rally as revenue climbs: Barron's (NFLX:NASDAQ) - Seeking Alpha",
          "Netflix Stock Hits Record High On Advertising Initiative - Investor's Business Daily"
         ],
         "type": "scatter",
         "x": [
          "2025-09-22T06:06:09.000000000",
          "2025-09-20T12:45:33.000000000",
          "2025-09-20T10:36:06.000000000",
          "2025-09-18T15:01:45.000000000",
          "2025-09-18T14:56:20.000000000",
          "2025-09-17T07:00:00.000000000",
          "2025-09-13T07:00:00.000000000",
          "2025-09-11T07:00:00.000000000",
          "2025-09-10T07:00:00.000000000",
          "2025-09-08T07:00:00.000000000",
          "2025-09-01T07:00:00.000000000",
          "2025-08-31T07:00:00.000000000",
          "2025-08-29T07:00:00.000000000",
          "2025-08-28T07:00:00.000000000",
          "2025-08-28T07:00:00.000000000",
          "2025-08-27T07:00:00.000000000",
          "2025-08-27T07:00:00.000000000",
          "2025-08-27T07:00:00.000000000",
          "2025-08-26T07:00:00.000000000",
          "2025-08-25T07:00:00.000000000",
          "2025-08-24T07:00:00.000000000",
          "2025-08-24T07:00:00.000000000",
          "2025-08-21T07:00:00.000000000",
          "2025-08-19T07:00:00.000000000",
          "2025-08-18T07:00:00.000000000",
          "2025-08-17T07:00:00.000000000",
          "2025-08-15T07:00:00.000000000",
          "2025-08-14T07:00:00.000000000",
          "2025-08-14T07:00:00.000000000",
          "2025-08-12T07:00:00.000000000",
          "2025-08-11T07:00:00.000000000",
          "2025-08-08T07:00:00.000000000",
          "2025-08-07T07:00:00.000000000",
          "2025-08-07T07:00:00.000000000",
          "2025-08-06T07:00:00.000000000",
          "2025-08-05T07:00:00.000000000",
          "2025-08-05T07:00:00.000000000",
          "2025-08-04T07:00:00.000000000",
          "2025-08-04T07:00:00.000000000",
          "2025-08-01T07:00:00.000000000",
          "2025-07-31T07:00:00.000000000",
          "2025-07-31T07:00:00.000000000",
          "2025-07-30T07:00:00.000000000",
          "2025-07-29T07:00:00.000000000",
          "2025-07-28T07:00:00.000000000",
          "2025-07-27T07:00:00.000000000",
          "2025-07-25T07:00:00.000000000",
          "2025-07-24T07:00:00.000000000",
          "2025-07-23T07:00:00.000000000",
          "2025-07-23T07:00:00.000000000",
          "2025-07-22T07:00:00.000000000",
          "2025-07-22T07:00:00.000000000",
          "2025-07-21T07:00:00.000000000",
          "2025-07-21T07:00:00.000000000",
          "2025-07-21T07:00:00.000000000",
          "2025-07-18T07:00:00.000000000",
          "2025-07-18T07:00:00.000000000",
          "2025-07-18T07:00:00.000000000",
          "2025-07-18T07:00:00.000000000",
          "2025-07-18T07:00:00.000000000",
          "2025-07-18T07:00:00.000000000",
          "2025-07-18T07:00:00.000000000",
          "2025-07-17T07:00:00.000000000",
          "2025-07-17T07:00:00.000000000",
          "2025-07-17T07:00:00.000000000",
          "2025-07-16T07:00:00.000000000",
          "2025-07-16T07:00:00.000000000",
          "2025-07-16T07:00:00.000000000",
          "2025-07-16T07:00:00.000000000",
          "2025-07-16T07:00:00.000000000",
          "2025-07-16T07:00:00.000000000",
          "2025-07-16T07:00:00.000000000",
          "2025-07-15T07:00:00.000000000",
          "2025-07-15T07:00:00.000000000",
          "2025-07-14T07:00:00.000000000",
          "2025-07-14T07:00:00.000000000",
          "2025-07-14T07:00:00.000000000",
          "2025-07-13T07:00:00.000000000",
          "2025-07-11T07:50:29.000000000",
          "2025-07-11T07:00:00.000000000",
          "2025-07-11T07:00:00.000000000",
          "2025-07-11T07:00:00.000000000",
          "2025-07-10T07:00:00.000000000",
          "2025-07-08T07:00:00.000000000",
          "2025-07-08T07:00:00.000000000",
          "2025-07-07T07:00:00.000000000",
          "2025-07-07T07:00:00.000000000",
          "2025-07-02T07:00:00.000000000",
          "2025-07-02T07:00:00.000000000",
          "2025-07-01T07:00:00.000000000",
          "2025-07-01T07:00:00.000000000",
          "2025-06-25T07:00:00.000000000",
          "2025-06-23T07:00:00.000000000",
          "2025-06-23T07:00:00.000000000",
          "2025-06-22T07:00:00.000000000",
          "2025-06-03T07:00:00.000000000",
          "2025-05-27T07:00:00.000000000",
          "2025-05-21T07:00:00.000000000",
          "2025-05-18T07:00:00.000000000",
          "2025-05-16T07:00:00.000000000"
         ],
         "xaxis": "x",
         "y": {
          "bdata": "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",
          "dtype": "f8"
         },
         "yaxis": "y"
        },
        {
         "hoverinfo": "text+x",
         "legendgroup": "Events",
         "marker": {
          "color": "rgba(0, 200, 200, 1)",
          "size": 8,
          "symbol": "diamond"
         },
         "mode": "markers",
         "name": "Events",
         "text": [
          "Earnings Date"
         ],
         "type": "scatter",
         "x": [
          "2025-10-21"
         ],
         "xaxis": "x",
         "y": {
          "bdata": "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",
          "dtype": "f8"
         },
         "yaxis": "y"
        },
        {
         "legendgroup": "Base information",
         "line": {
          "color": "rgba(0, 0, 0, 0.25)",
          "width": 1
         },
         "name": "Closing price",
         "type": "scatter",
         "x": [
          "2024-09-23T00:00:00.000000000",
          "2024-09-24T00:00:00.000000000",
          "2024-09-25T00:00:00.000000000",
          "2024-09-26T00:00:00.000000000",
          "2024-09-27T00:00:00.000000000",
          "2024-09-30T00:00:00.000000000",
          "2024-10-01T00:00:00.000000000",
          "2024-10-02T00:00:00.000000000",
          "2024-10-03T00:00:00.000000000",
          "2024-10-04T00:00:00.000000000",
          "2024-10-07T00:00:00.000000000",
          "2024-10-08T00:00:00.000000000",
          "2024-10-09T00:00:00.000000000",
          "2024-10-10T00:00:00.000000000",
          "2024-10-11T00:00:00.000000000",
          "2024-10-14T00:00:00.000000000",
          "2024-10-15T00:00:00.000000000",
          "2024-10-16T00:00:00.000000000",
          "2024-10-17T00:00:00.000000000",
          "2024-10-18T00:00:00.000000000",
          "2024-10-21T00:00:00.000000000",
          "2024-10-22T00:00:00.000000000",
          "2024-10-23T00:00:00.000000000",
          "2024-10-24T00:00:00.000000000",
          "2024-10-25T00:00:00.000000000",
          "2024-10-28T00:00:00.000000000",
          "2024-10-29T00:00:00.000000000",
          "2024-10-30T00:00:00.000000000",
          "2024-10-31T00:00:00.000000000",
          "2024-11-01T00:00:00.000000000",
          "2024-11-04T00:00:00.000000000",
          "2024-11-05T00:00:00.000000000",
          "2024-11-06T00:00:00.000000000",
          "2024-11-07T00:00:00.000000000",
          "2024-11-08T00:00:00.000000000",
          "2024-11-11T00:00:00.000000000",
          "2024-11-12T00:00:00.000000000",
          "2024-11-13T00:00:00.000000000",
          "2024-11-14T00:00:00.000000000",
          "2024-11-15T00:00:00.000000000",
          "2024-11-18T00:00:00.000000000",
          "2024-11-19T00:00:00.000000000",
          "2024-11-20T00:00:00.000000000",
          "2024-11-21T00:00:00.000000000",
          "2024-11-22T00:00:00.000000000",
          "2024-11-25T00:00:00.000000000",
          "2024-11-26T00:00:00.000000000",
          "2024-11-27T00:00:00.000000000",
          "2024-11-29T00:00:00.000000000",
          "2024-12-02T00:00:00.000000000",
          "2024-12-03T00:00:00.000000000",
          "2024-12-04T00:00:00.000000000",
          "2024-12-05T00:00:00.000000000",
          "2024-12-06T00:00:00.000000000",
          "2024-12-09T00:00:00.000000000",
          "2024-12-10T00:00:00.000000000",
          "2024-12-11T00:00:00.000000000",
          "2024-12-12T00:00:00.000000000",
          "2024-12-13T00:00:00.000000000",
          "2024-12-16T00:00:00.000000000",
          "2024-12-17T00:00:00.000000000",
          "2024-12-18T00:00:00.000000000",
          "2024-12-19T00:00:00.000000000",
          "2024-12-20T00:00:00.000000000",
          "2024-12-23T00:00:00.000000000",
          "2024-12-24T00:00:00.000000000",
          "2024-12-26T00:00:00.000000000",
          "2024-12-27T00:00:00.000000000",
          "2024-12-30T00:00:00.000000000",
          "2024-12-31T00:00:00.000000000",
          "2025-01-02T00:00:00.000000000",
          "2025-01-03T00:00:00.000000000",
          "2025-01-06T00:00:00.000000000",
          "2025-01-07T00:00:00.000000000",
          "2025-01-08T00:00:00.000000000",
          "2025-01-10T00:00:00.000000000",
          "2025-01-13T00:00:00.000000000",
          "2025-01-14T00:00:00.000000000",
          "2025-01-15T00:00:00.000000000",
          "2025-01-16T00:00:00.000000000",
          "2025-01-17T00:00:00.000000000",
          "2025-01-21T00:00:00.000000000",
          "2025-01-22T00:00:00.000000000",
          "2025-01-23T00:00:00.000000000",
          "2025-01-24T00:00:00.000000000",
          "2025-01-27T00:00:00.000000000",
          "2025-01-28T00:00:00.000000000",
          "2025-01-29T00:00:00.000000000",
          "2025-01-30T00:00:00.000000000",
          "2025-01-31T00:00:00.000000000",
          "2025-02-03T00:00:00.000000000",
          "2025-02-04T00:00:00.000000000",
          "2025-02-05T00:00:00.000000000",
          "2025-02-06T00:00:00.000000000",
          "2025-02-07T00:00:00.000000000",
          "2025-02-10T00:00:00.000000000",
          "2025-02-11T00:00:00.000000000",
          "2025-02-12T00:00:00.000000000",
          "2025-02-13T00:00:00.000000000",
          "2025-02-14T00:00:00.000000000",
          "2025-02-18T00:00:00.000000000",
          "2025-02-19T00:00:00.000000000",
          "2025-02-20T00:00:00.000000000",
          "2025-02-21T00:00:00.000000000",
          "2025-02-24T00:00:00.000000000",
          "2025-02-25T00:00:00.000000000",
          "2025-02-26T00:00:00.000000000",
          "2025-02-27T00:00:00.000000000",
          "2025-02-28T00:00:00.000000000",
          "2025-03-03T00:00:00.000000000",
          "2025-03-04T00:00:00.000000000",
          "2025-03-05T00:00:00.000000000",
          "2025-03-06T00:00:00.000000000",
          "2025-03-07T00:00:00.000000000",
          "2025-03-10T00:00:00.000000000",
          "2025-03-11T00:00:00.000000000",
          "2025-03-12T00:00:00.000000000",
          "2025-03-13T00:00:00.000000000",
          "2025-03-14T00:00:00.000000000",
          "2025-03-17T00:00:00.000000000",
          "2025-03-18T00:00:00.000000000",
          "2025-03-19T00:00:00.000000000",
          "2025-03-20T00:00:00.000000000",
          "2025-03-21T00:00:00.000000000",
          "2025-03-24T00:00:00.000000000",
          "2025-03-25T00:00:00.000000000",
          "2025-03-26T00:00:00.000000000",
          "2025-03-27T00:00:00.000000000",
          "2025-03-28T00:00:00.000000000",
          "2025-03-31T00:00:00.000000000",
          "2025-04-01T00:00:00.000000000",
          "2025-04-02T00:00:00.000000000",
          "2025-04-03T00:00:00.000000000",
          "2025-04-04T00:00:00.000000000",
          "2025-04-07T00:00:00.000000000",
          "2025-04-08T00:00:00.000000000",
          "2025-04-09T00:00:00.000000000",
          "2025-04-10T00:00:00.000000000",
          "2025-04-11T00:00:00.000000000",
          "2025-04-14T00:00:00.000000000",
          "2025-04-15T00:00:00.000000000",
          "2025-04-16T00:00:00.000000000",
          "2025-04-17T00:00:00.000000000",
          "2025-04-21T00:00:00.000000000",
          "2025-04-22T00:00:00.000000000",
          "2025-04-23T00:00:00.000000000",
          "2025-04-24T00:00:00.000000000",
          "2025-04-25T00:00:00.000000000",
          "2025-04-28T00:00:00.000000000",
          "2025-04-29T00:00:00.000000000",
          "2025-04-30T00:00:00.000000000",
          "2025-05-01T00:00:00.000000000",
          "2025-05-02T00:00:00.000000000",
          "2025-05-05T00:00:00.000000000",
          "2025-05-06T00:00:00.000000000",
          "2025-05-07T00:00:00.000000000",
          "2025-05-08T00:00:00.000000000",
          "2025-05-09T00:00:00.000000000",
          "2025-05-12T00:00:00.000000000",
          "2025-05-13T00:00:00.000000000",
          "2025-05-14T00:00:00.000000000",
          "2025-05-15T00:00:00.000000000",
          "2025-05-16T00:00:00.000000000",
          "2025-05-19T00:00:00.000000000",
          "2025-05-20T00:00:00.000000000",
          "2025-05-21T00:00:00.000000000",
          "2025-05-22T00:00:00.000000000",
          "2025-05-23T00:00:00.000000000",
          "2025-05-27T00:00:00.000000000",
          "2025-05-28T00:00:00.000000000",
          "2025-05-29T00:00:00.000000000",
          "2025-05-30T00:00:00.000000000",
          "2025-06-02T00:00:00.000000000",
          "2025-06-03T00:00:00.000000000",
          "2025-06-04T00:00:00.000000000",
          "2025-06-05T00:00:00.000000000",
          "2025-06-06T00:00:00.000000000",
          "2025-06-09T00:00:00.000000000",
          "2025-06-10T00:00:00.000000000",
          "2025-06-11T00:00:00.000000000",
          "2025-06-12T00:00:00.000000000",
          "2025-06-13T00:00:00.000000000",
          "2025-06-16T00:00:00.000000000",
          "2025-06-17T00:00:00.000000000",
          "2025-06-18T00:00:00.000000000",
          "2025-06-20T00:00:00.000000000",
          "2025-06-23T00:00:00.000000000",
          "2025-06-24T00:00:00.000000000",
          "2025-06-25T00:00:00.000000000",
          "2025-06-26T00:00:00.000000000",
          "2025-06-27T00:00:00.000000000",
          "2025-06-30T00:00:00.000000000",
          "2025-07-01T00:00:00.000000000",
          "2025-07-02T00:00:00.000000000",
          "2025-07-03T00:00:00.000000000",
          "2025-07-07T00:00:00.000000000",
          "2025-07-08T00:00:00.000000000",
          "2025-07-09T00:00:00.000000000",
          "2025-07-10T00:00:00.000000000",
          "2025-07-11T00:00:00.000000000",
          "2025-07-14T00:00:00.000000000",
          "2025-07-15T00:00:00.000000000",
          "2025-07-16T00:00:00.000000000",
          "2025-07-17T00:00:00.000000000",
          "2025-07-18T00:00:00.000000000",
          "2025-07-21T00:00:00.000000000",
          "2025-07-22T00:00:00.000000000",
          "2025-07-23T00:00:00.000000000",
          "2025-07-24T00:00:00.000000000",
          "2025-07-25T00:00:00.000000000",
          "2025-07-28T00:00:00.000000000",
          "2025-07-29T00:00:00.000000000",
          "2025-07-30T00:00:00.000000000",
          "2025-07-31T00:00:00.000000000",
          "2025-08-01T00:00:00.000000000",
          "2025-08-04T00:00:00.000000000",
          "2025-08-05T00:00:00.000000000",
          "2025-08-06T00:00:00.000000000",
          "2025-08-07T00:00:00.000000000",
          "2025-08-08T00:00:00.000000000",
          "2025-08-11T00:00:00.000000000",
          "2025-08-12T00:00:00.000000000",
          "2025-08-13T00:00:00.000000000",
          "2025-08-14T00:00:00.000000000",
          "2025-08-15T00:00:00.000000000",
          "2025-08-18T00:00:00.000000000",
          "2025-08-19T00:00:00.000000000",
          "2025-08-20T00:00:00.000000000",
          "2025-08-21T00:00:00.000000000",
          "2025-08-22T00:00:00.000000000",
          "2025-08-25T00:00:00.000000000",
          "2025-08-26T00:00:00.000000000",
          "2025-08-27T00:00:00.000000000",
          "2025-08-28T00:00:00.000000000",
          "2025-08-29T00:00:00.000000000",
          "2025-09-02T00:00:00.000000000",
          "2025-09-03T00:00:00.000000000",
          "2025-09-04T00:00:00.000000000",
          "2025-09-05T00:00:00.000000000",
          "2025-09-08T00:00:00.000000000",
          "2025-09-09T00:00:00.000000000",
          "2025-09-10T00:00:00.000000000",
          "2025-09-11T00:00:00.000000000",
          "2025-09-12T00:00:00.000000000",
          "2025-09-15T00:00:00.000000000",
          "2025-09-16T00:00:00.000000000",
          "2025-09-17T00:00:00.000000000",
          "2025-09-18T00:00:00.000000000",
          "2025-09-19T00:00:00.000000000",
          "2025-09-22T00:00:00.000000000"
         ],
         "xaxis": "x",
         "y": {
          "bdata": "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",
          "dtype": "f8"
         },
         "yaxis": "y"
        },
        {
         "legendgroup": "SMA",
         "line": {
          "color": "rgba(80, 80, 255, 1)",
          "width": 1
         },
         "name": "10-day MA",
         "type": "scatter",
         "x": [
          "2024-09-23T00:00:00.000000000",
          "2024-09-24T00:00:00.000000000",
          "2024-09-25T00:00:00.000000000",
          "2024-09-26T00:00:00.000000000",
          "2024-09-27T00:00:00.000000000",
          "2024-09-30T00:00:00.000000000",
          "2024-10-01T00:00:00.000000000",
          "2024-10-02T00:00:00.000000000",
          "2024-10-03T00:00:00.000000000",
          "2024-10-04T00:00:00.000000000",
          "2024-10-07T00:00:00.000000000",
          "2024-10-08T00:00:00.000000000",
          "2024-10-09T00:00:00.000000000",
          "2024-10-10T00:00:00.000000000",
          "2024-10-11T00:00:00.000000000",
          "2024-10-14T00:00:00.000000000",
          "2024-10-15T00:00:00.000000000",
          "2024-10-16T00:00:00.000000000",
          "2024-10-17T00:00:00.000000000",
          "2024-10-18T00:00:00.000000000",
          "2024-10-21T00:00:00.000000000",
          "2024-10-22T00:00:00.000000000",
          "2024-10-23T00:00:00.000000000",
          "2024-10-24T00:00:00.000000000",
          "2024-10-25T00:00:00.000000000",
          "2024-10-28T00:00:00.000000000",
          "2024-10-29T00:00:00.000000000",
          "2024-10-30T00:00:00.000000000",
          "2024-10-31T00:00:00.000000000",
          "2024-11-01T00:00:00.000000000",
          "2024-11-04T00:00:00.000000000",
          "2024-11-05T00:00:00.000000000",
          "2024-11-06T00:00:00.000000000",
          "2024-11-07T00:00:00.000000000",
          "2024-11-08T00:00:00.000000000",
          "2024-11-11T00:00:00.000000000",
          "2024-11-12T00:00:00.000000000",
          "2024-11-13T00:00:00.000000000",
          "2024-11-14T00:00:00.000000000",
          "2024-11-15T00:00:00.000000000",
          "2024-11-18T00:00:00.000000000",
          "2024-11-19T00:00:00.000000000",
          "2024-11-20T00:00:00.000000000",
          "2024-11-21T00:00:00.000000000",
          "2024-11-22T00:00:00.000000000",
          "2024-11-25T00:00:00.000000000",
          "2024-11-26T00:00:00.000000000",
          "2024-11-27T00:00:00.000000000",
          "2024-11-29T00:00:00.000000000",
          "2024-12-02T00:00:00.000000000",
          "2024-12-03T00:00:00.000000000",
          "2024-12-04T00:00:00.000000000",
          "2024-12-05T00:00:00.000000000",
          "2024-12-06T00:00:00.000000000",
          "2024-12-09T00:00:00.000000000",
          "2024-12-10T00:00:00.000000000",
          "2024-12-11T00:00:00.000000000",
          "2024-12-12T00:00:00.000000000",
          "2024-12-13T00:00:00.000000000",
          "2024-12-16T00:00:00.000000000",
          "2024-12-17T00:00:00.000000000",
          "2024-12-18T00:00:00.000000000",
          "2024-12-19T00:00:00.000000000",
          "2024-12-20T00:00:00.000000000",
          "2024-12-23T00:00:00.000000000",
          "2024-12-24T00:00:00.000000000",
          "2024-12-26T00:00:00.000000000",
          "2024-12-27T00:00:00.000000000",
          "2024-12-30T00:00:00.000000000",
          "2024-12-31T00:00:00.000000000",
          "2025-01-02T00:00:00.000000000",
          "2025-01-03T00:00:00.000000000",
          "2025-01-06T00:00:00.000000000",
          "2025-01-07T00:00:00.000000000",
          "2025-01-08T00:00:00.000000000",
          "2025-01-10T00:00:00.000000000",
          "2025-01-13T00:00:00.000000000",
          "2025-01-14T00:00:00.000000000",
          "2025-01-15T00:00:00.000000000",
          "2025-01-16T00:00:00.000000000",
          "2025-01-17T00:00:00.000000000",
          "2025-01-21T00:00:00.000000000",
          "2025-01-22T00:00:00.000000000",
          "2025-01-23T00:00:00.000000000",
          "2025-01-24T00:00:00.000000000",
          "2025-01-27T00:00:00.000000000",
          "2025-01-28T00:00:00.000000000",
          "2025-01-29T00:00:00.000000000",
          "2025-01-30T00:00:00.000000000",
          "2025-01-31T00:00:00.000000000",
          "2025-02-03T00:00:00.000000000",
          "2025-02-04T00:00:00.000000000",
          "2025-02-05T00:00:00.000000000",
          "2025-02-06T00:00:00.000000000",
          "2025-02-07T00:00:00.000000000",
          "2025-02-10T00:00:00.000000000",
          "2025-02-11T00:00:00.000000000",
          "2025-02-12T00:00:00.000000000",
          "2025-02-13T00:00:00.000000000",
          "2025-02-14T00:00:00.000000000",
          "2025-02-18T00:00:00.000000000",
          "2025-02-19T00:00:00.000000000",
          "2025-02-20T00:00:00.000000000",
          "2025-02-21T00:00:00.000000000",
          "2025-02-24T00:00:00.000000000",
          "2025-02-25T00:00:00.000000000",
          "2025-02-26T00:00:00.000000000",
          "2025-02-27T00:00:00.000000000",
          "2025-02-28T00:00:00.000000000",
          "2025-03-03T00:00:00.000000000",
          "2025-03-04T00:00:00.000000000",
          "2025-03-05T00:00:00.000000000",
          "2025-03-06T00:00:00.000000000",
          "2025-03-07T00:00:00.000000000",
          "2025-03-10T00:00:00.000000000",
          "2025-03-11T00:00:00.000000000",
          "2025-03-12T00:00:00.000000000",
          "2025-03-13T00:00:00.000000000",
          "2025-03-14T00:00:00.000000000",
          "2025-03-17T00:00:00.000000000",
          "2025-03-18T00:00:00.000000000",
          "2025-03-19T00:00:00.000000000",
          "2025-03-20T00:00:00.000000000",
          "2025-03-21T00:00:00.000000000",
          "2025-03-24T00:00:00.000000000",
          "2025-03-25T00:00:00.000000000",
          "2025-03-26T00:00:00.000000000",
          "2025-03-27T00:00:00.000000000",
          "2025-03-28T00:00:00.000000000",
          "2025-03-31T00:00:00.000000000",
          "2025-04-01T00:00:00.000000000",
          "2025-04-02T00:00:00.000000000",
          "2025-04-03T00:00:00.000000000",
          "2025-04-04T00:00:00.000000000",
          "2025-04-07T00:00:00.000000000",
          "2025-04-08T00:00:00.000000000",
          "2025-04-09T00:00:00.000000000",
          "2025-04-10T00:00:00.000000000",
          "2025-04-11T00:00:00.000000000",
          "2025-04-14T00:00:00.000000000",
          "2025-04-15T00:00:00.000000000",
          "2025-04-16T00:00:00.000000000",
          "2025-04-17T00:00:00.000000000",
          "2025-04-21T00:00:00.000000000",
          "2025-04-22T00:00:00.000000000",
          "2025-04-23T00:00:00.000000000",
          "2025-04-24T00:00:00.000000000",
          "2025-04-25T00:00:00.000000000",
          "2025-04-28T00:00:00.000000000",
          "2025-04-29T00:00:00.000000000",
          "2025-04-30T00:00:00.000000000",
          "2025-05-01T00:00:00.000000000",
          "2025-05-02T00:00:00.000000000",
          "2025-05-05T00:00:00.000000000",
          "2025-05-06T00:00:00.000000000",
          "2025-05-07T00:00:00.000000000",
          "2025-05-08T00:00:00.000000000",
          "2025-05-09T00:00:00.000000000",
          "2025-05-12T00:00:00.000000000",
          "2025-05-13T00:00:00.000000000",
          "2025-05-14T00:00:00.000000000",
          "2025-05-15T00:00:00.000000000",
          "2025-05-16T00:00:00.000000000",
          "2025-05-19T00:00:00.000000000",
          "2025-05-20T00:00:00.000000000",
          "2025-05-21T00:00:00.000000000",
          "2025-05-22T00:00:00.000000000",
          "2025-05-23T00:00:00.000000000",
          "2025-05-27T00:00:00.000000000",
          "2025-05-28T00:00:00.000000000",
          "2025-05-29T00:00:00.000000000",
          "2025-05-30T00:00:00.000000000",
          "2025-06-02T00:00:00.000000000",
          "2025-06-03T00:00:00.000000000",
          "2025-06-04T00:00:00.000000000",
          "2025-06-05T00:00:00.000000000",
          "2025-06-06T00:00:00.000000000",
          "2025-06-09T00:00:00.000000000",
          "2025-06-10T00:00:00.000000000",
          "2025-06-11T00:00:00.000000000",
          "2025-06-12T00:00:00.000000000",
          "2025-06-13T00:00:00.000000000",
          "2025-06-16T00:00:00.000000000",
          "2025-06-17T00:00:00.000000000",
          "2025-06-18T00:00:00.000000000",
          "2025-06-20T00:00:00.000000000",
          "2025-06-23T00:00:00.000000000",
          "2025-06-24T00:00:00.000000000",
          "2025-06-25T00:00:00.000000000",
          "2025-06-26T00:00:00.000000000",
          "2025-06-27T00:00:00.000000000",
          "2025-06-30T00:00:00.000000000",
          "2025-07-01T00:00:00.000000000",
          "2025-07-02T00:00:00.000000000",
          "2025-07-03T00:00:00.000000000",
          "2025-07-07T00:00:00.000000000",
          "2025-07-08T00:00:00.000000000",
          "2025-07-09T00:00:00.000000000",
          "2025-07-10T00:00:00.000000000",
          "2025-07-11T00:00:00.000000000",
          "2025-07-14T00:00:00.000000000",
          "2025-07-15T00:00:00.000000000",
          "2025-07-16T00:00:00.000000000",
          "2025-07-17T00:00:00.000000000",
          "2025-07-18T00:00:00.000000000",
          "2025-07-21T00:00:00.000000000",
          "2025-07-22T00:00:00.000000000",
          "2025-07-23T00:00:00.000000000",
          "2025-07-24T00:00:00.000000000",
          "2025-07-25T00:00:00.000000000",
          "2025-07-28T00:00:00.000000000",
          "2025-07-29T00:00:00.000000000",
          "2025-07-30T00:00:00.000000000",
          "2025-07-31T00:00:00.000000000",
          "2025-08-01T00:00:00.000000000",
          "2025-08-04T00:00:00.000000000",
          "2025-08-05T00:00:00.000000000",
          "2025-08-06T00:00:00.000000000",
          "2025-08-07T00:00:00.000000000",
          "2025-08-08T00:00:00.000000000",
          "2025-08-11T00:00:00.000000000",
          "2025-08-12T00:00:00.000000000",
          "2025-08-13T00:00:00.000000000",
          "2025-08-14T00:00:00.000000000",
          "2025-08-15T00:00:00.000000000",
          "2025-08-18T00:00:00.000000000",
          "2025-08-19T00:00:00.000000000",
          "2025-08-20T00:00:00.000000000",
          "2025-08-21T00:00:00.000000000",
          "2025-08-22T00:00:00.000000000",
          "2025-08-25T00:00:00.000000000",
          "2025-08-26T00:00:00.000000000",
          "2025-08-27T00:00:00.000000000",
          "2025-08-28T00:00:00.000000000",
          "2025-08-29T00:00:00.000000000",
          "2025-09-02T00:00:00.000000000",
          "2025-09-03T00:00:00.000000000",
          "2025-09-04T00:00:00.000000000",
          "2025-09-05T00:00:00.000000000",
          "2025-09-08T00:00:00.000000000",
          "2025-09-09T00:00:00.000000000",
          "2025-09-10T00:00:00.000000000",
          "2025-09-11T00:00:00.000000000",
          "2025-09-12T00:00:00.000000000",
          "2025-09-15T00:00:00.000000000",
          "2025-09-16T00:00:00.000000000",
          "2025-09-17T00:00:00.000000000",
          "2025-09-18T00:00:00.000000000",
          "2025-09-19T00:00:00.000000000",
          "2025-09-22T00:00:00.000000000"
         ],
         "xaxis": "x",
         "y": {
          "bdata": "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",
          "dtype": "f8"
         },
         "yaxis": "y"
        },
        {
         "legendgroup": "SMA",
         "line": {
          "color": "rgba(130, 80, 200, 1)",
          "width": 1
         },
         "name": "20-day MA",
         "type": "scatter",
         "x": [
          "2024-09-23T00:00:00.000000000",
          "2024-09-24T00:00:00.000000000",
          "2024-09-25T00:00:00.000000000",
          "2024-09-26T00:00:00.000000000",
          "2024-09-27T00:00:00.000000000",
          "2024-09-30T00:00:00.000000000",
          "2024-10-01T00:00:00.000000000",
          "2024-10-02T00:00:00.000000000",
          "2024-10-03T00:00:00.000000000",
          "2024-10-04T00:00:00.000000000",
          "2024-10-07T00:00:00.000000000",
          "2024-10-08T00:00:00.000000000",
          "2024-10-09T00:00:00.000000000",
          "2024-10-10T00:00:00.000000000",
          "2024-10-11T00:00:00.000000000",
          "2024-10-14T00:00:00.000000000",
          "2024-10-15T00:00:00.000000000",
          "2024-10-16T00:00:00.000000000",
          "2024-10-17T00:00:00.000000000",
          "2024-10-18T00:00:00.000000000",
          "2024-10-21T00:00:00.000000000",
          "2024-10-22T00:00:00.000000000",
          "2024-10-23T00:00:00.000000000",
          "2024-10-24T00:00:00.000000000",
          "2024-10-25T00:00:00.000000000",
          "2024-10-28T00:00:00.000000000",
          "2024-10-29T00:00:00.000000000",
          "2024-10-30T00:00:00.000000000",
          "2024-10-31T00:00:00.000000000",
          "2024-11-01T00:00:00.000000000",
          "2024-11-04T00:00:00.000000000",
          "2024-11-05T00:00:00.000000000",
          "2024-11-06T00:00:00.000000000",
          "2024-11-07T00:00:00.000000000",
          "2024-11-08T00:00:00.000000000",
          "2024-11-11T00:00:00.000000000",
          "2024-11-12T00:00:00.000000000",
          "2024-11-13T00:00:00.000000000",
          "2024-11-14T00:00:00.000000000",
          "2024-11-15T00:00:00.000000000",
          "2024-11-18T00:00:00.000000000",
          "2024-11-19T00:00:00.000000000",
          "2024-11-20T00:00:00.000000000",
          "2024-11-21T00:00:00.000000000",
          "2024-11-22T00:00:00.000000000",
          "2024-11-25T00:00:00.000000000",
          "2024-11-26T00:00:00.000000000",
          "2024-11-27T00:00:00.000000000",
          "2024-11-29T00:00:00.000000000",
          "2024-12-02T00:00:00.000000000",
          "2024-12-03T00:00:00.000000000",
          "2024-12-04T00:00:00.000000000",
          "2024-12-05T00:00:00.000000000",
          "2024-12-06T00:00:00.000000000",
          "2024-12-09T00:00:00.000000000",
          "2024-12-10T00:00:00.000000000",
          "2024-12-11T00:00:00.000000000",
          "2024-12-12T00:00:00.000000000",
          "2024-12-13T00:00:00.000000000",
          "2024-12-16T00:00:00.000000000",
          "2024-12-17T00:00:00.000000000",
          "2024-12-18T00:00:00.000000000",
          "2024-12-19T00:00:00.000000000",
          "2024-12-20T00:00:00.000000000",
          "2024-12-23T00:00:00.000000000",
          "2024-12-24T00:00:00.000000000",
          "2024-12-26T00:00:00.000000000",
          "2024-12-27T00:00:00.000000000",
          "2024-12-30T00:00:00.000000000",
          "2024-12-31T00:00:00.000000000",
          "2025-01-02T00:00:00.000000000",
          "2025-01-03T00:00:00.000000000",
          "2025-01-06T00:00:00.000000000",
          "2025-01-07T00:00:00.000000000",
          "2025-01-08T00:00:00.000000000",
          "2025-01-10T00:00:00.000000000",
          "2025-01-13T00:00:00.000000000",
          "2025-01-14T00:00:00.000000000",
          "2025-01-15T00:00:00.000000000",
          "2025-01-16T00:00:00.000000000",
          "2025-01-17T00:00:00.000000000",
          "2025-01-21T00:00:00.000000000",
          "2025-01-22T00:00:00.000000000",
          "2025-01-23T00:00:00.000000000",
          "2025-01-24T00:00:00.000000000",
          "2025-01-27T00:00:00.000000000",
          "2025-01-28T00:00:00.000000000",
          "2025-01-29T00:00:00.000000000",
          "2025-01-30T00:00:00.000000000",
          "2025-01-31T00:00:00.000000000",
          "2025-02-03T00:00:00.000000000",
          "2025-02-04T00:00:00.000000000",
          "2025-02-05T00:00:00.000000000",
          "2025-02-06T00:00:00.000000000",
          "2025-02-07T00:00:00.000000000",
          "2025-02-10T00:00:00.000000000",
          "2025-02-11T00:00:00.000000000",
          "2025-02-12T00:00:00.000000000",
          "2025-02-13T00:00:00.000000000",
          "2025-02-14T00:00:00.000000000",
          "2025-02-18T00:00:00.000000000",
          "2025-02-19T00:00:00.000000000",
          "2025-02-20T00:00:00.000000000",
          "2025-02-21T00:00:00.000000000",
          "2025-02-24T00:00:00.000000000",
          "2025-02-25T00:00:00.000000000",
          "2025-02-26T00:00:00.000000000",
          "2025-02-27T00:00:00.000000000",
          "2025-02-28T00:00:00.000000000",
          "2025-03-03T00:00:00.000000000",
          "2025-03-04T00:00:00.000000000",
          "2025-03-05T00:00:00.000000000",
          "2025-03-06T00:00:00.000000000",
          "2025-03-07T00:00:00.000000000",
          "2025-03-10T00:00:00.000000000",
          "2025-03-11T00:00:00.000000000",
          "2025-03-12T00:00:00.000000000",
          "2025-03-13T00:00:00.000000000",
          "2025-03-14T00:00:00.000000000",
          "2025-03-17T00:00:00.000000000",
          "2025-03-18T00:00:00.000000000",
          "2025-03-19T00:00:00.000000000",
          "2025-03-20T00:00:00.000000000",
          "2025-03-21T00:00:00.000000000",
          "2025-03-24T00:00:00.000000000",
          "2025-03-25T00:00:00.000000000",
          "2025-03-26T00:00:00.000000000",
          "2025-03-27T00:00:00.000000000",
          "2025-03-28T00:00:00.000000000",
          "2025-03-31T00:00:00.000000000",
          "2025-04-01T00:00:00.000000000",
          "2025-04-02T00:00:00.000000000",
          "2025-04-03T00:00:00.000000000",
          "2025-04-04T00:00:00.000000000",
          "2025-04-07T00:00:00.000000000",
          "2025-04-08T00:00:00.000000000",
          "2025-04-09T00:00:00.000000000",
          "2025-04-10T00:00:00.000000000",
          "2025-04-11T00:00:00.000000000",
          "2025-04-14T00:00:00.000000000",
          "2025-04-15T00:00:00.000000000",
          "2025-04-16T00:00:00.000000000",
          "2025-04-17T00:00:00.000000000",
          "2025-04-21T00:00:00.000000000",
          "2025-04-22T00:00:00.000000000",
          "2025-04-23T00:00:00.000000000",
          "2025-04-24T00:00:00.000000000",
          "2025-04-25T00:00:00.000000000",
          "2025-04-28T00:00:00.000000000",
          "2025-04-29T00:00:00.000000000",
          "2025-04-30T00:00:00.000000000",
          "2025-05-01T00:00:00.000000000",
          "2025-05-02T00:00:00.000000000",
          "2025-05-05T00:00:00.000000000",
          "2025-05-06T00:00:00.000000000",
          "2025-05-07T00:00:00.000000000",
          "2025-05-08T00:00:00.000000000",
          "2025-05-09T00:00:00.000000000",
          "2025-05-12T00:00:00.000000000",
          "2025-05-13T00:00:00.000000000",
          "2025-05-14T00:00:00.000000000",
          "2025-05-15T00:00:00.000000000",
          "2025-05-16T00:00:00.000000000",
          "2025-05-19T00:00:00.000000000",
          "2025-05-20T00:00:00.000000000",
          "2025-05-21T00:00:00.000000000",
          "2025-05-22T00:00:00.000000000",
          "2025-05-23T00:00:00.000000000",
          "2025-05-27T00:00:00.000000000",
          "2025-05-28T00:00:00.000000000",
          "2025-05-29T00:00:00.000000000",
          "2025-05-30T00:00:00.000000000",
          "2025-06-02T00:00:00.000000000",
          "2025-06-03T00:00:00.000000000",
          "2025-06-04T00:00:00.000000000",
          "2025-06-05T00:00:00.000000000",
          "2025-06-06T00:00:00.000000000",
          "2025-06-09T00:00:00.000000000",
          "2025-06-10T00:00:00.000000000",
          "2025-06-11T00:00:00.000000000",
          "2025-06-12T00:00:00.000000000",
          "2025-06-13T00:00:00.000000000",
          "2025-06-16T00:00:00.000000000",
          "2025-06-17T00:00:00.000000000",
          "2025-06-18T00:00:00.000000000",
          "2025-06-20T00:00:00.000000000",
          "2025-06-23T00:00:00.000000000",
          "2025-06-24T00:00:00.000000000",
          "2025-06-25T00:00:00.000000000",
          "2025-06-26T00:00:00.000000000",
          "2025-06-27T00:00:00.000000000",
          "2025-06-30T00:00:00.000000000",
          "2025-07-01T00:00:00.000000000",
          "2025-07-02T00:00:00.000000000",
          "2025-07-03T00:00:00.000000000",
          "2025-07-07T00:00:00.000000000",
          "2025-07-08T00:00:00.000000000",
          "2025-07-09T00:00:00.000000000",
          "2025-07-10T00:00:00.000000000",
          "2025-07-11T00:00:00.000000000",
          "2025-07-14T00:00:00.000000000",
          "2025-07-15T00:00:00.000000000",
          "2025-07-16T00:00:00.000000000",
          "2025-07-17T00:00:00.000000000",
          "2025-07-18T00:00:00.000000000",
          "2025-07-21T00:00:00.000000000",
          "2025-07-22T00:00:00.000000000",
          "2025-07-23T00:00:00.000000000",
          "2025-07-24T00:00:00.000000000",
          "2025-07-25T00:00:00.000000000",
          "2025-07-28T00:00:00.000000000",
          "2025-07-29T00:00:00.000000000",
          "2025-07-30T00:00:00.000000000",
          "2025-07-31T00:00:00.000000000",
          "2025-08-01T00:00:00.000000000",
          "2025-08-04T00:00:00.000000000",
          "2025-08-05T00:00:00.000000000",
          "2025-08-06T00:00:00.000000000",
          "2025-08-07T00:00:00.000000000",
          "2025-08-08T00:00:00.000000000",
          "2025-08-11T00:00:00.000000000",
          "2025-08-12T00:00:00.000000000",
          "2025-08-13T00:00:00.000000000",
          "2025-08-14T00:00:00.000000000",
          "2025-08-15T00:00:00.000000000",
          "2025-08-18T00:00:00.000000000",
          "2025-08-19T00:00:00.000000000",
          "2025-08-20T00:00:00.000000000",
          "2025-08-21T00:00:00.000000000",
          "2025-08-22T00:00:00.000000000",
          "2025-08-25T00:00:00.000000000",
          "2025-08-26T00:00:00.000000000",
          "2025-08-27T00:00:00.000000000",
          "2025-08-28T00:00:00.000000000",
          "2025-08-29T00:00:00.000000000",
          "2025-09-02T00:00:00.000000000",
          "2025-09-03T00:00:00.000000000",
          "2025-09-04T00:00:00.000000000",
          "2025-09-05T00:00:00.000000000",
          "2025-09-08T00:00:00.000000000",
          "2025-09-09T00:00:00.000000000",
          "2025-09-10T00:00:00.000000000",
          "2025-09-11T00:00:00.000000000",
          "2025-09-12T00:00:00.000000000",
          "2025-09-15T00:00:00.000000000",
          "2025-09-16T00:00:00.000000000",
          "2025-09-17T00:00:00.000000000",
          "2025-09-18T00:00:00.000000000",
          "2025-09-19T00:00:00.000000000",
          "2025-09-22T00:00:00.000000000"
         ],
         "xaxis": "x",
         "y": {
          "bdata": "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",
          "dtype": "f8"
         },
         "yaxis": "y"
        },
        {
         "legendgroup": "SMA",
         "line": {
          "color": "rgba(255, 80, 255, 1)",
          "width": 1
         },
         "name": "50-day MA",
         "type": "scatter",
         "x": [
          "2024-09-23T00:00:00.000000000",
          "2024-09-24T00:00:00.000000000",
          "2024-09-25T00:00:00.000000000",
          "2024-09-26T00:00:00.000000000",
          "2024-09-27T00:00:00.000000000",
          "2024-09-30T00:00:00.000000000",
          "2024-10-01T00:00:00.000000000",
          "2024-10-02T00:00:00.000000000",
          "2024-10-03T00:00:00.000000000",
          "2024-10-04T00:00:00.000000000",
          "2024-10-07T00:00:00.000000000",
          "2024-10-08T00:00:00.000000000",
          "2024-10-09T00:00:00.000000000",
          "2024-10-10T00:00:00.000000000",
          "2024-10-11T00:00:00.000000000",
          "2024-10-14T00:00:00.000000000",
          "2024-10-15T00:00:00.000000000",
          "2024-10-16T00:00:00.000000000",
          "2024-10-17T00:00:00.000000000",
          "2024-10-18T00:00:00.000000000",
          "2024-10-21T00:00:00.000000000",
          "2024-10-22T00:00:00.000000000",
          "2024-10-23T00:00:00.000000000",
          "2024-10-24T00:00:00.000000000",
          "2024-10-25T00:00:00.000000000",
          "2024-10-28T00:00:00.000000000",
          "2024-10-29T00:00:00.000000000",
          "2024-10-30T00:00:00.000000000",
          "2024-10-31T00:00:00.000000000",
          "2024-11-01T00:00:00.000000000",
          "2024-11-04T00:00:00.000000000",
          "2024-11-05T00:00:00.000000000",
          "2024-11-06T00:00:00.000000000",
          "2024-11-07T00:00:00.000000000",
          "2024-11-08T00:00:00.000000000",
          "2024-11-11T00:00:00.000000000",
          "2024-11-12T00:00:00.000000000",
          "2024-11-13T00:00:00.000000000",
          "2024-11-14T00:00:00.000000000",
          "2024-11-15T00:00:00.000000000",
          "2024-11-18T00:00:00.000000000",
          "2024-11-19T00:00:00.000000000",
          "2024-11-20T00:00:00.000000000",
          "2024-11-21T00:00:00.000000000",
          "2024-11-22T00:00:00.000000000",
          "2024-11-25T00:00:00.000000000",
          "2024-11-26T00:00:00.000000000",
          "2024-11-27T00:00:00.000000000",
          "2024-11-29T00:00:00.000000000",
          "2024-12-02T00:00:00.000000000",
          "2024-12-03T00:00:00.000000000",
          "2024-12-04T00:00:00.000000000",
          "2024-12-05T00:00:00.000000000",
          "2024-12-06T00:00:00.000000000",
          "2024-12-09T00:00:00.000000000",
          "2024-12-10T00:00:00.000000000",
          "2024-12-11T00:00:00.000000000",
          "2024-12-12T00:00:00.000000000",
          "2024-12-13T00:00:00.000000000",
          "2024-12-16T00:00:00.000000000",
          "2024-12-17T00:00:00.000000000",
          "2024-12-18T00:00:00.000000000",
          "2024-12-19T00:00:00.000000000",
          "2024-12-20T00:00:00.000000000",
          "2024-12-23T00:00:00.000000000",
          "2024-12-24T00:00:00.000000000",
          "2024-12-26T00:00:00.000000000",
          "2024-12-27T00:00:00.000000000",
          "2024-12-30T00:00:00.000000000",
          "2024-12-31T00:00:00.000000000",
          "2025-01-02T00:00:00.000000000",
          "2025-01-03T00:00:00.000000000",
          "2025-01-06T00:00:00.000000000",
          "2025-01-07T00:00:00.000000000",
          "2025-01-08T00:00:00.000000000",
          "2025-01-10T00:00:00.000000000",
          "2025-01-13T00:00:00.000000000",
          "2025-01-14T00:00:00.000000000",
          "2025-01-15T00:00:00.000000000",
          "2025-01-16T00:00:00.000000000",
          "2025-01-17T00:00:00.000000000",
          "2025-01-21T00:00:00.000000000",
          "2025-01-22T00:00:00.000000000",
          "2025-01-23T00:00:00.000000000",
          "2025-01-24T00:00:00.000000000",
          "2025-01-27T00:00:00.000000000",
          "2025-01-28T00:00:00.000000000",
          "2025-01-29T00:00:00.000000000",
          "2025-01-30T00:00:00.000000000",
          "2025-01-31T00:00:00.000000000",
          "2025-02-03T00:00:00.000000000",
          "2025-02-04T00:00:00.000000000",
          "2025-02-05T00:00:00.000000000",
          "2025-02-06T00:00:00.000000000",
          "2025-02-07T00:00:00.000000000",
          "2025-02-10T00:00:00.000000000",
          "2025-02-11T00:00:00.000000000",
          "2025-02-12T00:00:00.000000000",
          "2025-02-13T00:00:00.000000000",
          "2025-02-14T00:00:00.000000000",
          "2025-02-18T00:00:00.000000000",
          "2025-02-19T00:00:00.000000000",
          "2025-02-20T00:00:00.000000000",
          "2025-02-21T00:00:00.000000000",
          "2025-02-24T00:00:00.000000000",
          "2025-02-25T00:00:00.000000000",
          "2025-02-26T00:00:00.000000000",
          "2025-02-27T00:00:00.000000000",
          "2025-02-28T00:00:00.000000000",
          "2025-03-03T00:00:00.000000000",
          "2025-03-04T00:00:00.000000000",
          "2025-03-05T00:00:00.000000000",
          "2025-03-06T00:00:00.000000000",
          "2025-03-07T00:00:00.000000000",
          "2025-03-10T00:00:00.000000000",
          "2025-03-11T00:00:00.000000000",
          "2025-03-12T00:00:00.000000000",
          "2025-03-13T00:00:00.000000000",
          "2025-03-14T00:00:00.000000000",
          "2025-03-17T00:00:00.000000000",
          "2025-03-18T00:00:00.000000000",
          "2025-03-19T00:00:00.000000000",
          "2025-03-20T00:00:00.000000000",
          "2025-03-21T00:00:00.000000000",
          "2025-03-24T00:00:00.000000000",
          "2025-03-25T00:00:00.000000000",
          "2025-03-26T00:00:00.000000000",
          "2025-03-27T00:00:00.000000000",
          "2025-03-28T00:00:00.000000000",
          "2025-03-31T00:00:00.000000000",
          "2025-04-01T00:00:00.000000000",
          "2025-04-02T00:00:00.000000000",
          "2025-04-03T00:00:00.000000000",
          "2025-04-04T00:00:00.000000000",
          "2025-04-07T00:00:00.000000000",
          "2025-04-08T00:00:00.000000000",
          "2025-04-09T00:00:00.000000000",
          "2025-04-10T00:00:00.000000000",
          "2025-04-11T00:00:00.000000000",
          "2025-04-14T00:00:00.000000000",
          "2025-04-15T00:00:00.000000000",
          "2025-04-16T00:00:00.000000000",
          "2025-04-17T00:00:00.000000000",
          "2025-04-21T00:00:00.000000000",
          "2025-04-22T00:00:00.000000000",
          "2025-04-23T00:00:00.000000000",
          "2025-04-24T00:00:00.000000000",
          "2025-04-25T00:00:00.000000000",
          "2025-04-28T00:00:00.000000000",
          "2025-04-29T00:00:00.000000000",
          "2025-04-30T00:00:00.000000000",
          "2025-05-01T00:00:00.000000000",
          "2025-05-02T00:00:00.000000000",
          "2025-05-05T00:00:00.000000000",
          "2025-05-06T00:00:00.000000000",
          "2025-05-07T00:00:00.000000000",
          "2025-05-08T00:00:00.000000000",
          "2025-05-09T00:00:00.000000000",
          "2025-05-12T00:00:00.000000000",
          "2025-05-13T00:00:00.000000000",
          "2025-05-14T00:00:00.000000000",
          "2025-05-15T00:00:00.000000000",
          "2025-05-16T00:00:00.000000000",
          "2025-05-19T00:00:00.000000000",
          "2025-05-20T00:00:00.000000000",
          "2025-05-21T00:00:00.000000000",
          "2025-05-22T00:00:00.000000000",
          "2025-05-23T00:00:00.000000000",
          "2025-05-27T00:00:00.000000000",
          "2025-05-28T00:00:00.000000000",
          "2025-05-29T00:00:00.000000000",
          "2025-05-30T00:00:00.000000000",
          "2025-06-02T00:00:00.000000000",
          "2025-06-03T00:00:00.000000000",
          "2025-06-04T00:00:00.000000000",
          "2025-06-05T00:00:00.000000000",
          "2025-06-06T00:00:00.000000000",
          "2025-06-09T00:00:00.000000000",
          "2025-06-10T00:00:00.000000000",
          "2025-06-11T00:00:00.000000000",
          "2025-06-12T00:00:00.000000000",
          "2025-06-13T00:00:00.000000000",
          "2025-06-16T00:00:00.000000000",
          "2025-06-17T00:00:00.000000000",
          "2025-06-18T00:00:00.000000000",
          "2025-06-20T00:00:00.000000000",
          "2025-06-23T00:00:00.000000000",
          "2025-06-24T00:00:00.000000000",
          "2025-06-25T00:00:00.000000000",
          "2025-06-26T00:00:00.000000000",
          "2025-06-27T00:00:00.000000000",
          "2025-06-30T00:00:00.000000000",
          "2025-07-01T00:00:00.000000000",
          "2025-07-02T00:00:00.000000000",
          "2025-07-03T00:00:00.000000000",
          "2025-07-07T00:00:00.000000000",
          "2025-07-08T00:00:00.000000000",
          "2025-07-09T00:00:00.000000000",
          "2025-07-10T00:00:00.000000000",
          "2025-07-11T00:00:00.000000000",
          "2025-07-14T00:00:00.000000000",
          "2025-07-15T00:00:00.000000000",
          "2025-07-16T00:00:00.000000000",
          "2025-07-17T00:00:00.000000000",
          "2025-07-18T00:00:00.000000000",
          "2025-07-21T00:00:00.000000000",
          "2025-07-22T00:00:00.000000000",
          "2025-07-23T00:00:00.000000000",
          "2025-07-24T00:00:00.000000000",
          "2025-07-25T00:00:00.000000000",
          "2025-07-28T00:00:00.000000000",
          "2025-07-29T00:00:00.000000000",
          "2025-07-30T00:00:00.000000000",
          "2025-07-31T00:00:00.000000000",
          "2025-08-01T00:00:00.000000000",
          "2025-08-04T00:00:00.000000000",
          "2025-08-05T00:00:00.000000000",
          "2025-08-06T00:00:00.000000000",
          "2025-08-07T00:00:00.000000000",
          "2025-08-08T00:00:00.000000000",
          "2025-08-11T00:00:00.000000000",
          "2025-08-12T00:00:00.000000000",
          "2025-08-13T00:00:00.000000000",
          "2025-08-14T00:00:00.000000000",
          "2025-08-15T00:00:00.000000000",
          "2025-08-18T00:00:00.000000000",
          "2025-08-19T00:00:00.000000000",
          "2025-08-20T00:00:00.000000000",
          "2025-08-21T00:00:00.000000000",
          "2025-08-22T00:00:00.000000000",
          "2025-08-25T00:00:00.000000000",
          "2025-08-26T00:00:00.000000000",
          "2025-08-27T00:00:00.000000000",
          "2025-08-28T00:00:00.000000000",
          "2025-08-29T00:00:00.000000000",
          "2025-09-02T00:00:00.000000000",
          "2025-09-03T00:00:00.000000000",
          "2025-09-04T00:00:00.000000000",
          "2025-09-05T00:00:00.000000000",
          "2025-09-08T00:00:00.000000000",
          "2025-09-09T00:00:00.000000000",
          "2025-09-10T00:00:00.000000000",
          "2025-09-11T00:00:00.000000000",
          "2025-09-12T00:00:00.000000000",
          "2025-09-15T00:00:00.000000000",
          "2025-09-16T00:00:00.000000000",
          "2025-09-17T00:00:00.000000000",
          "2025-09-18T00:00:00.000000000",
          "2025-09-19T00:00:00.000000000",
          "2025-09-22T00:00:00.000000000"
         ],
         "xaxis": "x",
         "y": {
          "bdata": "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",
          "dtype": "f8"
         },
         "yaxis": "y"
        },
        {
         "legendgroup": "LSTM forecast",
         "line": {
          "color": "cyan",
          "dash": "dash",
          "width": 1.5
         },
         "name": "Baseline scenario",
         "type": "scatter",
         "x": [
          "2025-09-23T00:00:00.000000000",
          "2025-09-24T00:00:00.000000000",
          "2025-09-25T00:00:00.000000000",
          "2025-09-26T00:00:00.000000000",
          "2025-09-27T00:00:00.000000000",
          "2025-09-28T00:00:00.000000000",
          "2025-09-29T00:00:00.000000000",
          "2025-09-30T00:00:00.000000000",
          "2025-10-01T00:00:00.000000000",
          "2025-10-02T00:00:00.000000000",
          "2025-10-03T00:00:00.000000000",
          "2025-10-04T00:00:00.000000000",
          "2025-10-05T00:00:00.000000000",
          "2025-10-06T00:00:00.000000000",
          "2025-10-07T00:00:00.000000000",
          "2025-10-08T00:00:00.000000000",
          "2025-10-09T00:00:00.000000000",
          "2025-10-10T00:00:00.000000000",
          "2025-10-11T00:00:00.000000000",
          "2025-10-12T00:00:00.000000000",
          "2025-10-13T00:00:00.000000000",
          "2025-10-14T00:00:00.000000000",
          "2025-10-15T00:00:00.000000000",
          "2025-10-16T00:00:00.000000000",
          "2025-10-17T00:00:00.000000000",
          "2025-10-18T00:00:00.000000000",
          "2025-10-19T00:00:00.000000000",
          "2025-10-20T00:00:00.000000000",
          "2025-10-21T00:00:00.000000000",
          "2025-10-22T00:00:00.000000000",
          "2025-10-23T00:00:00.000000000",
          "2025-10-24T00:00:00.000000000",
          "2025-10-25T00:00:00.000000000",
          "2025-10-26T00:00:00.000000000",
          "2025-10-27T00:00:00.000000000",
          "2025-10-28T00:00:00.000000000",
          "2025-10-29T00:00:00.000000000",
          "2025-10-30T00:00:00.000000000",
          "2025-10-31T00:00:00.000000000",
          "2025-11-01T00:00:00.000000000",
          "2025-11-02T00:00:00.000000000",
          "2025-11-03T00:00:00.000000000",
          "2025-11-04T00:00:00.000000000",
          "2025-11-05T00:00:00.000000000",
          "2025-11-06T00:00:00.000000000",
          "2025-11-07T00:00:00.000000000",
          "2025-11-08T00:00:00.000000000",
          "2025-11-09T00:00:00.000000000",
          "2025-11-10T00:00:00.000000000",
          "2025-11-11T00:00:00.000000000",
          "2025-11-12T00:00:00.000000000",
          "2025-11-13T00:00:00.000000000",
          "2025-11-14T00:00:00.000000000",
          "2025-11-15T00:00:00.000000000",
          "2025-11-16T00:00:00.000000000",
          "2025-11-17T00:00:00.000000000",
          "2025-11-18T00:00:00.000000000",
          "2025-11-19T00:00:00.000000000",
          "2025-11-20T00:00:00.000000000",
          "2025-11-21T00:00:00.000000000"
         ],
         "xaxis": "x",
         "y": {
          "bdata": "gPPJss7vkkAAEWvn/+uSQID347dY55JAAL72kCXikkAAaMSQnNySQIBScsPk1pJAgNYuzRjRkkCAMk/uSsuSQIDQYFqIxZJAgMvAdti/kkAAVKahQLqSQACwIjLEtJJAAG7s3WSvkkAAJ2XWI6qSQIBLzmIBpZJAgNsng/2fkkCA60MtGJuSQIBx++ZQlpJAgOg6c6eRkkAA/z38Go2SQABZlTCriJJAAKV8OleEkkCAIGr7HoCSQAD1hWABfJJAgO8EBP53kkCAbNo4FHSSQIDI+VFDcJJAADeytopskkAAKcmv6WiSQIBrc9dfZZJAgG92duxhkkCAP30Ij16SQICela1GW5JAgLVjURNYkkAAMyMe9FSSQID42qPoUZJAAKobkfBOkkAAcQ3TCkySQAC0yjY3SZJAgLDJnXVGkkCAUrwTxUOSQAAVj1slQZJAAO4a+5U+kkAAv2aCFjySQIBpeYGmOZJAgGg/u0U3kkCAGKyC8zSSQICiY8OvMpJAgE6H2nkwkkAAMem9US6SQADk8qE2LJJAACoupSgqkkCADUZDJyiSQIBbbxYyJpJAgHrE60gkkkCAN3pdayKSQICIafGYIJJAALUvA9IekkAAqX6eFR2SQAAn4OFjG5JA",
          "dtype": "f8"
         },
         "yaxis": "y"
        },
        {
         "legendgroup": "LSTM forecast",
         "line": {
          "color": "rgba(85, 255, 210, 1)",
          "dash": "dash",
          "width": 1
         },
         "name": "Optimistic scenario",
         "type": "scatter",
         "x": [
          "2025-09-23T00:00:00.000000000",
          "2025-09-24T00:00:00.000000000",
          "2025-09-25T00:00:00.000000000",
          "2025-09-26T00:00:00.000000000",
          "2025-09-27T00:00:00.000000000",
          "2025-09-28T00:00:00.000000000",
          "2025-09-29T00:00:00.000000000",
          "2025-09-30T00:00:00.000000000",
          "2025-10-01T00:00:00.000000000",
          "2025-10-02T00:00:00.000000000",
          "2025-10-03T00:00:00.000000000",
          "2025-10-04T00:00:00.000000000",
          "2025-10-05T00:00:00.000000000",
          "2025-10-06T00:00:00.000000000",
          "2025-10-07T00:00:00.000000000",
          "2025-10-08T00:00:00.000000000",
          "2025-10-09T00:00:00.000000000",
          "2025-10-10T00:00:00.000000000",
          "2025-10-11T00:00:00.000000000",
          "2025-10-12T00:00:00.000000000",
          "2025-10-13T00:00:00.000000000",
          "2025-10-14T00:00:00.000000000",
          "2025-10-15T00:00:00.000000000",
          "2025-10-16T00:00:00.000000000",
          "2025-10-17T00:00:00.000000000",
          "2025-10-18T00:00:00.000000000",
          "2025-10-19T00:00:00.000000000",
          "2025-10-20T00:00:00.000000000",
          "2025-10-21T00:00:00.000000000",
          "2025-10-22T00:00:00.000000000",
          "2025-10-23T00:00:00.000000000",
          "2025-10-24T00:00:00.000000000",
          "2025-10-25T00:00:00.000000000",
          "2025-10-26T00:00:00.000000000",
          "2025-10-27T00:00:00.000000000",
          "2025-10-28T00:00:00.000000000",
          "2025-10-29T00:00:00.000000000",
          "2025-10-30T00:00:00.000000000",
          "2025-10-31T00:00:00.000000000",
          "2025-11-01T00:00:00.000000000",
          "2025-11-02T00:00:00.000000000",
          "2025-11-03T00:00:00.000000000",
          "2025-11-04T00:00:00.000000000",
          "2025-11-05T00:00:00.000000000",
          "2025-11-06T00:00:00.000000000",
          "2025-11-07T00:00:00.000000000",
          "2025-11-08T00:00:00.000000000",
          "2025-11-09T00:00:00.000000000",
          "2025-11-10T00:00:00.000000000",
          "2025-11-11T00:00:00.000000000",
          "2025-11-12T00:00:00.000000000",
          "2025-11-13T00:00:00.000000000",
          "2025-11-14T00:00:00.000000000",
          "2025-11-15T00:00:00.000000000",
          "2025-11-16T00:00:00.000000000",
          "2025-11-17T00:00:00.000000000",
          "2025-11-18T00:00:00.000000000",
          "2025-11-19T00:00:00.000000000",
          "2025-11-20T00:00:00.000000000",
          "2025-11-21T00:00:00.000000000"
         ],
         "xaxis": "x",
         "y": {
          "bdata": "ADnd0coWk0CAmoqGgBGTQIDcwCwo7pJAgLnAB8r7kkCA1n2rnv+SQACOiiTV95JAALkOY3TxkkCAK6PSYuaSQAB0b+7q1ZJAAIkO5qXnkkCA/j5qyN6SQAC/NE7u8JJAAMi7a8LtkkAAiyr6ffiSQIDOPpux/ZJAgLtNCo/3kkCA3i7bH9aSQACwmouR95JAgPGeJsn8kkAAqeJhzQGTQICiAYriCZNAACZ/m2sJk0CAl+c5Nx2TQADO92LuEpNAgO0SAqswk0CAWS8f3zyTQADWSIglLpNAgCbm3bYuk0AADWaU3ESTQIAl5siIR5NAACMo7Ppdk0AA3j8lbVmTQAASAgY4e5NAgAMUCmdvk0AA45rWJG6TQACg0ekvnZNAgH2pmZppk0CAzWsr/pyTQACMsJCCqZNAgHLBugmok0CAnF1Se7OTQIAo8JQjyZNAgIsEyva7k0AA+r7s+9yTQAD/U8rSz5NAAPF5wHLrk0CANM066AGUQADU+LQyE5RAgNgMV8solECAJPFxEhaUQIDF5pj0TpRAAEyEyutSlEAAJePOCESUQAGJ8GUIaZRAgcfuDJCHlEABVQBn+nmUQIFq1eWgrJRAAX//U4qglEABQN+m1seUQIGNQ2b2zJRA",
          "dtype": "f8"
         },
         "yaxis": "y"
        },
        {
         "legendgroup": "LSTM forecast",
         "line": {
          "color": "rgba(147, 146, 255, 1)",
          "dash": "dash",
          "width": 1
         },
         "name": "Pessimistic scenario",
         "type": "scatter",
         "x": [
          "2025-09-23T00:00:00.000000000",
          "2025-09-24T00:00:00.000000000",
          "2025-09-25T00:00:00.000000000",
          "2025-09-26T00:00:00.000000000",
          "2025-09-27T00:00:00.000000000",
          "2025-09-28T00:00:00.000000000",
          "2025-09-29T00:00:00.000000000",
          "2025-09-30T00:00:00.000000000",
          "2025-10-01T00:00:00.000000000",
          "2025-10-02T00:00:00.000000000",
          "2025-10-03T00:00:00.000000000",
          "2025-10-04T00:00:00.000000000",
          "2025-10-05T00:00:00.000000000",
          "2025-10-06T00:00:00.000000000",
          "2025-10-07T00:00:00.000000000",
          "2025-10-08T00:00:00.000000000",
          "2025-10-09T00:00:00.000000000",
          "2025-10-10T00:00:00.000000000",
          "2025-10-11T00:00:00.000000000",
          "2025-10-12T00:00:00.000000000",
          "2025-10-13T00:00:00.000000000",
          "2025-10-14T00:00:00.000000000",
          "2025-10-15T00:00:00.000000000",
          "2025-10-16T00:00:00.000000000",
          "2025-10-17T00:00:00.000000000",
          "2025-10-18T00:00:00.000000000",
          "2025-10-19T00:00:00.000000000",
          "2025-10-20T00:00:00.000000000",
          "2025-10-21T00:00:00.000000000",
          "2025-10-22T00:00:00.000000000",
          "2025-10-23T00:00:00.000000000",
          "2025-10-24T00:00:00.000000000",
          "2025-10-25T00:00:00.000000000",
          "2025-10-26T00:00:00.000000000",
          "2025-10-27T00:00:00.000000000",
          "2025-10-28T00:00:00.000000000",
          "2025-10-29T00:00:00.000000000",
          "2025-10-30T00:00:00.000000000",
          "2025-10-31T00:00:00.000000000",
          "2025-11-01T00:00:00.000000000",
          "2025-11-02T00:00:00.000000000",
          "2025-11-03T00:00:00.000000000",
          "2025-11-04T00:00:00.000000000",
          "2025-11-05T00:00:00.000000000",
          "2025-11-06T00:00:00.000000000",
          "2025-11-07T00:00:00.000000000",
          "2025-11-08T00:00:00.000000000",
          "2025-11-09T00:00:00.000000000",
          "2025-11-10T00:00:00.000000000",
          "2025-11-11T00:00:00.000000000",
          "2025-11-12T00:00:00.000000000",
          "2025-11-13T00:00:00.000000000",
          "2025-11-14T00:00:00.000000000",
          "2025-11-15T00:00:00.000000000",
          "2025-11-16T00:00:00.000000000",
          "2025-11-17T00:00:00.000000000",
          "2025-11-18T00:00:00.000000000",
          "2025-11-19T00:00:00.000000000",
          "2025-11-20T00:00:00.000000000",
          "2025-11-21T00:00:00.000000000"
         ],
         "xaxis": "x",
         "y": {
          "bdata": "gFy2gazukkCASf/KYO+SQAAxBQQ9wpJAAKswtPTXkkAA+RFmotaSQAD2QJ+mw5JAAOr46L68kkCABGK4JaeSQAAgfwkJqpJAAKq7hqaTkkAAKslJK42SQACvmWQ5mJJAACFHfQpykkAA7wEf1GuSQIDQEffuWZJAAHS6HSpVkkCAR9N+eVuSQACRkIlKJ5JAgCYr/GArkkAAw8rhpxqSQIBK5+JTJpJAgAlNHV0DkkCAheSUqvCRQADnPiIq2ZFAgFXaGQbSkUCA0zE22s+RQAByNaOeppFAAPug3wudkUAAD+OcjKCRQAD/Fn2LgJFAABHz9NB3kUAAF2pJw2SRQACSqYVBTpFAAIK3hxVRkUCAHtaizyORQIA6HI5jJJFAgBwePmEDkUAAy3TFxQqRQADXDhbN6JBAgMy1C0nUkECALENZO9iQQAACnfbSpZBAAJ0kYya3kECAEz2OdpyQQACecvJnfZBAgNJ9bURdkEAAGhOy0FiQQICgulyKNJBAAEia9boqkECA7kbX+ySQQACKcEPw+I9AAHgvjyrWj0AAXuG2fp+PQIB8Uyzgjo9AgJKRoWiRj0AA+OtZ/CqPQAAQ+T2B945AgCglQ/TpjkCA+ZkcGBCPQAAzFDsxtI5A",
          "dtype": "f8"
         },
         "yaxis": "y"
        },
        {
         "legendgroup": "Daily returns",
         "line": {
          "color": "rgba(117, 183, 98, 1)",
          "width": 1
         },
         "name": "% dly rtn",
         "type": "scatter",
         "x": [
          "2024-09-23T00:00:00.000000000",
          "2024-09-24T00:00:00.000000000",
          "2024-09-25T00:00:00.000000000",
          "2024-09-26T00:00:00.000000000",
          "2024-09-27T00:00:00.000000000",
          "2024-09-30T00:00:00.000000000",
          "2024-10-01T00:00:00.000000000",
          "2024-10-02T00:00:00.000000000",
          "2024-10-03T00:00:00.000000000",
          "2024-10-04T00:00:00.000000000",
          "2024-10-07T00:00:00.000000000",
          "2024-10-08T00:00:00.000000000",
          "2024-10-09T00:00:00.000000000",
          "2024-10-10T00:00:00.000000000",
          "2024-10-11T00:00:00.000000000",
          "2024-10-14T00:00:00.000000000",
          "2024-10-15T00:00:00.000000000",
          "2024-10-16T00:00:00.000000000",
          "2024-10-17T00:00:00.000000000",
          "2024-10-18T00:00:00.000000000",
          "2024-10-21T00:00:00.000000000",
          "2024-10-22T00:00:00.000000000",
          "2024-10-23T00:00:00.000000000",
          "2024-10-24T00:00:00.000000000",
          "2024-10-25T00:00:00.000000000",
          "2024-10-28T00:00:00.000000000",
          "2024-10-29T00:00:00.000000000",
          "2024-10-30T00:00:00.000000000",
          "2024-10-31T00:00:00.000000000",
          "2024-11-01T00:00:00.000000000",
          "2024-11-04T00:00:00.000000000",
          "2024-11-05T00:00:00.000000000",
          "2024-11-06T00:00:00.000000000",
          "2024-11-07T00:00:00.000000000",
          "2024-11-08T00:00:00.000000000",
          "2024-11-11T00:00:00.000000000",
          "2024-11-12T00:00:00.000000000",
          "2024-11-13T00:00:00.000000000",
          "2024-11-14T00:00:00.000000000",
          "2024-11-15T00:00:00.000000000",
          "2024-11-18T00:00:00.000000000",
          "2024-11-19T00:00:00.000000000",
          "2024-11-20T00:00:00.000000000",
          "2024-11-21T00:00:00.000000000",
          "2024-11-22T00:00:00.000000000",
          "2024-11-25T00:00:00.000000000",
          "2024-11-26T00:00:00.000000000",
          "2024-11-27T00:00:00.000000000",
          "2024-11-29T00:00:00.000000000",
          "2024-12-02T00:00:00.000000000",
          "2024-12-03T00:00:00.000000000",
          "2024-12-04T00:00:00.000000000",
          "2024-12-05T00:00:00.000000000",
          "2024-12-06T00:00:00.000000000",
          "2024-12-09T00:00:00.000000000",
          "2024-12-10T00:00:00.000000000",
          "2024-12-11T00:00:00.000000000",
          "2024-12-12T00:00:00.000000000",
          "2024-12-13T00:00:00.000000000",
          "2024-12-16T00:00:00.000000000",
          "2024-12-17T00:00:00.000000000",
          "2024-12-18T00:00:00.000000000",
          "2024-12-19T00:00:00.000000000",
          "2024-12-20T00:00:00.000000000",
          "2024-12-23T00:00:00.000000000",
          "2024-12-24T00:00:00.000000000",
          "2024-12-26T00:00:00.000000000",
          "2024-12-27T00:00:00.000000000",
          "2024-12-30T00:00:00.000000000",
          "2024-12-31T00:00:00.000000000",
          "2025-01-02T00:00:00.000000000",
          "2025-01-03T00:00:00.000000000",
          "2025-01-06T00:00:00.000000000",
          "2025-01-07T00:00:00.000000000",
          "2025-01-08T00:00:00.000000000",
          "2025-01-10T00:00:00.000000000",
          "2025-01-13T00:00:00.000000000",
          "2025-01-14T00:00:00.000000000",
          "2025-01-15T00:00:00.000000000",
          "2025-01-16T00:00:00.000000000",
          "2025-01-17T00:00:00.000000000",
          "2025-01-21T00:00:00.000000000",
          "2025-01-22T00:00:00.000000000",
          "2025-01-23T00:00:00.000000000",
          "2025-01-24T00:00:00.000000000",
          "2025-01-27T00:00:00.000000000",
          "2025-01-28T00:00:00.000000000",
          "2025-01-29T00:00:00.000000000",
          "2025-01-30T00:00:00.000000000",
          "2025-01-31T00:00:00.000000000",
          "2025-02-03T00:00:00.000000000",
          "2025-02-04T00:00:00.000000000",
          "2025-02-05T00:00:00.000000000",
          "2025-02-06T00:00:00.000000000",
          "2025-02-07T00:00:00.000000000",
          "2025-02-10T00:00:00.000000000",
          "2025-02-11T00:00:00.000000000",
          "2025-02-12T00:00:00.000000000",
          "2025-02-13T00:00:00.000000000",
          "2025-02-14T00:00:00.000000000",
          "2025-02-18T00:00:00.000000000",
          "2025-02-19T00:00:00.000000000",
          "2025-02-20T00:00:00.000000000",
          "2025-02-21T00:00:00.000000000",
          "2025-02-24T00:00:00.000000000",
          "2025-02-25T00:00:00.000000000",
          "2025-02-26T00:00:00.000000000",
          "2025-02-27T00:00:00.000000000",
          "2025-02-28T00:00:00.000000000",
          "2025-03-03T00:00:00.000000000",
          "2025-03-04T00:00:00.000000000",
          "2025-03-05T00:00:00.000000000",
          "2025-03-06T00:00:00.000000000",
          "2025-03-07T00:00:00.000000000",
          "2025-03-10T00:00:00.000000000",
          "2025-03-11T00:00:00.000000000",
          "2025-03-12T00:00:00.000000000",
          "2025-03-13T00:00:00.000000000",
          "2025-03-14T00:00:00.000000000",
          "2025-03-17T00:00:00.000000000",
          "2025-03-18T00:00:00.000000000",
          "2025-03-19T00:00:00.000000000",
          "2025-03-20T00:00:00.000000000",
          "2025-03-21T00:00:00.000000000",
          "2025-03-24T00:00:00.000000000",
          "2025-03-25T00:00:00.000000000",
          "2025-03-26T00:00:00.000000000",
          "2025-03-27T00:00:00.000000000",
          "2025-03-28T00:00:00.000000000",
          "2025-03-31T00:00:00.000000000",
          "2025-04-01T00:00:00.000000000",
          "2025-04-02T00:00:00.000000000",
          "2025-04-03T00:00:00.000000000",
          "2025-04-04T00:00:00.000000000",
          "2025-04-07T00:00:00.000000000",
          "2025-04-08T00:00:00.000000000",
          "2025-04-09T00:00:00.000000000",
          "2025-04-10T00:00:00.000000000",
          "2025-04-11T00:00:00.000000000",
          "2025-04-14T00:00:00.000000000",
          "2025-04-15T00:00:00.000000000",
          "2025-04-16T00:00:00.000000000",
          "2025-04-17T00:00:00.000000000",
          "2025-04-21T00:00:00.000000000",
          "2025-04-22T00:00:00.000000000",
          "2025-04-23T00:00:00.000000000",
          "2025-04-24T00:00:00.000000000",
          "2025-04-25T00:00:00.000000000",
          "2025-04-28T00:00:00.000000000",
          "2025-04-29T00:00:00.000000000",
          "2025-04-30T00:00:00.000000000",
          "2025-05-01T00:00:00.000000000",
          "2025-05-02T00:00:00.000000000",
          "2025-05-05T00:00:00.000000000",
          "2025-05-06T00:00:00.000000000",
          "2025-05-07T00:00:00.000000000",
          "2025-05-08T00:00:00.000000000",
          "2025-05-09T00:00:00.000000000",
          "2025-05-12T00:00:00.000000000",
          "2025-05-13T00:00:00.000000000",
          "2025-05-14T00:00:00.000000000",
          "2025-05-15T00:00:00.000000000",
          "2025-05-16T00:00:00.000000000",
          "2025-05-19T00:00:00.000000000",
          "2025-05-20T00:00:00.000000000",
          "2025-05-21T00:00:00.000000000",
          "2025-05-22T00:00:00.000000000",
          "2025-05-23T00:00:00.000000000",
          "2025-05-27T00:00:00.000000000",
          "2025-05-28T00:00:00.000000000",
          "2025-05-29T00:00:00.000000000",
          "2025-05-30T00:00:00.000000000",
          "2025-06-02T00:00:00.000000000",
          "2025-06-03T00:00:00.000000000",
          "2025-06-04T00:00:00.000000000",
          "2025-06-05T00:00:00.000000000",
          "2025-06-06T00:00:00.000000000",
          "2025-06-09T00:00:00.000000000",
          "2025-06-10T00:00:00.000000000",
          "2025-06-11T00:00:00.000000000",
          "2025-06-12T00:00:00.000000000",
          "2025-06-13T00:00:00.000000000",
          "2025-06-16T00:00:00.000000000",
          "2025-06-17T00:00:00.000000000",
          "2025-06-18T00:00:00.000000000",
          "2025-06-20T00:00:00.000000000",
          "2025-06-23T00:00:00.000000000",
          "2025-06-24T00:00:00.000000000",
          "2025-06-25T00:00:00.000000000",
          "2025-06-26T00:00:00.000000000",
          "2025-06-27T00:00:00.000000000",
          "2025-06-30T00:00:00.000000000",
          "2025-07-01T00:00:00.000000000",
          "2025-07-02T00:00:00.000000000",
          "2025-07-03T00:00:00.000000000",
          "2025-07-07T00:00:00.000000000",
          "2025-07-08T00:00:00.000000000",
          "2025-07-09T00:00:00.000000000",
          "2025-07-10T00:00:00.000000000",
          "2025-07-11T00:00:00.000000000",
          "2025-07-14T00:00:00.000000000",
          "2025-07-15T00:00:00.000000000",
          "2025-07-16T00:00:00.000000000",
          "2025-07-17T00:00:00.000000000",
          "2025-07-18T00:00:00.000000000",
          "2025-07-21T00:00:00.000000000",
          "2025-07-22T00:00:00.000000000",
          "2025-07-23T00:00:00.000000000",
          "2025-07-24T00:00:00.000000000",
          "2025-07-25T00:00:00.000000000",
          "2025-07-28T00:00:00.000000000",
          "2025-07-29T00:00:00.000000000",
          "2025-07-30T00:00:00.000000000",
          "2025-07-31T00:00:00.000000000",
          "2025-08-01T00:00:00.000000000",
          "2025-08-04T00:00:00.000000000",
          "2025-08-05T00:00:00.000000000",
          "2025-08-06T00:00:00.000000000",
          "2025-08-07T00:00:00.000000000",
          "2025-08-08T00:00:00.000000000",
          "2025-08-11T00:00:00.000000000",
          "2025-08-12T00:00:00.000000000",
          "2025-08-13T00:00:00.000000000",
          "2025-08-14T00:00:00.000000000",
          "2025-08-15T00:00:00.000000000",
          "2025-08-18T00:00:00.000000000",
          "2025-08-19T00:00:00.000000000",
          "2025-08-20T00:00:00.000000000",
          "2025-08-21T00:00:00.000000000",
          "2025-08-22T00:00:00.000000000",
          "2025-08-25T00:00:00.000000000",
          "2025-08-26T00:00:00.000000000",
          "2025-08-27T00:00:00.000000000",
          "2025-08-28T00:00:00.000000000",
          "2025-08-29T00:00:00.000000000",
          "2025-09-02T00:00:00.000000000",
          "2025-09-03T00:00:00.000000000",
          "2025-09-04T00:00:00.000000000",
          "2025-09-05T00:00:00.000000000",
          "2025-09-08T00:00:00.000000000",
          "2025-09-09T00:00:00.000000000",
          "2025-09-10T00:00:00.000000000",
          "2025-09-11T00:00:00.000000000",
          "2025-09-12T00:00:00.000000000",
          "2025-09-15T00:00:00.000000000",
          "2025-09-16T00:00:00.000000000",
          "2025-09-17T00:00:00.000000000",
          "2025-09-18T00:00:00.000000000",
          "2025-09-19T00:00:00.000000000",
          "2025-09-22T00:00:00.000000000"
         ],
         "xaxis": "x2",
         "y": {
          "bdata": "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",
          "dtype": "f8"
         },
         "yaxis": "y2"
        },
        {
         "legendgroup": "Volatility",
         "line": {
          "color": "rgba(249, 180, 78, 1)",
          "width": 1
         },
         "name": "weekly volatility",
         "type": "scatter",
         "x": [
          "2024-09-23T00:00:00.000000000",
          "2024-09-24T00:00:00.000000000",
          "2024-09-25T00:00:00.000000000",
          "2024-09-26T00:00:00.000000000",
          "2024-09-27T00:00:00.000000000",
          "2024-09-30T00:00:00.000000000",
          "2024-10-01T00:00:00.000000000",
          "2024-10-02T00:00:00.000000000",
          "2024-10-03T00:00:00.000000000",
          "2024-10-04T00:00:00.000000000",
          "2024-10-07T00:00:00.000000000",
          "2024-10-08T00:00:00.000000000",
          "2024-10-09T00:00:00.000000000",
          "2024-10-10T00:00:00.000000000",
          "2024-10-11T00:00:00.000000000",
          "2024-10-14T00:00:00.000000000",
          "2024-10-15T00:00:00.000000000",
          "2024-10-16T00:00:00.000000000",
          "2024-10-17T00:00:00.000000000",
          "2024-10-18T00:00:00.000000000",
          "2024-10-21T00:00:00.000000000",
          "2024-10-22T00:00:00.000000000",
          "2024-10-23T00:00:00.000000000",
          "2024-10-24T00:00:00.000000000",
          "2024-10-25T00:00:00.000000000",
          "2024-10-28T00:00:00.000000000",
          "2024-10-29T00:00:00.000000000",
          "2024-10-30T00:00:00.000000000",
          "2024-10-31T00:00:00.000000000",
          "2024-11-01T00:00:00.000000000",
          "2024-11-04T00:00:00.000000000",
          "2024-11-05T00:00:00.000000000",
          "2024-11-06T00:00:00.000000000",
          "2024-11-07T00:00:00.000000000",
          "2024-11-08T00:00:00.000000000",
          "2024-11-11T00:00:00.000000000",
          "2024-11-12T00:00:00.000000000",
          "2024-11-13T00:00:00.000000000",
          "2024-11-14T00:00:00.000000000",
          "2024-11-15T00:00:00.000000000",
          "2024-11-18T00:00:00.000000000",
          "2024-11-19T00:00:00.000000000",
          "2024-11-20T00:00:00.000000000",
          "2024-11-21T00:00:00.000000000",
          "2024-11-22T00:00:00.000000000",
          "2024-11-25T00:00:00.000000000",
          "2024-11-26T00:00:00.000000000",
          "2024-11-27T00:00:00.000000000",
          "2024-11-29T00:00:00.000000000",
          "2024-12-02T00:00:00.000000000",
          "2024-12-03T00:00:00.000000000",
          "2024-12-04T00:00:00.000000000",
          "2024-12-05T00:00:00.000000000",
          "2024-12-06T00:00:00.000000000",
          "2024-12-09T00:00:00.000000000",
          "2024-12-10T00:00:00.000000000",
          "2024-12-11T00:00:00.000000000",
          "2024-12-12T00:00:00.000000000",
          "2024-12-13T00:00:00.000000000",
          "2024-12-16T00:00:00.000000000",
          "2024-12-17T00:00:00.000000000",
          "2024-12-18T00:00:00.000000000",
          "2024-12-19T00:00:00.000000000",
          "2024-12-20T00:00:00.000000000",
          "2024-12-23T00:00:00.000000000",
          "2024-12-24T00:00:00.000000000",
          "2024-12-26T00:00:00.000000000",
          "2024-12-27T00:00:00.000000000",
          "2024-12-30T00:00:00.000000000",
          "2024-12-31T00:00:00.000000000",
          "2025-01-02T00:00:00.000000000",
          "2025-01-03T00:00:00.000000000",
          "2025-01-06T00:00:00.000000000",
          "2025-01-07T00:00:00.000000000",
          "2025-01-08T00:00:00.000000000",
          "2025-01-10T00:00:00.000000000",
          "2025-01-13T00:00:00.000000000",
          "2025-01-14T00:00:00.000000000",
          "2025-01-15T00:00:00.000000000",
          "2025-01-16T00:00:00.000000000",
          "2025-01-17T00:00:00.000000000",
          "2025-01-21T00:00:00.000000000",
          "2025-01-22T00:00:00.000000000",
          "2025-01-23T00:00:00.000000000",
          "2025-01-24T00:00:00.000000000",
          "2025-01-27T00:00:00.000000000",
          "2025-01-28T00:00:00.000000000",
          "2025-01-29T00:00:00.000000000",
          "2025-01-30T00:00:00.000000000",
          "2025-01-31T00:00:00.000000000",
          "2025-02-03T00:00:00.000000000",
          "2025-02-04T00:00:00.000000000",
          "2025-02-05T00:00:00.000000000",
          "2025-02-06T00:00:00.000000000",
          "2025-02-07T00:00:00.000000000",
          "2025-02-10T00:00:00.000000000",
          "2025-02-11T00:00:00.000000000",
          "2025-02-12T00:00:00.000000000",
          "2025-02-13T00:00:00.000000000",
          "2025-02-14T00:00:00.000000000",
          "2025-02-18T00:00:00.000000000",
          "2025-02-19T00:00:00.000000000",
          "2025-02-20T00:00:00.000000000",
          "2025-02-21T00:00:00.000000000",
          "2025-02-24T00:00:00.000000000",
          "2025-02-25T00:00:00.000000000",
          "2025-02-26T00:00:00.000000000",
          "2025-02-27T00:00:00.000000000",
          "2025-02-28T00:00:00.000000000",
          "2025-03-03T00:00:00.000000000",
          "2025-03-04T00:00:00.000000000",
          "2025-03-05T00:00:00.000000000",
          "2025-03-06T00:00:00.000000000",
          "2025-03-07T00:00:00.000000000",
          "2025-03-10T00:00:00.000000000",
          "2025-03-11T00:00:00.000000000",
          "2025-03-12T00:00:00.000000000",
          "2025-03-13T00:00:00.000000000",
          "2025-03-14T00:00:00.000000000",
          "2025-03-17T00:00:00.000000000",
          "2025-03-18T00:00:00.000000000",
          "2025-03-19T00:00:00.000000000",
          "2025-03-20T00:00:00.000000000",
          "2025-03-21T00:00:00.000000000",
          "2025-03-24T00:00:00.000000000",
          "2025-03-25T00:00:00.000000000",
          "2025-03-26T00:00:00.000000000",
          "2025-03-27T00:00:00.000000000",
          "2025-03-28T00:00:00.000000000",
          "2025-03-31T00:00:00.000000000",
          "2025-04-01T00:00:00.000000000",
          "2025-04-02T00:00:00.000000000",
          "2025-04-03T00:00:00.000000000",
          "2025-04-04T00:00:00.000000000",
          "2025-04-07T00:00:00.000000000",
          "2025-04-08T00:00:00.000000000",
          "2025-04-09T00:00:00.000000000",
          "2025-04-10T00:00:00.000000000",
          "2025-04-11T00:00:00.000000000",
          "2025-04-14T00:00:00.000000000",
          "2025-04-15T00:00:00.000000000",
          "2025-04-16T00:00:00.000000000",
          "2025-04-17T00:00:00.000000000",
          "2025-04-21T00:00:00.000000000",
          "2025-04-22T00:00:00.000000000",
          "2025-04-23T00:00:00.000000000",
          "2025-04-24T00:00:00.000000000",
          "2025-04-25T00:00:00.000000000",
          "2025-04-28T00:00:00.000000000",
          "2025-04-29T00:00:00.000000000",
          "2025-04-30T00:00:00.000000000",
          "2025-05-01T00:00:00.000000000",
          "2025-05-02T00:00:00.000000000",
          "2025-05-05T00:00:00.000000000",
          "2025-05-06T00:00:00.000000000",
          "2025-05-07T00:00:00.000000000",
          "2025-05-08T00:00:00.000000000",
          "2025-05-09T00:00:00.000000000",
          "2025-05-12T00:00:00.000000000",
          "2025-05-13T00:00:00.000000000",
          "2025-05-14T00:00:00.000000000",
          "2025-05-15T00:00:00.000000000",
          "2025-05-16T00:00:00.000000000",
          "2025-05-19T00:00:00.000000000",
          "2025-05-20T00:00:00.000000000",
          "2025-05-21T00:00:00.000000000",
          "2025-05-22T00:00:00.000000000",
          "2025-05-23T00:00:00.000000000",
          "2025-05-27T00:00:00.000000000",
          "2025-05-28T00:00:00.000000000",
          "2025-05-29T00:00:00.000000000",
          "2025-05-30T00:00:00.000000000",
          "2025-06-02T00:00:00.000000000",
          "2025-06-03T00:00:00.000000000",
          "2025-06-04T00:00:00.000000000",
          "2025-06-05T00:00:00.000000000",
          "2025-06-06T00:00:00.000000000",
          "2025-06-09T00:00:00.000000000",
          "2025-06-10T00:00:00.000000000",
          "2025-06-11T00:00:00.000000000",
          "2025-06-12T00:00:00.000000000",
          "2025-06-13T00:00:00.000000000",
          "2025-06-16T00:00:00.000000000",
          "2025-06-17T00:00:00.000000000",
          "2025-06-18T00:00:00.000000000",
          "2025-06-20T00:00:00.000000000",
          "2025-06-23T00:00:00.000000000",
          "2025-06-24T00:00:00.000000000",
          "2025-06-25T00:00:00.000000000",
          "2025-06-26T00:00:00.000000000",
          "2025-06-27T00:00:00.000000000",
          "2025-06-30T00:00:00.000000000",
          "2025-07-01T00:00:00.000000000",
          "2025-07-02T00:00:00.000000000",
          "2025-07-03T00:00:00.000000000",
          "2025-07-07T00:00:00.000000000",
          "2025-07-08T00:00:00.000000000",
          "2025-07-09T00:00:00.000000000",
          "2025-07-10T00:00:00.000000000",
          "2025-07-11T00:00:00.000000000",
          "2025-07-14T00:00:00.000000000",
          "2025-07-15T00:00:00.000000000",
          "2025-07-16T00:00:00.000000000",
          "2025-07-17T00:00:00.000000000",
          "2025-07-18T00:00:00.000000000",
          "2025-07-21T00:00:00.000000000",
          "2025-07-22T00:00:00.000000000",
          "2025-07-23T00:00:00.000000000",
          "2025-07-24T00:00:00.000000000",
          "2025-07-25T00:00:00.000000000",
          "2025-07-28T00:00:00.000000000",
          "2025-07-29T00:00:00.000000000",
          "2025-07-30T00:00:00.000000000",
          "2025-07-31T00:00:00.000000000",
          "2025-08-01T00:00:00.000000000",
          "2025-08-04T00:00:00.000000000",
          "2025-08-05T00:00:00.000000000",
          "2025-08-06T00:00:00.000000000",
          "2025-08-07T00:00:00.000000000",
          "2025-08-08T00:00:00.000000000",
          "2025-08-11T00:00:00.000000000",
          "2025-08-12T00:00:00.000000000",
          "2025-08-13T00:00:00.000000000",
          "2025-08-14T00:00:00.000000000",
          "2025-08-15T00:00:00.000000000",
          "2025-08-18T00:00:00.000000000",
          "2025-08-19T00:00:00.000000000",
          "2025-08-20T00:00:00.000000000",
          "2025-08-21T00:00:00.000000000",
          "2025-08-22T00:00:00.000000000",
          "2025-08-25T00:00:00.000000000",
          "2025-08-26T00:00:00.000000000",
          "2025-08-27T00:00:00.000000000",
          "2025-08-28T00:00:00.000000000",
          "2025-08-29T00:00:00.000000000",
          "2025-09-02T00:00:00.000000000",
          "2025-09-03T00:00:00.000000000",
          "2025-09-04T00:00:00.000000000",
          "2025-09-05T00:00:00.000000000",
          "2025-09-08T00:00:00.000000000",
          "2025-09-09T00:00:00.000000000",
          "2025-09-10T00:00:00.000000000",
          "2025-09-11T00:00:00.000000000",
          "2025-09-12T00:00:00.000000000",
          "2025-09-15T00:00:00.000000000",
          "2025-09-16T00:00:00.000000000",
          "2025-09-17T00:00:00.000000000",
          "2025-09-18T00:00:00.000000000",
          "2025-09-19T00:00:00.000000000",
          "2025-09-22T00:00:00.000000000"
         ],
         "xaxis": "x3",
         "y": {
          "bdata": "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",
          "dtype": "f8"
         },
         "yaxis": "y3"
        },
        {
         "legendgroup": "Volatility",
         "line": {
          "color": "rgba(255, 121, 100, 1)",
          "width": 1
         },
         "name": "monthly volatility",
         "type": "scatter",
         "x": [
          "2024-09-23T00:00:00.000000000",
          "2024-09-24T00:00:00.000000000",
          "2024-09-25T00:00:00.000000000",
          "2024-09-26T00:00:00.000000000",
          "2024-09-27T00:00:00.000000000",
          "2024-09-30T00:00:00.000000000",
          "2024-10-01T00:00:00.000000000",
          "2024-10-02T00:00:00.000000000",
          "2024-10-03T00:00:00.000000000",
          "2024-10-04T00:00:00.000000000",
          "2024-10-07T00:00:00.000000000",
          "2024-10-08T00:00:00.000000000",
          "2024-10-09T00:00:00.000000000",
          "2024-10-10T00:00:00.000000000",
          "2024-10-11T00:00:00.000000000",
          "2024-10-14T00:00:00.000000000",
          "2024-10-15T00:00:00.000000000",
          "2024-10-16T00:00:00.000000000",
          "2024-10-17T00:00:00.000000000",
          "2024-10-18T00:00:00.000000000",
          "2024-10-21T00:00:00.000000000",
          "2024-10-22T00:00:00.000000000",
          "2024-10-23T00:00:00.000000000",
          "2024-10-24T00:00:00.000000000",
          "2024-10-25T00:00:00.000000000",
          "2024-10-28T00:00:00.000000000",
          "2024-10-29T00:00:00.000000000",
          "2024-10-30T00:00:00.000000000",
          "2024-10-31T00:00:00.000000000",
          "2024-11-01T00:00:00.000000000",
          "2024-11-04T00:00:00.000000000",
          "2024-11-05T00:00:00.000000000",
          "2024-11-06T00:00:00.000000000",
          "2024-11-07T00:00:00.000000000",
          "2024-11-08T00:00:00.000000000",
          "2024-11-11T00:00:00.000000000",
          "2024-11-12T00:00:00.000000000",
          "2024-11-13T00:00:00.000000000",
          "2024-11-14T00:00:00.000000000",
          "2024-11-15T00:00:00.000000000",
          "2024-11-18T00:00:00.000000000",
          "2024-11-19T00:00:00.000000000",
          "2024-11-20T00:00:00.000000000",
          "2024-11-21T00:00:00.000000000",
          "2024-11-22T00:00:00.000000000",
          "2024-11-25T00:00:00.000000000",
          "2024-11-26T00:00:00.000000000",
          "2024-11-27T00:00:00.000000000",
          "2024-11-29T00:00:00.000000000",
          "2024-12-02T00:00:00.000000000",
          "2024-12-03T00:00:00.000000000",
          "2024-12-04T00:00:00.000000000",
          "2024-12-05T00:00:00.000000000",
          "2024-12-06T00:00:00.000000000",
          "2024-12-09T00:00:00.000000000",
          "2024-12-10T00:00:00.000000000",
          "2024-12-11T00:00:00.000000000",
          "2024-12-12T00:00:00.000000000",
          "2024-12-13T00:00:00.000000000",
          "2024-12-16T00:00:00.000000000",
          "2024-12-17T00:00:00.000000000",
          "2024-12-18T00:00:00.000000000",
          "2024-12-19T00:00:00.000000000",
          "2024-12-20T00:00:00.000000000",
          "2024-12-23T00:00:00.000000000",
          "2024-12-24T00:00:00.000000000",
          "2024-12-26T00:00:00.000000000",
          "2024-12-27T00:00:00.000000000",
          "2024-12-30T00:00:00.000000000",
          "2024-12-31T00:00:00.000000000",
          "2025-01-02T00:00:00.000000000",
          "2025-01-03T00:00:00.000000000",
          "2025-01-06T00:00:00.000000000",
          "2025-01-07T00:00:00.000000000",
          "2025-01-08T00:00:00.000000000",
          "2025-01-10T00:00:00.000000000",
          "2025-01-13T00:00:00.000000000",
          "2025-01-14T00:00:00.000000000",
          "2025-01-15T00:00:00.000000000",
          "2025-01-16T00:00:00.000000000",
          "2025-01-17T00:00:00.000000000",
          "2025-01-21T00:00:00.000000000",
          "2025-01-22T00:00:00.000000000",
          "2025-01-23T00:00:00.000000000",
          "2025-01-24T00:00:00.000000000",
          "2025-01-27T00:00:00.000000000",
          "2025-01-28T00:00:00.000000000",
          "2025-01-29T00:00:00.000000000",
          "2025-01-30T00:00:00.000000000",
          "2025-01-31T00:00:00.000000000",
          "2025-02-03T00:00:00.000000000",
          "2025-02-04T00:00:00.000000000",
          "2025-02-05T00:00:00.000000000",
          "2025-02-06T00:00:00.000000000",
          "2025-02-07T00:00:00.000000000",
          "2025-02-10T00:00:00.000000000",
          "2025-02-11T00:00:00.000000000",
          "2025-02-12T00:00:00.000000000",
          "2025-02-13T00:00:00.000000000",
          "2025-02-14T00:00:00.000000000",
          "2025-02-18T00:00:00.000000000",
          "2025-02-19T00:00:00.000000000",
          "2025-02-20T00:00:00.000000000",
          "2025-02-21T00:00:00.000000000",
          "2025-02-24T00:00:00.000000000",
          "2025-02-25T00:00:00.000000000",
          "2025-02-26T00:00:00.000000000",
          "2025-02-27T00:00:00.000000000",
          "2025-02-28T00:00:00.000000000",
          "2025-03-03T00:00:00.000000000",
          "2025-03-04T00:00:00.000000000",
          "2025-03-05T00:00:00.000000000",
          "2025-03-06T00:00:00.000000000",
          "2025-03-07T00:00:00.000000000",
          "2025-03-10T00:00:00.000000000",
          "2025-03-11T00:00:00.000000000",
          "2025-03-12T00:00:00.000000000",
          "2025-03-13T00:00:00.000000000",
          "2025-03-14T00:00:00.000000000",
          "2025-03-17T00:00:00.000000000",
          "2025-03-18T00:00:00.000000000",
          "2025-03-19T00:00:00.000000000",
          "2025-03-20T00:00:00.000000000",
          "2025-03-21T00:00:00.000000000",
          "2025-03-24T00:00:00.000000000",
          "2025-03-25T00:00:00.000000000",
          "2025-03-26T00:00:00.000000000",
          "2025-03-27T00:00:00.000000000",
          "2025-03-28T00:00:00.000000000",
          "2025-03-31T00:00:00.000000000",
          "2025-04-01T00:00:00.000000000",
          "2025-04-02T00:00:00.000000000",
          "2025-04-03T00:00:00.000000000",
          "2025-04-04T00:00:00.000000000",
          "2025-04-07T00:00:00.000000000",
          "2025-04-08T00:00:00.000000000",
          "2025-04-09T00:00:00.000000000",
          "2025-04-10T00:00:00.000000000",
          "2025-04-11T00:00:00.000000000",
          "2025-04-14T00:00:00.000000000",
          "2025-04-15T00:00:00.000000000",
          "2025-04-16T00:00:00.000000000",
          "2025-04-17T00:00:00.000000000",
          "2025-04-21T00:00:00.000000000",
          "2025-04-22T00:00:00.000000000",
          "2025-04-23T00:00:00.000000000",
          "2025-04-24T00:00:00.000000000",
          "2025-04-25T00:00:00.000000000",
          "2025-04-28T00:00:00.000000000",
          "2025-04-29T00:00:00.000000000",
          "2025-04-30T00:00:00.000000000",
          "2025-05-01T00:00:00.000000000",
          "2025-05-02T00:00:00.000000000",
          "2025-05-05T00:00:00.000000000",
          "2025-05-06T00:00:00.000000000",
          "2025-05-07T00:00:00.000000000",
          "2025-05-08T00:00:00.000000000",
          "2025-05-09T00:00:00.000000000",
          "2025-05-12T00:00:00.000000000",
          "2025-05-13T00:00:00.000000000",
          "2025-05-14T00:00:00.000000000",
          "2025-05-15T00:00:00.000000000",
          "2025-05-16T00:00:00.000000000",
          "2025-05-19T00:00:00.000000000",
          "2025-05-20T00:00:00.000000000",
          "2025-05-21T00:00:00.000000000",
          "2025-05-22T00:00:00.000000000",
          "2025-05-23T00:00:00.000000000",
          "2025-05-27T00:00:00.000000000",
          "2025-05-28T00:00:00.000000000",
          "2025-05-29T00:00:00.000000000",
          "2025-05-30T00:00:00.000000000",
          "2025-06-02T00:00:00.000000000",
          "2025-06-03T00:00:00.000000000",
          "2025-06-04T00:00:00.000000000",
          "2025-06-05T00:00:00.000000000",
          "2025-06-06T00:00:00.000000000",
          "2025-06-09T00:00:00.000000000",
          "2025-06-10T00:00:00.000000000",
          "2025-06-11T00:00:00.000000000",
          "2025-06-12T00:00:00.000000000",
          "2025-06-13T00:00:00.000000000",
          "2025-06-16T00:00:00.000000000",
          "2025-06-17T00:00:00.000000000",
          "2025-06-18T00:00:00.000000000",
          "2025-06-20T00:00:00.000000000",
          "2025-06-23T00:00:00.000000000",
          "2025-06-24T00:00:00.000000000",
          "2025-06-25T00:00:00.000000000",
          "2025-06-26T00:00:00.000000000",
          "2025-06-27T00:00:00.000000000",
          "2025-06-30T00:00:00.000000000",
          "2025-07-01T00:00:00.000000000",
          "2025-07-02T00:00:00.000000000",
          "2025-07-03T00:00:00.000000000",
          "2025-07-07T00:00:00.000000000",
          "2025-07-08T00:00:00.000000000",
          "2025-07-09T00:00:00.000000000",
          "2025-07-10T00:00:00.000000000",
          "2025-07-11T00:00:00.000000000",
          "2025-07-14T00:00:00.000000000",
          "2025-07-15T00:00:00.000000000",
          "2025-07-16T00:00:00.000000000",
          "2025-07-17T00:00:00.000000000",
          "2025-07-18T00:00:00.000000000",
          "2025-07-21T00:00:00.000000000",
          "2025-07-22T00:00:00.000000000",
          "2025-07-23T00:00:00.000000000",
          "2025-07-24T00:00:00.000000000",
          "2025-07-25T00:00:00.000000000",
          "2025-07-28T00:00:00.000000000",
          "2025-07-29T00:00:00.000000000",
          "2025-07-30T00:00:00.000000000",
          "2025-07-31T00:00:00.000000000",
          "2025-08-01T00:00:00.000000000",
          "2025-08-04T00:00:00.000000000",
          "2025-08-05T00:00:00.000000000",
          "2025-08-06T00:00:00.000000000",
          "2025-08-07T00:00:00.000000000",
          "2025-08-08T00:00:00.000000000",
          "2025-08-11T00:00:00.000000000",
          "2025-08-12T00:00:00.000000000",
          "2025-08-13T00:00:00.000000000",
          "2025-08-14T00:00:00.000000000",
          "2025-08-15T00:00:00.000000000",
          "2025-08-18T00:00:00.000000000",
          "2025-08-19T00:00:00.000000000",
          "2025-08-20T00:00:00.000000000",
          "2025-08-21T00:00:00.000000000",
          "2025-08-22T00:00:00.000000000",
          "2025-08-25T00:00:00.000000000",
          "2025-08-26T00:00:00.000000000",
          "2025-08-27T00:00:00.000000000",
          "2025-08-28T00:00:00.000000000",
          "2025-08-29T00:00:00.000000000",
          "2025-09-02T00:00:00.000000000",
          "2025-09-03T00:00:00.000000000",
          "2025-09-04T00:00:00.000000000",
          "2025-09-05T00:00:00.000000000",
          "2025-09-08T00:00:00.000000000",
          "2025-09-09T00:00:00.000000000",
          "2025-09-10T00:00:00.000000000",
          "2025-09-11T00:00:00.000000000",
          "2025-09-12T00:00:00.000000000",
          "2025-09-15T00:00:00.000000000",
          "2025-09-16T00:00:00.000000000",
          "2025-09-17T00:00:00.000000000",
          "2025-09-18T00:00:00.000000000",
          "2025-09-19T00:00:00.000000000",
          "2025-09-22T00:00:00.000000000"
         ],
         "xaxis": "x3",
         "y": {
          "bdata": "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",
          "dtype": "f8"
         },
         "yaxis": "y3"
        },
        {
         "legendgroup": "Volume",
         "marker": {
          "color": "rgba(0, 150, 255, 0.6)"
         },
         "name": "Volume",
         "type": "bar",
         "x": [
          "2024-09-23T00:00:00.000000000",
          "2024-09-24T00:00:00.000000000",
          "2024-09-25T00:00:00.000000000",
          "2024-09-26T00:00:00.000000000",
          "2024-09-27T00:00:00.000000000",
          "2024-09-30T00:00:00.000000000",
          "2024-10-01T00:00:00.000000000",
          "2024-10-02T00:00:00.000000000",
          "2024-10-03T00:00:00.000000000",
          "2024-10-04T00:00:00.000000000",
          "2024-10-07T00:00:00.000000000",
          "2024-10-08T00:00:00.000000000",
          "2024-10-09T00:00:00.000000000",
          "2024-10-10T00:00:00.000000000",
          "2024-10-11T00:00:00.000000000",
          "2024-10-14T00:00:00.000000000",
          "2024-10-15T00:00:00.000000000",
          "2024-10-16T00:00:00.000000000",
          "2024-10-17T00:00:00.000000000",
          "2024-10-18T00:00:00.000000000",
          "2024-10-21T00:00:00.000000000",
          "2024-10-22T00:00:00.000000000",
          "2024-10-23T00:00:00.000000000",
          "2024-10-24T00:00:00.000000000",
          "2024-10-25T00:00:00.000000000",
          "2024-10-28T00:00:00.000000000",
          "2024-10-29T00:00:00.000000000",
          "2024-10-30T00:00:00.000000000",
          "2024-10-31T00:00:00.000000000",
          "2024-11-01T00:00:00.000000000",
          "2024-11-04T00:00:00.000000000",
          "2024-11-05T00:00:00.000000000",
          "2024-11-06T00:00:00.000000000",
          "2024-11-07T00:00:00.000000000",
          "2024-11-08T00:00:00.000000000",
          "2024-11-11T00:00:00.000000000",
          "2024-11-12T00:00:00.000000000",
          "2024-11-13T00:00:00.000000000",
          "2024-11-14T00:00:00.000000000",
          "2024-11-15T00:00:00.000000000",
          "2024-11-18T00:00:00.000000000",
          "2024-11-19T00:00:00.000000000",
          "2024-11-20T00:00:00.000000000",
          "2024-11-21T00:00:00.000000000",
          "2024-11-22T00:00:00.000000000",
          "2024-11-25T00:00:00.000000000",
          "2024-11-26T00:00:00.000000000",
          "2024-11-27T00:00:00.000000000",
          "2024-11-29T00:00:00.000000000",
          "2024-12-02T00:00:00.000000000",
          "2024-12-03T00:00:00.000000000",
          "2024-12-04T00:00:00.000000000",
          "2024-12-05T00:00:00.000000000",
          "2024-12-06T00:00:00.000000000",
          "2024-12-09T00:00:00.000000000",
          "2024-12-10T00:00:00.000000000",
          "2024-12-11T00:00:00.000000000",
          "2024-12-12T00:00:00.000000000",
          "2024-12-13T00:00:00.000000000",
          "2024-12-16T00:00:00.000000000",
          "2024-12-17T00:00:00.000000000",
          "2024-12-18T00:00:00.000000000",
          "2024-12-19T00:00:00.000000000",
          "2024-12-20T00:00:00.000000000",
          "2024-12-23T00:00:00.000000000",
          "2024-12-24T00:00:00.000000000",
          "2024-12-26T00:00:00.000000000",
          "2024-12-27T00:00:00.000000000",
          "2024-12-30T00:00:00.000000000",
          "2024-12-31T00:00:00.000000000",
          "2025-01-02T00:00:00.000000000",
          "2025-01-03T00:00:00.000000000",
          "2025-01-06T00:00:00.000000000",
          "2025-01-07T00:00:00.000000000",
          "2025-01-08T00:00:00.000000000",
          "2025-01-10T00:00:00.000000000",
          "2025-01-13T00:00:00.000000000",
          "2025-01-14T00:00:00.000000000",
          "2025-01-15T00:00:00.000000000",
          "2025-01-16T00:00:00.000000000",
          "2025-01-17T00:00:00.000000000",
          "2025-01-21T00:00:00.000000000",
          "2025-01-22T00:00:00.000000000",
          "2025-01-23T00:00:00.000000000",
          "2025-01-24T00:00:00.000000000",
          "2025-01-27T00:00:00.000000000",
          "2025-01-28T00:00:00.000000000",
          "2025-01-29T00:00:00.000000000",
          "2025-01-30T00:00:00.000000000",
          "2025-01-31T00:00:00.000000000",
          "2025-02-03T00:00:00.000000000",
          "2025-02-04T00:00:00.000000000",
          "2025-02-05T00:00:00.000000000",
          "2025-02-06T00:00:00.000000000",
          "2025-02-07T00:00:00.000000000",
          "2025-02-10T00:00:00.000000000",
          "2025-02-11T00:00:00.000000000",
          "2025-02-12T00:00:00.000000000",
          "2025-02-13T00:00:00.000000000",
          "2025-02-14T00:00:00.000000000",
          "2025-02-18T00:00:00.000000000",
          "2025-02-19T00:00:00.000000000",
          "2025-02-20T00:00:00.000000000",
          "2025-02-21T00:00:00.000000000",
          "2025-02-24T00:00:00.000000000",
          "2025-02-25T00:00:00.000000000",
          "2025-02-26T00:00:00.000000000",
          "2025-02-27T00:00:00.000000000",
          "2025-02-28T00:00:00.000000000",
          "2025-03-03T00:00:00.000000000",
          "2025-03-04T00:00:00.000000000",
          "2025-03-05T00:00:00.000000000",
          "2025-03-06T00:00:00.000000000",
          "2025-03-07T00:00:00.000000000",
          "2025-03-10T00:00:00.000000000",
          "2025-03-11T00:00:00.000000000",
          "2025-03-12T00:00:00.000000000",
          "2025-03-13T00:00:00.000000000",
          "2025-03-14T00:00:00.000000000",
          "2025-03-17T00:00:00.000000000",
          "2025-03-18T00:00:00.000000000",
          "2025-03-19T00:00:00.000000000",
          "2025-03-20T00:00:00.000000000",
          "2025-03-21T00:00:00.000000000",
          "2025-03-24T00:00:00.000000000",
          "2025-03-25T00:00:00.000000000",
          "2025-03-26T00:00:00.000000000",
          "2025-03-27T00:00:00.000000000",
          "2025-03-28T00:00:00.000000000",
          "2025-03-31T00:00:00.000000000",
          "2025-04-01T00:00:00.000000000",
          "2025-04-02T00:00:00.000000000",
          "2025-04-03T00:00:00.000000000",
          "2025-04-04T00:00:00.000000000",
          "2025-04-07T00:00:00.000000000",
          "2025-04-08T00:00:00.000000000",
          "2025-04-09T00:00:00.000000000",
          "2025-04-10T00:00:00.000000000",
          "2025-04-11T00:00:00.000000000",
          "2025-04-14T00:00:00.000000000",
          "2025-04-15T00:00:00.000000000",
          "2025-04-16T00:00:00.000000000",
          "2025-04-17T00:00:00.000000000",
          "2025-04-21T00:00:00.000000000",
          "2025-04-22T00:00:00.000000000",
          "2025-04-23T00:00:00.000000000",
          "2025-04-24T00:00:00.000000000",
          "2025-04-25T00:00:00.000000000",
          "2025-04-28T00:00:00.000000000",
          "2025-04-29T00:00:00.000000000",
          "2025-04-30T00:00:00.000000000",
          "2025-05-01T00:00:00.000000000",
          "2025-05-02T00:00:00.000000000",
          "2025-05-05T00:00:00.000000000",
          "2025-05-06T00:00:00.000000000",
          "2025-05-07T00:00:00.000000000",
          "2025-05-08T00:00:00.000000000",
          "2025-05-09T00:00:00.000000000",
          "2025-05-12T00:00:00.000000000",
          "2025-05-13T00:00:00.000000000",
          "2025-05-14T00:00:00.000000000",
          "2025-05-15T00:00:00.000000000",
          "2025-05-16T00:00:00.000000000",
          "2025-05-19T00:00:00.000000000",
          "2025-05-20T00:00:00.000000000",
          "2025-05-21T00:00:00.000000000",
          "2025-05-22T00:00:00.000000000",
          "2025-05-23T00:00:00.000000000",
          "2025-05-27T00:00:00.000000000",
          "2025-05-28T00:00:00.000000000",
          "2025-05-29T00:00:00.000000000",
          "2025-05-30T00:00:00.000000000",
          "2025-06-02T00:00:00.000000000",
          "2025-06-03T00:00:00.000000000",
          "2025-06-04T00:00:00.000000000",
          "2025-06-05T00:00:00.000000000",
          "2025-06-06T00:00:00.000000000",
          "2025-06-09T00:00:00.000000000",
          "2025-06-10T00:00:00.000000000",
          "2025-06-11T00:00:00.000000000",
          "2025-06-12T00:00:00.000000000",
          "2025-06-13T00:00:00.000000000",
          "2025-06-16T00:00:00.000000000",
          "2025-06-17T00:00:00.000000000",
          "2025-06-18T00:00:00.000000000",
          "2025-06-20T00:00:00.000000000",
          "2025-06-23T00:00:00.000000000",
          "2025-06-24T00:00:00.000000000",
          "2025-06-25T00:00:00.000000000",
          "2025-06-26T00:00:00.000000000",
          "2025-06-27T00:00:00.000000000",
          "2025-06-30T00:00:00.000000000",
          "2025-07-01T00:00:00.000000000",
          "2025-07-02T00:00:00.000000000",
          "2025-07-03T00:00:00.000000000",
          "2025-07-07T00:00:00.000000000",
          "2025-07-08T00:00:00.000000000",
          "2025-07-09T00:00:00.000000000",
          "2025-07-10T00:00:00.000000000",
          "2025-07-11T00:00:00.000000000",
          "2025-07-14T00:00:00.000000000",
          "2025-07-15T00:00:00.000000000",
          "2025-07-16T00:00:00.000000000",
          "2025-07-17T00:00:00.000000000",
          "2025-07-18T00:00:00.000000000",
          "2025-07-21T00:00:00.000000000",
          "2025-07-22T00:00:00.000000000",
          "2025-07-23T00:00:00.000000000",
          "2025-07-24T00:00:00.000000000",
          "2025-07-25T00:00:00.000000000",
          "2025-07-28T00:00:00.000000000",
          "2025-07-29T00:00:00.000000000",
          "2025-07-30T00:00:00.000000000",
          "2025-07-31T00:00:00.000000000",
          "2025-08-01T00:00:00.000000000",
          "2025-08-04T00:00:00.000000000",
          "2025-08-05T00:00:00.000000000",
          "2025-08-06T00:00:00.000000000",
          "2025-08-07T00:00:00.000000000",
          "2025-08-08T00:00:00.000000000",
          "2025-08-11T00:00:00.000000000",
          "2025-08-12T00:00:00.000000000",
          "2025-08-13T00:00:00.000000000",
          "2025-08-14T00:00:00.000000000",
          "2025-08-15T00:00:00.000000000",
          "2025-08-18T00:00:00.000000000",
          "2025-08-19T00:00:00.000000000",
          "2025-08-20T00:00:00.000000000",
          "2025-08-21T00:00:00.000000000",
          "2025-08-22T00:00:00.000000000",
          "2025-08-25T00:00:00.000000000",
          "2025-08-26T00:00:00.000000000",
          "2025-08-27T00:00:00.000000000",
          "2025-08-28T00:00:00.000000000",
          "2025-08-29T00:00:00.000000000",
          "2025-09-02T00:00:00.000000000",
          "2025-09-03T00:00:00.000000000",
          "2025-09-04T00:00:00.000000000",
          "2025-09-05T00:00:00.000000000",
          "2025-09-08T00:00:00.000000000",
          "2025-09-09T00:00:00.000000000",
          "2025-09-10T00:00:00.000000000",
          "2025-09-11T00:00:00.000000000",
          "2025-09-12T00:00:00.000000000",
          "2025-09-15T00:00:00.000000000",
          "2025-09-16T00:00:00.000000000",
          "2025-09-17T00:00:00.000000000",
          "2025-09-18T00:00:00.000000000",
          "2025-09-19T00:00:00.000000000",
          "2025-09-22T00:00:00.000000000"
         ],
         "xaxis": "x4",
         "y": {
          "bdata": "7DIxAIRoNgBYeyIAaDorANCNJABMFxoAPO4qAPjTGgAQbiIACAMiAPRGMwDIojAArDoeABw8KgBsFiMALK4qAEDALABcDyYA7DWIANS+8wCMbFwAJJUtAIg0OQA4VCgArAUrAECtKwBw2jcAkEYaACSoLgBAui0AeAYdABiUIQAwUTgAfEcyAEgnHQDgmyQAlPAqALg7KgD4Wy4AZA44ADBGPgA4MzoAaHc+AETWRACwCjEA+MRbAPziLwAYVycAwO4eAAh0JABApSQAQAopAGRDKwCIGC0AVB4zAHhyJACEbjUAuO8lACjuJQDU0CgAbIclAFjVLAAM9ioARCFFAEiyIwCsZyMAzLUjAFg6MQB4nSEAvJ8cAGxIIwAERy0ApMI0AMhuKAB80yMA5EpJAHQmLgAEWi4AWIswAFR4PQBAMzcACFKWALDK2QCkSXYAAG9FAFi2RgAQZjQADLgsAJgEOwB8KTcAqNM4AOSNWwA47zwAXNMvAGQGMQBYTTIA2NYyAEi2MwCECjUAuP4vALSIQABArCcAeHsvAEwMOQDYiUMA/ExIAFDWMwBIeTkAWPtHAEifOwBgB0MAnBo6ADjSdwCcEHYAZL1qAPTlcACIw2gA5FFMADxbTwA8GXMAOLJbAACpZQB8JkQA+BtaAAxhRwA4tjkA6NI1ACB/LgAsfEMA9LVGAAC2NQBEsjEAmHxZANC9ZwAgk2UAONZVABBpcgBIRk4AgCg+ADyVPQAArXUAtI9cAAS1hwBUKpUARPWOANzAYgBMYWEAsEU8ADx1OgAUozkAzBpBAOxlNQBclzkAXGZWAHyxMQAEX0IABGM5AIA1JwD83GIAzAA9ANSpOwCAHUQAILFHABiKKwBsjCAAWGstAOBnHAAEXSEANJAsAJxRHABcXTIA4KpHALgBIwCYESQAaAAkALD8KgBIBCcAHKskAAD4QwDcWSQA+M4fAPy5IQAgPSAABN8cACjOIgBom1EAJLMoAISjKADEwCAATMMnAPQdPgDUFzIAQDJMAGCFLgC4nB4ApLEiAFQ9MgB0YiQAkI5AANBhPABIbyoAJMAqAHg9MQAMuWIAtCqjANDeVQBYQU0A7LpEAOCtOgC0HigA2Jg0APT/KQDMmCwAhKc4ADhfOwBcQCIAXJkoAJhNMwDMGigA/Dw6ADB4JQCQxSIAoCYqALyUOwC4OyoAfDYgADSTOABgJSUA4DwfACS7LwBg6CoApEweAPRlGQBcwh0ASPowAEQlIwBMtiUAjCIuALRPJADcOB0AtN4hAMg2KQB8tFYAxMA5AHRkLABcsSQA2Mo0AExbMABIcUsAq+EJAA==",
          "dtype": "i4"
         },
         "yaxis": "y4"
        }
       ],
       "layout": {
        "annotations": [
         {
          "font": {
           "size": 16
          },
          "showarrow": false,
          "text": "NFLX (Netflix, Inc.) Stock Price",
          "x": 0.5,
          "xanchor": "center",
          "xref": "paper",
          "y": 1,
          "yanchor": "bottom",
          "yref": "paper"
         },
         {
          "font": {
           "size": 16
          },
          "showarrow": false,
          "text": " ",
          "x": 0.5,
          "xanchor": "center",
          "xref": "paper",
          "y": 0.525,
          "yanchor": "bottom",
          "yref": "paper"
         },
         {
          "font": {
           "size": 16
          },
          "showarrow": false,
          "text": " ",
          "x": 0.5,
          "xanchor": "center",
          "xref": "paper",
          "y": 0.29285714285714287,
          "yanchor": "bottom",
          "yref": "paper"
         }
        ],
        "height": 1000,
        "legend": {
         "orientation": "h",
         "x": 1,
         "xanchor": "right",
         "y": 1.02,
         "yanchor": "bottom"
        },
        "plot_bgcolor": "white",
        "template": {
         "data": {
          "bar": [
           {
            "error_x": {
             "color": "#2a3f5f"
            },
            "error_y": {
             "color": "#2a3f5f"
            },
            "marker": {
             "line": {
              "color": "#E5ECF6",
              "width": 0.5
             },
             "pattern": {
              "fillmode": "overlay",
              "size": 10,
              "solidity": 0.2
             }
            },
            "type": "bar"
           }
          ],
          "barpolar": [
           {
            "marker": {
             "line": {
              "color": "#E5ECF6",
              "width": 0.5
             },
             "pattern": {
              "fillmode": "overlay",
              "size": 10,
              "solidity": 0.2
             }
            },
            "type": "barpolar"
           }
          ],
          "carpet": [
           {
            "aaxis": {
             "endlinecolor": "#2a3f5f",
             "gridcolor": "white",
             "linecolor": "white",
             "minorgridcolor": "white",
             "startlinecolor": "#2a3f5f"
            },
            "baxis": {
             "endlinecolor": "#2a3f5f",
             "gridcolor": "white",
             "linecolor": "white",
             "minorgridcolor": "white",
             "startlinecolor": "#2a3f5f"
            },
            "type": "carpet"
           }
          ],
          "choropleth": [
           {
            "colorbar": {
             "outlinewidth": 0,
             "ticks": ""
            },
            "type": "choropleth"
           }
          ],
          "contour": [
           {
            "colorbar": {
             "outlinewidth": 0,
             "ticks": ""
            },
            "colorscale": [
             [
              0,
              "#0d0887"
             ],
             [
              0.1111111111111111,
              "#46039f"
             ],
             [
              0.2222222222222222,
              "#7201a8"
             ],
             [
              0.3333333333333333,
              "#9c179e"
             ],
             [
              0.4444444444444444,
              "#bd3786"
             ],
             [
              0.5555555555555556,
              "#d8576b"
             ],
             [
              0.6666666666666666,
              "#ed7953"
             ],
             [
              0.7777777777777778,
              "#fb9f3a"
             ],
             [
              0.8888888888888888,
              "#fdca26"
             ],
             [
              1,
              "#f0f921"
             ]
            ],
            "type": "contour"
           }
          ],
          "contourcarpet": [
           {
            "colorbar": {
             "outlinewidth": 0,
             "ticks": ""
            },
            "type": "contourcarpet"
           }
          ],
          "heatmap": [
           {
            "colorbar": {
             "outlinewidth": 0,
             "ticks": ""
            },
            "colorscale": [
             [
              0,
              "#0d0887"
             ],
             [
              0.1111111111111111,
              "#46039f"
             ],
             [
              0.2222222222222222,
              "#7201a8"
             ],
             [
              0.3333333333333333,
              "#9c179e"
             ],
             [
              0.4444444444444444,
              "#bd3786"
             ],
             [
              0.5555555555555556,
              "#d8576b"
             ],
             [
              0.6666666666666666,
              "#ed7953"
             ],
             [
              0.7777777777777778,
              "#fb9f3a"
             ],
             [
              0.8888888888888888,
              "#fdca26"
             ],
             [
              1,
              "#f0f921"
             ]
            ],
            "type": "heatmap"
           }
          ],
          "histogram": [
           {
            "marker": {
             "pattern": {
              "fillmode": "overlay",
              "size": 10,
              "solidity": 0.2
             }
            },
            "type": "histogram"
           }
          ],
          "histogram2d": [
           {
            "colorbar": {
             "outlinewidth": 0,
             "ticks": ""
            },
            "colorscale": [
             [
              0,
              "#0d0887"
             ],
             [
              0.1111111111111111,
              "#46039f"
             ],
             [
              0.2222222222222222,
              "#7201a8"
             ],
             [
              0.3333333333333333,
              "#9c179e"
             ],
             [
              0.4444444444444444,
              "#bd3786"
             ],
             [
              0.5555555555555556,
              "#d8576b"
             ],
             [
              0.6666666666666666,
              "#ed7953"
             ],
             [
              0.7777777777777778,
              "#fb9f3a"
             ],
             [
              0.8888888888888888,
              "#fdca26"
             ],
             [
              1,
              "#f0f921"
             ]
            ],
            "type": "histogram2d"
           }
          ],
          "histogram2dcontour": [
           {
            "colorbar": {
             "outlinewidth": 0,
             "ticks": ""
            },
            "colorscale": [
             [
              0,
              "#0d0887"
             ],
             [
              0.1111111111111111,
              "#46039f"
             ],
             [
              0.2222222222222222,
              "#7201a8"
             ],
             [
              0.3333333333333333,
              "#9c179e"
             ],
             [
              0.4444444444444444,
              "#bd3786"
             ],
             [
              0.5555555555555556,
              "#d8576b"
             ],
             [
              0.6666666666666666,
              "#ed7953"
             ],
             [
              0.7777777777777778,
              "#fb9f3a"
             ],
             [
              0.8888888888888888,
              "#fdca26"
             ],
             [
              1,
              "#f0f921"
             ]
            ],
            "type": "histogram2dcontour"
           }
          ],
          "mesh3d": [
           {
            "colorbar": {
             "outlinewidth": 0,
             "ticks": ""
            },
            "type": "mesh3d"
           }
          ],
          "parcoords": [
           {
            "line": {
             "colorbar": {
              "outlinewidth": 0,
              "ticks": ""
             }
            },
            "type": "parcoords"
           }
          ],
          "pie": [
           {
            "automargin": true,
            "type": "pie"
           }
          ],
          "scatter": [
           {
            "fillpattern": {
             "fillmode": "overlay",
             "size": 10,
             "solidity": 0.2
            },
            "type": "scatter"
           }
          ],
          "scatter3d": [
           {
            "line": {
             "colorbar": {
              "outlinewidth": 0,
              "ticks": ""
             }
            },
            "marker": {
             "colorbar": {
              "outlinewidth": 0,
              "ticks": ""
             }
            },
            "type": "scatter3d"
           }
          ],
          "scattercarpet": [
           {
            "marker": {
             "colorbar": {
              "outlinewidth": 0,
              "ticks": ""
             }
            },
            "type": "scattercarpet"
           }
          ],
          "scattergeo": [
           {
            "marker": {
             "colorbar": {
              "outlinewidth": 0,
              "ticks": ""
             }
            },
            "type": "scattergeo"
           }
          ],
          "scattergl": [
           {
            "marker": {
             "colorbar": {
              "outlinewidth": 0,
              "ticks": ""
             }
            },
            "type": "scattergl"
           }
          ],
          "scattermap": [
           {
            "marker": {
             "colorbar": {
              "outlinewidth": 0,
              "ticks": ""
             }
            },
            "type": "scattermap"
           }
          ],
          "scattermapbox": [
           {
            "marker": {
             "colorbar": {
              "outlinewidth": 0,
              "ticks": ""
             }
            },
            "type": "scattermapbox"
           }
          ],
          "scatterpolar": [
           {
            "marker": {
             "colorbar": {
              "outlinewidth": 0,
              "ticks": ""
             }
            },
            "type": "scatterpolar"
           }
          ],
          "scatterpolargl": [
           {
            "marker": {
             "colorbar": {
              "outlinewidth": 0,
              "ticks": ""
             }
            },
            "type": "scatterpolargl"
           }
          ],
          "scatterternary": [
           {
            "marker": {
             "colorbar": {
              "outlinewidth": 0,
              "ticks": ""
             }
            },
            "type": "scatterternary"
           }
          ],
          "surface": [
           {
            "colorbar": {
             "outlinewidth": 0,
             "ticks": ""
            },
            "colorscale": [
             [
              0,
              "#0d0887"
             ],
             [
              0.1111111111111111,
              "#46039f"
             ],
             [
              0.2222222222222222,
              "#7201a8"
             ],
             [
              0.3333333333333333,
              "#9c179e"
             ],
             [
              0.4444444444444444,
              "#bd3786"
             ],
             [
              0.5555555555555556,
              "#d8576b"
             ],
             [
              0.6666666666666666,
              "#ed7953"
             ],
             [
              0.7777777777777778,
              "#fb9f3a"
             ],
             [
              0.8888888888888888,
              "#fdca26"
             ],
             [
              1,
              "#f0f921"
             ]
            ],
            "type": "surface"
           }
          ],
          "table": [
           {
            "cells": {
             "fill": {
              "color": "#EBF0F8"
             },
             "line": {
              "color": "white"
             }
            },
            "header": {
             "fill": {
              "color": "#C8D4E3"
             },
             "line": {
              "color": "white"
             }
            },
            "type": "table"
           }
          ]
         },
         "layout": {
          "annotationdefaults": {
           "arrowcolor": "#2a3f5f",
           "arrowhead": 0,
           "arrowwidth": 1
          },
          "autotypenumbers": "strict",
          "coloraxis": {
           "colorbar": {
            "outlinewidth": 0,
            "ticks": ""
           }
          },
          "colorscale": {
           "diverging": [
            [
             0,
             "#8e0152"
            ],
            [
             0.1,
             "#c51b7d"
            ],
            [
             0.2,
             "#de77ae"
            ],
            [
             0.3,
             "#f1b6da"
            ],
            [
             0.4,
             "#fde0ef"
            ],
            [
             0.5,
             "#f7f7f7"
            ],
            [
             0.6,
             "#e6f5d0"
            ],
            [
             0.7,
             "#b8e186"
            ],
            [
             0.8,
             "#7fbc41"
            ],
            [
             0.9,
             "#4d9221"
            ],
            [
             1,
             "#276419"
            ]
           ],
           "sequential": [
            [
             0,
             "#0d0887"
            ],
            [
             0.1111111111111111,
             "#46039f"
            ],
            [
             0.2222222222222222,
             "#7201a8"
            ],
            [
             0.3333333333333333,
             "#9c179e"
            ],
            [
             0.4444444444444444,
             "#bd3786"
            ],
            [
             0.5555555555555556,
             "#d8576b"
            ],
            [
             0.6666666666666666,
             "#ed7953"
            ],
            [
             0.7777777777777778,
             "#fb9f3a"
            ],
            [
             0.8888888888888888,
             "#fdca26"
            ],
            [
             1,
             "#f0f921"
            ]
           ],
           "sequentialminus": [
            [
             0,
             "#0d0887"
            ],
            [
             0.1111111111111111,
             "#46039f"
            ],
            [
             0.2222222222222222,
             "#7201a8"
            ],
            [
             0.3333333333333333,
             "#9c179e"
            ],
            [
             0.4444444444444444,
             "#bd3786"
            ],
            [
             0.5555555555555556,
             "#d8576b"
            ],
            [
             0.6666666666666666,
             "#ed7953"
            ],
            [
             0.7777777777777778,
             "#fb9f3a"
            ],
            [
             0.8888888888888888,
             "#fdca26"
            ],
            [
             1,
             "#f0f921"
            ]
           ]
          },
          "colorway": [
           "#636efa",
           "#EF553B",
           "#00cc96",
           "#ab63fa",
           "#FFA15A",
           "#19d3f3",
           "#FF6692",
           "#B6E880",
           "#FF97FF",
           "#FECB52"
          ],
          "font": {
           "color": "#2a3f5f"
          },
          "geo": {
           "bgcolor": "white",
           "lakecolor": "white",
           "landcolor": "#E5ECF6",
           "showlakes": true,
           "showland": true,
           "subunitcolor": "white"
          },
          "hoverlabel": {
           "align": "left"
          },
          "hovermode": "closest",
          "mapbox": {
           "style": "light"
          },
          "paper_bgcolor": "white",
          "plot_bgcolor": "#E5ECF6",
          "polar": {
           "angularaxis": {
            "gridcolor": "white",
            "linecolor": "white",
            "ticks": ""
           },
           "bgcolor": "#E5ECF6",
           "radialaxis": {
            "gridcolor": "white",
            "linecolor": "white",
            "ticks": ""
           }
          },
          "scene": {
           "xaxis": {
            "backgroundcolor": "#E5ECF6",
            "gridcolor": "white",
            "gridwidth": 2,
            "linecolor": "white",
            "showbackground": true,
            "ticks": "",
            "zerolinecolor": "white"
           },
           "yaxis": {
            "backgroundcolor": "#E5ECF6",
            "gridcolor": "white",
            "gridwidth": 2,
            "linecolor": "white",
            "showbackground": true,
            "ticks": "",
            "zerolinecolor": "white"
           },
           "zaxis": {
            "backgroundcolor": "#E5ECF6",
            "gridcolor": "white",
            "gridwidth": 2,
            "linecolor": "white",
            "showbackground": true,
            "ticks": "",
            "zerolinecolor": "white"
           }
          },
          "shapedefaults": {
           "line": {
            "color": "#2a3f5f"
           }
          },
          "ternary": {
           "aaxis": {
            "gridcolor": "white",
            "linecolor": "white",
            "ticks": ""
           },
           "baxis": {
            "gridcolor": "white",
            "linecolor": "white",
            "ticks": ""
           },
           "bgcolor": "#E5ECF6",
           "caxis": {
            "gridcolor": "white",
            "linecolor": "white",
            "ticks": ""
           }
          },
          "title": {
           "x": 0.05
          },
          "xaxis": {
           "automargin": true,
           "gridcolor": "white",
           "linecolor": "white",
           "ticks": "",
           "title": {
            "standoff": 15
           },
           "zerolinecolor": "white",
           "zerolinewidth": 2
          },
          "yaxis": {
           "automargin": true,
           "gridcolor": "white",
           "linecolor": "white",
           "ticks": "",
           "title": {
            "standoff": 15
           },
           "zerolinecolor": "white",
           "zerolinewidth": 2
          }
         }
        },
        "title": {
         "text": "NFLX"
        },
        "width": 1000,
        "xaxis": {
         "anchor": "y",
         "domain": [
          0,
          1
         ],
         "gridcolor": "lightgrey",
         "gridwidth": 0.5,
         "matches": "x4",
         "nticks": 24,
         "rangeslider": {
          "visible": false
         },
         "showgrid": true,
         "showticklabels": false,
         "title": {
          "text": " "
         }
        },
        "xaxis2": {
         "anchor": "y2",
         "domain": [
          0,
          1
         ],
         "gridcolor": "lightgrey",
         "gridwidth": 0.5,
         "matches": "x4",
         "nticks": 24,
         "showgrid": true,
         "showticklabels": false
        },
        "xaxis3": {
         "anchor": "y3",
         "domain": [
          0,
          1
         ],
         "gridcolor": "lightgrey",
         "gridwidth": 0.5,
         "matches": "x4",
         "nticks": 24,
         "showgrid": true,
         "showticklabels": false
        },
        "xaxis4": {
         "anchor": "y4",
         "domain": [
          0,
          1
         ],
         "gridcolor": "lightgrey",
         "gridwidth": 0.5,
         "nticks": 24,
         "showgrid": true
        },
        "yaxis": {
         "anchor": "x",
         "domain": [
          0.5750000000000001,
          1
         ],
         "gridcolor": "lightgrey",
         "gridwidth": 0.5,
         "showgrid": true,
         "title": {
          "text": "Price ($)"
         }
        },
        "yaxis2": {
         "anchor": "x2",
         "domain": [
          0.34285714285714286,
          0.525
         ],
         "gridcolor": "lightgrey",
         "gridwidth": 0.5,
         "showgrid": true,
         "title": {
          "text": "Daily returns"
         }
        },
        "yaxis3": {
         "anchor": "x3",
         "domain": [
          0.11071428571428572,
          0.29285714285714287
         ],
         "gridcolor": "lightgrey",
         "gridwidth": 0.5,
         "showgrid": true,
         "title": {
          "text": "Volatility"
         }
        },
        "yaxis4": {
         "anchor": "x4",
         "domain": [
          0,
          0.06071428571428572
         ],
         "gridcolor": "lightgrey",
         "gridwidth": 0.5,
         "showgrid": true,
         "title": {
          "text": "Volume"
         }
        }
       }
      },
      "image/png": "[encoded data removed]"
     },
     "metadata": {},
     "output_type": "display_data"
    },
    {
     "data": {
      "application/vnd.plotly.v1+json": {
       "config": {
        "plotlyServerURL": "https://plot.ly"
       },
       "data": [
        {
         "bingroup": "x",
         "hovertemplate": "daily return=%{x}<br>count=%{y}<extra></extra>",
         "legendgroup": "",
         "marker": {
          "color": "rgba(117, 183, 98, 1)",
          "pattern": {
           "shape": ""
          }
         },
         "name": "",
         "orientation": "v",
         "showlegend": false,
         "type": "histogram",
         "x": {
          "bdata": "AAAAAAAAAACuhu5r6icDQEDOZK26z7i/BIVlWGN29r/c73GsElriv7C8H7BNX9E/sMAPfF9V3L/YJbyDQHrmP5iNc4NFTuO/lM/3X7wz/T+RyWbiicMDwKL91le/nAZAGFzmCXMj6T+wOrgClSnZP478gFeMbvC/zu1eZ+mr9b9ECbZdo4Hvv1zYeuJCCuK/d+7nfm5aAMDo+MevjywmQORPk6YiIvE/vM2OvP458L8i6d9xkUz/v1jF6A7HduY/AA1bcJmkkT/UaBvsVpPnvyTJQoi4CvY/nJVALIsE6L8wsrwI2HHTPwCivNmZ8oI/oGWfBpz5s79Urdr7CsrxPww+kb3zEQFAGOo3joG+AEBgy8U6sBrIv+TZiE4I7vQ/iKiMGhnu+z/ssoo4+mr1P5CaSerkKeo/nMXzEY1q+b+C+PnLJGsGQIYsqTkD7AZAdLC4zjoC9z84X0leg6z4PwBVOuRXr6E/i5vKlVCxDMDwT//EQurpPwDiEir6YeE/TBxocjRF8T+cfTzzWLjzP8CQ7IzblN8/gEhb72yI7z/4RuSfXOvnP1TP8Kk+aP0/LBVpkAQEAsDAkz6dzQ2jv6jztBRfVARAeB7FuCzP8r/cjt42bhjnvwDPL7Mzyc4/II7ydkoZy7/7rcd0AL8JwHxvdjUcd/Y/wIRtlzze6D/g8q5dneXQP0pQxjN7JAJA9NUCmEJl67/yBFZaFLn8v0yJNRbdGum/dKhGXRMw8L8An355oXrgv6QOsxFtf+S/AIGya1eAtT+4b6IE297SvzAc97U1gN6/9xVf8VUOEcBgSJq4LN3TP9J99F/Eo/a/Fl8+MNstA0DoThF5OzjmvzwLhnKo4P0/TDJ7K4iX9T+x4sd7hGMjQFK70lwW4wlAWERhbRqf57+AUoa0fajivwBc8RIpSXm/2Ge0ZWzP5D80g6p/JhDgvxA0YhXGJdc/4Gn+ylyRzD8kc4XOSwn6P5iv60IzHvo/UJ/aXzrt3D9Qzvhs3w3Gv/SzHKZMkvU/ArUMO6Fk/r+cTwjqfYX+P/ij36HXgvk/fAi/lX/b9j+mIsfpSDEBwGiHd0iHG+c/CBJnmLfQ/L/x5HV7v7MAwHTpsIsRave/3MHnV3Qt8r/UemZ+X/30Pwpn9KQLzwXAsNQflJsO/T+kHZfjHGPmv0D09YtBcr2/qLngZdYr/j9kr3LOJBEhwDzaIi++6/q/ku/cDKTuBcCgLFrfwTsKQGzzeFbw9wVAJMvednirCcC64fnZzgIJQMJ2Icx25wtAsoC9lh7gAMAmhCMzsGIJQAAYRb452ey/qGZJmKTN7z/UZkVuf37zP5pe1dun0ARAB/i7H7NcBcBII3YO2wLkPyYlkCKFjhHA4IbUPZQXwr9wzsbSWHvcv/AD6l5UnOg/OI8xUsKW/79hotpSn7AawDAuwjSnYPY/EKX3rvzz0j9Lw7QK4T8hQDlBslKqjwTAyIuvFmYC1L8sa7+dKqL2P43H4EIHVBNAOpSDhnEC+L8sclYFxPfyPxgSMSXCd/g/woi58Ig6FUDIq6LZxXPsP+f3mNm6BBJAEIlpLLcw2z+w7tnbqbXpP1Aj1Gkn/fU/yEVnicVI4T/Aif1S+srDP6w4lfpZPwBApHTbxB8I/7+guyKtKnzUP2gAbdW56/g/sOobIfFo7r+ow6eYR4vXv3iLcKHxMwXADvmsG0x/BEBQ2DbEY6PxPyhgdVVuwgJA7E65SIpn8j8AHEPxfeeCPwA6iCnJU6A/YFoHM7YGzD+AGrpOBdfhv5AbXWxXzMu/tBiFSByrAUAw93GmlefPv/L051kAXf+/jAsyNDE1/j/A0HlbSyXvP6CaT2yP17W/dCwco5aI/D/og9l4kAjsP9wNz9iSKOe/eqvRKSPs9b8UDtsARzv7vwTK8BVknfU/+Pg2XOtx2b8wD1QDDVfOv+ygy+VrbPE/2GywQnpx2L8AAW9WwvzAP9BJ7gdh4Oc/BBMceAjB/D86g5OOjFEAQIgl4hU4UNO/NCu0ou61A0B86pX0iiT0P2BOhmQ9XPM/7Tad5SMzC8CUEzZoyZ7lvxC4ufEEr+4/oImEQlum4r84KExiBcHxv7AmlVWnRfA/I3o7yqZnB8DgdJTgVAvcv0QK1K7Ko/U/UL16XCMKwb+QUcsKK0rpv2AlzEqAiP4/0bWB1ytiFMCc4zpJk8v/P5amANpABAzAMgMcsYzh8b8gSRr3OKXVP4Bg0nDIape/ILZvtr3u37/oDte52O3fv3RIZIUkKvU/so2UJP7AAMBAC7PLVqqxv4ABVFU+HPE/XB/1pyGX/7/6O5zCWlUFQGBJUn8+h8Q/9jnij4AxBUA4R607rJ3hP7iTw+enTuI/XFmmAKc2+7/8Z5J+ZlkBQLgnpQBD0eU/sHUTJJ633z/fX0HDMOEDwICCFpkodpi/6OsEW8kq5L/Ay3OMvI3Av3gJain80vE/MKJVZ8cR5T9gW7pW1wnLv5jNbBDtyuQ/2txA/6wk/r9wkQYENArfP0AqMp0S0O8/fiq3/cxrBEA8BimKfmHxv4BNEeQgWbM/HLMbLE7E9z9yEV3Pv67zvyl/6oenWAzA0IAc7IwF9L+40vWVIpvyPzDtgAivocK/uEmlz+2mAkBWrSnwV/z6v8goQyD5a/k/qC6ApsK54r8=",
          "dtype": "f8"
         },
         "xaxis": "x",
         "yaxis": "y"
        },
        {
         "hovertemplate": "daily return=%{x}<extra></extra>",
         "legendgroup": "",
         "marker": {
          "color": "rgba(117, 183, 98, 1)"
         },
         "name": "",
         "notched": true,
         "showlegend": false,
         "type": "box",
         "x": {
          "bdata": "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",
          "dtype": "f8"
         },
         "xaxis": "x2",
         "yaxis": "y2"
        }
       ],
       "layout": {
        "barmode": "relative",
        "legend": {
         "tracegroupgap": 0
        },
        "template": {
         "data": {
          "bar": [
           {
            "error_x": {
             "color": "#2a3f5f"
            },
            "error_y": {
             "color": "#2a3f5f"
            },
            "marker": {
             "line": {
              "color": "#E5ECF6",
              "width": 0.5
             },
             "pattern": {
              "fillmode": "overlay",
              "size": 10,
              "solidity": 0.2
             }
            },
            "type": "bar"
           }
          ],
          "barpolar": [
           {
            "marker": {
             "line": {
              "color": "#E5ECF6",
              "width": 0.5
             },
             "pattern": {
              "fillmode": "overlay",
              "size": 10,
              "solidity": 0.2
             }
            },
            "type": "barpolar"
           }
          ],
          "carpet": [
           {
            "aaxis": {
             "endlinecolor": "#2a3f5f",
             "gridcolor": "white",
             "linecolor": "white",
             "minorgridcolor": "white",
             "startlinecolor": "#2a3f5f"
            },
            "baxis": {
             "endlinecolor": "#2a3f5f",
             "gridcolor": "white",
             "linecolor": "white",
             "minorgridcolor": "white",
             "startlinecolor": "#2a3f5f"
            },
            "type": "carpet"
           }
          ],
          "choropleth": [
           {
            "colorbar": {
             "outlinewidth": 0,
             "ticks": ""
            },
            "type": "choropleth"
           }
          ],
          "contour": [
           {
            "colorbar": {
             "outlinewidth": 0,
             "ticks": ""
            },
            "colorscale": [
             [
              0,
              "#0d0887"
             ],
             [
              0.1111111111111111,
              "#46039f"
             ],
             [
              0.2222222222222222,
              "#7201a8"
             ],
             [
              0.3333333333333333,
              "#9c179e"
             ],
             [
              0.4444444444444444,
              "#bd3786"
             ],
             [
              0.5555555555555556,
              "#d8576b"
             ],
             [
              0.6666666666666666,
              "#ed7953"
             ],
             [
              0.7777777777777778,
              "#fb9f3a"
             ],
             [
              0.8888888888888888,
              "#fdca26"
             ],
             [
              1,
              "#f0f921"
             ]
            ],
            "type": "contour"
           }
          ],
          "contourcarpet": [
           {
            "colorbar": {
             "outlinewidth": 0,
             "ticks": ""
            },
            "type": "contourcarpet"
           }
          ],
          "heatmap": [
           {
            "colorbar": {
             "outlinewidth": 0,
             "ticks": ""
            },
            "colorscale": [
             [
              0,
              "#0d0887"
             ],
             [
              0.1111111111111111,
              "#46039f"
             ],
             [
              0.2222222222222222,
              "#7201a8"
             ],
             [
              0.3333333333333333,
              "#9c179e"
             ],
             [
              0.4444444444444444,
              "#bd3786"
             ],
             [
              0.5555555555555556,
              "#d8576b"
             ],
             [
              0.6666666666666666,
              "#ed7953"
             ],
             [
              0.7777777777777778,
              "#fb9f3a"
             ],
             [
              0.8888888888888888,
              "#fdca26"
             ],
             [
              1,
              "#f0f921"
             ]
            ],
            "type": "heatmap"
           }
          ],
          "histogram": [
           {
            "marker": {
             "pattern": {
              "fillmode": "overlay",
              "size": 10,
              "solidity": 0.2
             }
            },
            "type": "histogram"
           }
          ],
          "histogram2d": [
           {
            "colorbar": {
             "outlinewidth": 0,
             "ticks": ""
            },
            "colorscale": [
             [
              0,
              "#0d0887"
             ],
             [
              0.1111111111111111,
              "#46039f"
             ],
             [
              0.2222222222222222,
              "#7201a8"
             ],
             [
              0.3333333333333333,
              "#9c179e"
             ],
             [
              0.4444444444444444,
              "#bd3786"
             ],
             [
              0.5555555555555556,
              "#d8576b"
             ],
             [
              0.6666666666666666,
              "#ed7953"
             ],
             [
              0.7777777777777778,
              "#fb9f3a"
             ],
             [
              0.8888888888888888,
              "#fdca26"
             ],
             [
              1,
              "#f0f921"
             ]
            ],
            "type": "histogram2d"
           }
          ],
          "histogram2dcontour": [
           {
            "colorbar": {
             "outlinewidth": 0,
             "ticks": ""
            },
            "colorscale": [
             [
              0,
              "#0d0887"
             ],
             [
              0.1111111111111111,
              "#46039f"
             ],
             [
              0.2222222222222222,
              "#7201a8"
             ],
             [
              0.3333333333333333,
              "#9c179e"
             ],
             [
              0.4444444444444444,
              "#bd3786"
             ],
             [
              0.5555555555555556,
              "#d8576b"
             ],
             [
              0.6666666666666666,
              "#ed7953"
             ],
             [
              0.7777777777777778,
              "#fb9f3a"
             ],
             [
              0.8888888888888888,
              "#fdca26"
             ],
             [
              1,
              "#f0f921"
             ]
            ],
            "type": "histogram2dcontour"
           }
          ],
          "mesh3d": [
           {
            "colorbar": {
             "outlinewidth": 0,
             "ticks": ""
            },
            "type": "mesh3d"
           }
          ],
          "parcoords": [
           {
            "line": {
             "colorbar": {
              "outlinewidth": 0,
              "ticks": ""
             }
            },
            "type": "parcoords"
           }
          ],
          "pie": [
           {
            "automargin": true,
            "type": "pie"
           }
          ],
          "scatter": [
           {
            "fillpattern": {
             "fillmode": "overlay",
             "size": 10,
             "solidity": 0.2
            },
            "type": "scatter"
           }
          ],
          "scatter3d": [
           {
            "line": {
             "colorbar": {
              "outlinewidth": 0,
              "ticks": ""
             }
            },
            "marker": {
             "colorbar": {
              "outlinewidth": 0,
              "ticks": ""
             }
            },
            "type": "scatter3d"
           }
          ],
          "scattercarpet": [
           {
            "marker": {
             "colorbar": {
              "outlinewidth": 0,
              "ticks": ""
             }
            },
            "type": "scattercarpet"
           }
          ],
          "scattergeo": [
           {
            "marker": {
             "colorbar": {
              "outlinewidth": 0,
              "ticks": ""
             }
            },
            "type": "scattergeo"
           }
          ],
          "scattergl": [
           {
            "marker": {
             "colorbar": {
              "outlinewidth": 0,
              "ticks": ""
             }
            },
            "type": "scattergl"
           }
          ],
          "scattermap": [
           {
            "marker": {
             "colorbar": {
              "outlinewidth": 0,
              "ticks": ""
             }
            },
            "type": "scattermap"
           }
          ],
          "scattermapbox": [
           {
            "marker": {
             "colorbar": {
              "outlinewidth": 0,
              "ticks": ""
             }
            },
            "type": "scattermapbox"
           }
          ],
          "scatterpolar": [
           {
            "marker": {
             "colorbar": {
              "outlinewidth": 0,
              "ticks": ""
             }
            },
            "type": "scatterpolar"
           }
          ],
          "scatterpolargl": [
           {
            "marker": {
             "colorbar": {
              "outlinewidth": 0,
              "ticks": ""
             }
            },
            "type": "scatterpolargl"
           }
          ],
          "scatterternary": [
           {
            "marker": {
             "colorbar": {
              "outlinewidth": 0,
              "ticks": ""
             }
            },
            "type": "scatterternary"
           }
          ],
          "surface": [
           {
            "colorbar": {
             "outlinewidth": 0,
             "ticks": ""
            },
            "colorscale": [
             [
              0,
              "#0d0887"
             ],
             [
              0.1111111111111111,
              "#46039f"
             ],
             [
              0.2222222222222222,
              "#7201a8"
             ],
             [
              0.3333333333333333,
              "#9c179e"
             ],
             [
              0.4444444444444444,
              "#bd3786"
             ],
             [
              0.5555555555555556,
              "#d8576b"
             ],
             [
              0.6666666666666666,
              "#ed7953"
             ],
             [
              0.7777777777777778,
              "#fb9f3a"
             ],
             [
              0.8888888888888888,
              "#fdca26"
             ],
             [
              1,
              "#f0f921"
             ]
            ],
            "type": "surface"
           }
          ],
          "table": [
           {
            "cells": {
             "fill": {
              "color": "#EBF0F8"
             },
             "line": {
              "color": "white"
             }
            },
            "header": {
             "fill": {
              "color": "#C8D4E3"
             },
             "line": {
              "color": "white"
             }
            },
            "type": "table"
           }
          ]
         },
         "layout": {
          "annotationdefaults": {
           "arrowcolor": "#2a3f5f",
           "arrowhead": 0,
           "arrowwidth": 1
          },
          "autotypenumbers": "strict",
          "coloraxis": {
           "colorbar": {
            "outlinewidth": 0,
            "ticks": ""
           }
          },
          "colorscale": {
           "diverging": [
            [
             0,
             "#8e0152"
            ],
            [
             0.1,
             "#c51b7d"
            ],
            [
             0.2,
             "#de77ae"
            ],
            [
             0.3,
             "#f1b6da"
            ],
            [
             0.4,
             "#fde0ef"
            ],
            [
             0.5,
             "#f7f7f7"
            ],
            [
             0.6,
             "#e6f5d0"
            ],
            [
             0.7,
             "#b8e186"
            ],
            [
             0.8,
             "#7fbc41"
            ],
            [
             0.9,
             "#4d9221"
            ],
            [
             1,
             "#276419"
            ]
           ],
           "sequential": [
            [
             0,
             "#0d0887"
            ],
            [
             0.1111111111111111,
             "#46039f"
            ],
            [
             0.2222222222222222,
             "#7201a8"
            ],
            [
             0.3333333333333333,
             "#9c179e"
            ],
            [
             0.4444444444444444,
             "#bd3786"
            ],
            [
             0.5555555555555556,
             "#d8576b"
            ],
            [
             0.6666666666666666,
             "#ed7953"
            ],
            [
             0.7777777777777778,
             "#fb9f3a"
            ],
            [
             0.8888888888888888,
             "#fdca26"
            ],
            [
             1,
             "#f0f921"
            ]
           ],
           "sequentialminus": [
            [
             0,
             "#0d0887"
            ],
            [
             0.1111111111111111,
             "#46039f"
            ],
            [
             0.2222222222222222,
             "#7201a8"
            ],
            [
             0.3333333333333333,
             "#9c179e"
            ],
            [
             0.4444444444444444,
             "#bd3786"
            ],
            [
             0.5555555555555556,
             "#d8576b"
            ],
            [
             0.6666666666666666,
             "#ed7953"
            ],
            [
             0.7777777777777778,
             "#fb9f3a"
            ],
            [
             0.8888888888888888,
             "#fdca26"
            ],
            [
             1,
             "#f0f921"
            ]
           ]
          },
          "colorway": [
           "#636efa",
           "#EF553B",
           "#00cc96",
           "#ab63fa",
           "#FFA15A",
           "#19d3f3",
           "#FF6692",
           "#B6E880",
           "#FF97FF",
           "#FECB52"
          ],
          "font": {
           "color": "#2a3f5f"
          },
          "geo": {
           "bgcolor": "white",
           "lakecolor": "white",
           "landcolor": "#E5ECF6",
           "showlakes": true,
           "showland": true,
           "subunitcolor": "white"
          },
          "hoverlabel": {
           "align": "left"
          },
          "hovermode": "closest",
          "mapbox": {
           "style": "light"
          },
          "paper_bgcolor": "white",
          "plot_bgcolor": "#E5ECF6",
          "polar": {
           "angularaxis": {
            "gridcolor": "white",
            "linecolor": "white",
            "ticks": ""
           },
           "bgcolor": "#E5ECF6",
           "radialaxis": {
            "gridcolor": "white",
            "linecolor": "white",
            "ticks": ""
           }
          },
          "scene": {
           "xaxis": {
            "backgroundcolor": "#E5ECF6",
            "gridcolor": "white",
            "gridwidth": 2,
            "linecolor": "white",
            "showbackground": true,
            "ticks": "",
            "zerolinecolor": "white"
           },
           "yaxis": {
            "backgroundcolor": "#E5ECF6",
            "gridcolor": "white",
            "gridwidth": 2,
            "linecolor": "white",
            "showbackground": true,
            "ticks": "",
            "zerolinecolor": "white"
           },
           "zaxis": {
            "backgroundcolor": "#E5ECF6",
            "gridcolor": "white",
            "gridwidth": 2,
            "linecolor": "white",
            "showbackground": true,
            "ticks": "",
            "zerolinecolor": "white"
           }
          },
          "shapedefaults": {
           "line": {
            "color": "#2a3f5f"
           }
          },
          "ternary": {
           "aaxis": {
            "gridcolor": "white",
            "linecolor": "white",
            "ticks": ""
           },
           "baxis": {
            "gridcolor": "white",
            "linecolor": "white",
            "ticks": ""
           },
           "bgcolor": "#E5ECF6",
           "caxis": {
            "gridcolor": "white",
            "linecolor": "white",
            "ticks": ""
           }
          },
          "title": {
           "x": 0.05
          },
          "xaxis": {
           "automargin": true,
           "gridcolor": "white",
           "linecolor": "white",
           "ticks": "",
           "title": {
            "standoff": 15
           },
           "zerolinecolor": "white",
           "zerolinewidth": 2
          },
          "yaxis": {
           "automargin": true,
           "gridcolor": "white",
           "linecolor": "white",
           "ticks": "",
           "title": {
            "standoff": 15
           },
           "zerolinecolor": "white",
           "zerolinewidth": 2
          }
         }
        },
        "title": {
         "text": "Daily returns histogram"
        },
        "xaxis": {
         "anchor": "y",
         "domain": [
          0,
          1
         ],
         "title": {
          "text": "daily return"
         }
        },
        "xaxis2": {
         "anchor": "y2",
         "domain": [
          0,
          1
         ],
         "matches": "x",
         "showgrid": true,
         "showticklabels": false
        },
        "yaxis": {
         "anchor": "x",
         "domain": [
          0,
          0.8316
         ],
         "title": {
          "text": "count"
         }
        },
        "yaxis2": {
         "anchor": "x2",
         "domain": [
          0.8416,
          1
         ],
         "matches": "y2",
         "showgrid": false,
         "showline": false,
         "showticklabels": false,
         "ticks": ""
        }
       }
      },
      "image/png": "[encoded data removed]"
     },
     "metadata": {},
     "output_type": "display_data"
    },
    {
     "data": {
      "application/vnd.plotly.v1+json": {
       "config": {
        "plotlyServerURL": "https://plot.ly"
       },
       "data": [
        {
         "delta": {
          "reference": 0,
          "relative": false
         },
         "domain": {
          "column": 0,
          "row": 0
         },
         "gauge": {
          "axis": {
           "range": [
            -5,
            5
           ]
          },
          "bar": {
           "color": "green"
          },
          "steps": [
           {
            "color": "lightcoral",
            "range": [
             -5,
             -2
            ]
           },
           {
            "color": "lightgray",
            "range": [
             -2,
             2
            ]
           },
           {
            "color": "lightgreen",
            "range": [
             2,
             5
            ]
           }
          ],
          "threshold": {
           "line": {
            "color": "black",
            "width": 4
           },
           "thickness": 0.75,
           "value": 0.6180552974947805
          }
         },
         "mode": "gauge+number",
         "number": {
          "valueformat": ".2f"
         },
         "title": {
          "text": "Skewness"
         },
         "type": "indicator",
         "value": 0.6180552974947805
        },
        {
         "delta": {
          "reference": 3,
          "relative": false
         },
         "domain": {
          "column": 1,
          "row": 0
         },
         "gauge": {
          "axis": {
           "range": [
            0,
            6
           ]
          },
          "bar": {
           "color": "darkblue"
          },
          "steps": [
           {
            "color": "lightcoral",
            "range": [
             0,
             2
            ]
           },
           {
            "color": "lightgray",
            "range": [
             2,
             4
            ]
           },
           {
            "color": "lightgreen",
            "range": [
             4,
             6
            ]
           }
          ],
          "threshold": {
           "line": {
            "color": "black",
            "width": 4
           },
           "thickness": 0.75,
           "value": 5.988330051848397
          }
         },
         "mode": "gauge+number",
         "number": {
          "valueformat": ".2f"
         },
         "title": {
          "text": "Kurtosis"
         },
         "type": "indicator",
         "value": 5.988330051848397
        }
       ],
       "layout": {
        "grid": {
         "columns": 2,
         "pattern": "independent",
         "rows": 1
        },
        "template": {
         "data": {
          "bar": [
           {
            "error_x": {
             "color": "#2a3f5f"
            },
            "error_y": {
             "color": "#2a3f5f"
            },
            "marker": {
             "line": {
              "color": "white",
              "width": 0.5
             },
             "pattern": {
              "fillmode": "overlay",
              "size": 10,
              "solidity": 0.2
             }
            },
            "type": "bar"
           }
          ],
          "barpolar": [
           {
            "marker": {
             "line": {
              "color": "white",
              "width": 0.5
             },
             "pattern": {
              "fillmode": "overlay",
              "size": 10,
              "solidity": 0.2
             }
            },
            "type": "barpolar"
           }
          ],
          "carpet": [
           {
            "aaxis": {
             "endlinecolor": "#2a3f5f",
             "gridcolor": "#C8D4E3",
             "linecolor": "#C8D4E3",
             "minorgridcolor": "#C8D4E3",
             "startlinecolor": "#2a3f5f"
            },
            "baxis": {
             "endlinecolor": "#2a3f5f",
             "gridcolor": "#C8D4E3",
             "linecolor": "#C8D4E3",
             "minorgridcolor": "#C8D4E3",
             "startlinecolor": "#2a3f5f"
            },
            "type": "carpet"
           }
          ],
          "choropleth": [
           {
            "colorbar": {
             "outlinewidth": 0,
             "ticks": ""
            },
            "type": "choropleth"
           }
          ],
          "contour": [
           {
            "colorbar": {
             "outlinewidth": 0,
             "ticks": ""
            },
            "colorscale": [
             [
              0,
              "#0d0887"
             ],
             [
              0.1111111111111111,
              "#46039f"
             ],
             [
              0.2222222222222222,
              "#7201a8"
             ],
             [
              0.3333333333333333,
              "#9c179e"
             ],
             [
              0.4444444444444444,
              "#bd3786"
             ],
             [
              0.5555555555555556,
              "#d8576b"
             ],
             [
              0.6666666666666666,
              "#ed7953"
             ],
             [
              0.7777777777777778,
              "#fb9f3a"
             ],
             [
              0.8888888888888888,
              "#fdca26"
             ],
             [
              1,
              "#f0f921"
             ]
            ],
            "type": "contour"
           }
          ],
          "contourcarpet": [
           {
            "colorbar": {
             "outlinewidth": 0,
             "ticks": ""
            },
            "type": "contourcarpet"
           }
          ],
          "heatmap": [
           {
            "colorbar": {
             "outlinewidth": 0,
             "ticks": ""
            },
            "colorscale": [
             [
              0,
              "#0d0887"
             ],
             [
              0.1111111111111111,
              "#46039f"
             ],
             [
              0.2222222222222222,
              "#7201a8"
             ],
             [
              0.3333333333333333,
              "#9c179e"
             ],
             [
              0.4444444444444444,
              "#bd3786"
             ],
             [
              0.5555555555555556,
              "#d8576b"
             ],
             [
              0.6666666666666666,
              "#ed7953"
             ],
             [
              0.7777777777777778,
              "#fb9f3a"
             ],
             [
              0.8888888888888888,
              "#fdca26"
             ],
             [
              1,
              "#f0f921"
             ]
            ],
            "type": "heatmap"
           }
          ],
          "histogram": [
           {
            "marker": {
             "pattern": {
              "fillmode": "overlay",
              "size": 10,
              "solidity": 0.2
             }
            },
            "type": "histogram"
           }
          ],
          "histogram2d": [
           {
            "colorbar": {
             "outlinewidth": 0,
             "ticks": ""
            },
            "colorscale": [
             [
              0,
              "#0d0887"
             ],
             [
              0.1111111111111111,
              "#46039f"
             ],
             [
              0.2222222222222222,
              "#7201a8"
             ],
             [
              0.3333333333333333,
              "#9c179e"
             ],
             [
              0.4444444444444444,
              "#bd3786"
             ],
             [
              0.5555555555555556,
              "#d8576b"
             ],
             [
              0.6666666666666666,
              "#ed7953"
             ],
             [
              0.7777777777777778,
              "#fb9f3a"
             ],
             [
              0.8888888888888888,
              "#fdca26"
             ],
             [
              1,
              "#f0f921"
             ]
            ],
            "type": "histogram2d"
           }
          ],
          "histogram2dcontour": [
           {
            "colorbar": {
             "outlinewidth": 0,
             "ticks": ""
            },
            "colorscale": [
             [
              0,
              "#0d0887"
             ],
             [
              0.1111111111111111,
              "#46039f"
             ],
             [
              0.2222222222222222,
              "#7201a8"
             ],
             [
              0.3333333333333333,
              "#9c179e"
             ],
             [
              0.4444444444444444,
              "#bd3786"
             ],
             [
              0.5555555555555556,
              "#d8576b"
             ],
             [
              0.6666666666666666,
              "#ed7953"
             ],
             [
              0.7777777777777778,
              "#fb9f3a"
             ],
             [
              0.8888888888888888,
              "#fdca26"
             ],
             [
              1,
              "#f0f921"
             ]
            ],
            "type": "histogram2dcontour"
           }
          ],
          "mesh3d": [
           {
            "colorbar": {
             "outlinewidth": 0,
             "ticks": ""
            },
            "type": "mesh3d"
           }
          ],
          "parcoords": [
           {
            "line": {
             "colorbar": {
              "outlinewidth": 0,
              "ticks": ""
             }
            },
            "type": "parcoords"
           }
          ],
          "pie": [
           {
            "automargin": true,
            "type": "pie"
           }
          ],
          "scatter": [
           {
            "fillpattern": {
             "fillmode": "overlay",
             "size": 10,
             "solidity": 0.2
            },
            "type": "scatter"
           }
          ],
          "scatter3d": [
           {
            "line": {
             "colorbar": {
              "outlinewidth": 0,
              "ticks": ""
             }
            },
            "marker": {
             "colorbar": {
              "outlinewidth": 0,
              "ticks": ""
             }
            },
            "type": "scatter3d"
           }
          ],
          "scattercarpet": [
           {
            "marker": {
             "colorbar": {
              "outlinewidth": 0,
              "ticks": ""
             }
            },
            "type": "scattercarpet"
           }
          ],
          "scattergeo": [
           {
            "marker": {
             "colorbar": {
              "outlinewidth": 0,
              "ticks": ""
             }
            },
            "type": "scattergeo"
           }
          ],
          "scattergl": [
           {
            "marker": {
             "colorbar": {
              "outlinewidth": 0,
              "ticks": ""
             }
            },
            "type": "scattergl"
           }
          ],
          "scattermap": [
           {
            "marker": {
             "colorbar": {
              "outlinewidth": 0,
              "ticks": ""
             }
            },
            "type": "scattermap"
           }
          ],
          "scattermapbox": [
           {
            "marker": {
             "colorbar": {
              "outlinewidth": 0,
              "ticks": ""
             }
            },
            "type": "scattermapbox"
           }
          ],
          "scatterpolar": [
           {
            "marker": {
             "colorbar": {
              "outlinewidth": 0,
              "ticks": ""
             }
            },
            "type": "scatterpolar"
           }
          ],
          "scatterpolargl": [
           {
            "marker": {
             "colorbar": {
              "outlinewidth": 0,
              "ticks": ""
             }
            },
            "type": "scatterpolargl"
           }
          ],
          "scatterternary": [
           {
            "marker": {
             "colorbar": {
              "outlinewidth": 0,
              "ticks": ""
             }
            },
            "type": "scatterternary"
           }
          ],
          "surface": [
           {
            "colorbar": {
             "outlinewidth": 0,
             "ticks": ""
            },
            "colorscale": [
             [
              0,
              "#0d0887"
             ],
             [
              0.1111111111111111,
              "#46039f"
             ],
             [
              0.2222222222222222,
              "#7201a8"
             ],
             [
              0.3333333333333333,
              "#9c179e"
             ],
             [
              0.4444444444444444,
              "#bd3786"
             ],
             [
              0.5555555555555556,
              "#d8576b"
             ],
             [
              0.6666666666666666,
              "#ed7953"
             ],
             [
              0.7777777777777778,
              "#fb9f3a"
             ],
             [
              0.8888888888888888,
              "#fdca26"
             ],
             [
              1,
              "#f0f921"
             ]
            ],
            "type": "surface"
           }
          ],
          "table": [
           {
            "cells": {
             "fill": {
              "color": "#EBF0F8"
             },
             "line": {
              "color": "white"
             }
            },
            "header": {
             "fill": {
              "color": "#C8D4E3"
             },
             "line": {
              "color": "white"
             }
            },
            "type": "table"
           }
          ]
         },
         "layout": {
          "annotationdefaults": {
           "arrowcolor": "#2a3f5f",
           "arrowhead": 0,
           "arrowwidth": 1
          },
          "autotypenumbers": "strict",
          "coloraxis": {
           "colorbar": {
            "outlinewidth": 0,
            "ticks": ""
           }
          },
          "colorscale": {
           "diverging": [
            [
             0,
             "#8e0152"
            ],
            [
             0.1,
             "#c51b7d"
            ],
            [
             0.2,
             "#de77ae"
            ],
            [
             0.3,
             "#f1b6da"
            ],
            [
             0.4,
             "#fde0ef"
            ],
            [
             0.5,
             "#f7f7f7"
            ],
            [
             0.6,
             "#e6f5d0"
            ],
            [
             0.7,
             "#b8e186"
            ],
            [
             0.8,
             "#7fbc41"
            ],
            [
             0.9,
             "#4d9221"
            ],
            [
             1,
             "#276419"
            ]
           ],
           "sequential": [
            [
             0,
             "#0d0887"
            ],
            [
             0.1111111111111111,
             "#46039f"
            ],
            [
             0.2222222222222222,
             "#7201a8"
            ],
            [
             0.3333333333333333,
             "#9c179e"
            ],
            [
             0.4444444444444444,
             "#bd3786"
            ],
            [
             0.5555555555555556,
             "#d8576b"
            ],
            [
             0.6666666666666666,
             "#ed7953"
            ],
            [
             0.7777777777777778,
             "#fb9f3a"
            ],
            [
             0.8888888888888888,
             "#fdca26"
            ],
            [
             1,
             "#f0f921"
            ]
           ],
           "sequentialminus": [
            [
             0,
             "#0d0887"
            ],
            [
             0.1111111111111111,
             "#46039f"
            ],
            [
             0.2222222222222222,
             "#7201a8"
            ],
            [
             0.3333333333333333,
             "#9c179e"
            ],
            [
             0.4444444444444444,
             "#bd3786"
            ],
            [
             0.5555555555555556,
             "#d8576b"
            ],
            [
             0.6666666666666666,
             "#ed7953"
            ],
            [
             0.7777777777777778,
             "#fb9f3a"
            ],
            [
             0.8888888888888888,
             "#fdca26"
            ],
            [
             1,
             "#f0f921"
            ]
           ]
          },
          "colorway": [
           "#636efa",
           "#EF553B",
           "#00cc96",
           "#ab63fa",
           "#FFA15A",
           "#19d3f3",
           "#FF6692",
           "#B6E880",
           "#FF97FF",
           "#FECB52"
          ],
          "font": {
           "color": "#2a3f5f"
          },
          "geo": {
           "bgcolor": "white",
           "lakecolor": "white",
           "landcolor": "white",
           "showlakes": true,
           "showland": true,
           "subunitcolor": "#C8D4E3"
          },
          "hoverlabel": {
           "align": "left"
          },
          "hovermode": "closest",
          "mapbox": {
           "style": "light"
          },
          "paper_bgcolor": "white",
          "plot_bgcolor": "white",
          "polar": {
           "angularaxis": {
            "gridcolor": "#EBF0F8",
            "linecolor": "#EBF0F8",
            "ticks": ""
           },
           "bgcolor": "white",
           "radialaxis": {
            "gridcolor": "#EBF0F8",
            "linecolor": "#EBF0F8",
            "ticks": ""
           }
          },
          "scene": {
           "xaxis": {
            "backgroundcolor": "white",
            "gridcolor": "#DFE8F3",
            "gridwidth": 2,
            "linecolor": "#EBF0F8",
            "showbackground": true,
            "ticks": "",
            "zerolinecolor": "#EBF0F8"
           },
           "yaxis": {
            "backgroundcolor": "white",
            "gridcolor": "#DFE8F3",
            "gridwidth": 2,
            "linecolor": "#EBF0F8",
            "showbackground": true,
            "ticks": "",
            "zerolinecolor": "#EBF0F8"
           },
           "zaxis": {
            "backgroundcolor": "white",
            "gridcolor": "#DFE8F3",
            "gridwidth": 2,
            "linecolor": "#EBF0F8",
            "showbackground": true,
            "ticks": "",
            "zerolinecolor": "#EBF0F8"
           }
          },
          "shapedefaults": {
           "line": {
            "color": "#2a3f5f"
           }
          },
          "ternary": {
           "aaxis": {
            "gridcolor": "#DFE8F3",
            "linecolor": "#A2B1C6",
            "ticks": ""
           },
           "baxis": {
            "gridcolor": "#DFE8F3",
            "linecolor": "#A2B1C6",
            "ticks": ""
           },
           "bgcolor": "white",
           "caxis": {
            "gridcolor": "#DFE8F3",
            "linecolor": "#A2B1C6",
            "ticks": ""
           }
          },
          "title": {
           "x": 0.05
          },
          "xaxis": {
           "automargin": true,
           "gridcolor": "#EBF0F8",
           "linecolor": "#EBF0F8",
           "ticks": "",
           "title": {
            "standoff": 15
           },
           "zerolinecolor": "#EBF0F8",
           "zerolinewidth": 2
          },
          "yaxis": {
           "automargin": true,
           "gridcolor": "#EBF0F8",
           "linecolor": "#EBF0F8",
           "ticks": "",
           "title": {
            "standoff": 15
           },
           "zerolinecolor": "#EBF0F8",
           "zerolinewidth": 2
          }
         }
        }
       }
      },
      "image/png": "[encoded data removed]"
     },
     "metadata": {},
     "output_type": "display_data"
    },
    {
     "name": "stdout",
     "output_type": "stream",
     "text": [
      "Skewness: 0.6181, skewed to the right: there is a long tail of large positive outliers.\n",
      "Kurtosis: 5.9883, Excess kurtosis: 2.9883. This is a leptokurtic distribution: the tails are heavy, there is a high tail risk and hence usually more erratic returns.\n",
      " \n",
      "AI financial analysis:\n",
      "AI Analysis has been disabled at the beginning of the analysis.\n"
     ]
    },
    {
     "data": {
      "text/html": [
       "<pre style=\"white-space:pre;overflow-x:auto;line-height:normal;font-family:Menlo,'DejaVu Sans Mono',consolas,'Courier New',monospace\"></pre>\n"
      ],
      "text/plain": []
     },
     "metadata": {},
     "output_type": "display_data"
    },
    {
     "name": "stdout",
     "output_type": "stream",
     "text": [
      "\u001b[36m╭─────────────────────────────────╮\u001b[0m                                                                                \n",
      "\u001b[36m│\u001b[0mII. Financial statements analysis\u001b[36m│\u001b[0m                                                                                \n",
      "\u001b[36m╰─────────────────────────────────╯\u001b[0m                                                                                \n",
      "\n",
      " \n",
      "Industry of your company: Entertainment\n",
      " \n",
      "\u001b[1m\u001b[107m\u001b[34m   Profitability ratios:\u001b[0m\n",
      "|    | Metric                                           | 2024-12-31   | 2023-12-31   | 2022-12-31   | Description                       |\n",
      "|---:|:-------------------------------------------------|:-------------|:-------------|:-------------|:----------------------------------|\n",
      "|  0 | Gross profit margin                              | 46.06%       | 41.54%       | 39.37%       | Gross profit/ revenue             |\n",
      "|  1 | \u001b[34mGross profit margin variation\u001b[0m                    | \u001b[32m+10.88%\u001b[0m      | \u001b[32m+5.51%\u001b[0m       | ----         | \u001b[34mVariation of previous ratio\u001b[0m       |\n",
      "|  2 | Operating profit margin                          | 26.71%       | 20.62%       | 17.82%       | Operating income/ revenue         |\n",
      "|  3 | \u001b[34mOperating profit margin variation\u001b[0m                | \u001b[32m+29.53%\u001b[0m      | \u001b[32m+15.71%\u001b[0m      | ----         | \u001b[34mVariation of previous ratio\u001b[0m       |\n",
      "|  4 | Net profit margin                                | 22.34%       | 16.04%       | 14.21%       | Net income/ revenue               |\n",
      "|  5 | \u001b[34mNet profit margin variation\u001b[0m                      | \u001b[32m+39.28%\u001b[0m      | \u001b[32m+12.88%\u001b[0m      | ----         | \u001b[34mVariation of previous ratio\u001b[0m       |\n",
      "|  6 | --------                                         | --------     | --------     | --------     | ------------------------------    |\n",
      "|  7 | ROA (Return On Assets)                           | 16.24%       | 11.10%       | 9.24%        | Net income/ Total assets          |\n",
      "|  8 | \u001b[34mROA (Return On Assets) variation\u001b[0m                 | \u001b[32m+46.31%\u001b[0m      | \u001b[32m+20.13%\u001b[0m      | ----         | \u001b[34mVariation of previous ratio\u001b[0m       |\n",
      "|  9 | Operating return on assets                       | 19.42%       | 14.27%       | 11.59%       | Operating income/ total assets    |\n",
      "| 10 | \u001b[34mOperating return on assets variation\u001b[0m             | \u001b[32m+36.09%\u001b[0m      | \u001b[32m+23.12%\u001b[0m      | ----         | \u001b[34mVariation of previous ratio\u001b[0m       |\n",
      "| 11 | Simp.ROCE (Return On Capital Employed)           | 26.49%       | 19.79%       | 16.99%       | EBIT/ (total debt + Total equity) |\n",
      "| 12 | \u001b[34mSimp.ROCE (Return On Capital Employed) variation\u001b[0m | \u001b[32m+33.86%\u001b[0m      | \u001b[32m+16.48%\u001b[0m      | ----         | \u001b[34mVariation of previous ratio\u001b[0m       |\n",
      "| 13 | ROE (Return on Equity)                           | 35.21%       | 26.27%       | 21.62%       | Net income/ total equity          |\n",
      "| 14 | \u001b[34mROE (Return on Equity) variation\u001b[0m                 | \u001b[32m+34.03%\u001b[0m      | \u001b[32m+21.51%\u001b[0m      | ----         | \u001b[34mVariation of previous ratio\u001b[0m       |\n",
      " \n",
      "AI financial analysis on profitability ratios:\n",
      "AI Analysis has been disabled at the beginning of the analysis.\n",
      " \n",
      " \n",
      "\u001b[1m\u001b[107m\u001b[34m   Asset related ratios:\u001b[0m\n",
      "|    | Metric                          | 2024-12-31   | 2023-12-31   | 2022-12-31   | Description                                                 |\n",
      "|---:|:--------------------------------|:-------------|:-------------|:-------------|:------------------------------------------------------------|\n",
      "|  0 | Fixed assets turnover           | 24.47        | 22.61        | 22.61        | revenue/ net fixed assets                                   |\n",
      "|  1 | \u001b[34mFixed assets turnover variation\u001b[0m | \u001b[32m+8.23%\u001b[0m       | \u001b[32m+0.00%\u001b[0m       | ----         | \u001b[34mVariation of previous ratio\u001b[0m                                 |\n",
      "|  2 | Total asset turnover            | 0.73         | 0.69         | 0.65         | revenue/ total assets                                       |\n",
      "|  3 | \u001b[34mTotal asset turnover variation\u001b[0m  | \u001b[32m+5.80%\u001b[0m       | \u001b[32m+6.15%\u001b[0m       | ----         | \u001b[34mVariation of previous ratio\u001b[0m                                 |\n",
      "|  4 | Working capital turnover        | 2292.52%     | 2818.52%     | ----         | Total revenue/ Avg working capital using previous year data |\n",
      " \n",
      "AI financial analysis on asset ratios ratios:\n",
      "AI Analysis has been disabled at the beginning of the analysis.\n",
      " \n",
      " \n",
      "\u001b[1m\u001b[107m\u001b[34m   Liquidity ratios:\u001b[0m\n",
      "Computing the ratios of this section failed. This might be due to a change of the financial statement layout on Yahoo Finance which varies when fetched from certain providers.\n",
      " \n",
      "\u001b[1m\u001b[107m\u001b[34m   Solvency ratios:\u001b[0m\n",
      " \n",
      "\u001b[1m\u001b[34m      Level of debt ratios:\u001b[0m\n",
      "|    | Metric                             | 2024-12-31   | 2023-12-31   | 2022-12-31   | Description                                         |\n",
      "|---:|:-----------------------------------|:-------------|:-------------|:-------------|:----------------------------------------------------|\n",
      "|  0 | Debt to assets ratio               | 0.54         | 0.52         | 0.52         | Total debt/ total assets                            |\n",
      "|  1 | \u001b[34mDebt to assets ratio variation\u001b[0m     | \u001b[31m+3.85%\u001b[0m       | \u001b[31m+0.00%\u001b[0m       | ----         | \u001b[34mVariation of previous ratio\u001b[0m                         |\n",
      "|  2 | Debt to capital ratio              | 0.39         | 0.41         | 0.41         | Total debt/(total debt + total shareholders equity) |\n",
      "|  3 | \u001b[34mDebt to capital ratio variation\u001b[0m    | \u001b[32m-4.88%\u001b[0m       | \u001b[31m+0.00%\u001b[0m       | ----         | \u001b[34mVariation of previous ratio\u001b[0m                         |\n",
      "|  4 | Debt to equity ratio               | 0.63         | 0.71         | 0.69         | Total debt/ total shareholders equity               |\n",
      "|  5 | \u001b[34mDebt to equity ratio variation\u001b[0m     | \u001b[32m-11.27%\u001b[0m      | \u001b[31m+2.90%\u001b[0m       | ----         | \u001b[34mVariation of previous ratio\u001b[0m                         |\n",
      "|  6 | Financial leverage ratio           | 2.17         | 2.37         | 2.34         | Total assets/ total equity. Higher=more debt used   |\n",
      "|  7 | \u001b[34mFinancial leverage ratio variation\u001b[0m | \u001b[32m-8.44%\u001b[0m       | \u001b[31m+1.28%\u001b[0m       | ----         | \u001b[34mVariation of previous ratio\u001b[0m                         |\n",
      " \n",
      "AI financial analysis on level of debt ratios:\n",
      "AI Analysis has been disabled at the beginning of the analysis.\n",
      " \n",
      " \n",
      "\u001b[1m\u001b[34m      Coverage ratios:\u001b[0m\n",
      "|    | Metric                      | 2024-12-31   | 2023-12-31   | 2022-12-31   | Description                                            |\n",
      "|---:|:----------------------------|:-------------|:-------------|:-------------|:-------------------------------------------------------|\n",
      "|  0 | Interest coverage           | 14.87        | 9.29         | 8.45         | EBIT/ interest payments. Ability to pay debt interests |\n",
      "|  1 | \u001b[34mInterest coverage variation\u001b[0m | \u001b[32m+60.06%\u001b[0m      | \u001b[32m+9.94%\u001b[0m       | ----         | \u001b[34mVariation of previous ratio\u001b[0m                            |\n",
      "|  2 | Debt to EBITDA              | 0.59         | 0.68         | 0.71         | Number of years to pay off debt from earnings          |\n",
      "|  3 | \u001b[34mDebt to EBITDA variation\u001b[0m    | \u001b[32m-13.24%\u001b[0m      | \u001b[32m-4.23%\u001b[0m       | ----         | \u001b[34mVariation of previous ratio\u001b[0m                            |\n",
      " \n",
      "AI financial analysis on coverage ratios:\n",
      "AI Analysis has been disabled at the beginning of the analysis.\n",
      " \n",
      " \n",
      "\u001b[1m\u001b[107m\u001b[34m   Cash flows calculations: Operational ratios:\u001b[0m\n",
      "|    | Metric                                  | 2024-12-31   | 2023-12-31   | 2022-12-31   | Description                                         |\n",
      "|---:|:----------------------------------------|:-------------|:-------------|:-------------|:----------------------------------------------------|\n",
      "|  0 | CFI: Investing Cashflow                 | -2.18        | 0.54         | -2.08        | cash received on asset sales - investment in assets |\n",
      "|  1 | \u001b[34mCFI: Investing Cashflow variation\u001b[0m       | \u001b[31m-503.70%\u001b[0m     | \u001b[32m+125.96%\u001b[0m     | ----         | \u001b[34mVariation of previous ratio\u001b[0m                         |\n",
      "|  2 | CFF: Financing Cashflow                 | -4.07        | -5.95        | -0.66        | change in debt/common stock + cash dividends paid   |\n",
      "|  3 | \u001b[34mCFF: Financing Cashflow variation\u001b[0m       | \u001b[32m+31.60%\u001b[0m      | \u001b[31m-801.52%\u001b[0m     | ----         | \u001b[34mVariation of previous ratio\u001b[0m                         |\n",
      "|  4 | CFO: Cashflow from Operations           | 7.36         | 7.27         | 2.03         | Qualitative if higher than reported earnings        |\n",
      "|  5 | \u001b[34mCFO: Cashflow from Operations variation\u001b[0m | \u001b[32m+1.24%\u001b[0m       | \u001b[32m+258.13%\u001b[0m     | ----         | \u001b[34mVariation of previous ratio\u001b[0m                         |\n",
      "|  6 | --------                                | --------     | --------     | --------     | ------------------------------                      |\n",
      "|  7 | CFO to revenue                          | 0.19         | 0.22         | 0.06         | CFO/ net revenue                                    |\n",
      "|  8 | \u001b[34mCFO to revenue variation\u001b[0m                | \u001b[31m-13.64%\u001b[0m      | \u001b[32m+266.67%\u001b[0m     | ----         | \u001b[34mVariation of previous ratio\u001b[0m                         |\n",
      "|  9 | Cash return on assets                   | 0.14         | 0.15         | 0.04         | CFO/ total assets                                   |\n",
      "| 10 | \u001b[34mCash return on assets variation\u001b[0m         | \u001b[31m-6.67%\u001b[0m       | \u001b[32m+275.00%\u001b[0m     | ----         | \u001b[34mVariation of previous ratio\u001b[0m                         |\n",
      "| 11 | Debt coverage                           | 0.47         | 0.5          | 0.14         | CFO/ total debt                                     |\n",
      "| 12 | \u001b[34mDebt coverage variation\u001b[0m                 | \u001b[31m-6.00%\u001b[0m       | \u001b[32m+257.14%\u001b[0m     | ----         | \u001b[34mVariation of previous ratio\u001b[0m                         |\n",
      " \n",
      "AI financial analysis on solvency ratios:\n",
      "AI Analysis has been disabled at the beginning of the analysis.\n",
      " \n"
     ]
    },
    {
     "data": {
      "text/html": [
       "<pre style=\"white-space:pre;overflow-x:auto;line-height:normal;font-family:Menlo,'DejaVu Sans Mono',consolas,'Courier New',monospace\"></pre>\n"
      ],
      "text/plain": []
     },
     "metadata": {},
     "output_type": "display_data"
    },
    {
     "name": "stdout",
     "output_type": "stream",
     "text": [
      "\u001b[36m╭────────────────────────────────────────╮\u001b[0m                                                                         \n",
      "\u001b[36m│\u001b[0mAppendix: Financial statements in detail\u001b[36m│\u001b[0m                                                                         \n",
      "\u001b[36m╰────────────────────────────────────────╯\u001b[0m                                                                         \n",
      "\n"
     ]
    },
    {
     "data": {
      "text/html": [
       "<pre style=\"white-space:pre;overflow-x:auto;line-height:normal;font-family:Menlo,'DejaVu Sans Mono',consolas,'Courier New',monospace\"></pre>\n"
      ],
      "text/plain": []
     },
     "metadata": {},
     "output_type": "display_data"
    },
    {
     "name": "stdout",
     "output_type": "stream",
     "text": [
      "\u001b[37m╭─────────────────────────────────────────╮\u001b[0m                                                                        \n",
      "\u001b[37m│\u001b[0mIncome statement (expressed in Billions):\u001b[37m│\u001b[0m                                                                        \n",
      "\u001b[37m╰─────────────────────────────────────────╯\u001b[0m                                                                        \n",
      "\n",
      "|                                                            |   2024-12-31 |   2023-12-31 |   2022-12-31 |\n",
      "|:-----------------------------------------------------------|-------------:|-------------:|-------------:|\n",
      "| Tax Effect Of Unusual Items                                |    0         |    0         |     0        |\n",
      "| Tax Rate For Calcs                                         |    1.3e-10   |    1.3e-10   |     1.5e-10  |\n",
      "| Normalized EBITDA                                          |   26.3148    |   21.5084    |    20.333    |\n",
      "| Net Income From Continuing Operation Net Minority Interest |    8.71163   |    5.40799   |     4.49192  |\n",
      "| Reconciled Depreciation                                    |   15.6304    |   14.5544    |    14.3628   |\n",
      "| Reconciled Cost Of Revenue                                 |   21.0385    |   19.7154    |    19.1683   |\n",
      "| EBITDA                                                     |   26.3148    |   21.5084    |    20.333    |\n",
      "| EBIT                                                       |   10.6844    |    6.954     |     5.97014  |\n",
      "| Net Interest Income                                        |   -0.451957  |   -0.748598  |    -0.368902 |\n",
      "| Interest Expense                                           |    0.718733  |    0.748598  |     0.706212 |\n",
      "| Interest Income                                            |    0.266776  |  nan         |     0.33731  |\n",
      "| Normalized Income                                          |    8.71163   |    5.40799   |     4.49192  |\n",
      "| Net Income From Continuing And Discontinued Operation      |    8.71163   |    5.40799   |     4.49192  |\n",
      "| Total Expenses                                             |   28.5834    |   26.7693    |    25.9827   |\n",
      "| Total Operating Income As Reported                         |   10.4176    |    6.954     |     5.63283  |\n",
      "| Diluted Average Shares                                     |    0.439261  |    0.449498  |     0.45129  |\n",
      "| Basic Average Shares                                       |    0.429519  |    0.441571  |     0.444698 |\n",
      "| Diluted EPS                                                |    1.983e-08 |    1.203e-08 |     9.95e-09 |\n",
      "| Basic EPS                                                  |    2.028e-08 |    1.225e-08 |     1.01e-08 |\n",
      "| Diluted NI Availto Com Stockholders                        |    8.71163   |    5.40799   |     4.49192  |\n",
      "| Net Income Common Stockholders                             |    8.71163   |    5.40799   |     4.49192  |\n",
      "| Net Income                                                 |    8.71163   |    5.40799   |     4.49192  |\n",
      "| Net Income Including Noncontrolling Interests              |    8.71163   |    5.40799   |     4.49192  |\n",
      "| Net Income Continuous Operations                           |    8.71163   |    5.40799   |     4.49192  |\n",
      "| Tax Provision                                              |    1.25403   |    0.797415  |     0.772005 |\n",
      "| Pretax Income                                              |    9.96566   |    6.2054    |     5.26393  |\n",
      "| Net Non Operating Interest Income Expense                  |   -0.451957  |   -0.748598  |    -0.368902 |\n",
      "| Interest Expense Non Operating                             |    0.718733  |    0.748598  |     0.706212 |\n",
      "| Interest Income Non Operating                              |    0.266776  |  nan         |     0.33731  |\n",
      "| Operating Income                                           |   10.4176    |    6.954     |     5.63283  |\n",
      "| Operating Expense                                          |    7.54489   |    7.05393   |     6.81443  |\n",
      "| Research And Development                                   |    2.9253    |    2.67576   |     2.71104  |\n",
      "| Selling General And Administration                         |    4.61959   |    4.37817   |     4.10339  |\n",
      "| Selling And Marketing Expense                              |    2.91755   |    2.65788   |     2.5305   |\n",
      "| General And Administrative Expense                         |    1.70204   |    1.72029   |     1.57289  |\n",
      "| Other Gand A                                               |    1.70204   |    1.72029   |     1.57289  |\n",
      "| Gross Profit                                               |   17.9625    |   14.0079    |    12.4473   |\n",
      "| Cost Of Revenue                                            |   21.0385    |   19.7154    |    19.1683   |\n",
      "| Total Revenue                                              |   39.001     |   33.7233    |    31.6155   |\n",
      "| Operating Revenue                                          |   39.001     |   33.7233    |    31.6155   |\n"
     ]
    },
    {
     "data": {
      "text/html": [
       "<pre style=\"white-space:pre;overflow-x:auto;line-height:normal;font-family:Menlo,'DejaVu Sans Mono',consolas,'Courier New',monospace\"></pre>\n"
      ],
      "text/plain": []
     },
     "metadata": {},
     "output_type": "display_data"
    },
    {
     "name": "stdout",
     "output_type": "stream",
     "text": [
      "\u001b[37m╭──────────────────────────────────────╮\u001b[0m                                                                           \n",
      "\u001b[37m│\u001b[0mBalance sheet (expressed in Billions):\u001b[37m│\u001b[0m                                                                           \n",
      "\u001b[37m╰──────────────────────────────────────╯\u001b[0m                                                                           \n",
      "\n",
      "|                                                     |   2024-12-31 |   2023-12-31 |   2022-12-31 |\n",
      "|:----------------------------------------------------|-------------:|-------------:|-------------:|\n",
      "| Treasury Shares Number                              |    0.0247843 |    0.0160783 |   0.00156448 |\n",
      "| Ordinary Shares Number                              |    0.427757  |    0.43276   |   0.445347   |\n",
      "| Share Issued                                        |    0.452541  |    0.448838  |   0.446911   |\n",
      "| Net Debt                                            |    7.77807   |    7.42635   |   9.2059     |\n",
      "| Total Debt                                          |   15.5828    |   14.5433    |  14.3531     |\n",
      "| Tangible Book Value                                 |   -7.7089    |  -11.0697    | -11.9593     |\n",
      "| Invested Capital                                    |   40.3264    |   35.1316    |  35.1305     |\n",
      "| Working Capital                                     |    2.34498   |    1.05748   |   1.3355     |\n",
      "| Net Tangible Assets                                 |   -7.7089    |  -11.0697    | -11.9593     |\n",
      "| Common Stock Equity                                 |   24.7436    |   20.5883    |  20.7774     |\n",
      "| Total Capitalization                                |   38.5419    |   34.7317    |  35.1305     |\n",
      "| Total Equity Gross Minority Interest                |   24.7436    |   20.5883    |  20.7774     |\n",
      "| Stockholders Equity                                 |   24.7436    |   20.5883    |  20.7774     |\n",
      "| Gains Losses Not Affecting Retained Earnings        |    0.362162  |   -0.223945  |  -0.217306   |\n",
      "| Other Equity Adjustments                            |    0.362162  |   -0.223945  |  -0.217306   |\n",
      "| Treasury Stock                                      |   13.1716    |    6.9222    |   0.82419    |\n",
      "| Retained Earnings                                   |   31.3009    |   22.5893    |  17.1813     |\n",
      "| Capital Stock                                       |    6.25213   |    5.14517   |   4.6376     |\n",
      "| Common Stock                                        |    6.25213   |    5.14517   |   4.6376     |\n",
      "| Preferred Stock                                     |    0         |    0         |   0          |\n",
      "| Total Liabilities Net Minority Interest             |   28.8868    |   28.1437    |  27.8174     |\n",
      "| Total Non Current Liabilities Net Minority Interest |   18.1314    |   19.283     |  19.8864     |\n",
      "| Other Non Current Liabilities                       |    4.33306   |    5.13961   |   5.53332    |\n",
      "| Long Term Debt And Capital Lease Obligation         |   13.7984    |   14.1434    |  14.3531     |\n",
      "| Long Term Debt                                      |   13.7984    |   14.1434    |  14.3531     |\n",
      "| Current Liabilities                                 |   10.7554    |    8.86065   |   7.93097    |\n",
      "| Other Current Liabilities                           |    4.39368   |    4.46647   |   4.48015    |\n",
      "| Current Deferred Liabilities                        |    1.52081   |    1.44297   |   1.26466    |\n",
      "| Current Deferred Revenue                            |    1.52081   |    1.44297   |   1.26466    |\n",
      "| Current Debt And Capital Lease Obligation           |    1.78445   |    0.399844  | nan          |\n",
      "| Current Debt                                        |    1.78445   |    0.399844  | nan          |\n",
      "| Other Current Borrowings                            |    1.78445   |    0.399844  | nan          |\n",
      "| Payables And Accrued Expenses                       |    3.05645   |    2.55137   |   2.18616    |\n",
      "| Current Accrued Expenses                            |    2.15654   |    1.80396   |   1.51465    |\n",
      "| Payables                                            |    0.899909  |    0.747412  |   0.671513   |\n",
      "| Accounts Payable                                    |    0.899909  |    0.747412  |   0.671513   |\n",
      "| Total Assets                                        |   53.6304    |   48.732     |  48.5948     |\n",
      "| Total Non Current Assets                            |   40.53      |   38.8139    |  39.3283     |\n",
      "| Other Non Current Assets                            |    6.48378   |    5.66436   |   5.19332    |\n",
      "| Goodwill And Other Intangible Assets                |   32.4525    |   31.6581    |  32.7367     |\n",
      "| Other Intangible Assets                             |   32.4525    |   31.6581    |  32.7367     |\n",
      "| Net PPE                                             |    1.59376   |    1.49144   |   1.39826    |\n",
      "| Accumulated Depreciation                            |   -0.917537  |   -0.855043  |  -0.753741   |\n",
      "| Gross PPE                                           |    2.51129   |    2.34649   |   2.152      |\n",
      "| Leases                                              |    1.02659   |    1.03249   |   1.04057    |\n",
      "| Construction In Progress                            |    0.2283    |    0.406492  |   0.235555   |\n",
      "| Other Properties                                    |  nan         |  nan         | nan          |\n",
      "| Machinery Furniture Equipment                       |    0.695716  |    0.668338  |   0.738762   |\n",
      "| Buildings And Improvements                          |    0.475684  |    0.154165  |   0.052106   |\n",
      "| Land And Improvements                               |    0.085     |    0.085     |   0.085005   |\n",
      "| Properties                                          |    0         |    0         |   0          |\n",
      "| Current Assets                                      |   13.1004    |    9.91813   |   9.26647    |\n",
      "| Other Current Assets                                |    1.09641   |    0.529257  |   1.22839    |\n",
      "| Prepaid Assets                                      |    0.431924  |    0.408936  |   0.392735   |\n",
      "| Receivables                                         |    1.9883    |    1.84205   |   1.5869     |\n",
      "| Taxes Receivable                                    |    0.653     |    0.555     |   0.598      |\n",
      "| Accounts Receivable                                 |    1.3353    |    1.28705   |   0.988898   |\n",
      "| Cash Cash Equivalents And Short Term Investments    |    9.58374   |    7.13789   |   6.05845    |\n",
      "| Other Short Term Investments                        |    1.77901   |    0.020973  |   0.911276   |\n",
      "| Cash And Cash Equivalents                           |    7.80473   |    7.11691   |   5.14718    |\n",
      "| Cash Equivalents                                    |    2.94053   |    1.13028   |   1.07559    |\n",
      "| Cash Financial                                      |    4.86421   |    5.98663   |   4.07158    |\n"
     ]
    },
    {
     "data": {
      "text/html": [
       "<pre style=\"white-space:pre;overflow-x:auto;line-height:normal;font-family:Menlo,'DejaVu Sans Mono',consolas,'Courier New',monospace\"></pre>\n"
      ],
      "text/plain": []
     },
     "metadata": {},
     "output_type": "display_data"
    },
    {
     "name": "stdout",
     "output_type": "stream",
     "text": [
      "\u001b[37m╭───────────────────────────────────────────╮\u001b[0m                                                                      \n",
      "\u001b[37m│\u001b[0mCashflow Statement (expressed in Billions):\u001b[37m│\u001b[0m                                                                      \n",
      "\u001b[37m╰───────────────────────────────────────────╯\u001b[0m                                                                      \n",
      "\n",
      "|                                                |   2024-12-31 |   2023-12-31 |   2022-12-31 |\n",
      "|:-----------------------------------------------|-------------:|-------------:|-------------:|\n",
      "| Free Cash Flow                                 |     6.92183  |     6.92575  |     1.61853  |\n",
      "| Repurchase Of Capital Stock                    |    -6.26375  |    -6.04535  |     0        |\n",
      "| Repayment Of Debt                              |    -0.4      |     0        |    -0.7      |\n",
      "| Issuance Of Debt                               |     1.79446  |     0        |     0        |\n",
      "| Issuance Of Capital Stock                      |     0.832887 |     0.16999  |     0.035746 |\n",
      "| Capital Expenditure                            |    -0.439538 |    -0.348552 |    -0.407729 |\n",
      "| Interest Paid Supplemental Data                |     0.674502 |     0.684504 |     0.701693 |\n",
      "| Income Tax Paid Supplemental Data              |     1.64153  |     1.15497  |     0.81172  |\n",
      "| End Cash Position                              |     7.80734  |     7.11852  |     5.17058  |\n",
      "| Beginning Cash Position                        |     7.11852  |     5.17058  |     6.05511  |\n",
      "| Effect Of Exchange Rate Changes                |    -0.416331 |     0.082684 |    -0.17014  |\n",
      "| Changes In Cash                                |     1.10515  |     1.86525  |    -0.714389 |\n",
      "| Financing Cash Flow                            |    -4.07443  |    -5.9508   |    -0.664254 |\n",
      "| Cash Flow From Continuing Financing Activities |    -4.07443  |    -5.9508   |    -0.664254 |\n",
      "| Net Other Financing Charges                    |    -0.038028 |    -0.075446 |   nan        |\n",
      "| Net Common Stock Issuance                      |    -5.43086  |    -5.87536  |     0.035746 |\n",
      "| Common Stock Payments                          |    -6.26375  |    -6.04535  |     0        |\n",
      "| Common Stock Issuance                          |     0.832887 |     0.16999  |     0.035746 |\n",
      "| Net Issuance Payments Of Debt                  |     1.39446  |     0        |    -0.7      |\n",
      "| Net Long Term Debt Issuance                    |     1.39446  |     0        |    -0.7      |\n",
      "| Long Term Debt Payments                        |    -0.4      |     0        |    -0.7      |\n",
      "| Long Term Debt Issuance                        |     1.79446  |     0        |     0        |\n",
      "| Investing Cash Flow                            |    -2.18178  |     0.541751 |    -2.07639  |\n",
      "| Cash Flow From Continuing Investing Activities |    -2.18178  |     0.541751 |    -2.07639  |\n",
      "| Net Other Investing Changes                    |   nan        |   nan        |   nan        |\n",
      "| Net Investment Purchase And Sale               |    -1.74225  |     0.890303 |    -0.911276 |\n",
      "| Sale Of Investment                             |     0        |     1.39516  |     0        |\n",
      "| Purchase Of Investment                         |    -1.74225  |    -0.504862 |    -0.911276 |\n",
      "| Net Business Purchase And Sale                 |     0        |     0        |    -0.757387 |\n",
      "| Purchase Of Business                           |     0        |     0        |    -0.757387 |\n",
      "| Net PPE Purchase And Sale                      |    -0.439538 |    -0.348552 |    -0.407729 |\n",
      "| Purchase Of PPE                                |    -0.439538 |    -0.348552 |    -0.407729 |\n",
      "| Operating Cash Flow                            |     7.36136  |     7.2743   |     2.02626  |\n",
      "| Cash Flow From Continuing Operating Activities |     7.36136  |     7.2743   |     2.02626  |\n",
      "| Change In Working Capital                      |    -0.033075 |    -0.116148 |    -0.758087 |\n",
      "| Change In Other Working Capital                |    -0.368507 |    -0.132212 |    -0.190197 |\n",
      "| Change In Other Current Assets                 |     0.02218  |    -0.181003 |    -0.353834 |\n",
      "| Change In Payables And Accrued Expense         |     0.313252 |     0.197067 |    -0.214056 |\n",
      "| Change In Accrued Expense                      |     0.191899 |     0.103565 |    -0.055513 |\n",
      "| Change In Payable                              |     0.121353 |     0.093502 |    -0.158543 |\n",
      "| Change In Account Payable                      |     0.121353 |     0.093502 |    -0.158543 |\n",
      "| Other Non Cash Items                           |   -16.508    |   -12.6282   |   -16.1262   |\n",
      "| Stock Based Compensation                       |     0.272588 |     0.339368 |     0.575452 |\n",
      "| Deferred Tax                                   |    -0.590698 |    -0.459359 |    -0.16655  |\n",
      "| Deferred Income Tax                            |    -0.590698 |    -0.459359 |    -0.16655  |\n",
      "| Depreciation Amortization Depletion            |    15.6304   |    14.5544   |    14.3628   |\n",
      "| Depreciation And Amortization                  |    15.6304   |    14.5544   |    14.3628   |\n",
      "| Amortization Cash Flow                         |    15.3015   |    14.1974   |    14.0261   |\n",
      "| Amortization Of Intangibles                    |    15.3015   |    14.1974   |    14.0261   |\n",
      "| Depreciation                                   |     0.328914 |     0.356947 |     0.336682 |\n",
      "| Operating Gains Losses                         |    -0.121539 |     0.176296 |    -0.353111 |\n",
      "| Net Foreign Currency Exchange Gain Loss        |    -0.121539 |     0.176296 |    -0.353111 |\n",
      "| Net Income From Continuing Operations          |     8.71163  |     5.40799  |     4.49192  |\n"
     ]
    },
    {
     "data": {
      "text/html": [
       "<pre style=\"white-space:pre;overflow-x:auto;line-height:normal;font-family:Menlo,'DejaVu Sans Mono',consolas,'Courier New',monospace\"></pre>\n"
      ],
      "text/plain": []
     },
     "metadata": {},
     "output_type": "display_data"
    },
    {
     "name": "stdout",
     "output_type": "stream",
     "text": [
      "\u001b[37m╭────────────────────────────────╮\u001b[0m                                                                                 \n",
      "\u001b[37m│\u001b[0mCode: © G.RUQUILLA - CC BY-NC-SA\u001b[37m│\u001b[0m                                                                                 \n",
      "\u001b[37m╰────────────────────────────────╯\u001b[0m                                                                                 \n",
      "\n",
      "This license enables reusers to distribute, remix, adapt, and build upon the material in any medium or format for noncommercial purposes only, and only so long as attribution is given to the creator. If you remix, adapt, or build upon the material, you must license the modified material under identical terms. Data is fetched from Yahoo Finance through Yfinance and Google RSS feeds through pygooglenews. The information provided is for general informational and educational purposes only and does not constitute investment advice, financial advice, trading advice, or any other form of advice.\n"
     ]
    }
   ],
   "source": [
    "#Developed with Python 3.13\n",
    "#Other requirements (requirements.txt file to be released soon)\n",
    "#pandas>=1.5.0\n",
    "#numpy>=1.23.0\n",
    "#yfinance>=0.2.18\n",
    "#pandas_datareader>=0.10.0\n",
    "#plotly>=5.15.0\n",
    "#seaborn>=0.12.2\n",
    "#matplotlib>=3.7.1\n",
    "#pygooglenews>=0.1.2\n",
    "#pyboxen>=1.2.0\n",
    "#tabulate>=0.9.0\n",
    "#colorama>=0.4.6\n",
    "#termcolor>=2.3.0\n",
    "#ollama>=0.1.0\n",
    "#rich>=13.5.2\n",
    "#scikit-learn>=1.3.0\n",
    "#tensorflow>=2.13.0\n",
    "#transformers>=4.33.0\n",
    "#torch>=2.0.1\n",
    "#scipy>=1.11.2\n",
    "#ipython>=8.15.0\n",
    "\n",
    "import pandas as pd\n",
    "import numpy as np\n",
    "import datetime as dt\n",
    "import yfinance as yfin\n",
    "from pandas_datareader import data as pdr\n",
    "import plotly.express as px\n",
    "import seaborn as sns\n",
    "import matplotlib.pyplot as plt\n",
    "import plotly.graph_objects as go\n",
    "from plotly.subplots import make_subplots\n",
    "from pygooglenews import GoogleNews\n",
    "from datetime import datetime, timedelta\n",
    "import time\n",
    "import sys\n",
    "from pyboxen import boxen\n",
    "import tabulate\n",
    "import colorama\n",
    "from termcolor import colored\n",
    "from ollama import chat, ChatResponse\n",
    "from rich.console import Console\n",
    "from threading import Thread\n",
    "import warnings\n",
    "import uuid\n",
    "from sklearn.preprocessing import MinMaxScaler\n",
    "import tensorflow as tf\n",
    "from tensorflow.keras.models import Sequential\n",
    "from tensorflow.keras.layers import LSTM, Dense, Input, Dropout\n",
    "from IPython.display import display, Markdown, update_display\n",
    "from transformers import pipeline, AutoTokenizer, AutoModelForSequenceClassification\n",
    "import scipy.stats as stats\n",
    "import torch\n",
    "warnings.filterwarnings(\"ignore\", category=DeprecationWarning) #A deprecation warning shows up every time concerning date parsing format, however the usage of the code excludes the situation in which this would be problematic.\n",
    "warnings.filterwarnings(\"ignore\", category=FutureWarning) #Error related to working with different timezones. You might not encounter this error if you don't change timezones yourself.\n",
    "\n",
    "## Prologue: Ticker input collection and essential functions and data ##------------------------------------------------------------------\n",
    "print(boxen(\"FinAPy: Financial Analysis with Python\", color=\"cyan\"))\n",
    "ticker=input(\"Enter the ticker of the stock: \") #I mainly use Input instead of widgets in Jupyter Notebook so the script can later be easily edited outside Jupyter.\n",
    "stock= yfin.Ticker(ticker)\n",
    "AI_analysis_request=input('Would you like to have local AI synthetic analysis? This feature requires Ollama and demands both time and processing power. Type y for yes, n for no')\n",
    "if AI_analysis_request=='y':\n",
    "    AI_analysis=True\n",
    "else: AI_analysis=False\n",
    "\n",
    "try:\n",
    "    stock_info=yfin.Ticker(ticker).info\n",
    "    #Let's get basic information about the stock to provide a quick summary.\n",
    "    stock_name=stock_info.get('shortName')\n",
    "    stock_industry=stock_info.get('industry')\n",
    "    stock_sector=stock_info.get('sector')\n",
    "    stock_summary=stock_info.get('longBusinessSummary')\n",
    "    stock_employees=stock_info.get('fullTimeEmployees')\n",
    "    stock_city=stock_info.get('city')\n",
    "    stock_country=stock_info.get('country')\n",
    "    print(boxen(f'I identified the company as {stock_name}. It is a company of the {stock_industry} industry, part of the {stock_sector} sector, based in {stock_city}, {stock_country}. It employs {stock_employees} full time employees. I am now fetching the news, it can take a few minutes...', color=\"green\"))\n",
    "    display(Markdown(f\"\"\"In the meantime, for your information, {stock_summary}\"\"\"))\n",
    "except: \n",
    "    print(boxen(f'Sorry, no results for {ticker}. Please make sure the ticker is correct and refers to a company. The analysis can\"t proceed.', color=\"red\"))\n",
    "    sys.exit(1) #Radical, but we need a new valid input to go further on.\n",
    "\n",
    "def ollama_chat(prompt, model_used='gpt-oss:20b'):\n",
    "    #This function will be used later if the user enables the AI analysis.\n",
    "    #You need Ollama installed on your computer to run it, as well as GPT-OSS:20B. \n",
    "    #You can also change the name of the model in this function if you prefer downloading and using another one. Deepseek R1:8B provides good results but sometimes requires more processing power and time to execute.\n",
    "    if AI_analysis==True:\n",
    "        # Generate a unique display ID for each call\n",
    "        display_id = str(uuid.uuid4())\n",
    "        display(Markdown(\"🌀 **Thinking using Ollama... This can take some time.**\"), display_id=display_id)\n",
    "        def task():\n",
    "            try:\n",
    "                response = chat(model=model_used, messages=[{'role': 'user', 'content': prompt},])\n",
    "                resp = response['message']['content'].replace('<br>', '\\n')\n",
    "            except:\n",
    "                resp = 'Apologies, the Ollama AI assistant could not provide additional analysis. Make sure Ollama is installed on your computer.'\n",
    "            update_display(Markdown(f\"✅ **Ollama analysis (using {model_used}):**\\n\\n{resp}\"), display_id=display_id)\n",
    "        Thread(target=task).start()\n",
    "    else: print('AI Analysis has been disabled at the beginning of the analysis.')\n",
    "\n",
    "stock_df = pd.DataFrame(stock.history(period=\"1y\", interval=\"1d\"))\n",
    "#Computing basic metrics and filling the N/A values.\n",
    "stock_df['Daily Return'] = stock_df['Close'].pct_change(1) * 100\n",
    "stock_df.fillna({\"Daily Return\": 0}, inplace=True)\n",
    "stock_df['monthly volatility'] = stock_df['Daily Return'].rolling(window=21).std()\n",
    "stock_df.fillna({\"monthly volatility\": 0}, inplace=True)\n",
    "stock_df['weekly volatility'] = stock_df['Daily Return'].rolling(window=5).std()\n",
    "stock_df.fillna({\"weekly volatility\": 0}, inplace=True)\n",
    "stock_df.describe().round(2)\n",
    "stock_df = stock_df.reset_index()\n",
    "stock_df = stock_df.rename(columns=lambda x: x.lower())\n",
    "stock_df['date'] = pd.to_datetime(stock_df['date']).dt.tz_localize(None)\n",
    "\n",
    "\n",
    "## Step 1: Events and news fetching ##------------------------------------------------------------------\n",
    "try:\n",
    "    stock_calendar=pd.DataFrame(yfin.Ticker(ticker).calendar)\n",
    "    stock_calendar=stock_calendar.drop(['Earnings High', 'Earnings Low', 'Earnings Average','Revenue High','Revenue Low','Revenue Average'], axis=1)\n",
    "    stock_calendar=stock_calendar.transpose()\n",
    "    stock_calendar=stock_calendar.reset_index()\n",
    "    stock_calendar=stock_calendar.rename(columns={'index':'Event',0:'Date'})\n",
    "    stock_calendar=stock_calendar[stock_calendar.columns[::-1]]\n",
    "    event_data=True # Using a boolean to know wether or not we have been able to fetch event data so the graph doesn't crash the code in case an error has been encountered.\n",
    "except: \n",
    "    print(boxen(\"Unfortunately, I have not been able to gather information about the events of the company. The analysis will proceed, but I won't be able to provide any data about earnings date, dividends date and so on.\", color=\"red\"))\n",
    "    event_data=False\n",
    "\n",
    "def get_ticker_news_with_sentiment(ticker_name, ticker, max_results=100):\n",
    "    # Load FinBERT model and tokenizer\n",
    "    model_name = \"ProsusAI/finbert\"\n",
    "    tokenizer = AutoTokenizer.from_pretrained(model_name)\n",
    "    model = AutoModelForSequenceClassification.from_pretrained(model_name)\n",
    "    finbert = pipeline(\"sentiment-analysis\", model=model, tokenizer=tokenizer, device=0 if torch.cuda.is_available() else -1)\n",
    "\n",
    "    # Initialize GoogleNews\n",
    "    gn = GoogleNews(lang='en', country='US')\n",
    "\n",
    "    # Date range: last 12 months\n",
    "    end_date = datetime.now()\n",
    "    start_date = end_date - timedelta(days=365)\n",
    "    start_date_str = start_date.strftime('%Y-%m-%d')\n",
    "    end_date_str = end_date.strftime('%Y-%m-%d')\n",
    "\n",
    "    # Search query\n",
    "    search_term = f\"{ticker_name} stock OR {ticker} stock\"\n",
    "    search = gn.search(search_term, from_=start_date_str, to_=end_date_str)\n",
    "\n",
    "    articles = []\n",
    "    count = 0\n",
    "    for entry in search['entries']:\n",
    "        if count >= max_results:\n",
    "            break\n",
    "        try:\n",
    "            date = pd.to_datetime(entry.published)\n",
    "            if date.tzinfo is not None:\n",
    "                date = date.tz_localize(None)\n",
    "\n",
    "            title = entry.title\n",
    "            summary = entry.get('summary', '').strip()\n",
    "            text = summary if summary else title # Trying the sentiment analysis on the summary rather than on simply the title for more accurate results. However, the summary is not always available.\n",
    "\n",
    "            # Run FinBERT sentiment analysis\n",
    "            result = finbert(text)[0]\n",
    "            label = result['label'].lower()\n",
    "            raw_score = result['score']\n",
    "\n",
    "            # Convert label to signed score\n",
    "            if label == 'positive':\n",
    "                sentiment = round(raw_score, 4)\n",
    "            elif label == 'negative':\n",
    "                sentiment = round(-raw_score, 4)\n",
    "            else:  # neutral\n",
    "                sentiment = 0.0\n",
    "\n",
    "            articles.append({\n",
    "                'date': date,\n",
    "                'headline': title,\n",
    "                'summary': summary,\n",
    "                'sentiment': sentiment\n",
    "            })\n",
    "            count += 1\n",
    "            time.sleep(0.1)\n",
    "        except Exception as e:\n",
    "            print(f\"Error processing an article: {e}\")\n",
    "            continue\n",
    "\n",
    "    df = pd.DataFrame(articles)\n",
    "    if not df.empty:\n",
    "        df['date'] = pd.to_datetime(df['date'])\n",
    "        df = df.sort_values('date', ascending=False)\n",
    "\n",
    "    return df\n",
    "    \n",
    "news_df = get_ticker_news_with_sentiment(stock_name, ticker)\n",
    "print(f\"\\nFound {len(news_df)} news articles for {stock_name}. I will now proceed to the analysis, this can take a few minutes.\") #Essentially a log to track the news fetching and indicate how rich the sualitative data treated are.\n",
    "if len(news_df)==0:\n",
    "    print(boxen(\"Unfortunately, I have not been able to find any news about your company. The analysis will proceed, but you won't get any news-related data.\", color=\"red\"))\n",
    "    news_data=False\n",
    "else:\n",
    "    news_data=True\n",
    "\n",
    "## Step 2: Forecast using Machine Learning LSTM ##--------------------------------------------------------------------------------------------\n",
    "# --- Prepare Data with Multiple Features ---\n",
    "# Use close, high, and low prices for optimal accuracy.\n",
    "feature_columns = ['close', 'high', 'low']\n",
    "price_data = stock_df[feature_columns].values\n",
    "scaler = MinMaxScaler(feature_range=(0, 1))\n",
    "scaled_data = scaler.fit_transform(price_data)\n",
    "\n",
    "# --- Create Sequences with Multiple Features ---\n",
    "def create_multivariate_sequences(data, seq_length):\n",
    "    X, y = [], []\n",
    "    for i in range(seq_length, len(data)):\n",
    "        # Each X sequence now contains all features\n",
    "        X.append(data[i-seq_length:i])\n",
    "        # Target remains the closing price only\n",
    "        y.append(data[i, 0])  # 0 index is for close price\n",
    "    return np.array(X), np.array(y)\n",
    "\n",
    "seq_length = 90\n",
    "X, y = create_multivariate_sequences(scaled_data, seq_length)\n",
    "\n",
    "# --- Train/Test Split ---\n",
    "split = int(len(X) * 0.8)\n",
    "X_train, X_test = X[:split], X[split:]\n",
    "y_train, y_test = y[:split], y[split:]\n",
    "\n",
    "# --- Build Enhanced LSTM Model ---\n",
    "def build_enhanced_model(input_shape, dropout_rate=0.2):\n",
    "    model = Sequential()\n",
    "    model.add(Input(shape=input_shape))\n",
    "    model.add(LSTM(units=100, return_sequences=True))\n",
    "    model.add(Dropout(dropout_rate))\n",
    "    model.add(LSTM(units=100))\n",
    "    model.add(Dropout(dropout_rate))\n",
    "    model.add(Dense(1))\n",
    "    model.compile(optimizer='adam', loss='huber')\n",
    "    return model\n",
    "\n",
    "# Train enhanced model with multiple features\n",
    "enhanced_model = build_enhanced_model(input_shape=(seq_length, len(feature_columns)))\n",
    "enhanced_model.fit(X_train, y_train, epochs=30, batch_size=32, verbose=0)\n",
    "\n",
    "# --- Modified Generate Forecast Function ---\n",
    "def generate_multivariate_forecast(model, last_sequence, periods=60, noise_level=0.0, trend_factor=0.0):\n",
    "    forecast = []\n",
    "    current_sequence = last_sequence.copy()\n",
    "    \n",
    "    for i in range(periods):\n",
    "        input_seq = current_sequence.reshape(1, seq_length, len(feature_columns))\n",
    "        pred = model.predict(input_seq, verbose=0)[0][0]\n",
    "        \n",
    "        # Add noise and trend adjustments\n",
    "        adjusted_pred = pred + np.random.normal(0, noise_level) + (i * trend_factor)\n",
    "        adjusted_pred = max(0, min(1, adjusted_pred))\n",
    "        \n",
    "        forecast.append(adjusted_pred)\n",
    "        \n",
    "        # Create a new row with predicted close and estimated high/low\n",
    "        # For simplicity, we'll use the same value for all features\n",
    "        # In a more sophisticated approach, you could predict high/low separately\n",
    "        new_row = np.array([[adjusted_pred] * len(feature_columns)])\n",
    "        \n",
    "        # Update the sequence by removing the first row and adding the new prediction\n",
    "        current_sequence = np.append(current_sequence[1:], new_row, axis=0)\n",
    "    return np.array(forecast)\n",
    "\n",
    "# Get the last sequence from our multivariate data\n",
    "last_sequence = scaled_data[-seq_length:]\n",
    "\n",
    "# Generate different scenarios with the enhanced model\n",
    "forecast_periods = 60\n",
    "\n",
    "# Generate forecasts with the enhanced model and variants. The variants are statistically generated at the moment, the integration of qualitative information is something I am working on at the moment.\n",
    "baseline_forecast = generate_multivariate_forecast(enhanced_model, last_sequence, forecast_periods)\n",
    "optimistic_forecast = generate_multivariate_forecast(enhanced_model, last_sequence, forecast_periods, \n",
    "                                                   noise_level=0.005, trend_factor=0.001)\n",
    "pessimistic_forecast = generate_multivariate_forecast(enhanced_model, last_sequence, forecast_periods, \n",
    "                                                    noise_level=0.005, trend_factor=-0.001)\n",
    "\n",
    "# --- Inverse Transform & Create Forecast DataFrame ---\n",
    "# We need to reshape and pad the forecasts to match the original feature dimensions\n",
    "def inverse_transform_forecast(forecast, feature_index=0):\n",
    "    # Create a placeholder array with the same number of features as the original data\n",
    "    padded_forecast = np.zeros((len(forecast), len(feature_columns)))\n",
    "    # Place the forecast values in the appropriate feature column (0 for close price)\n",
    "    padded_forecast[:, feature_index] = forecast\n",
    "    # Inverse transform\n",
    "    return scaler.inverse_transform(padded_forecast)[:, feature_index]\n",
    "\n",
    "baseline_prices = inverse_transform_forecast(baseline_forecast)\n",
    "optimistic_prices = inverse_transform_forecast(optimistic_forecast)\n",
    "pessimistic_prices = inverse_transform_forecast(pessimistic_forecast)\n",
    "\n",
    "# Create future dates\n",
    "future_dates = pd.date_range(start=stock_df['date'].iloc[-1] + pd.Timedelta(days=1), periods=forecast_periods)\n",
    "\n",
    "# Create forecast dataframe with all scenarios\n",
    "forecast_df = pd.DataFrame({\n",
    "    'date': future_dates,\n",
    "    'Baseline': baseline_prices,\n",
    "    'Optimistic': optimistic_prices,\n",
    "    'Pessimistic': pessimistic_prices,\n",
    "})\n",
    "## Step 3: Market data restitution ##----------------------------------------------------------------------------------------------------------\n",
    "print(boxen(\"I. Market data analysis\", color=\"cyan\"))\n",
    "fig = make_subplots(rows=4, cols=1, shared_xaxes=True,\n",
    "                    vertical_spacing=0.05, subplot_titles=(f'{ticker} ({stock_name}) Stock Price', ' ', ' '), \n",
    "                    row_heights=[0.7, 0.3, 0.3, 0.1]) #Using a single shart so using customised windows will update all the visuals at once. It should improve the user experience.\n",
    "\n",
    "# Add candlestick chart\n",
    "fig.add_trace(go.Candlestick(\n",
    "    x=stock_df['date'],\n",
    "    open=stock_df['open'],\n",
    "    high=stock_df['high'],\n",
    "    low=stock_df['low'],\n",
    "    close=stock_df['close'],\n",
    "    name='Price',\n",
    "    legendgroup='Base information'\n",
    "), row=1, col=1)\n",
    "\n",
    "\n",
    "if news_data == True:\n",
    "    sentiment_values = news_df['sentiment'].clip(-1, 1)  # Ensure values are in [-1, 1]\n",
    "    abs_sentiment = sentiment_values.abs()\n",
    "    # Scale marker size: map abs sentiment [0,1] to size range [6, 20].\n",
    "    marker_sizes = abs_sentiment * 14 + 6\n",
    "    colorscale = [\n",
    "        [0.0, 'crimson'],     # Highly negative\n",
    "        [0.5, 'white'],       # Neutral\n",
    "        [1.0, 'springGreen']  # Highly positive\n",
    "    ]\n",
    "    fig.add_trace(go.Scatter(\n",
    "        x=news_df['date'],\n",
    "        y=stock_df['close'],\n",
    "        name='News Headlines',\n",
    "        legendgroup='Events',\n",
    "        mode='markers',\n",
    "        text=news_df['headline'],\n",
    "        hoverinfo='text+x',\n",
    "        marker=dict(\n",
    "            color=sentiment_values,         # Color by raw sentiment\n",
    "            size=marker_sizes,              # Size by absolute sentiment\n",
    "            colorscale=colorscale,\n",
    "            cmin=-1,\n",
    "            cmax=1,\n",
    "            colorbar=dict(title='Sentiment'),\n",
    "            symbol='circle',\n",
    "            line=dict(width=1, color='dodgerblue')\n",
    "        )\n",
    "    ), row=1, col=1)\n",
    "\n",
    "if event_data==True:\n",
    "    fig.add_trace(go.Scatter(\n",
    "        x=stock_calendar['Date'],\n",
    "        y=stock_df['close'],\n",
    "        name='Events',  # Use a simple string name for the series\n",
    "        legendgroup='Events',\n",
    "        mode='markers',  # Add mode='markers' to show points\n",
    "        text=stock_calendar['Event'],  # Use the headlines as hover text\n",
    "        hoverinfo='text+x',  # Show the text and x-value on hover\n",
    "        marker=dict(\n",
    "            color='rgba(0, 200, 200, 1)',  # Set marker color to blue\n",
    "            size=8,  # Optional: adjust the size of the markers\n",
    "            symbol='diamond'\n",
    "            \n",
    "        )\n",
    "    ), row=1, col=1)\n",
    "\n",
    "fig.add_trace(go.Scatter(\n",
    "    x=stock_df['date'],\n",
    "    y=stock_df['close'],\n",
    "    name='Closing price',\n",
    "    legendgroup='Base information',\n",
    "    line=dict(color='rgba(0, 0, 0, 0.25)', width=1)\n",
    "), row=1, col=1)\n",
    "\n",
    "# Add moving averages to give more data and give perspective on the LSTM forecast.\n",
    "ma10 = stock_df['close'].rolling(window=10).mean()\n",
    "ma20 = stock_df['close'].rolling(window=20).mean()\n",
    "ma50 = stock_df['close'].rolling(window=50).mean()\n",
    "\n",
    "fig.add_trace(go.Scatter(\n",
    "    x=stock_df['date'],\n",
    "    y=ma10,\n",
    "    name='10-day MA',\n",
    "    legendgroup='SMA',\n",
    "    line=dict(color='rgba(80, 80, 255, 1)', width=1)\n",
    "), row=1, col=1)\n",
    "\n",
    "fig.add_trace(go.Scatter(\n",
    "    x=stock_df['date'],\n",
    "    y=ma20,\n",
    "    name='20-day MA',\n",
    "    legendgroup='SMA',\n",
    "    line=dict(color='rgba(130, 80, 200, 1)', width=1)\n",
    "), row=1, col=1)\n",
    "\n",
    "fig.add_trace(go.Scatter(\n",
    "    x=stock_df['date'],\n",
    "    y=ma50,\n",
    "    name='50-day MA',\n",
    "    legendgroup='SMA',\n",
    "    line=dict(color='rgba(255, 80, 255, 1)', width=1)\n",
    "), row=1, col=1)\n",
    "\n",
    "#Add to Plot forecast\n",
    "fig.add_trace(go.Scatter(\n",
    "    x=forecast_df['date'],\n",
    "    y=forecast_df['Baseline'],\n",
    "    name='Baseline scenario',\n",
    "    legendgroup='LSTM forecast',\n",
    "    line=dict(color='cyan', width=1.5, dash='dash')\n",
    "), row=1, col=1)\n",
    "\n",
    "fig.add_trace(go.Scatter(\n",
    "    x=forecast_df['date'],\n",
    "    y=forecast_df['Optimistic'],\n",
    "    name='Optimistic scenario',\n",
    "    legendgroup='LSTM forecast',\n",
    "    line=dict(color='rgba(85, 255, 210, 1)', width=1, dash='dash')\n",
    "), row=1, col=1)\n",
    "\n",
    "fig.add_trace(go.Scatter(\n",
    "    x=forecast_df['date'],\n",
    "    y=forecast_df['Pessimistic'],\n",
    "    name='Pessimistic scenario',\n",
    "    legendgroup='LSTM forecast',\n",
    "    line=dict(color='rgba(147, 146, 255, 1)', width=1, dash='dash')\n",
    "), row=1, col=1)\n",
    "\n",
    "fig.add_trace(go.Scatter(\n",
    "    x=stock_df['date'],\n",
    "    y=stock_df['daily return'],\n",
    "    name='% dly rtn',\n",
    "    legendgroup='Daily returns',\n",
    "    line=dict(color='rgba(117, 183, 98, 1)', width=1)\n",
    "), row=2, col=1)\n",
    "\n",
    "fig.add_trace(go.Scatter(\n",
    "    x=stock_df['date'],\n",
    "    y=stock_df['weekly volatility'],\n",
    "    name='weekly volatility',\n",
    "    legendgroup='Volatility',\n",
    "    line=dict(color='rgba(249, 180, 78, 1)', width=1)\n",
    "), row=3, col=1)\n",
    "\n",
    "fig.add_trace(go.Scatter(\n",
    "    x=stock_df['date'],\n",
    "    y=stock_df['monthly volatility'],\n",
    "    name='monthly volatility',\n",
    "    legendgroup='Volatility',\n",
    "    line=dict(color='rgba(255, 121, 100, 1)', width=1)\n",
    "), row=3, col=1)\n",
    "\n",
    "# Add volume bar chart\n",
    "fig.add_trace(go.Bar(\n",
    "    x=stock_df['date'],\n",
    "    y=stock_df['volume'],\n",
    "    name='Volume',\n",
    "    legendgroup='Volume',\n",
    "    marker_color='rgba(0, 150, 255, 0.6)'\n",
    "), row=4, col=1)\n",
    "\n",
    "# Update layout\n",
    "fig.update_layout(\n",
    "    title=f'{ticker}',\n",
    "    xaxis_title=' ',\n",
    "    yaxis_title='Price ($)',\n",
    "    xaxis_rangeslider_visible=False,\n",
    "    plot_bgcolor='white',\n",
    "    height=1000,\n",
    "    width=1000,\n",
    "    legend=dict(orientation=\"h\", yanchor=\"bottom\", y=1.02, xanchor=\"right\", x=1)\n",
    ")\n",
    "\n",
    "# Update y-axes\n",
    "fig.update_yaxes(title_text=\"Price ($)\", row=1, col=1)\n",
    "fig.update_yaxes(title_text=\"Daily returns\", row=2, col=1)\n",
    "fig.update_yaxes(title_text=\"Volatility\", row=3, col=1)\n",
    "fig.update_yaxes(title_text=\"Volume\", row=4, col=1)\n",
    "fig.update_yaxes(showgrid=True,gridwidth=0.5,gridcolor='lightgrey')\n",
    "fig.update_xaxes(showgrid=True,gridwidth=0.5,gridcolor='lightgrey', nticks=24)\n",
    "# Show the figure\n",
    "fig.show()\n",
    "\n",
    "figu = px.histogram(stock_df, x='daily return',marginal=\"box\", title='Daily returns histogram')\n",
    "figu.update_traces(marker_color='rgba(117, 183, 98, 1)')\n",
    "figu.show()\n",
    "\n",
    "#Treating statistical data often studied on the CFA L1 for context, with explanation. This way, candidates can visualise real-life data of stocks to give a practical context to the concept.\n",
    "\n",
    "sk=stock_df['daily return'].skew()\n",
    "if sk>0:\n",
    "    sk_type=\"skewed to the right: there is a long tail of large positive outliers.\"\n",
    "elif sk<0:\n",
    "    sk_type=\"skewed to the left: there is a long tail of large negative outliers.\"\n",
    "else: sk_type=\"returns are not skewed. Returns are usually stable and predictable.\"\n",
    "\n",
    "kurt=stock_df['daily return'].kurt()\n",
    "excess_kurt=kurt-3\n",
    "if kurt>3 :\n",
    "    kr_type=\"leptokurtic distribution: the tails are heavy, there is a high tail risk and hence usually more erratic returns.\"\n",
    "elif kurt==3 :\n",
    "    kr_type=\"mesokurtic distribution: the distribution is relatively normal.\"\n",
    "else: kr_type=\"platykurtic distribution: the tails are light, there is a lower tail risk and hence usually more stable returns.\"\n",
    "import plotly.graph_objects as go\n",
    "\n",
    "fig = go.Figure()\n",
    "\n",
    "# Skewness Indicator\n",
    "fig.add_trace(go.Indicator(\n",
    "    mode=\"gauge+number\",\n",
    "    value=sk,\n",
    "    delta={'reference': 0, 'relative': False},\n",
    "    title={\"text\": \"Skewness\"},\n",
    "    number={\"valueformat\": \".2f\"},\n",
    "    domain={'row': 0, 'column': 0},\n",
    "    gauge={\n",
    "        'axis': {'range': [-5, 5]},\n",
    "        'bar': {'color': \"green\"},\n",
    "        'steps': [\n",
    "            {'range': [-5, -2], 'color': \"lightcoral\"},\n",
    "            {'range': [-2, 2], 'color': \"lightgray\"},\n",
    "            {'range': [2, 5], 'color': \"lightgreen\"}\n",
    "        ],\n",
    "        'threshold': {\n",
    "            'line': {'color': \"blue\", 'width': 4},\n",
    "            'thickness': 0.75,\n",
    "            'value': sk\n",
    "        }\n",
    "    }\n",
    "))\n",
    "\n",
    "# Kurtosis Indicator\n",
    "fig.add_trace(go.Indicator(\n",
    "    mode=\"gauge+number\",\n",
    "    value=kurt,\n",
    "    delta={'reference': 3, 'relative': False},\n",
    "    title={\"text\": \"Kurtosis\"},\n",
    "    number={\"valueformat\": \".2f\"},\n",
    "    domain={'row': 0, 'column': 1},\n",
    "    gauge={\n",
    "        'axis': {'range': [0, 6]},\n",
    "        'bar': {'color': \"darkblue\"},\n",
    "        'steps': [\n",
    "            {'range': [0, 2], 'color': \"lightgreen\"},\n",
    "            {'range': [2, 4], 'color': \"lightgray\"},\n",
    "            {'range': [4, 6], 'color': \"lightcoral\"}\n",
    "        ],\n",
    "        'threshold': {\n",
    "            'line': {'color': \"blue\", 'width': 4},\n",
    "            'thickness': 0.75,\n",
    "            'value': kurt\n",
    "        }\n",
    "    }\n",
    "))\n",
    "\n",
    "# Layout and annotations\n",
    "fig.update_layout(\n",
    "    grid={'rows': 1, 'columns': 2, 'pattern': \"independent\"},\n",
    "    template=\"plotly_white\",\n",
    ")\n",
    "\n",
    "fig.show()\n",
    "\n",
    "print(f'Skewness: {round(sk,4)}, {sk_type}')\n",
    "print(f'Kurtosis: {round(kurt,4)}, Excess kurtosis: {round(excess_kurt,4)}. This is a {kr_type}')\n",
    "print(' ')\n",
    "\n",
    "print('AI financial analysis:')\n",
    "ollama_chat(f'You are a senior financial analyst, with more than 20 years of experience and a proven track of success and expertise. Your team, clients and colleagues appreciate not only your expertise, but also your ability to put things in perspective, your pedagogy, and your reserve about things you are not sure about. One of your client is considering a company for his investments. You will have to do your best to advise him. He is not a finance expert, but he is capable of understanding intermediate to high-end financial concepts once explained. At your disposal, you have informations about the stock {ticker}, such as the industry of the company which is {stock_industry}, as well as {news_df} the latest news of the company, as well as {stock_df} the historical valus of the stock, as well as {stock_calendar} the main events related to the stock, as well as {kurt} the kurtosis of the returns and {sk} their skewness. You will output a very brief summary of your analysis of the company (8 sentences maximum). This summary shall include: 1: A brief interpretation of the stock price evolution over the last year. 2: an immediate appreciation of the qualities and defaults of the stock right now, taking into consideration the industry in the context of its sector and of the current PESTEL landscape. 3: an investment recommendation, declined depending on the investment objectives of the client. 4: a simple 60 days horizon qualitative prevision of how the stock price will evolve.')\n",
    "\n",
    "## Step 4: Financial statement analysis ##-----------------------------------------------------------------------------------------------\n",
    "print(boxen(\"II. Financial statements analysis\", color=\"cyan\"))\n",
    "print(' ')\n",
    "print(f'Industry of your company: {stock_industry}')\n",
    "print(' ')\n",
    "\n",
    "def Ollama_Analysis_Quant(ratiosDf, metric):\n",
    "    time.sleep(1) # Sometimes, not adding a delay doesn't allow Ollama to collect the accurate information about the company, especially during the first iterations.\n",
    "    print(' ')\n",
    "    print(f'AI financial analysis on {metric} ratios:')\n",
    "    ollama_chat(f'You are a senior financial analyst, with more than 20 years of experience and a proven track of success and expertise. Your team, clients and colleagues appreciate not only your expertise, but also your ability to put things in perspective, your pedagogy, and your reserve about things you are not sure about. One of your young colleagues is considering a company for his investments. You will have to do your best to advise him. He doesn’t have much experience, but he is capable of understanding intermediate to high-end financial concepts once explained. You have to deliver to that young colleague your sentiment about the {metric} of the company {stock_name}. You will begin by analysing the ratios of {ratiosDf}, and then analyse the financial statements {income_statement}, {balance_sheet} and {cashflow} by highlighting the information about {metric} the ratios do not highlight on their own or even conceal. Enrich your analysis with elements in context with the current situation of the company in its sector, and overall the current PESTEL environment that might affect the company and its sector. You will output a 8 sentences maximum summary that covers all these elements.')\n",
    "    print(' ')\n",
    "\n",
    "def scale_dataframe(df, numeric_columns=None):\n",
    "    import re\n",
    "    # Create a copy to avoid modifying the original\n",
    "    scaled_df = df.copy()\n",
    "    # Format date column names\n",
    "    new_column_names = {}\n",
    "    for col in scaled_df.columns:\n",
    "        # Check if column name matches date format YYYY-MM-DD XX:XX:XX\n",
    "        date_match = re.match(r'(\\d{4}-\\d{2}-\\d{2})\\s\\d{2}:\\d{2}:\\d{2}', str(col))\n",
    "        if date_match:\n",
    "            # Extract just the YYYY-MM-DD part\n",
    "            new_column_names[col] = date_match.group(1)\n",
    "    # Rename columns with date format\n",
    "    scaled_df = scaled_df.rename(columns=new_column_names)\n",
    "    # Identify numeric columns if not specified\n",
    "    if numeric_columns is None:\n",
    "        numeric_columns = scaled_df.select_dtypes(include=[np.number]).columns.tolist()\n",
    "    # Find the maximum absolute value to determine scale\n",
    "    max_value = np.nanmax(np.abs(scaled_df[numeric_columns].values))\n",
    "    # Determine appropriate scale\n",
    "    if max_value >= 2_000_000_000:\n",
    "        scale = 1_000_000_000\n",
    "        unit = 'Billions'  # Billions\n",
    "    elif max_value >= 2_000_000:\n",
    "        scale = 1_000_000\n",
    "        unit = 'Millions'  # Millions\n",
    "    else:\n",
    "        scale = 1_000\n",
    "        unit = 'K Thousands'  # Thousands\n",
    "    # Apply scaling to all numeric columns\n",
    "    for col in numeric_columns:\n",
    "        scaled_df[col] = scaled_df[col] / scale    \n",
    "    return scaled_df, unit\n",
    "\n",
    "try:\n",
    "    #Fetching income statement\n",
    "    income_statement=yfin.Ticker(ticker).income_stmt\n",
    "    income_statement, unit=scale_dataframe(income_statement)\n",
    "    income_statement=income_statement.iloc[:, :3]\n",
    "\n",
    "    #Fetching balance sheet\n",
    "    balance_sheet=yfin.Ticker(ticker).balance_sheet\n",
    "    balance_sheet, unit=scale_dataframe(balance_sheet)\n",
    "    balance_sheet=balance_sheet.iloc[:, :3]\n",
    "    \n",
    "    #fetching cashflow statement\n",
    "    cashflow=yfin.Ticker(ticker).cashflow\n",
    "    cashflow, unit=scale_dataframe(cashflow)\n",
    "    cashflow=cashflow.iloc[:, :3]\n",
    "    \n",
    "    marketcap=yfin.Ticker(ticker).info.get('marketCap')\n",
    "    forward_pe=yfin.Ticker(ticker).info.get('forwardPE')\n",
    "    div_yield=yfin.Ticker(ticker).info.get('dividendYield')\n",
    "    trailing_eps=yfin.Ticker(ticker).info.get('trailingEps')\n",
    "except: \n",
    "    print(boxen(f'Sorry, I could not fetch the financial statement data for your company.', color=\"red\"))\n",
    "    sys.exit(1)\n",
    "\n",
    "print(colored('   Profitability ratios:', 'blue', 'on_white', attrs=['bold']))\n",
    "#value = df.loc[name_of_row].iloc[column_number]\n",
    "\n",
    "def variation_over_years(df, NbRow, Reverse=False):\n",
    "    # Convert percentage strings to floats before calculations\n",
    "    try:\n",
    "        # Get the values for all three years\n",
    "        Ratio = df.iloc[(NbRow-1), 0]\n",
    "        val_year1 = df.iloc[(NbRow-1), 1]  # First year (most recent)\n",
    "        val_year2 = df.iloc[(NbRow-1), 2]  # Second year\n",
    "        val_year3 = df.iloc[(NbRow-1), 3]  # Third year (oldest)\n",
    "        \n",
    "        # Convert percentage strings to floats by removing '%' and dividing by 100\n",
    "        if isinstance(val_year1, str) and '%' in val_year1:\n",
    "            val_year1 = float(val_year1.strip('%')) / 100\n",
    "        else:\n",
    "            val_year1 = float(val_year1)\n",
    "            \n",
    "        if isinstance(val_year2, str) and '%' in val_year2:\n",
    "            val_year2 = float(val_year2.strip('%')) / 100\n",
    "        else:\n",
    "            val_year2 = float(val_year2)\n",
    "            \n",
    "        if isinstance(val_year3, str) and '%' in val_year3:\n",
    "            val_year3 = float(val_year3.strip('%')) / 100\n",
    "        else:\n",
    "            val_year3 = float(val_year3)\n",
    "        \n",
    "        # Calculate variations - handle negative values properly\n",
    "        # For negative values, we need to be careful with the calculation\n",
    "        if val_year2 != 0:\n",
    "            var1 = (val_year1 - val_year2) / abs(val_year2)\n",
    "        else:\n",
    "            var1 = 0\n",
    "            \n",
    "        if val_year3 != 0:\n",
    "            var2 = (val_year2 - val_year3) / abs(val_year3)\n",
    "        else:\n",
    "            var2 = 0\n",
    "        \n",
    "        # Determine colors based on Reverse parameter\n",
    "        pos_color = 'red' if Reverse else 'green'\n",
    "        neg_color = 'green' if Reverse else 'red'\n",
    "        \n",
    "        # Format variations as colored percentages with \"+\" for positive values\n",
    "        var1_formatted = colored(\"+{:.2%}\".format(var1) if var1 >= 0 else \"{:.2%}\".format(var1), \n",
    "                                pos_color if var1 >= 0 else neg_color)\n",
    "        var2_formatted = colored(\"+{:.2%}\".format(var2) if var2 >= 0 else \"{:.2%}\".format(var2), \n",
    "                                pos_color if var2 >= 0 else neg_color)\n",
    "        \n",
    "        # Create the new row with colored variations\n",
    "        df.loc[NbRow] = [colored(f'{Ratio} variation','blue'), \n",
    "                         var1_formatted,\n",
    "                         var2_formatted,\n",
    "                         \"----\", \n",
    "                         colored(f'Variation of previous ratio','blue')]\n",
    "    except Exception as e:\n",
    "        print(f\"Error in variation_over_years: {e}\")\n",
    "        # Add a placeholder row instead of failing\n",
    "        df.loc[NbRow] = [colored(f'{Ratio} variation', 'blue'), \n",
    "                         \"Error\",\n",
    "                         \"Error\",\n",
    "                         \"----\", \n",
    "                         colored(f'Variation of previous ratio', 'blue')]\n",
    "    \n",
    "    return df.loc[NbRow]\n",
    "#Profitability ratios:\n",
    "try :\n",
    "    prof_ratios_df = pd.DataFrame(columns=['Metric'] + income_statement.columns[-3:].tolist() + ['Description'])\n",
    "    prof_ratios_df.loc[0]=['Gross profit margin', \n",
    "                       \"{:.2%}\".format(income_statement.loc['Gross Profit'].iloc[0]/income_statement.loc['Total Revenue'].iloc[0]),\n",
    "                       \"{:.2%}\".format(income_statement.loc['Gross Profit'].iloc[1]/income_statement.loc['Total Revenue'].iloc[1]),\n",
    "                       \"{:.2%}\".format(income_statement.loc['Gross Profit'].iloc[2]/income_statement.loc['Total Revenue'].iloc[2]),\n",
    "                       'Gross profit/ revenue']\n",
    "\n",
    "    variation_over_years(prof_ratios_df,1)\n",
    "\n",
    "    prof_ratios_df.loc[2]=['Operating profit margin', \n",
    "                       \"{:.2%}\".format(income_statement.loc['Operating Income'].iloc[0]/income_statement.loc['Total Revenue'].iloc[0]),\n",
    "                       \"{:.2%}\".format(income_statement.loc['Operating Income'].iloc[1]/income_statement.loc['Total Revenue'].iloc[1]),\n",
    "                       \"{:.2%}\".format(income_statement.loc['Operating Income'].iloc[2]/income_statement.loc['Total Revenue'].iloc[2]),\n",
    "                       'Operating income/ revenue']\n",
    "\n",
    "    variation_over_years(prof_ratios_df,3)\n",
    "\n",
    "    prof_ratios_df.loc[4]=['Net profit margin',\n",
    "                       \"{:.2%}\".format(income_statement.loc['Net Income'].iloc[0]/income_statement.loc['Total Revenue'].iloc[0]),\n",
    "                       \"{:.2%}\".format(income_statement.loc['Net Income'].iloc[1]/income_statement.loc['Total Revenue'].iloc[1]),\n",
    "                       \"{:.2%}\".format(income_statement.loc['Net Income'].iloc[2]/income_statement.loc['Total Revenue'].iloc[2]),\n",
    "                       'Net income/ revenue']\n",
    "\n",
    "    variation_over_years(prof_ratios_df,5)\n",
    "\n",
    "    prof_ratios_df.loc[6]=['--------', '--------', '--------', '--------', '------------------------------']\n",
    "\n",
    "    prof_ratios_df.loc[7]=['ROA (Return On Assets)', \n",
    "                       \"{:.2%}\".format(income_statement.loc['Net Income'].iloc[0]/balance_sheet.loc['Total Assets'].iloc[0]),\n",
    "                       \"{:.2%}\".format(income_statement.loc['Net Income'].iloc[1]/balance_sheet.loc['Total Assets'].iloc[1]),\n",
    "                       \"{:.2%}\".format(income_statement.loc['Net Income'].iloc[2]/balance_sheet.loc['Total Assets'].iloc[2]),\n",
    "                       'Net income/ Total assets']\n",
    "\n",
    "    variation_over_years(prof_ratios_df,8)\n",
    "\n",
    "    prof_ratios_df.loc[9]=['Operating return on assets', \n",
    "                       \"{:.2%}\".format(income_statement.loc['Operating Income'].iloc[0]/balance_sheet.loc['Total Assets'].iloc[0]),\n",
    "                       \"{:.2%}\".format(income_statement.loc['Operating Income'].iloc[1]/balance_sheet.loc['Total Assets'].iloc[1]),\n",
    "                       \"{:.2%}\".format(income_statement.loc['Operating Income'].iloc[2]/balance_sheet.loc['Total Assets'].iloc[2]),\n",
    "                       'Operating income/ total assets']\n",
    "\n",
    "    variation_over_years(prof_ratios_df,10)\n",
    "\n",
    "    prof_ratios_df.loc[11]=['Simp.ROCE (Return On Capital Employed)', \n",
    "                       \"{:.2%}\".format(income_statement.loc['EBIT'].iloc[0]/(balance_sheet.loc['Total Debt'].iloc[0]+balance_sheet.loc['Total Equity Gross Minority Interest'].iloc[0])),\n",
    "                       \"{:.2%}\".format(income_statement.loc['EBIT'].iloc[1]/(balance_sheet.loc['Total Debt'].iloc[1]+balance_sheet.loc['Total Equity Gross Minority Interest'].iloc[1])),\n",
    "                       \"{:.2%}\".format(income_statement.loc['EBIT'].iloc[2]/(balance_sheet.loc['Total Debt'].iloc[2]+balance_sheet.loc['Total Equity Gross Minority Interest'].iloc[2])),\n",
    "                       'EBIT/ (total debt + Total equity)']\n",
    "\n",
    "    variation_over_years(prof_ratios_df,12)\n",
    "\n",
    "    prof_ratios_df.loc[13]=['ROE (Return on Equity)', \n",
    "                       \"{:.2%}\".format(income_statement.loc['Net Income'].iloc[0]/balance_sheet.loc['Total Equity Gross Minority Interest'].iloc[0]),\n",
    "                       \"{:.2%}\".format(income_statement.loc['Net Income'].iloc[1]/balance_sheet.loc['Total Equity Gross Minority Interest'].iloc[1]),\n",
    "                       \"{:.2%}\".format(income_statement.loc['Net Income'].iloc[2]/balance_sheet.loc['Total Equity Gross Minority Interest'].iloc[2]),\n",
    "                       'Net income/ total equity']\n",
    "\n",
    "    variation_over_years(prof_ratios_df,14)\n",
    "\n",
    "    print(prof_ratios_df.to_markdown())\n",
    "    Ollama_Analysis_Quant(prof_ratios_df, 'profitability')\n",
    "except: print('Computing the ratios of this section failed. This might be due to a change of the financial statement layout on Yahoo Finance which varies when fetched from certain providers.')\n",
    "print(' ')\n",
    "\n",
    "print(colored('   Asset related ratios:', 'blue', 'on_white', attrs=['bold']))\n",
    "assets_ratios_df = pd.DataFrame(columns=['Metric'] + income_statement.columns[-3:].tolist() + ['Description'])\n",
    "\n",
    "try:\n",
    "    assets_ratios_df.loc[0]=['Fixed assets turnover', \n",
    "                       round(income_statement.loc['Total Revenue'].iloc[0]/balance_sheet.loc['Net PPE'].iloc[0],2),\n",
    "                       round(income_statement.loc['Total Revenue'].iloc[1]/balance_sheet.loc['Net PPE'].iloc[1],2),\n",
    "                       round(income_statement.loc['Total Revenue'].iloc[2]/balance_sheet.loc['Net PPE'].iloc[2],2),\n",
    "                       'revenue/ net fixed assets']\n",
    "    variation_over_years(assets_ratios_df,1)\n",
    "\n",
    "    assets_ratios_df.loc[2]=['Total asset turnover', \n",
    "                       round(income_statement.loc['Total Revenue'].iloc[0]/balance_sheet.loc['Total Assets'].iloc[0],2),\n",
    "                       round(income_statement.loc['Total Revenue'].iloc[1]/balance_sheet.loc['Total Assets'].iloc[1],2),\n",
    "                       round(income_statement.loc['Total Revenue'].iloc[2]/balance_sheet.loc['Total Assets'].iloc[2],2),\n",
    "                       'revenue/ total assets']\n",
    "    variation_over_years(assets_ratios_df,3)\n",
    "\n",
    "    assets_ratios_df.loc[4]=['Working capital turnover', \n",
    "                       \"{:.2%}\".format(income_statement.loc['Total Revenue'].iloc[0]/((balance_sheet.loc['Working Capital'].iloc[0]+balance_sheet.loc['Working Capital'].iloc[1])/2)),\n",
    "                        \"{:.2%}\".format(income_statement.loc['Total Revenue'].iloc[1]/((balance_sheet.loc['Working Capital'].iloc[1]+balance_sheet.loc['Working Capital'].iloc[2])/2)),\n",
    "                        '----',\n",
    "                       'Total revenue/ Avg working capital using previous year data']\n",
    "\n",
    "    print(assets_ratios_df.to_markdown())\n",
    "    Ollama_Analysis_Quant(assets_ratios_df, 'asset ratios')\n",
    "except: print('Computing the ratios of this section failed. This might be due to a change of the financial statement layout on Yahoo Finance which varies when fetched from certain providers.')\n",
    "print(' ')\n",
    "\n",
    "print(colored('   Liquidity ratios:', 'blue', 'on_white', attrs=['bold']))\n",
    "#Liquidity ratios:\n",
    "liq_ratios_df = pd.DataFrame(columns=['Metric'] + income_statement.columns[-3:].tolist() + ['Description'])\n",
    "\n",
    "try:\n",
    "\n",
    "    liq_ratios_df.loc[0]=['Full current ratio', \n",
    "                       round((balance_sheet.loc['Current Assets'].iloc[0])/balance_sheet.loc['Current Liabilities'].iloc[0],2),\n",
    "                       round((balance_sheet.loc['Current Assets'].iloc[1])/balance_sheet.loc['Current Liabilities'].iloc[1],2),\n",
    "                       round((balance_sheet.loc['Current Assets'].iloc[2])/balance_sheet.loc['Current Liabilities'].iloc[2],2),\n",
    "                       'Uses total current assets, better for sector comparison']\n",
    "    variation_over_years(liq_ratios_df,1)\n",
    "\n",
    "\n",
    "    liq_ratios_df.loc[2]=['Conservative current ratio', \n",
    "                       round((balance_sheet.loc['Cash Cash Equivalents And Short Term Investments'].iloc[0]+balance_sheet.loc['Accounts Receivable'].iloc[0]+balance_sheet.loc['Inventory'].iloc[0])/balance_sheet.loc['Current Liabilities'].iloc[0],2),\n",
    "                       round((balance_sheet.loc['Cash Cash Equivalents And Short Term Investments'].iloc[1]+balance_sheet.loc['Accounts Receivable'].iloc[1]+balance_sheet.loc['Inventory'].iloc[1])/balance_sheet.loc['Current Liabilities'].iloc[1],2),\n",
    "                       round((balance_sheet.loc['Cash Cash Equivalents And Short Term Investments'].iloc[2]+balance_sheet.loc['Accounts Receivable'].iloc[2]+balance_sheet.loc['Inventory'].iloc[2])/balance_sheet.loc['Current Liabilities'].iloc[2],2),\n",
    "                       'Takes in count cash/receivables/inventory only.']\n",
    "    variation_over_years(liq_ratios_df,3)\n",
    "\n",
    "    liq_ratios_df.loc[4]=['Quick ratio', \n",
    "                       round((balance_sheet.loc['Cash Cash Equivalents And Short Term Investments'].iloc[0]+balance_sheet.loc['Accounts Receivable'].iloc[0])/balance_sheet.loc['Current Liabilities'].iloc[0],2),\n",
    "                       round((balance_sheet.loc['Cash Cash Equivalents And Short Term Investments'].iloc[1]+balance_sheet.loc['Accounts Receivable'].iloc[1])/balance_sheet.loc['Current Liabilities'].iloc[1],2),\n",
    "                       round((balance_sheet.loc['Cash Cash Equivalents And Short Term Investments'].iloc[2]+balance_sheet.loc['Accounts Receivable'].iloc[2])/balance_sheet.loc['Current Liabilities'].iloc[2],2),\n",
    "                       'Current ratio without inventory']\n",
    "    variation_over_years(liq_ratios_df,5)\n",
    "\n",
    "    liq_ratios_df.loc[6]=['Cash ratio', \n",
    "                       round((balance_sheet.loc['Cash Cash Equivalents And Short Term Investments'].iloc[0])/balance_sheet.loc['Current Liabilities'].iloc[0],2),\n",
    "                       round((balance_sheet.loc['Cash Cash Equivalents And Short Term Investments'].iloc[1])/balance_sheet.loc['Current Liabilities'].iloc[1],2),\n",
    "                       round((balance_sheet.loc['Cash Cash Equivalents And Short Term Investments'].iloc[2])/balance_sheet.loc['Current Liabilities'].iloc[2],2),\n",
    "                       'Current ratio without inventory/ receivables']\n",
    "    variation_over_years(liq_ratios_df,7)\n",
    "\n",
    "    print(liq_ratios_df.to_markdown())\n",
    "    Ollama_Analysis_Quant(liq_ratios_df, 'liquidity')\n",
    "except: print('Computing the ratios of this section failed. This might be due to a change of the financial statement layout on Yahoo Finance which varies when fetched from certain providers.')\n",
    "print(' ')\n",
    "\n",
    "print(colored('   Solvency ratios:', 'blue', 'on_white', attrs=['bold']))\n",
    "print(' ')\n",
    "#Solvency ratios\n",
    "print(colored('      Level of debt ratios:', 'blue', attrs=['bold']))\n",
    "dbt_ratios_df = pd.DataFrame(columns=['Metric'] + income_statement.columns[-3:].tolist() + ['Description'])\n",
    "\n",
    "try:\n",
    "    dbt_ratios_df.loc[0]=['Debt to assets ratio', \n",
    "                       round((balance_sheet.loc['Total Debt'].iloc[0])/balance_sheet.loc['Total Liabilities Net Minority Interest'].iloc[0],2),\n",
    "                       round((balance_sheet.loc['Total Debt'].iloc[1])/balance_sheet.loc['Total Liabilities Net Minority Interest'].iloc[1],2),\n",
    "                       round((balance_sheet.loc['Total Debt'].iloc[2])/balance_sheet.loc['Total Liabilities Net Minority Interest'].iloc[2],2),\n",
    "                       'Total debt/ total assets']\n",
    "    variation_over_years(dbt_ratios_df,1, True)\n",
    "\n",
    "    dbt_ratios_df.loc[2]=['Debt to capital ratio', \n",
    "                       round(balance_sheet.loc['Total Debt'].iloc[0]/(balance_sheet.loc['Total Debt'].iloc[0]+balance_sheet.loc['Stockholders Equity'].iloc[0]),2),\n",
    "                       round(balance_sheet.loc['Total Debt'].iloc[1]/(balance_sheet.loc['Total Debt'].iloc[1]+balance_sheet.loc['Stockholders Equity'].iloc[1]),2),\n",
    "                       round(balance_sheet.loc['Total Debt'].iloc[2]/(balance_sheet.loc['Total Debt'].iloc[2]+balance_sheet.loc['Stockholders Equity'].iloc[2]),2),\n",
    "                       'Total debt/(total debt + total shareholders equity)']\n",
    "    variation_over_years(dbt_ratios_df,3, True)\n",
    "\n",
    "    dbt_ratios_df.loc[4]=['Debt to equity ratio', \n",
    "                       round((balance_sheet.loc['Total Debt'].iloc[0])/balance_sheet.loc['Stockholders Equity'].iloc[0],2),\n",
    "                       round((balance_sheet.loc['Total Debt'].iloc[1])/balance_sheet.loc['Stockholders Equity'].iloc[1],2),\n",
    "                       round((balance_sheet.loc['Total Debt'].iloc[2])/balance_sheet.loc['Stockholders Equity'].iloc[2],2),\n",
    "                       'Total debt/ total shareholders equity']\n",
    "    variation_over_years(dbt_ratios_df,5, True)\n",
    "\n",
    "    dbt_ratios_df.loc[6]=['Financial leverage ratio', \n",
    "                       round((balance_sheet.loc['Total Assets'].iloc[0])/balance_sheet.loc['Stockholders Equity'].iloc[0],2),\n",
    "                       round((balance_sheet.loc['Total Assets'].iloc[1])/balance_sheet.loc['Stockholders Equity'].iloc[1],2),\n",
    "                       round((balance_sheet.loc['Total Assets'].iloc[2])/balance_sheet.loc['Stockholders Equity'].iloc[2],2),\n",
    "                       'Total assets/ total equity. Higher=more debt used']\n",
    "    variation_over_years(dbt_ratios_df,7, True)\n",
    "\n",
    "    print(dbt_ratios_df.to_markdown())\n",
    "    Ollama_Analysis_Quant(dbt_ratios_df, 'level of debt')\n",
    "except: print('Computing the ratios of this section failed. This might be due to a change of the financial statement layout on Yahoo Finance which varies when fetched from certain providers.')\n",
    "print(' ')\n",
    "print(colored('      Coverage ratios:', 'blue', attrs=['bold']))\n",
    "\n",
    "cov_ratios_df = pd.DataFrame(columns=['Metric'] + income_statement.columns[-3:].tolist() + ['Description'])\n",
    "\n",
    "try:\n",
    "    cov_ratios_df.loc[0]=['Interest coverage', \n",
    "                       round(income_statement.loc['EBIT'].iloc[0]/income_statement.loc['Interest Expense'].iloc[0],2),\n",
    "                       round(income_statement.loc['EBIT'].iloc[1]/income_statement.loc['Interest Expense'].iloc[1],2),\n",
    "                       round(income_statement.loc['EBIT'].iloc[2]/income_statement.loc['Interest Expense'].iloc[2],2),\n",
    "                       'EBIT/ interest payments. Ability to pay debt interests']\n",
    "    variation_over_years(cov_ratios_df,1)\n",
    "\n",
    "    cov_ratios_df.loc[2]=['Debt to EBITDA', \n",
    "                       round(balance_sheet.loc['Total Debt'].iloc[0]/income_statement.loc['EBITDA'].iloc[0],2),\n",
    "                       round(balance_sheet.loc['Total Debt'].iloc[1]/income_statement.loc['EBITDA'].iloc[1],2),\n",
    "                       round(balance_sheet.loc['Total Debt'].iloc[2]/income_statement.loc['EBITDA'].iloc[2],2),\n",
    "                       'Number of years to pay off debt from earnings']\n",
    "    variation_over_years(cov_ratios_df,3, True)\n",
    "\n",
    "    print(cov_ratios_df.to_markdown())\n",
    "    Ollama_Analysis_Quant(cov_ratios_df, 'coverage')\n",
    "except: print('Computing the ratios of this section failed. This might be due to a change of the financial statement layout on Yahoo Finance which varies when fetched from certain providers.')\n",
    "print(' ')\n",
    "\n",
    "print(colored('   Cash flows calculations: Operational ratios:', 'blue', 'on_white', attrs=['bold']))\n",
    "\n",
    "cf_ratios_df = pd.DataFrame(columns=['Metric'] + income_statement.columns[-3:].tolist() + ['Description'])\n",
    "\n",
    "try:\n",
    "    cf_ratios_df.loc[0]=['CFI: Investing Cashflow', \n",
    "                       round(cashflow.loc['Investing Cash Flow'].iloc[0],2),\n",
    "                       round(cashflow.loc['Investing Cash Flow'].iloc[1],2),\n",
    "                       round(cashflow.loc['Investing Cash Flow'].iloc[2],2),\n",
    "                       'cash received on asset sales - investment in assets']\n",
    "    variation_over_years(cf_ratios_df,1)\n",
    "\n",
    "    cf_ratios_df.loc[2]=['CFF: Financing Cashflow', \n",
    "                       round(cashflow.loc['Financing Cash Flow'].iloc[0],2),\n",
    "                       round(cashflow.loc['Financing Cash Flow'].iloc[1],2),\n",
    "                       round(cashflow.loc['Financing Cash Flow'].iloc[2],2),\n",
    "                       'change in debt/common stock + cash dividends paid']\n",
    "    variation_over_years(cf_ratios_df,3)\n",
    "\n",
    "    cf_ratios_df.loc[4]=['CFO: Cashflow from Operations', \n",
    "                       round(cashflow.loc['Operating Cash Flow'].iloc[0],2),\n",
    "                       round(cashflow.loc['Operating Cash Flow'].iloc[1],2),\n",
    "                       round(cashflow.loc['Operating Cash Flow'].iloc[2],2),\n",
    "                       'Qualitative if higher than reported earnings']\n",
    "    variation_over_years(cf_ratios_df,5)\n",
    "\n",
    "    cf_ratios_df.loc[6]=['--------', '--------', '--------', '--------', '------------------------------']\n",
    "\n",
    "    cf_ratios_df.loc[7]=['CFO to revenue', \n",
    "                       round(cashflow.loc['Operating Cash Flow'].iloc[0]/income_statement.loc['Total Revenue'].iloc[0],2),\n",
    "                       round(cashflow.loc['Operating Cash Flow'].iloc[1]/income_statement.loc['Total Revenue'].iloc[1],2),\n",
    "                       round(cashflow.loc['Operating Cash Flow'].iloc[2]/income_statement.loc['Total Revenue'].iloc[2],2),\n",
    "                       'CFO/ net revenue']\n",
    "    variation_over_years(cf_ratios_df,8)\n",
    "\n",
    "    cf_ratios_df.loc[9]=['Cash return on assets', \n",
    "                       round(cashflow.loc['Operating Cash Flow'].iloc[0]/balance_sheet.loc['Total Assets'].iloc[0],2),\n",
    "                       round(cashflow.loc['Operating Cash Flow'].iloc[1]/balance_sheet.loc['Total Assets'].iloc[1],2),\n",
    "                       round(cashflow.loc['Operating Cash Flow'].iloc[2]/balance_sheet.loc['Total Assets'].iloc[2],2),\n",
    "                       'CFO/ total assets']\n",
    "    variation_over_years(cf_ratios_df,10)\n",
    "\n",
    "    cf_ratios_df.loc[11]=['Debt coverage', \n",
    "                       round(cashflow.loc['Operating Cash Flow'].iloc[0]/balance_sheet.loc['Total Debt'].iloc[0],2),\n",
    "                       round(cashflow.loc['Operating Cash Flow'].iloc[1]/balance_sheet.loc['Total Debt'].iloc[1],2),\n",
    "                       round(cashflow.loc['Operating Cash Flow'].iloc[2]/balance_sheet.loc['Total Debt'].iloc[2],2),\n",
    "                       'CFO/ total debt']\n",
    "    variation_over_years(cf_ratios_df,12)\n",
    "\n",
    "    print(cf_ratios_df.to_markdown())\n",
    "    Ollama_Analysis_Quant(cf_ratios_df, 'solvency')\n",
    "except: print('Computing the ratios of this section failed. This might be due to a change of the financial statement layout on Yahoo Finance which varies when fetched from certain providers.')\n",
    "\n",
    "## Step 5: Appendix ##------------------------------------------------------------------\n",
    "print(boxen(\"Appendix: Financial statements in detail\", color=\"cyan\"))\n",
    "#This way, if something seems unusual in the ratios/ AI commentaries, the user can check out for himself the raw data. It is also used for debugging when adding new features. Limitation: The conversion in billions/ millions/... also affects percentages such as tax rates.\n",
    "\n",
    "print(boxen(f'Income statement (expressed in {unit}):'))\n",
    "print(income_statement.to_markdown())\n",
    "print(boxen(f'Balance sheet (expressed in {unit}):'))\n",
    "print(balance_sheet.to_markdown())\n",
    "print(boxen(f'Cashflow Statement (expressed in {unit}):'))\n",
    "print(cashflow.to_markdown())\n",
    "\n",
    "## Credits ##------------------------------------------------------------------\n",
    "print(boxen(\"Code: © G.RUQUILLA - CC BY-NC-SA\"))\n",
    "print(\"This license enables reusers to distribute, remix, adapt, and build upon the material in any medium or format for noncommercial purposes only, and only so long as attribution is given to the creator. If you remix, adapt, or build upon the material, you must license the modified material under identical terms. Data is fetched from Yahoo Finance through Yfinance and Google RSS feeds through pygooglenews. The information provided is for general informational and educational purposes only and does not constitute investment advice, financial advice, trading advice, or any other form of advice.\")"
   ]
  },
  {
   "cell_type": "code",
   "execution_count": null,
   "id": "b2eefe49-4003-455a-8567-ac31856bcb84",
   "metadata": {},
   "outputs": [],
   "source": []
  }
 ],
 "metadata": {
  "kernelspec": {
   "display_name": "Python [conda env:base] *",
   "language": "python",
   "name": "conda-base-py"
  },
  "language_info": {
   "codemirror_mode": {
    "name": "ipython",
    "version": 3
   },
   "file_extension": ".py",
   "mimetype": "text/x-python",
   "name": "python",
   "nbconvert_exporter": "python",
   "pygments_lexer": "ipython3",
   "version": "3.13.5"
  }
 },
 "nbformat": 4,
 "nbformat_minor": 5
}
