{
 "cells": [
  {
   "cell_type": "code",
   "execution_count": 2,
   "id": "a17a097c-86d4-4b33-a1ae-f85aaf429104",
   "metadata": {
    "scrolled": true
   },
   "outputs": [
    {
     "data": {
      "text/html": [
       "<pre style=\"white-space:pre;overflow-x:auto;line-height:normal;font-family:Menlo,'DejaVu Sans Mono',consolas,'Courier New',monospace\"></pre>\n"
      ],
      "text/plain": []
     },
     "metadata": {},
     "output_type": "display_data"
    },
    {
     "name": "stdout",
     "output_type": "stream",
     "text": [
      "\u001b[36m╭──────────────────────────────────────╮\u001b[0m                                                                           \n",
      "\u001b[36m│\u001b[0mFinAPy: Financial Analysis with Python\u001b[36m│\u001b[0m                                                                           \n",
      "\u001b[36m╰──────────────────────────────────────╯\u001b[0m                                                                           \n",
      "\n"
     ]
    },
    {
     "name": "stdin",
     "output_type": "stream",
     "text": [
      "Enter the ticker of the stock:  NVDA\n",
      "Would you like to have local AI synthetic analysis? This feature requires Ollama and demands both time and processing power. Type y for yes, n for no y\n"
     ]
    },
    {
     "data": {
      "text/html": [
       "<pre style=\"white-space:pre;overflow-x:auto;line-height:normal;font-family:Menlo,'DejaVu Sans Mono',consolas,'Courier New',monospace\"></pre>\n"
      ],
      "text/plain": []
     },
     "metadata": {},
     "output_type": "display_data"
    },
    {
     "name": "stdout",
     "output_type": "stream",
     "text": [
      "\u001b[32m╭─────────────────────────────────────────────────────────────────────────────────────────────────────────────────╮\u001b[0m\n",
      "\u001b[32m│\u001b[0mI identified the company as NVIDIA Corporation. It is a company of the Semiconductors industry, part of the      \u001b[32m│\u001b[0m\n",
      "\u001b[32m│\u001b[0mTechnology sector, based in Santa Clara, United States. It employs 36000 full time employees. I am now fetching  \u001b[32m│\u001b[0m\n",
      "\u001b[32m│\u001b[0mthe news, it can take a few minutes...                                                                           \u001b[32m│\u001b[0m\n",
      "\u001b[32m╰─────────────────────────────────────────────────────────────────────────────────────────────────────────────────╯\u001b[0m\n",
      "\n"
     ]
    },
    {
     "data": {
      "text/markdown": [
       "In the meantime, for your information, NVIDIA Corporation, a computing infrastructure company, provides graphics and compute and networking solutions in the United States, Singapore, Taiwan, China, Hong Kong, and internationally. The Compute & Networking segment includes its Data Centre accelerated computing platforms and artificial intelligence solutions and software; networking; automotive platforms and autonomous and electric vehicle solutions; Jetson for robotics and other embedded platforms; and DGX Cloud computing services. The Graphics segment offers GeForce GPUs for gaming and PCs, the GeForce NOW game streaming service and related infrastructure, and solutions for gaming platforms; Quadro/NVIDIA RTX GPUs for enterprise workstation graphics; virtual GPU or vGPU software for cloud-based visual and virtual computing; automotive platforms for infotainment systems; and Omniverse software for building and operating industrial AI and digital twin applications. It also customized agentic solutions designed in collaboration with NVIDIA to accelerate enterprise AI adoption. The company's products are used in gaming, professional visualization, data center, and automotive markets. It sells its products to original equipment manufacturers, original device manufacturers, system integrators and distributors, independent software vendors, cloud service providers, consumer internet companies, add-in board manufacturers, distributors, automotive manufacturers and tier-1 automotive suppliers, and other ecosystem participants. NVIDIA Corporation was incorporated in 1993 and is headquartered in Santa Clara, California."
      ],
      "text/plain": [
       "<IPython.core.display.Markdown object>"
      ]
     },
     "metadata": {},
     "output_type": "display_data"
    },
    {
     "name": "stderr",
     "output_type": "stream",
     "text": [
      "Device set to use cpu\n"
     ]
    },
    {
     "name": "stdout",
     "output_type": "stream",
     "text": [
      "\n",
      "Found 100 news articles for NVIDIA Corporation. I will now proceed to the analysis, this can take a few minutes.\n"
     ]
    },
    {
     "data": {
      "text/html": [
       "<pre style=\"white-space:pre;overflow-x:auto;line-height:normal;font-family:Menlo,'DejaVu Sans Mono',consolas,'Courier New',monospace\"></pre>\n"
      ],
      "text/plain": []
     },
     "metadata": {},
     "output_type": "display_data"
    },
    {
     "name": "stdout",
     "output_type": "stream",
     "text": [
      "\u001b[36m╭───────────────────────╮\u001b[0m                                                                                          \n",
      "\u001b[36m│\u001b[0mI. Market data analysis\u001b[36m│\u001b[0m                                                                                          \n",
      "\u001b[36m╰───────────────────────╯\u001b[0m                                                                                          \n",
      "\n"
     ]
    },
    {
     "data": {
      "application/vnd.plotly.v1+json": {
       "config": {
        "plotlyServerURL": "https://plot.ly"
       },
       "data": [
        {
         "close": {
          "bdata": "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",
          "dtype": "f8"
         },
         "high": {
          "bdata": "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",
          "dtype": "f8"
         },
         "legendgroup": "Base information",
         "low": {
          "bdata": "kwAQpJUaYUA/Q+tQsydhQJPZ6ui7PmFAIq3j36i3YUAgwIWOdS1hQIPsWzRzTWFA4QDa/E6YYUCnonTaUIBhQNwP94SGW2FAAVAfMaoYYUB/lL3mToJgQINc05IB0WBApaiRIP/wYECjclvPTClhQIGlqPJqvWFABAqgfBlEYkAA8nh3+kZiQHKgXTjs8GFA3nK8+vo+YkC5RXIedjtiQKfSpLdDMGJASyCDVkaBYUBvBz2MiiNhQLpVSANjnmFAXJPb6wzWYUBQlG4EHJVhQAFTCd/noWFAs0hDeP74YEAcP2MPMvRgQJWyfhBkeGBAdORyKloAYUAO2g/H+ThhQDssLIwiPWFAEwLzQv6HYUDdgd6aZf1hQFUpGmTvqGFAAACcPzQjYUAtNqzoWLhgQI2KNBHH5WBAXIFHX6f4YEDF2/UsW5BgQDZRA9KHTGBAMwx1mEW1X0D3p8HfEAhgQLJcVGSyMGBAkPhNcCUGYEAdP6ne5eJgQHAp82zVU2FAE+y0bGY2YUCN9zEayNVgQHH7XLG0v2BAn/8DsqC5YEAfgbPQONNgQB3p6NRidmFAEf1mvzV5YkCtr2b7V39hQPTrzAz2MGFAhKCM4xrGYEAin4fiai9gQEcsLY2xQGBAbIM0dF1oYEBW5Izkv65gQD4v5qPG7WBALXcjrOwhYUD+CRJwcPRhQHmpXt4J9mFAPEgL0iu7YUD2nHFDLCtdQOMXKzVhDl1AAvEI5oYBXkDGGM/+wIRdQH03u8N/yl1ATl3/pRA/XEDalkhVLCtdQISTagX1Ll5AsMlYwrFLX0AzQRjHQT5fQAYoTHHQPWBANmvLLLpfYEBVvf4MqSFgQFeAwZmGZGBA2NI3Og7vYEDnWi5/zDxhQOdD7nUVJmFAmayGjFMYYUAs5beWBsBgQMNoUlunQWBASjwREG0aX0AXH8b5yA5gQPYJ27/3/l1AVBzaRvoXXUAeLADaWhBcQNSGIVuBhVtAWWwCNQufXEBQJa4/i4xbQGMIVi5X4lpAw/AALfhbWkDmZSe90S9aQIlqukRpN1xAqhaX0KRxXEDNYB4hpohdQEUDgDf4gF1A+drFNaOhXEAtHPqqlupcQE+vQ18kHV1AUUIwU/PZXECrDkaEzNRdQGeJ6SXsuV1AXywYSogsXEDQnTR2WalbQDXnhhyaQ1tA7Aaq/8PoWUD3RYj2OJ1aQFkFqTuzsVpAofOO6ZRlWUAwH8RoTAZXQN1wV3r7plVAOPPw6q2cV0CbGk9kImFYQLUBfjvNyFhAzElBvdrdWkA1rJQBmkNbQCLW90Acn1tAazLHs/0bWUAROg34ZAJZQE8TvHrLwVdASTS58SJRWEDe5ipMdYBZQN5w3Zg1xllADR1Ogd5tWkD2/Nj2bIBaQCof2oFL21pAHxfXOUgEWkDm5KDDTdJbQBVpPnTEVlxAzFkkRFUpXEDDaBR7lrNbQOx35BkEEVxAMKjloXf1XEAf7ggYg8xcQOdjGZvzEF5ACQdlABQdX0DOvcLFOnVgQJVWs/yVlGBAgtus3y6uYEClsS5n8otgQFSoyzBOk2BA6MRWn1pSYEChiKgREnFgQFNiubGZJGBA36w5AmKpYEAFiEbFvNhgQPAuiLGQPGFAU+QCp+ecYED0mYsqQexgQBajOx/YPWFAStre07dwYUAtZ/9RAFphQITJbve/r2FAK3sNNoK9YUBzACnhY7BhQNxAkHGVu2FA1ZectPG6YUCc0ogk8pphQOrhTDAk5mFAt7U8SLP4YUDs4kfXlONhQAMbBM6K1GFAkBIsHbTAYUAXNAq8vC9iQMu67fQMqGJABcyl2Lg/Y0DPx3kmCmhjQP7PHlBwfmNAFLfYNWjvYkC3hgiawx5jQHsMtvlauGNAMOZ4ipiqY0CaVE2+McxjQMYsbUvUJGRAC6A/hjozZEASRVfLvm5kQKUDTBJZQGRADSFvMRgmZUCwgfTDfhxlQGB7fIBAWmVAOiH3xwJoZUCLAuoMsV9lQO7nmmFDkmRA8bk8rLz+ZECDCYWASmllQOAw139onmVAuz+p6Lm+ZUAY8/r5UuBlQLcwr132AGZAJkVORXH9ZUB3h6zuK1xlQDl220dT0GVA+pwvd3v8ZUD6TtiWrgdmQKS68whHWWZAi+rrb3mMZkDeFxu2rIdmQH3eoXVlbmZAysXdaOBqZkCk7+NuZW5mQG1rD131QGZAxcgEyI2SZkB5TbwRXe9lQLdIQqxLGWVAbMdvKpu5ZUDc7D9DF2ZlQAvz3f7rEWZAfr8t3phZZkCBPpiH4GJmQKBnwzzNDGZAHRrduXykZUDUpukEveZkQJuylw3bG2VAuMbridAsZUDbp7q88YFkQG/ShvHl6mRAqOFaG2HXZEAqCtk7ue5lQAAAACBcD2ZAAAAAYGYOZkAAAADgUdBlQAAAAAApzGVAAAAAwB4NZUAAAABguJ5lQAAAAIDC5WVAAAAAYLjWZUAAAABguAZmQAAAAMDM7GVAAAAAACmkZUAAAACAwt1lQAAAAIA9imZAAAAAIFyvZkAAAADAzPxmQAAAAIDrgWdAAAAAACksZ0AAAABgj+pmQAAAAAAAAGdAAAAAoEdRZ0AAAACA6+FnQAAAAKCZwWZAAAAAYLg+Z0AAAABgZnZmQAAAAKBHKWZAAAAA4KN4ZkA=",
          "dtype": "f8"
         },
         "name": "Price",
         "open": {
          "bdata": "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",
          "dtype": "f8"
         },
         "type": "candlestick",
         "x": [
          "2024-10-17T00:00:00.000000000",
          "2024-10-18T00:00:00.000000000",
          "2024-10-21T00:00:00.000000000",
          "2024-10-22T00:00:00.000000000",
          "2024-10-23T00:00:00.000000000",
          "2024-10-24T00:00:00.000000000",
          "2024-10-25T00:00:00.000000000",
          "2024-10-28T00:00:00.000000000",
          "2024-10-29T00:00:00.000000000",
          "2024-10-30T00:00:00.000000000",
          "2024-10-31T00:00:00.000000000",
          "2024-11-01T00:00:00.000000000",
          "2024-11-04T00:00:00.000000000",
          "2024-11-05T00:00:00.000000000",
          "2024-11-06T00:00:00.000000000",
          "2024-11-07T00:00:00.000000000",
          "2024-11-08T00:00:00.000000000",
          "2024-11-11T00:00:00.000000000",
          "2024-11-12T00:00:00.000000000",
          "2024-11-13T00:00:00.000000000",
          "2024-11-14T00:00:00.000000000",
          "2024-11-15T00:00:00.000000000",
          "2024-11-18T00:00:00.000000000",
          "2024-11-19T00:00:00.000000000",
          "2024-11-20T00:00:00.000000000",
          "2024-11-21T00:00:00.000000000",
          "2024-11-22T00:00:00.000000000",
          "2024-11-25T00:00:00.000000000",
          "2024-11-26T00:00:00.000000000",
          "2024-11-27T00:00:00.000000000",
          "2024-11-29T00:00:00.000000000",
          "2024-12-02T00:00:00.000000000",
          "2024-12-03T00:00:00.000000000",
          "2024-12-04T00:00:00.000000000",
          "2024-12-05T00:00:00.000000000",
          "2024-12-06T00:00:00.000000000",
          "2024-12-09T00:00:00.000000000",
          "2024-12-10T00:00:00.000000000",
          "2024-12-11T00:00:00.000000000",
          "2024-12-12T00:00:00.000000000",
          "2024-12-13T00:00:00.000000000",
          "2024-12-16T00:00:00.000000000",
          "2024-12-17T00:00:00.000000000",
          "2024-12-18T00:00:00.000000000",
          "2024-12-19T00:00:00.000000000",
          "2024-12-20T00:00:00.000000000",
          "2024-12-23T00:00:00.000000000",
          "2024-12-24T00:00:00.000000000",
          "2024-12-26T00:00:00.000000000",
          "2024-12-27T00:00:00.000000000",
          "2024-12-30T00:00:00.000000000",
          "2024-12-31T00:00:00.000000000",
          "2025-01-02T00:00:00.000000000",
          "2025-01-03T00:00:00.000000000",
          "2025-01-06T00:00:00.000000000",
          "2025-01-07T00:00:00.000000000",
          "2025-01-08T00:00:00.000000000",
          "2025-01-10T00:00:00.000000000",
          "2025-01-13T00:00:00.000000000",
          "2025-01-14T00:00:00.000000000",
          "2025-01-15T00:00:00.000000000",
          "2025-01-16T00:00:00.000000000",
          "2025-01-17T00:00:00.000000000",
          "2025-01-21T00:00:00.000000000",
          "2025-01-22T00:00:00.000000000",
          "2025-01-23T00:00:00.000000000",
          "2025-01-24T00:00:00.000000000",
          "2025-01-27T00:00:00.000000000",
          "2025-01-28T00:00:00.000000000",
          "2025-01-29T00:00:00.000000000",
          "2025-01-30T00:00:00.000000000",
          "2025-01-31T00:00:00.000000000",
          "2025-02-03T00:00:00.000000000",
          "2025-02-04T00:00:00.000000000",
          "2025-02-05T00:00:00.000000000",
          "2025-02-06T00:00:00.000000000",
          "2025-02-07T00:00:00.000000000",
          "2025-02-10T00:00:00.000000000",
          "2025-02-11T00:00:00.000000000",
          "2025-02-12T00:00:00.000000000",
          "2025-02-13T00:00:00.000000000",
          "2025-02-14T00:00:00.000000000",
          "2025-02-18T00:00:00.000000000",
          "2025-02-19T00:00:00.000000000",
          "2025-02-20T00:00:00.000000000",
          "2025-02-21T00:00:00.000000000",
          "2025-02-24T00:00:00.000000000",
          "2025-02-25T00:00:00.000000000",
          "2025-02-26T00:00:00.000000000",
          "2025-02-27T00:00:00.000000000",
          "2025-02-28T00:00:00.000000000",
          "2025-03-03T00:00:00.000000000",
          "2025-03-04T00:00:00.000000000",
          "2025-03-05T00:00:00.000000000",
          "2025-03-06T00:00:00.000000000",
          "2025-03-07T00:00:00.000000000",
          "2025-03-10T00:00:00.000000000",
          "2025-03-11T00:00:00.000000000",
          "2025-03-12T00:00:00.000000000",
          "2025-03-13T00:00:00.000000000",
          "2025-03-14T00:00:00.000000000",
          "2025-03-17T00:00:00.000000000",
          "2025-03-18T00:00:00.000000000",
          "2025-03-19T00:00:00.000000000",
          "2025-03-20T00:00:00.000000000",
          "2025-03-21T00:00:00.000000000",
          "2025-03-24T00:00:00.000000000",
          "2025-03-25T00:00:00.000000000",
          "2025-03-26T00:00:00.000000000",
          "2025-03-27T00:00:00.000000000",
          "2025-03-28T00:00:00.000000000",
          "2025-03-31T00:00:00.000000000",
          "2025-04-01T00:00:00.000000000",
          "2025-04-02T00:00:00.000000000",
          "2025-04-03T00:00:00.000000000",
          "2025-04-04T00:00:00.000000000",
          "2025-04-07T00:00:00.000000000",
          "2025-04-08T00:00:00.000000000",
          "2025-04-09T00:00:00.000000000",
          "2025-04-10T00:00:00.000000000",
          "2025-04-11T00:00:00.000000000",
          "2025-04-14T00:00:00.000000000",
          "2025-04-15T00:00:00.000000000",
          "2025-04-16T00:00:00.000000000",
          "2025-04-17T00:00:00.000000000",
          "2025-04-21T00:00:00.000000000",
          "2025-04-22T00:00:00.000000000",
          "2025-04-23T00:00:00.000000000",
          "2025-04-24T00:00:00.000000000",
          "2025-04-25T00:00:00.000000000",
          "2025-04-28T00:00:00.000000000",
          "2025-04-29T00:00:00.000000000",
          "2025-04-30T00:00:00.000000000",
          "2025-05-01T00:00:00.000000000",
          "2025-05-02T00:00:00.000000000",
          "2025-05-05T00:00:00.000000000",
          "2025-05-06T00:00:00.000000000",
          "2025-05-07T00:00:00.000000000",
          "2025-05-08T00:00:00.000000000",
          "2025-05-09T00:00:00.000000000",
          "2025-05-12T00:00:00.000000000",
          "2025-05-13T00:00:00.000000000",
          "2025-05-14T00:00:00.000000000",
          "2025-05-15T00:00:00.000000000",
          "2025-05-16T00:00:00.000000000",
          "2025-05-19T00:00:00.000000000",
          "2025-05-20T00:00:00.000000000",
          "2025-05-21T00:00:00.000000000",
          "2025-05-22T00:00:00.000000000",
          "2025-05-23T00:00:00.000000000",
          "2025-05-27T00:00:00.000000000",
          "2025-05-28T00:00:00.000000000",
          "2025-05-29T00:00:00.000000000",
          "2025-05-30T00:00:00.000000000",
          "2025-06-02T00:00:00.000000000",
          "2025-06-03T00:00:00.000000000",
          "2025-06-04T00:00:00.000000000",
          "2025-06-05T00:00:00.000000000",
          "2025-06-06T00:00:00.000000000",
          "2025-06-09T00:00:00.000000000",
          "2025-06-10T00:00:00.000000000",
          "2025-06-11T00:00:00.000000000",
          "2025-06-12T00:00:00.000000000",
          "2025-06-13T00:00:00.000000000",
          "2025-06-16T00:00:00.000000000",
          "2025-06-17T00:00:00.000000000",
          "2025-06-18T00:00:00.000000000",
          "2025-06-20T00:00:00.000000000",
          "2025-06-23T00:00:00.000000000",
          "2025-06-24T00:00:00.000000000",
          "2025-06-25T00:00:00.000000000",
          "2025-06-26T00:00:00.000000000",
          "2025-06-27T00:00:00.000000000",
          "2025-06-30T00:00:00.000000000",
          "2025-07-01T00:00:00.000000000",
          "2025-07-02T00:00:00.000000000",
          "2025-07-03T00:00:00.000000000",
          "2025-07-07T00:00:00.000000000",
          "2025-07-08T00:00:00.000000000",
          "2025-07-09T00:00:00.000000000",
          "2025-07-10T00:00:00.000000000",
          "2025-07-11T00:00:00.000000000",
          "2025-07-14T00:00:00.000000000",
          "2025-07-15T00:00:00.000000000",
          "2025-07-16T00:00:00.000000000",
          "2025-07-17T00:00:00.000000000",
          "2025-07-18T00:00:00.000000000",
          "2025-07-21T00:00:00.000000000",
          "2025-07-22T00:00:00.000000000",
          "2025-07-23T00:00:00.000000000",
          "2025-07-24T00:00:00.000000000",
          "2025-07-25T00:00:00.000000000",
          "2025-07-28T00:00:00.000000000",
          "2025-07-29T00:00:00.000000000",
          "2025-07-30T00:00:00.000000000",
          "2025-07-31T00:00:00.000000000",
          "2025-08-01T00:00:00.000000000",
          "2025-08-04T00:00:00.000000000",
          "2025-08-05T00:00:00.000000000",
          "2025-08-06T00:00:00.000000000",
          "2025-08-07T00:00:00.000000000",
          "2025-08-08T00:00:00.000000000",
          "2025-08-11T00:00:00.000000000",
          "2025-08-12T00:00:00.000000000",
          "2025-08-13T00:00:00.000000000",
          "2025-08-14T00:00:00.000000000",
          "2025-08-15T00:00:00.000000000",
          "2025-08-18T00:00:00.000000000",
          "2025-08-19T00:00:00.000000000",
          "2025-08-20T00:00:00.000000000",
          "2025-08-21T00:00:00.000000000",
          "2025-08-22T00:00:00.000000000",
          "2025-08-25T00:00:00.000000000",
          "2025-08-26T00:00:00.000000000",
          "2025-08-27T00:00:00.000000000",
          "2025-08-28T00:00:00.000000000",
          "2025-08-29T00:00:00.000000000",
          "2025-09-02T00:00:00.000000000",
          "2025-09-03T00:00:00.000000000",
          "2025-09-04T00:00:00.000000000",
          "2025-09-05T00:00:00.000000000",
          "2025-09-08T00:00:00.000000000",
          "2025-09-09T00:00:00.000000000",
          "2025-09-10T00:00:00.000000000",
          "2025-09-11T00:00:00.000000000",
          "2025-09-12T00:00:00.000000000",
          "2025-09-15T00:00:00.000000000",
          "2025-09-16T00:00:00.000000000",
          "2025-09-17T00:00:00.000000000",
          "2025-09-18T00:00:00.000000000",
          "2025-09-19T00:00:00.000000000",
          "2025-09-22T00:00:00.000000000",
          "2025-09-23T00:00:00.000000000",
          "2025-09-24T00:00:00.000000000",
          "2025-09-25T00:00:00.000000000",
          "2025-09-26T00:00:00.000000000",
          "2025-09-29T00:00:00.000000000",
          "2025-09-30T00:00:00.000000000",
          "2025-10-01T00:00:00.000000000",
          "2025-10-02T00:00:00.000000000",
          "2025-10-03T00:00:00.000000000",
          "2025-10-06T00:00:00.000000000",
          "2025-10-07T00:00:00.000000000",
          "2025-10-08T00:00:00.000000000",
          "2025-10-09T00:00:00.000000000",
          "2025-10-10T00:00:00.000000000",
          "2025-10-13T00:00:00.000000000",
          "2025-10-14T00:00:00.000000000",
          "2025-10-15T00:00:00.000000000",
          "2025-10-16T00:00:00.000000000"
         ],
         "xaxis": "x",
         "yaxis": "y"
        },
        {
         "hoverinfo": "text+x",
         "legendgroup": "Events",
         "marker": {
          "cmax": 1,
          "cmin": -1,
          "color": {
           "bdata": "AAAAAAAAAABmZmZmZmbsP5+rrdhfdum/AAAAAAAAAACRfvs6cM7qPwAAAAAAAAAAAAAAAAAAAAAAAAAAAAAAAAAAAAAAAAAAAAAAAAAAAAAAAAAAAAAAAEXY8PRKWeq/bVZ9rrZi7b+1FfvL7snrPwAAAAAAAAAAKxiV1Alo5D8AAAAAAAAAAF+YTBWMSuK/AAAAAAAAAACGyVTBqKTuvwAAAAAAAAAAAAAAAAAAAAAAAAAAAAAAAO58PzVeuu0/AAAAAAAAAAAAAAAAAAAAAG3F/rJ78uY/AAAAAAAAAAB4eqUsQxztP+2ePCzUmug/NKK0N/jC7D/Mf0i/fR3qPwAAAAAAAAAAAAAAAAAAAAAAAAAAAAAAACcxCKwcWuo/w2SqYFRS7T+BlUOLbOftPwAAAAAAAAAAAAAAAAAAAAAAAAAAAAAAABSuR+F6FOw/J8KGp1fK7r86I0p7gy/uPwAAAAAAAAAAAAAAAAAAAAAAAAAAAAAAABdIUPwYc+M/W0I+6Nms6L8AAAAAAAAAAAAAAAAAAAAA/yH99nXg4j+5/If029fhPwAAAAAAAAAAAAAAAAAAAAArGJXUCWjgP/JBz2bV596/arx0kxgE5D9xPQrXo3DtvwAAAAAAAAAALpCg+DHm7r9z1xLyQc/kPwAAAAAAAAAAAAAAAAAAAACY3ZOHhVrjPwK8BRIUP+Q/AAAAAAAAAACiRbbz/dTqP/hT46WbxO6/gnNGlPYG6T8AAAAAAAAAAP+ye/KwUO2/AAAAAAAAAACoxks3iUHmP0Mc6+I2Gu6/AAAAAAAAAABBguLHmLviPwAAAAAAAAAAAAAAAAAAAAAAAAAAAAAAAMWPMXctIeM/2ht8YTJV6r/eAgmKH2PmP2uad5yiI+k/Dr4wmSoY4T+vlGWIY13uv9bFbTSAt+6/AAAAAAAAAAAAAAAAAAAAAAAAAAAAAAAAHThnRGlv4j8AAAAAAAAAAC6QoPgx5uA/+FPjpZvE6D8AAAAAAAAAAAAAAAAAAAAAAiuHFtnO6T8AAAAAAAAAAAAAAAAAAAAAAAAAAAAAAAA=",
           "dtype": "f8"
          },
          "colorbar": {
           "title": {
            "text": "Sentiment"
           }
          },
          "colorscale": [
           [
            0,
            "crimson"
           ],
           [
            0.5,
            "white"
           ],
           [
            1,
            "springGreen"
           ]
          ],
          "line": {
           "color": "dodgerblue",
           "width": 1
          },
          "size": {
           "bdata": "AAAAAAAAGEDMzMzMzGwyQBb7y+7JIzFAAAAAAAAAGEBgB84ZUboxQAAAAAAAABhAAAAAAAAAGEAAAAAAAAAYQAAAAAAAABhAAAAAAAAAGEAAAAAAAAAYQJ5eKcsQhzFA0NVW7C/bMkB/2T15WCgyQAAAAAAAABhAJnUCmgjbLUAAAAAAAAAYQFMFo5I6ASxAAAAAAAAAGEAqGJXUCWgzQAAAAAAAABhAAAAAAAAAGEAAAAAAAAAYQKjGSzeJATNAAAAAAAAAGEAAAAAAAAAYQGB2Tx4WCjBAAAAAAAAAGECUZYhjXbwyQIiFWtO8wzBA9wZfmEyVMkDpt68D52wxQAAAAAAAABhAAAAAAAAAGEAAAAAAAAAYQIGVQ4tshzFAFoxK6gTUMkBoke18PxUzQAAAAAAAABhAAAAAAAAAGEAAAAAAAAAYQClcj8L1SDJA8fRKWYZ4M0Bqb/CFyTQzQAAAAAAAABhAAAAAAAAAGEAAAAAAAAAYQBQ/xty1BC1ACD2bVZ/LMEAAAAAAAAAYQAAAAAAAABhAv30dOGeELEAi/fZ14JwrQAAAAAAAABhAAAAAAAAAGEAmdQKaCFsqQNqs+lxthSlA3SQGgZWDLUDiehSuR+EyQAAAAAAAABhAFD/G3LWEM0CFfNCzWTUuQAAAAAAAABhAAAAAAAAAGEDlYaHWNO8sQIIExY8xty1AAAAAAAAAGEB3vp8aL70xQLx0kxgEdjNAidLe4AvzMEAAAAAAAAAYQFAeFmpN0zJAAAAAAAAAGEDTTWIQWHkvQF7cRgN4KzNAAAAAAAAAGED5MeauJWQsQAAAAAAAABhAAAAAAAAAGEAAAAAAAAAYQMxdS8gHvSxAMEymCkaFMUCC4seYu5YvQI9TdCSX/zBATKYKRiX1KkAMcayL20gzQI4G8BZIcDNAAAAAAAAAGEAAAAAAAAAYQAAAAAAAABhAGVHaG3whLEAAAAAAAAAYQCh+jLlrySpAvHSTGATWMEAAAAAAAAAYQAAAAAAAABhA0SLb+X5KMUAAAAAAAAAYQAAAAAAAABhAAAAAAAAAGEA=",
           "dtype": "f8"
          },
          "symbol": "circle"
         },
         "mode": "markers",
         "name": "News Headlines",
         "text": [
          "Can Nvidia Stock Hit $320 in 2025? - Yahoo Finance",
          "Tom Lee Says NVIDIA (NVDA) Valuation Still Attractive Amid ‘Powerful Tailwinds’ - Yahoo Finance",
          "NVIDIA Corporation (NVDA): Analyst Sees Upside to 2026 Estimates - Yahoo Finance",
          "Jim Cramer: The case of Nvidia, the stock I loved so much in 2017 that I named my dog after it - Fortune",
          "Why Nvidia-Backed CoreWeave's Stock Is Soaring Today - Investopedia",
          "NVIDIA Corporation (NVDA), Abu Dhabi’s Technology Innovation Institute Launch Joint AI and Robotics Lab in UAE - Yahoo Finance",
          "NVIDIA Corporation (NVDA) Announces a $100 Billion Investment in OpenAI - Yahoo Finance",
          "This Analyst’s Prediction About NVIDIA (NVDA) Was Right - Yahoo Finance",
          "NVIDIA Corporation (NVDA) to Potentially Invest $500 million in Wayve - Yahoo Finance",
          "NVDA Stock Price Prediction: Where Nvidia Could Be by 2025, 2026, 2030 - Yahoo Finance",
          "NVIDIA and Intel to Develop AI Infrastructure and Personal Computing Products - NVIDIA Newsroom",
          "Jim Cramer Says NVIDIA Corporation (NVDA)’s China Troubles Are Poorly Times - Yahoo Finance",
          "Analysts Stay Bullish on Nvidia (NVDA) Despite Rising Competitive Pressures from China - Yahoo Finance",
          "Why Nvidia (NVDA) Stock Is Trading Up Today - Yahoo Finance",
          "Was Jim Cramer Right About NVIDIA (NVDA)? - Yahoo Finance",
          "NVIDIA (NVDA) Remains a Franchise Pick as Jefferies Reiterates Buy - Yahoo Finance",
          "Nvidia’s Rally Is Facing a Reality Check: Should You Buy NVDA Stock Despite Citi’s Target Price Cut? - Yahoo Finance",
          "Jim Cramer Reveals Big Debate Surrounding AI Stock NVIDIA Corporation (NVDA) - Yahoo Finance",
          "Jim Cramer Reveals Key Factor For AI Stock NVIDIA Corporation (NVDA) That No One’s Talking About - Yahoo Finance",
          "NVIDIA Corp (NVDA) Warns of Legal Risks on Missing Regulations for US 15% AI Chips Fees - Yahoo Finance",
          "NVIDIA Corporation (NVDA): Take A Look At Jim Cramer’s 1,000+ Words About The Stock After Q2 Earnings - Yahoo Finance",
          "NVIDIA Corporation (NVDA): Jim Cramer Says Biggest Concern Is NVIDIA Making Money While No One Else Does - Yahoo Finance",
          "NVIDIA Announces Financial Results for Second Quarter Fiscal 2026 - NVIDIA Newsroom",
          "NVIDIA Corporation (NVDA)’s Shares Gain 40% Since Jim Cramer Prediced “Pain” Last Year - Yahoo Finance",
          "Burke Wealth Management’s Views on Nvidia Corporation (NVDA) - Yahoo Finance",
          "NVIDIA Corporation (NVDA): I Spend A Lot Of Time Shooting Down Rumors, Says Jim Cramer - Yahoo Finance",
          "NVIDIA Stock Jumps 59% in Three Months: Time to Hold or Exit? - Yahoo Finance",
          "NVIDIA Corporation (NVDA) Will Dominate AI, Says Jim Cramer - Yahoo Finance",
          "NVIDIA Corporation (NVDA)’s Going To Have A Good Quarter, Says Jim Cramer - Yahoo Finance",
          "Nvidia Stock Warning: This NVDA Challenger Just Scored a Major Customer - Yahoo Finance",
          "Needham Sticks With Buy on Nvidia (NVDA), Lifts Target to $200 - Yahoo Finance",
          "Nvidia Stock Regains Momentum. Is It Time to Buy, Sell, or Hold NVDA? - Yahoo Finance",
          "Nvidia's stock market value hits $4 trillion on AI dominance - Reuters",
          "Nvidia's $4 trillion milestone caps rise of stock market behemoth - Reuters",
          "NVIDIA Corporation (NVDA)’s CEO Knows “What’s Coming” Is Smart, Says Jim Cramer - Yahoo Finance",
          "NVIDIA Corporation (NVDA) Set To Hit $4 Trillion Market Cap - Yahoo Finance",
          "NVIDIA Corp. (NVDA) Hits New All-Time High as Analyst Raises Price Target by 47% - Yahoo Finance",
          "Nvidia Stock Could Rise Another 38%, Making Jensen Huang-Led AI Giant A Nearly $5 Trillion Company, Says Barclays - Yahoo Finance",
          "NVIDIA Announces Financial Results for First Quarter Fiscal 2026 - NVIDIA Newsroom",
          "Jim Cramer on NVIDIA Corporation (NVDA): “The Stock’s in No Man’s Land” - Yahoo Finance",
          "Prominent Investor Plans to Unload NVIDIA Corporation (NVDA) Stock If It Reaches $140 - Yahoo Finance",
          "NVIDIA Corporation (NVDA): Among the Best Growth Stocks to Buy and Hold for the Long Term - Yahoo Finance",
          "Here’s Why NVIDIA Corporation (NVDA) Fell in Q1 - Yahoo Finance",
          "NVIDIA Corporation (NVDA): Long-Term Growth Confidence Builds Despite Modest Portfolio Weighting - Yahoo Finance",
          "NVIDIA Corporation (NVDA): Among Stocks That Will Make You Rich In 3 Years - Yahoo Finance",
          "Is NVIDIA Corporation (NVDA) the Best Monopoly Stock to Buy Now? - Yahoo Finance",
          "ChatGPT Stock Advice: NVIDIA Corporation (NVDA) Among Top Stock Recommendations - Yahoo Finance",
          "NVIDIA Corp. (NVDA): Among Billionaire Chase Coleman’s Stocks with Huge Upside Potential - Yahoo Finance",
          "Jim Cramer on NVIDIA (NVDA): ‘It Will Only Get Worse’ - Yahoo Finance",
          "Is NVIDIA Corporation (NVDA) a Stock That Should Double in 3 Years? - Yahoo Finance",
          "Is NVIDIA Corporation (NVDA) the Most Profitable Blue Chip Stock to Buy Now? - Yahoo Finance",
          "Is NVIDIA Corporation (NVDA) the Best Safe Stock to Buy According to Hedge Funds? - Yahoo Finance",
          "Is NVIDIA Corporation (NVDA) the Best Stock to Invest in for Long Term? - Yahoo Finance",
          "Is NVIDIA Corporation (NVDA) the Best Aggressive Growth Stock to Buy Now? - Yahoo Finance",
          "Is NVIDIA Corp. (NASDAQ:NVDA) the Best Stock Under $100 to Buy According to Hedge Funds? - Yahoo Finance",
          "NVIDIA Corporation (NVDA): Among Stocks That Could 10X Over the Next 2 Years - Yahoo Finance",
          "NVIDIA Corporation (NVDA) Faces AI Export Hit but Demand Stays Strong - Yahoo Finance",
          "Is NVIDIA Corporation (NVDA) the Best Metaverse Stock to Invest in? - Yahoo Finance",
          "Why NVIDIA Corporation (NVDA) Declined on Wednesday - Yahoo Finance",
          "Is NVIDIA Corporation (NVDA) The Best American Tech Stock To Buy Now? - Yahoo Finance",
          "Nvidia stock dives after chipmaker discloses $5.5 billion hit from 'surprise' China chip controls - Yahoo Finance",
          "Is NVIDIA Corporation (NVDA) the Best Growth Stock to Buy According to Billionaires? - Yahoo Finance",
          "Is NVIDIA Corp. (NASDAQ:NVDA) a NASDAQ Stock with the Highest Upside Potential? - Yahoo Finance",
          "Is NVIDIA Corp. (NASDAQ:NVDA) the Best Tech Stock to Buy For Long-Term Investment? - Yahoo Finance",
          "Is NVIDIA Corporation (NVDA) the Best Stock for 15 Years? - Yahoo Finance",
          "Is NVIDIA Corporation (NVDA) the Best Stock to Buy According to Billionaire Steve Cohen? - Yahoo Finance",
          "Analyst Explains Why Investors Keep Selling NVIDIA (NVDA) Shares, Thinks ‘Doesn’t Matter’ What Jensen Huang Says - Yahoo Finance",
          "NVIDIA Corporation (NVDA): Among the Best US Stocks to Buy For Foreign Investors - Yahoo Finance",
          "NVIDIA Stock Dips 20% YTD: A Buying Opportunity Amid Market Fears - Yahoo Finance",
          "NVIDIA Corporation (NVDA): The Best Stock to Buy and Hold for 2 Years - Yahoo Finance",
          "Is NVIDIA Corporation (NVDA) Best Stock to Buy for the Next 3 Months? - Yahoo Finance",
          "Jim Cramer Calls NVIDIA Corporation (NVDA) a “Whipping Boy” Amid Market Turmoil - Yahoo Finance",
          "Is NVIDIA Corporation (NVDA) the Top Blue Chip AI Stock to Buy According to Billionaire Cliff Asness? - Yahoo Finance",
          "Is NVIDIA Corporation (NVDA) the Best Growth Stock to Invest in for the Next 10 Years? - Yahoo Finance",
          "Why NVIDIA Corporation (NVDA) Is Plunging So Far in 2025? - Yahoo Finance",
          "Is NVIDIA Corporation (NVDA) the Good Stock to Buy According to Hedge Funds? - Yahoo Finance",
          "Morgan Stanley Raises Nvidia (NVDA) Price Target: Is the Stock Positioned for Further Growth? - Yahoo Finance",
          "NVIDIA Announces Financial Results for Fourth Quarter and Fiscal 2025 - NVIDIA Newsroom",
          "NVIDIA Corporation (NVDA): A High Growth Mega Cap Stock You Can Buy and Hold for the Next 5 Years - Yahoo Finance",
          "Jim Cramer on NVIDIA Corporation (NVDA): ‘I Am Not Selling The Greatest Growth Stock Of Our Generation At 23 Times Earnings’ - Yahoo Finance",
          "Is NVIDIA Corporation (NVDA) the Best Major Stock to Buy According to Hedge Funds? - Yahoo Finance",
          "Jim Cramer on NVIDIA Corporation (NVDA)’s Reduced Price Target: ‘The Downgrades Seemed Almost Out Of Sync’ - Yahoo Finance",
          "Is NVIDIA Corporation (NVDA) the Best Long-term Stock to Invest In for High Returns? - Yahoo Finance",
          "NVIDIA Responds to TRC Capital’s ‘Mini-Tender’ Offer - NVIDIA Newsroom",
          "Is NVIDIA Corporation (NVDA) the Best Stock to Buy for High Returns in 2025? - Yahoo Finance",
          "Nvidia (NVDA) Stock Trades Down, Here Is Why - Yahoo Finance",
          "Nvidia stock plummets, loses record $589 billion as DeepSeek prompts questions over AI spending - Yahoo Finance",
          "NVIDIA Corporation (NVDA): Why Should You Buy This Growth Stock For The Next 5 Years? - Yahoo Finance",
          "Is NVIDIA (NVDA) the Stock That Will Go to the Moon According to Reddit? - Yahoo Finance",
          "Jim Cramer Reveals the Next Best Time to Buy NVIDIA (NVDA) Stock - Yahoo Finance",
          "Is NVIDIA Corporation (NVDA) the Best Blue Chip Stock to Buy for 2025? - Yahoo Finance",
          "Is NVIDIA Corporation (NASDAQ:NVDA) the Hottest Large-Cap Stock Right Now? - Yahoo Finance",
          "Is NVIDIA Corp. (NVDA) the Best Stock for 10 Years? - Yahoo Finance",
          "Why Nvidia Corp. (NVDA) Stock Jumped Yesterday - Yahoo Finance",
          "Jim Cramer Says ‘If You Trade NVIDIA Corporation (NVDA), You Probably Won’t Be Able To Sell It High And Then Get Back In Low’ - Yahoo Finance",
          "NVIDIA Corporation (NVDA): This Billionaire Quant Thinks NVDA Stock is the Cheapest Megacap - Yahoo Finance",
          "NVIDIA Corporation (NVDA) Among the Best Stocks to Buy For Long Term Growth According to This Indicator - Yahoo Finance",
          "Is NVIDIA Corporation (NVDA) the Best Stock to Invest in for the Next 3 Months? - Yahoo Finance",
          "NVIDIA Announces Financial Results for Third Quarter Fiscal 2025 - NVIDIA Newsroom",
          "Going Into Earnings, Is Nvidia Stock a Buy, a Sell, or Fairly Valued? - Morningstar"
         ],
         "type": "scatter",
         "x": [
          "2025-10-15T18:10:36.000000000",
          "2025-10-14T18:05:22.000000000",
          "2025-10-09T07:15:30.000000000",
          "2025-10-01T07:00:00.000000000",
          "2025-09-30T07:00:00.000000000",
          "2025-09-30T07:00:00.000000000",
          "2025-09-30T07:00:00.000000000",
          "2025-09-29T07:00:00.000000000",
          "2025-09-24T07:00:00.000000000",
          "2025-09-19T07:00:00.000000000",
          "2025-09-18T07:00:00.000000000",
          "2025-09-17T07:00:00.000000000",
          "2025-09-16T07:00:00.000000000",
          "2025-09-10T07:00:00.000000000",
          "2025-09-09T07:00:00.000000000",
          "2025-09-09T07:00:00.000000000",
          "2025-09-08T07:00:00.000000000",
          "2025-09-08T07:00:00.000000000",
          "2025-09-03T07:00:00.000000000",
          "2025-09-02T07:00:00.000000000",
          "2025-08-31T07:00:00.000000000",
          "2025-08-29T07:00:00.000000000",
          "2025-08-27T07:00:00.000000000",
          "2025-08-26T07:00:00.000000000",
          "2025-08-25T07:00:00.000000000",
          "2025-08-17T07:00:00.000000000",
          "2025-08-05T07:00:00.000000000",
          "2025-07-30T07:00:00.000000000",
          "2025-07-24T07:00:00.000000000",
          "2025-07-22T07:00:00.000000000",
          "2025-07-19T07:00:00.000000000",
          "2025-07-10T07:00:00.000000000",
          "2025-07-09T07:00:00.000000000",
          "2025-07-09T07:00:00.000000000",
          "2025-07-05T07:00:00.000000000",
          "2025-06-30T07:00:00.000000000",
          "2025-06-26T07:00:00.000000000",
          "2025-06-18T07:00:00.000000000",
          "2025-05-28T07:00:00.000000000",
          "2025-05-28T07:00:00.000000000",
          "2025-05-15T07:00:00.000000000",
          "2025-05-13T07:00:00.000000000",
          "2025-05-12T07:00:00.000000000",
          "2025-05-07T07:00:00.000000000",
          "2025-05-07T07:00:00.000000000",
          "2025-05-06T07:00:00.000000000",
          "2025-05-06T07:00:00.000000000",
          "2025-05-04T07:00:00.000000000",
          "2025-05-01T07:00:00.000000000",
          "2025-04-30T07:00:00.000000000",
          "2025-04-28T07:00:00.000000000",
          "2025-04-27T07:00:00.000000000",
          "2025-04-25T07:00:00.000000000",
          "2025-04-24T07:00:00.000000000",
          "2025-04-23T07:00:00.000000000",
          "2025-04-22T07:00:00.000000000",
          "2025-04-20T07:00:00.000000000",
          "2025-04-19T07:00:00.000000000",
          "2025-04-16T07:00:00.000000000",
          "2025-04-16T07:00:00.000000000",
          "2025-04-16T07:00:00.000000000",
          "2025-04-14T07:00:00.000000000",
          "2025-04-13T07:00:00.000000000",
          "2025-04-12T07:00:00.000000000",
          "2025-04-10T07:00:00.000000000",
          "2025-04-08T07:00:00.000000000",
          "2025-04-03T07:00:00.000000000",
          "2025-04-02T07:00:00.000000000",
          "2025-04-01T07:00:00.000000000",
          "2025-03-31T07:00:00.000000000",
          "2025-03-30T07:00:00.000000000",
          "2025-03-29T07:00:00.000000000",
          "2025-03-27T07:00:00.000000000",
          "2025-03-16T07:00:00.000000000",
          "2025-03-07T08:00:00.000000000",
          "2025-03-05T08:00:00.000000000",
          "2025-03-04T08:00:00.000000000",
          "2025-02-26T08:00:00.000000000",
          "2025-02-24T08:00:00.000000000",
          "2025-02-18T08:00:00.000000000",
          "2025-02-13T08:00:00.000000000",
          "2025-02-12T08:00:00.000000000",
          "2025-02-08T08:00:00.000000000",
          "2025-02-04T08:00:00.000000000",
          "2025-01-27T08:00:00.000000000",
          "2025-01-27T08:00:00.000000000",
          "2025-01-27T08:00:00.000000000",
          "2025-01-18T08:00:00.000000000",
          "2025-01-15T08:00:00.000000000",
          "2025-01-12T08:00:00.000000000",
          "2025-01-10T08:00:00.000000000",
          "2025-01-05T08:00:00.000000000",
          "2024-12-30T08:00:00.000000000",
          "2024-12-21T08:00:00.000000000",
          "2024-12-16T08:00:00.000000000",
          "2024-12-07T08:00:00.000000000",
          "2024-12-02T08:00:00.000000000",
          "2024-11-25T08:00:00.000000000",
          "2024-11-20T08:00:00.000000000",
          "2024-11-14T08:00:00.000000000"
         ],
         "xaxis": "x",
         "y": {
          "bdata": "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",
          "dtype": "f8"
         },
         "yaxis": "y"
        },
        {
         "hoverinfo": "text+x",
         "legendgroup": "Events",
         "marker": {
          "color": "rgba(0, 200, 200, 1)",
          "size": 8,
          "symbol": "diamond"
         },
         "mode": "markers",
         "name": "Events",
         "text": [
          "Dividend Date",
          "Ex-Dividend Date",
          "Earnings Date"
         ],
         "type": "scatter",
         "x": [
          "2025-10-02",
          "2025-09-11",
          "2025-11-19"
         ],
         "xaxis": "x",
         "y": {
          "bdata": "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",
          "dtype": "f8"
         },
         "yaxis": "y"
        },
        {
         "legendgroup": "Base information",
         "line": {
          "color": "rgba(0, 0, 0, 0.25)",
          "width": 1
         },
         "name": "Closing price",
         "type": "scatter",
         "x": [
          "2024-10-17T00:00:00.000000000",
          "2024-10-18T00:00:00.000000000",
          "2024-10-21T00:00:00.000000000",
          "2024-10-22T00:00:00.000000000",
          "2024-10-23T00:00:00.000000000",
          "2024-10-24T00:00:00.000000000",
          "2024-10-25T00:00:00.000000000",
          "2024-10-28T00:00:00.000000000",
          "2024-10-29T00:00:00.000000000",
          "2024-10-30T00:00:00.000000000",
          "2024-10-31T00:00:00.000000000",
          "2024-11-01T00:00:00.000000000",
          "2024-11-04T00:00:00.000000000",
          "2024-11-05T00:00:00.000000000",
          "2024-11-06T00:00:00.000000000",
          "2024-11-07T00:00:00.000000000",
          "2024-11-08T00:00:00.000000000",
          "2024-11-11T00:00:00.000000000",
          "2024-11-12T00:00:00.000000000",
          "2024-11-13T00:00:00.000000000",
          "2024-11-14T00:00:00.000000000",
          "2024-11-15T00:00:00.000000000",
          "2024-11-18T00:00:00.000000000",
          "2024-11-19T00:00:00.000000000",
          "2024-11-20T00:00:00.000000000",
          "2024-11-21T00:00:00.000000000",
          "2024-11-22T00:00:00.000000000",
          "2024-11-25T00:00:00.000000000",
          "2024-11-26T00:00:00.000000000",
          "2024-11-27T00:00:00.000000000",
          "2024-11-29T00:00:00.000000000",
          "2024-12-02T00:00:00.000000000",
          "2024-12-03T00:00:00.000000000",
          "2024-12-04T00:00:00.000000000",
          "2024-12-05T00:00:00.000000000",
          "2024-12-06T00:00:00.000000000",
          "2024-12-09T00:00:00.000000000",
          "2024-12-10T00:00:00.000000000",
          "2024-12-11T00:00:00.000000000",
          "2024-12-12T00:00:00.000000000",
          "2024-12-13T00:00:00.000000000",
          "2024-12-16T00:00:00.000000000",
          "2024-12-17T00:00:00.000000000",
          "2024-12-18T00:00:00.000000000",
          "2024-12-19T00:00:00.000000000",
          "2024-12-20T00:00:00.000000000",
          "2024-12-23T00:00:00.000000000",
          "2024-12-24T00:00:00.000000000",
          "2024-12-26T00:00:00.000000000",
          "2024-12-27T00:00:00.000000000",
          "2024-12-30T00:00:00.000000000",
          "2024-12-31T00:00:00.000000000",
          "2025-01-02T00:00:00.000000000",
          "2025-01-03T00:00:00.000000000",
          "2025-01-06T00:00:00.000000000",
          "2025-01-07T00:00:00.000000000",
          "2025-01-08T00:00:00.000000000",
          "2025-01-10T00:00:00.000000000",
          "2025-01-13T00:00:00.000000000",
          "2025-01-14T00:00:00.000000000",
          "2025-01-15T00:00:00.000000000",
          "2025-01-16T00:00:00.000000000",
          "2025-01-17T00:00:00.000000000",
          "2025-01-21T00:00:00.000000000",
          "2025-01-22T00:00:00.000000000",
          "2025-01-23T00:00:00.000000000",
          "2025-01-24T00:00:00.000000000",
          "2025-01-27T00:00:00.000000000",
          "2025-01-28T00:00:00.000000000",
          "2025-01-29T00:00:00.000000000",
          "2025-01-30T00:00:00.000000000",
          "2025-01-31T00:00:00.000000000",
          "2025-02-03T00:00:00.000000000",
          "2025-02-04T00:00:00.000000000",
          "2025-02-05T00:00:00.000000000",
          "2025-02-06T00:00:00.000000000",
          "2025-02-07T00:00:00.000000000",
          "2025-02-10T00:00:00.000000000",
          "2025-02-11T00:00:00.000000000",
          "2025-02-12T00:00:00.000000000",
          "2025-02-13T00:00:00.000000000",
          "2025-02-14T00:00:00.000000000",
          "2025-02-18T00:00:00.000000000",
          "2025-02-19T00:00:00.000000000",
          "2025-02-20T00:00:00.000000000",
          "2025-02-21T00:00:00.000000000",
          "2025-02-24T00:00:00.000000000",
          "2025-02-25T00:00:00.000000000",
          "2025-02-26T00:00:00.000000000",
          "2025-02-27T00:00:00.000000000",
          "2025-02-28T00:00:00.000000000",
          "2025-03-03T00:00:00.000000000",
          "2025-03-04T00:00:00.000000000",
          "2025-03-05T00:00:00.000000000",
          "2025-03-06T00:00:00.000000000",
          "2025-03-07T00:00:00.000000000",
          "2025-03-10T00:00:00.000000000",
          "2025-03-11T00:00:00.000000000",
          "2025-03-12T00:00:00.000000000",
          "2025-03-13T00:00:00.000000000",
          "2025-03-14T00:00:00.000000000",
          "2025-03-17T00:00:00.000000000",
          "2025-03-18T00:00:00.000000000",
          "2025-03-19T00:00:00.000000000",
          "2025-03-20T00:00:00.000000000",
          "2025-03-21T00:00:00.000000000",
          "2025-03-24T00:00:00.000000000",
          "2025-03-25T00:00:00.000000000",
          "2025-03-26T00:00:00.000000000",
          "2025-03-27T00:00:00.000000000",
          "2025-03-28T00:00:00.000000000",
          "2025-03-31T00:00:00.000000000",
          "2025-04-01T00:00:00.000000000",
          "2025-04-02T00:00:00.000000000",
          "2025-04-03T00:00:00.000000000",
          "2025-04-04T00:00:00.000000000",
          "2025-04-07T00:00:00.000000000",
          "2025-04-08T00:00:00.000000000",
          "2025-04-09T00:00:00.000000000",
          "2025-04-10T00:00:00.000000000",
          "2025-04-11T00:00:00.000000000",
          "2025-04-14T00:00:00.000000000",
          "2025-04-15T00:00:00.000000000",
          "2025-04-16T00:00:00.000000000",
          "2025-04-17T00:00:00.000000000",
          "2025-04-21T00:00:00.000000000",
          "2025-04-22T00:00:00.000000000",
          "2025-04-23T00:00:00.000000000",
          "2025-04-24T00:00:00.000000000",
          "2025-04-25T00:00:00.000000000",
          "2025-04-28T00:00:00.000000000",
          "2025-04-29T00:00:00.000000000",
          "2025-04-30T00:00:00.000000000",
          "2025-05-01T00:00:00.000000000",
          "2025-05-02T00:00:00.000000000",
          "2025-05-05T00:00:00.000000000",
          "2025-05-06T00:00:00.000000000",
          "2025-05-07T00:00:00.000000000",
          "2025-05-08T00:00:00.000000000",
          "2025-05-09T00:00:00.000000000",
          "2025-05-12T00:00:00.000000000",
          "2025-05-13T00:00:00.000000000",
          "2025-05-14T00:00:00.000000000",
          "2025-05-15T00:00:00.000000000",
          "2025-05-16T00:00:00.000000000",
          "2025-05-19T00:00:00.000000000",
          "2025-05-20T00:00:00.000000000",
          "2025-05-21T00:00:00.000000000",
          "2025-05-22T00:00:00.000000000",
          "2025-05-23T00:00:00.000000000",
          "2025-05-27T00:00:00.000000000",
          "2025-05-28T00:00:00.000000000",
          "2025-05-29T00:00:00.000000000",
          "2025-05-30T00:00:00.000000000",
          "2025-06-02T00:00:00.000000000",
          "2025-06-03T00:00:00.000000000",
          "2025-06-04T00:00:00.000000000",
          "2025-06-05T00:00:00.000000000",
          "2025-06-06T00:00:00.000000000",
          "2025-06-09T00:00:00.000000000",
          "2025-06-10T00:00:00.000000000",
          "2025-06-11T00:00:00.000000000",
          "2025-06-12T00:00:00.000000000",
          "2025-06-13T00:00:00.000000000",
          "2025-06-16T00:00:00.000000000",
          "2025-06-17T00:00:00.000000000",
          "2025-06-18T00:00:00.000000000",
          "2025-06-20T00:00:00.000000000",
          "2025-06-23T00:00:00.000000000",
          "2025-06-24T00:00:00.000000000",
          "2025-06-25T00:00:00.000000000",
          "2025-06-26T00:00:00.000000000",
          "2025-06-27T00:00:00.000000000",
          "2025-06-30T00:00:00.000000000",
          "2025-07-01T00:00:00.000000000",
          "2025-07-02T00:00:00.000000000",
          "2025-07-03T00:00:00.000000000",
          "2025-07-07T00:00:00.000000000",
          "2025-07-08T00:00:00.000000000",
          "2025-07-09T00:00:00.000000000",
          "2025-07-10T00:00:00.000000000",
          "2025-07-11T00:00:00.000000000",
          "2025-07-14T00:00:00.000000000",
          "2025-07-15T00:00:00.000000000",
          "2025-07-16T00:00:00.000000000",
          "2025-07-17T00:00:00.000000000",
          "2025-07-18T00:00:00.000000000",
          "2025-07-21T00:00:00.000000000",
          "2025-07-22T00:00:00.000000000",
          "2025-07-23T00:00:00.000000000",
          "2025-07-24T00:00:00.000000000",
          "2025-07-25T00:00:00.000000000",
          "2025-07-28T00:00:00.000000000",
          "2025-07-29T00:00:00.000000000",
          "2025-07-30T00:00:00.000000000",
          "2025-07-31T00:00:00.000000000",
          "2025-08-01T00:00:00.000000000",
          "2025-08-04T00:00:00.000000000",
          "2025-08-05T00:00:00.000000000",
          "2025-08-06T00:00:00.000000000",
          "2025-08-07T00:00:00.000000000",
          "2025-08-08T00:00:00.000000000",
          "2025-08-11T00:00:00.000000000",
          "2025-08-12T00:00:00.000000000",
          "2025-08-13T00:00:00.000000000",
          "2025-08-14T00:00:00.000000000",
          "2025-08-15T00:00:00.000000000",
          "2025-08-18T00:00:00.000000000",
          "2025-08-19T00:00:00.000000000",
          "2025-08-20T00:00:00.000000000",
          "2025-08-21T00:00:00.000000000",
          "2025-08-22T00:00:00.000000000",
          "2025-08-25T00:00:00.000000000",
          "2025-08-26T00:00:00.000000000",
          "2025-08-27T00:00:00.000000000",
          "2025-08-28T00:00:00.000000000",
          "2025-08-29T00:00:00.000000000",
          "2025-09-02T00:00:00.000000000",
          "2025-09-03T00:00:00.000000000",
          "2025-09-04T00:00:00.000000000",
          "2025-09-05T00:00:00.000000000",
          "2025-09-08T00:00:00.000000000",
          "2025-09-09T00:00:00.000000000",
          "2025-09-10T00:00:00.000000000",
          "2025-09-11T00:00:00.000000000",
          "2025-09-12T00:00:00.000000000",
          "2025-09-15T00:00:00.000000000",
          "2025-09-16T00:00:00.000000000",
          "2025-09-17T00:00:00.000000000",
          "2025-09-18T00:00:00.000000000",
          "2025-09-19T00:00:00.000000000",
          "2025-09-22T00:00:00.000000000",
          "2025-09-23T00:00:00.000000000",
          "2025-09-24T00:00:00.000000000",
          "2025-09-25T00:00:00.000000000",
          "2025-09-26T00:00:00.000000000",
          "2025-09-29T00:00:00.000000000",
          "2025-09-30T00:00:00.000000000",
          "2025-10-01T00:00:00.000000000",
          "2025-10-02T00:00:00.000000000",
          "2025-10-03T00:00:00.000000000",
          "2025-10-06T00:00:00.000000000",
          "2025-10-07T00:00:00.000000000",
          "2025-10-08T00:00:00.000000000",
          "2025-10-09T00:00:00.000000000",
          "2025-10-10T00:00:00.000000000",
          "2025-10-13T00:00:00.000000000",
          "2025-10-14T00:00:00.000000000",
          "2025-10-15T00:00:00.000000000",
          "2025-10-16T00:00:00.000000000"
         ],
         "xaxis": "x",
         "y": {
          "bdata": "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",
          "dtype": "f8"
         },
         "yaxis": "y"
        },
        {
         "legendgroup": "SMA",
         "line": {
          "color": "rgba(80, 80, 255, 1)",
          "width": 1
         },
         "name": "10-day MA",
         "type": "scatter",
         "x": [
          "2024-10-17T00:00:00.000000000",
          "2024-10-18T00:00:00.000000000",
          "2024-10-21T00:00:00.000000000",
          "2024-10-22T00:00:00.000000000",
          "2024-10-23T00:00:00.000000000",
          "2024-10-24T00:00:00.000000000",
          "2024-10-25T00:00:00.000000000",
          "2024-10-28T00:00:00.000000000",
          "2024-10-29T00:00:00.000000000",
          "2024-10-30T00:00:00.000000000",
          "2024-10-31T00:00:00.000000000",
          "2024-11-01T00:00:00.000000000",
          "2024-11-04T00:00:00.000000000",
          "2024-11-05T00:00:00.000000000",
          "2024-11-06T00:00:00.000000000",
          "2024-11-07T00:00:00.000000000",
          "2024-11-08T00:00:00.000000000",
          "2024-11-11T00:00:00.000000000",
          "2024-11-12T00:00:00.000000000",
          "2024-11-13T00:00:00.000000000",
          "2024-11-14T00:00:00.000000000",
          "2024-11-15T00:00:00.000000000",
          "2024-11-18T00:00:00.000000000",
          "2024-11-19T00:00:00.000000000",
          "2024-11-20T00:00:00.000000000",
          "2024-11-21T00:00:00.000000000",
          "2024-11-22T00:00:00.000000000",
          "2024-11-25T00:00:00.000000000",
          "2024-11-26T00:00:00.000000000",
          "2024-11-27T00:00:00.000000000",
          "2024-11-29T00:00:00.000000000",
          "2024-12-02T00:00:00.000000000",
          "2024-12-03T00:00:00.000000000",
          "2024-12-04T00:00:00.000000000",
          "2024-12-05T00:00:00.000000000",
          "2024-12-06T00:00:00.000000000",
          "2024-12-09T00:00:00.000000000",
          "2024-12-10T00:00:00.000000000",
          "2024-12-11T00:00:00.000000000",
          "2024-12-12T00:00:00.000000000",
          "2024-12-13T00:00:00.000000000",
          "2024-12-16T00:00:00.000000000",
          "2024-12-17T00:00:00.000000000",
          "2024-12-18T00:00:00.000000000",
          "2024-12-19T00:00:00.000000000",
          "2024-12-20T00:00:00.000000000",
          "2024-12-23T00:00:00.000000000",
          "2024-12-24T00:00:00.000000000",
          "2024-12-26T00:00:00.000000000",
          "2024-12-27T00:00:00.000000000",
          "2024-12-30T00:00:00.000000000",
          "2024-12-31T00:00:00.000000000",
          "2025-01-02T00:00:00.000000000",
          "2025-01-03T00:00:00.000000000",
          "2025-01-06T00:00:00.000000000",
          "2025-01-07T00:00:00.000000000",
          "2025-01-08T00:00:00.000000000",
          "2025-01-10T00:00:00.000000000",
          "2025-01-13T00:00:00.000000000",
          "2025-01-14T00:00:00.000000000",
          "2025-01-15T00:00:00.000000000",
          "2025-01-16T00:00:00.000000000",
          "2025-01-17T00:00:00.000000000",
          "2025-01-21T00:00:00.000000000",
          "2025-01-22T00:00:00.000000000",
          "2025-01-23T00:00:00.000000000",
          "2025-01-24T00:00:00.000000000",
          "2025-01-27T00:00:00.000000000",
          "2025-01-28T00:00:00.000000000",
          "2025-01-29T00:00:00.000000000",
          "2025-01-30T00:00:00.000000000",
          "2025-01-31T00:00:00.000000000",
          "2025-02-03T00:00:00.000000000",
          "2025-02-04T00:00:00.000000000",
          "2025-02-05T00:00:00.000000000",
          "2025-02-06T00:00:00.000000000",
          "2025-02-07T00:00:00.000000000",
          "2025-02-10T00:00:00.000000000",
          "2025-02-11T00:00:00.000000000",
          "2025-02-12T00:00:00.000000000",
          "2025-02-13T00:00:00.000000000",
          "2025-02-14T00:00:00.000000000",
          "2025-02-18T00:00:00.000000000",
          "2025-02-19T00:00:00.000000000",
          "2025-02-20T00:00:00.000000000",
          "2025-02-21T00:00:00.000000000",
          "2025-02-24T00:00:00.000000000",
          "2025-02-25T00:00:00.000000000",
          "2025-02-26T00:00:00.000000000",
          "2025-02-27T00:00:00.000000000",
          "2025-02-28T00:00:00.000000000",
          "2025-03-03T00:00:00.000000000",
          "2025-03-04T00:00:00.000000000",
          "2025-03-05T00:00:00.000000000",
          "2025-03-06T00:00:00.000000000",
          "2025-03-07T00:00:00.000000000",
          "2025-03-10T00:00:00.000000000",
          "2025-03-11T00:00:00.000000000",
          "2025-03-12T00:00:00.000000000",
          "2025-03-13T00:00:00.000000000",
          "2025-03-14T00:00:00.000000000",
          "2025-03-17T00:00:00.000000000",
          "2025-03-18T00:00:00.000000000",
          "2025-03-19T00:00:00.000000000",
          "2025-03-20T00:00:00.000000000",
          "2025-03-21T00:00:00.000000000",
          "2025-03-24T00:00:00.000000000",
          "2025-03-25T00:00:00.000000000",
          "2025-03-26T00:00:00.000000000",
          "2025-03-27T00:00:00.000000000",
          "2025-03-28T00:00:00.000000000",
          "2025-03-31T00:00:00.000000000",
          "2025-04-01T00:00:00.000000000",
          "2025-04-02T00:00:00.000000000",
          "2025-04-03T00:00:00.000000000",
          "2025-04-04T00:00:00.000000000",
          "2025-04-07T00:00:00.000000000",
          "2025-04-08T00:00:00.000000000",
          "2025-04-09T00:00:00.000000000",
          "2025-04-10T00:00:00.000000000",
          "2025-04-11T00:00:00.000000000",
          "2025-04-14T00:00:00.000000000",
          "2025-04-15T00:00:00.000000000",
          "2025-04-16T00:00:00.000000000",
          "2025-04-17T00:00:00.000000000",
          "2025-04-21T00:00:00.000000000",
          "2025-04-22T00:00:00.000000000",
          "2025-04-23T00:00:00.000000000",
          "2025-04-24T00:00:00.000000000",
          "2025-04-25T00:00:00.000000000",
          "2025-04-28T00:00:00.000000000",
          "2025-04-29T00:00:00.000000000",
          "2025-04-30T00:00:00.000000000",
          "2025-05-01T00:00:00.000000000",
          "2025-05-02T00:00:00.000000000",
          "2025-05-05T00:00:00.000000000",
          "2025-05-06T00:00:00.000000000",
          "2025-05-07T00:00:00.000000000",
          "2025-05-08T00:00:00.000000000",
          "2025-05-09T00:00:00.000000000",
          "2025-05-12T00:00:00.000000000",
          "2025-05-13T00:00:00.000000000",
          "2025-05-14T00:00:00.000000000",
          "2025-05-15T00:00:00.000000000",
          "2025-05-16T00:00:00.000000000",
          "2025-05-19T00:00:00.000000000",
          "2025-05-20T00:00:00.000000000",
          "2025-05-21T00:00:00.000000000",
          "2025-05-22T00:00:00.000000000",
          "2025-05-23T00:00:00.000000000",
          "2025-05-27T00:00:00.000000000",
          "2025-05-28T00:00:00.000000000",
          "2025-05-29T00:00:00.000000000",
          "2025-05-30T00:00:00.000000000",
          "2025-06-02T00:00:00.000000000",
          "2025-06-03T00:00:00.000000000",
          "2025-06-04T00:00:00.000000000",
          "2025-06-05T00:00:00.000000000",
          "2025-06-06T00:00:00.000000000",
          "2025-06-09T00:00:00.000000000",
          "2025-06-10T00:00:00.000000000",
          "2025-06-11T00:00:00.000000000",
          "2025-06-12T00:00:00.000000000",
          "2025-06-13T00:00:00.000000000",
          "2025-06-16T00:00:00.000000000",
          "2025-06-17T00:00:00.000000000",
          "2025-06-18T00:00:00.000000000",
          "2025-06-20T00:00:00.000000000",
          "2025-06-23T00:00:00.000000000",
          "2025-06-24T00:00:00.000000000",
          "2025-06-25T00:00:00.000000000",
          "2025-06-26T00:00:00.000000000",
          "2025-06-27T00:00:00.000000000",
          "2025-06-30T00:00:00.000000000",
          "2025-07-01T00:00:00.000000000",
          "2025-07-02T00:00:00.000000000",
          "2025-07-03T00:00:00.000000000",
          "2025-07-07T00:00:00.000000000",
          "2025-07-08T00:00:00.000000000",
          "2025-07-09T00:00:00.000000000",
          "2025-07-10T00:00:00.000000000",
          "2025-07-11T00:00:00.000000000",
          "2025-07-14T00:00:00.000000000",
          "2025-07-15T00:00:00.000000000",
          "2025-07-16T00:00:00.000000000",
          "2025-07-17T00:00:00.000000000",
          "2025-07-18T00:00:00.000000000",
          "2025-07-21T00:00:00.000000000",
          "2025-07-22T00:00:00.000000000",
          "2025-07-23T00:00:00.000000000",
          "2025-07-24T00:00:00.000000000",
          "2025-07-25T00:00:00.000000000",
          "2025-07-28T00:00:00.000000000",
          "2025-07-29T00:00:00.000000000",
          "2025-07-30T00:00:00.000000000",
          "2025-07-31T00:00:00.000000000",
          "2025-08-01T00:00:00.000000000",
          "2025-08-04T00:00:00.000000000",
          "2025-08-05T00:00:00.000000000",
          "2025-08-06T00:00:00.000000000",
          "2025-08-07T00:00:00.000000000",
          "2025-08-08T00:00:00.000000000",
          "2025-08-11T00:00:00.000000000",
          "2025-08-12T00:00:00.000000000",
          "2025-08-13T00:00:00.000000000",
          "2025-08-14T00:00:00.000000000",
          "2025-08-15T00:00:00.000000000",
          "2025-08-18T00:00:00.000000000",
          "2025-08-19T00:00:00.000000000",
          "2025-08-20T00:00:00.000000000",
          "2025-08-21T00:00:00.000000000",
          "2025-08-22T00:00:00.000000000",
          "2025-08-25T00:00:00.000000000",
          "2025-08-26T00:00:00.000000000",
          "2025-08-27T00:00:00.000000000",
          "2025-08-28T00:00:00.000000000",
          "2025-08-29T00:00:00.000000000",
          "2025-09-02T00:00:00.000000000",
          "2025-09-03T00:00:00.000000000",
          "2025-09-04T00:00:00.000000000",
          "2025-09-05T00:00:00.000000000",
          "2025-09-08T00:00:00.000000000",
          "2025-09-09T00:00:00.000000000",
          "2025-09-10T00:00:00.000000000",
          "2025-09-11T00:00:00.000000000",
          "2025-09-12T00:00:00.000000000",
          "2025-09-15T00:00:00.000000000",
          "2025-09-16T00:00:00.000000000",
          "2025-09-17T00:00:00.000000000",
          "2025-09-18T00:00:00.000000000",
          "2025-09-19T00:00:00.000000000",
          "2025-09-22T00:00:00.000000000",
          "2025-09-23T00:00:00.000000000",
          "2025-09-24T00:00:00.000000000",
          "2025-09-25T00:00:00.000000000",
          "2025-09-26T00:00:00.000000000",
          "2025-09-29T00:00:00.000000000",
          "2025-09-30T00:00:00.000000000",
          "2025-10-01T00:00:00.000000000",
          "2025-10-02T00:00:00.000000000",
          "2025-10-03T00:00:00.000000000",
          "2025-10-06T00:00:00.000000000",
          "2025-10-07T00:00:00.000000000",
          "2025-10-08T00:00:00.000000000",
          "2025-10-09T00:00:00.000000000",
          "2025-10-10T00:00:00.000000000",
          "2025-10-13T00:00:00.000000000",
          "2025-10-14T00:00:00.000000000",
          "2025-10-15T00:00:00.000000000",
          "2025-10-16T00:00:00.000000000"
         ],
         "xaxis": "x",
         "y": {
          "bdata": "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",
          "dtype": "f8"
         },
         "yaxis": "y"
        },
        {
         "legendgroup": "SMA",
         "line": {
          "color": "rgba(130, 80, 200, 1)",
          "width": 1
         },
         "name": "20-day MA",
         "type": "scatter",
         "x": [
          "2024-10-17T00:00:00.000000000",
          "2024-10-18T00:00:00.000000000",
          "2024-10-21T00:00:00.000000000",
          "2024-10-22T00:00:00.000000000",
          "2024-10-23T00:00:00.000000000",
          "2024-10-24T00:00:00.000000000",
          "2024-10-25T00:00:00.000000000",
          "2024-10-28T00:00:00.000000000",
          "2024-10-29T00:00:00.000000000",
          "2024-10-30T00:00:00.000000000",
          "2024-10-31T00:00:00.000000000",
          "2024-11-01T00:00:00.000000000",
          "2024-11-04T00:00:00.000000000",
          "2024-11-05T00:00:00.000000000",
          "2024-11-06T00:00:00.000000000",
          "2024-11-07T00:00:00.000000000",
          "2024-11-08T00:00:00.000000000",
          "2024-11-11T00:00:00.000000000",
          "2024-11-12T00:00:00.000000000",
          "2024-11-13T00:00:00.000000000",
          "2024-11-14T00:00:00.000000000",
          "2024-11-15T00:00:00.000000000",
          "2024-11-18T00:00:00.000000000",
          "2024-11-19T00:00:00.000000000",
          "2024-11-20T00:00:00.000000000",
          "2024-11-21T00:00:00.000000000",
          "2024-11-22T00:00:00.000000000",
          "2024-11-25T00:00:00.000000000",
          "2024-11-26T00:00:00.000000000",
          "2024-11-27T00:00:00.000000000",
          "2024-11-29T00:00:00.000000000",
          "2024-12-02T00:00:00.000000000",
          "2024-12-03T00:00:00.000000000",
          "2024-12-04T00:00:00.000000000",
          "2024-12-05T00:00:00.000000000",
          "2024-12-06T00:00:00.000000000",
          "2024-12-09T00:00:00.000000000",
          "2024-12-10T00:00:00.000000000",
          "2024-12-11T00:00:00.000000000",
          "2024-12-12T00:00:00.000000000",
          "2024-12-13T00:00:00.000000000",
          "2024-12-16T00:00:00.000000000",
          "2024-12-17T00:00:00.000000000",
          "2024-12-18T00:00:00.000000000",
          "2024-12-19T00:00:00.000000000",
          "2024-12-20T00:00:00.000000000",
          "2024-12-23T00:00:00.000000000",
          "2024-12-24T00:00:00.000000000",
          "2024-12-26T00:00:00.000000000",
          "2024-12-27T00:00:00.000000000",
          "2024-12-30T00:00:00.000000000",
          "2024-12-31T00:00:00.000000000",
          "2025-01-02T00:00:00.000000000",
          "2025-01-03T00:00:00.000000000",
          "2025-01-06T00:00:00.000000000",
          "2025-01-07T00:00:00.000000000",
          "2025-01-08T00:00:00.000000000",
          "2025-01-10T00:00:00.000000000",
          "2025-01-13T00:00:00.000000000",
          "2025-01-14T00:00:00.000000000",
          "2025-01-15T00:00:00.000000000",
          "2025-01-16T00:00:00.000000000",
          "2025-01-17T00:00:00.000000000",
          "2025-01-21T00:00:00.000000000",
          "2025-01-22T00:00:00.000000000",
          "2025-01-23T00:00:00.000000000",
          "2025-01-24T00:00:00.000000000",
          "2025-01-27T00:00:00.000000000",
          "2025-01-28T00:00:00.000000000",
          "2025-01-29T00:00:00.000000000",
          "2025-01-30T00:00:00.000000000",
          "2025-01-31T00:00:00.000000000",
          "2025-02-03T00:00:00.000000000",
          "2025-02-04T00:00:00.000000000",
          "2025-02-05T00:00:00.000000000",
          "2025-02-06T00:00:00.000000000",
          "2025-02-07T00:00:00.000000000",
          "2025-02-10T00:00:00.000000000",
          "2025-02-11T00:00:00.000000000",
          "2025-02-12T00:00:00.000000000",
          "2025-02-13T00:00:00.000000000",
          "2025-02-14T00:00:00.000000000",
          "2025-02-18T00:00:00.000000000",
          "2025-02-19T00:00:00.000000000",
          "2025-02-20T00:00:00.000000000",
          "2025-02-21T00:00:00.000000000",
          "2025-02-24T00:00:00.000000000",
          "2025-02-25T00:00:00.000000000",
          "2025-02-26T00:00:00.000000000",
          "2025-02-27T00:00:00.000000000",
          "2025-02-28T00:00:00.000000000",
          "2025-03-03T00:00:00.000000000",
          "2025-03-04T00:00:00.000000000",
          "2025-03-05T00:00:00.000000000",
          "2025-03-06T00:00:00.000000000",
          "2025-03-07T00:00:00.000000000",
          "2025-03-10T00:00:00.000000000",
          "2025-03-11T00:00:00.000000000",
          "2025-03-12T00:00:00.000000000",
          "2025-03-13T00:00:00.000000000",
          "2025-03-14T00:00:00.000000000",
          "2025-03-17T00:00:00.000000000",
          "2025-03-18T00:00:00.000000000",
          "2025-03-19T00:00:00.000000000",
          "2025-03-20T00:00:00.000000000",
          "2025-03-21T00:00:00.000000000",
          "2025-03-24T00:00:00.000000000",
          "2025-03-25T00:00:00.000000000",
          "2025-03-26T00:00:00.000000000",
          "2025-03-27T00:00:00.000000000",
          "2025-03-28T00:00:00.000000000",
          "2025-03-31T00:00:00.000000000",
          "2025-04-01T00:00:00.000000000",
          "2025-04-02T00:00:00.000000000",
          "2025-04-03T00:00:00.000000000",
          "2025-04-04T00:00:00.000000000",
          "2025-04-07T00:00:00.000000000",
          "2025-04-08T00:00:00.000000000",
          "2025-04-09T00:00:00.000000000",
          "2025-04-10T00:00:00.000000000",
          "2025-04-11T00:00:00.000000000",
          "2025-04-14T00:00:00.000000000",
          "2025-04-15T00:00:00.000000000",
          "2025-04-16T00:00:00.000000000",
          "2025-04-17T00:00:00.000000000",
          "2025-04-21T00:00:00.000000000",
          "2025-04-22T00:00:00.000000000",
          "2025-04-23T00:00:00.000000000",
          "2025-04-24T00:00:00.000000000",
          "2025-04-25T00:00:00.000000000",
          "2025-04-28T00:00:00.000000000",
          "2025-04-29T00:00:00.000000000",
          "2025-04-30T00:00:00.000000000",
          "2025-05-01T00:00:00.000000000",
          "2025-05-02T00:00:00.000000000",
          "2025-05-05T00:00:00.000000000",
          "2025-05-06T00:00:00.000000000",
          "2025-05-07T00:00:00.000000000",
          "2025-05-08T00:00:00.000000000",
          "2025-05-09T00:00:00.000000000",
          "2025-05-12T00:00:00.000000000",
          "2025-05-13T00:00:00.000000000",
          "2025-05-14T00:00:00.000000000",
          "2025-05-15T00:00:00.000000000",
          "2025-05-16T00:00:00.000000000",
          "2025-05-19T00:00:00.000000000",
          "2025-05-20T00:00:00.000000000",
          "2025-05-21T00:00:00.000000000",
          "2025-05-22T00:00:00.000000000",
          "2025-05-23T00:00:00.000000000",
          "2025-05-27T00:00:00.000000000",
          "2025-05-28T00:00:00.000000000",
          "2025-05-29T00:00:00.000000000",
          "2025-05-30T00:00:00.000000000",
          "2025-06-02T00:00:00.000000000",
          "2025-06-03T00:00:00.000000000",
          "2025-06-04T00:00:00.000000000",
          "2025-06-05T00:00:00.000000000",
          "2025-06-06T00:00:00.000000000",
          "2025-06-09T00:00:00.000000000",
          "2025-06-10T00:00:00.000000000",
          "2025-06-11T00:00:00.000000000",
          "2025-06-12T00:00:00.000000000",
          "2025-06-13T00:00:00.000000000",
          "2025-06-16T00:00:00.000000000",
          "2025-06-17T00:00:00.000000000",
          "2025-06-18T00:00:00.000000000",
          "2025-06-20T00:00:00.000000000",
          "2025-06-23T00:00:00.000000000",
          "2025-06-24T00:00:00.000000000",
          "2025-06-25T00:00:00.000000000",
          "2025-06-26T00:00:00.000000000",
          "2025-06-27T00:00:00.000000000",
          "2025-06-30T00:00:00.000000000",
          "2025-07-01T00:00:00.000000000",
          "2025-07-02T00:00:00.000000000",
          "2025-07-03T00:00:00.000000000",
          "2025-07-07T00:00:00.000000000",
          "2025-07-08T00:00:00.000000000",
          "2025-07-09T00:00:00.000000000",
          "2025-07-10T00:00:00.000000000",
          "2025-07-11T00:00:00.000000000",
          "2025-07-14T00:00:00.000000000",
          "2025-07-15T00:00:00.000000000",
          "2025-07-16T00:00:00.000000000",
          "2025-07-17T00:00:00.000000000",
          "2025-07-18T00:00:00.000000000",
          "2025-07-21T00:00:00.000000000",
          "2025-07-22T00:00:00.000000000",
          "2025-07-23T00:00:00.000000000",
          "2025-07-24T00:00:00.000000000",
          "2025-07-25T00:00:00.000000000",
          "2025-07-28T00:00:00.000000000",
          "2025-07-29T00:00:00.000000000",
          "2025-07-30T00:00:00.000000000",
          "2025-07-31T00:00:00.000000000",
          "2025-08-01T00:00:00.000000000",
          "2025-08-04T00:00:00.000000000",
          "2025-08-05T00:00:00.000000000",
          "2025-08-06T00:00:00.000000000",
          "2025-08-07T00:00:00.000000000",
          "2025-08-08T00:00:00.000000000",
          "2025-08-11T00:00:00.000000000",
          "2025-08-12T00:00:00.000000000",
          "2025-08-13T00:00:00.000000000",
          "2025-08-14T00:00:00.000000000",
          "2025-08-15T00:00:00.000000000",
          "2025-08-18T00:00:00.000000000",
          "2025-08-19T00:00:00.000000000",
          "2025-08-20T00:00:00.000000000",
          "2025-08-21T00:00:00.000000000",
          "2025-08-22T00:00:00.000000000",
          "2025-08-25T00:00:00.000000000",
          "2025-08-26T00:00:00.000000000",
          "2025-08-27T00:00:00.000000000",
          "2025-08-28T00:00:00.000000000",
          "2025-08-29T00:00:00.000000000",
          "2025-09-02T00:00:00.000000000",
          "2025-09-03T00:00:00.000000000",
          "2025-09-04T00:00:00.000000000",
          "2025-09-05T00:00:00.000000000",
          "2025-09-08T00:00:00.000000000",
          "2025-09-09T00:00:00.000000000",
          "2025-09-10T00:00:00.000000000",
          "2025-09-11T00:00:00.000000000",
          "2025-09-12T00:00:00.000000000",
          "2025-09-15T00:00:00.000000000",
          "2025-09-16T00:00:00.000000000",
          "2025-09-17T00:00:00.000000000",
          "2025-09-18T00:00:00.000000000",
          "2025-09-19T00:00:00.000000000",
          "2025-09-22T00:00:00.000000000",
          "2025-09-23T00:00:00.000000000",
          "2025-09-24T00:00:00.000000000",
          "2025-09-25T00:00:00.000000000",
          "2025-09-26T00:00:00.000000000",
          "2025-09-29T00:00:00.000000000",
          "2025-09-30T00:00:00.000000000",
          "2025-10-01T00:00:00.000000000",
          "2025-10-02T00:00:00.000000000",
          "2025-10-03T00:00:00.000000000",
          "2025-10-06T00:00:00.000000000",
          "2025-10-07T00:00:00.000000000",
          "2025-10-08T00:00:00.000000000",
          "2025-10-09T00:00:00.000000000",
          "2025-10-10T00:00:00.000000000",
          "2025-10-13T00:00:00.000000000",
          "2025-10-14T00:00:00.000000000",
          "2025-10-15T00:00:00.000000000",
          "2025-10-16T00:00:00.000000000"
         ],
         "xaxis": "x",
         "y": {
          "bdata": "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",
          "dtype": "f8"
         },
         "yaxis": "y"
        },
        {
         "legendgroup": "SMA",
         "line": {
          "color": "rgba(255, 80, 255, 1)",
          "width": 1
         },
         "name": "50-day MA",
         "type": "scatter",
         "x": [
          "2024-10-17T00:00:00.000000000",
          "2024-10-18T00:00:00.000000000",
          "2024-10-21T00:00:00.000000000",
          "2024-10-22T00:00:00.000000000",
          "2024-10-23T00:00:00.000000000",
          "2024-10-24T00:00:00.000000000",
          "2024-10-25T00:00:00.000000000",
          "2024-10-28T00:00:00.000000000",
          "2024-10-29T00:00:00.000000000",
          "2024-10-30T00:00:00.000000000",
          "2024-10-31T00:00:00.000000000",
          "2024-11-01T00:00:00.000000000",
          "2024-11-04T00:00:00.000000000",
          "2024-11-05T00:00:00.000000000",
          "2024-11-06T00:00:00.000000000",
          "2024-11-07T00:00:00.000000000",
          "2024-11-08T00:00:00.000000000",
          "2024-11-11T00:00:00.000000000",
          "2024-11-12T00:00:00.000000000",
          "2024-11-13T00:00:00.000000000",
          "2024-11-14T00:00:00.000000000",
          "2024-11-15T00:00:00.000000000",
          "2024-11-18T00:00:00.000000000",
          "2024-11-19T00:00:00.000000000",
          "2024-11-20T00:00:00.000000000",
          "2024-11-21T00:00:00.000000000",
          "2024-11-22T00:00:00.000000000",
          "2024-11-25T00:00:00.000000000",
          "2024-11-26T00:00:00.000000000",
          "2024-11-27T00:00:00.000000000",
          "2024-11-29T00:00:00.000000000",
          "2024-12-02T00:00:00.000000000",
          "2024-12-03T00:00:00.000000000",
          "2024-12-04T00:00:00.000000000",
          "2024-12-05T00:00:00.000000000",
          "2024-12-06T00:00:00.000000000",
          "2024-12-09T00:00:00.000000000",
          "2024-12-10T00:00:00.000000000",
          "2024-12-11T00:00:00.000000000",
          "2024-12-12T00:00:00.000000000",
          "2024-12-13T00:00:00.000000000",
          "2024-12-16T00:00:00.000000000",
          "2024-12-17T00:00:00.000000000",
          "2024-12-18T00:00:00.000000000",
          "2024-12-19T00:00:00.000000000",
          "2024-12-20T00:00:00.000000000",
          "2024-12-23T00:00:00.000000000",
          "2024-12-24T00:00:00.000000000",
          "2024-12-26T00:00:00.000000000",
          "2024-12-27T00:00:00.000000000",
          "2024-12-30T00:00:00.000000000",
          "2024-12-31T00:00:00.000000000",
          "2025-01-02T00:00:00.000000000",
          "2025-01-03T00:00:00.000000000",
          "2025-01-06T00:00:00.000000000",
          "2025-01-07T00:00:00.000000000",
          "2025-01-08T00:00:00.000000000",
          "2025-01-10T00:00:00.000000000",
          "2025-01-13T00:00:00.000000000",
          "2025-01-14T00:00:00.000000000",
          "2025-01-15T00:00:00.000000000",
          "2025-01-16T00:00:00.000000000",
          "2025-01-17T00:00:00.000000000",
          "2025-01-21T00:00:00.000000000",
          "2025-01-22T00:00:00.000000000",
          "2025-01-23T00:00:00.000000000",
          "2025-01-24T00:00:00.000000000",
          "2025-01-27T00:00:00.000000000",
          "2025-01-28T00:00:00.000000000",
          "2025-01-29T00:00:00.000000000",
          "2025-01-30T00:00:00.000000000",
          "2025-01-31T00:00:00.000000000",
          "2025-02-03T00:00:00.000000000",
          "2025-02-04T00:00:00.000000000",
          "2025-02-05T00:00:00.000000000",
          "2025-02-06T00:00:00.000000000",
          "2025-02-07T00:00:00.000000000",
          "2025-02-10T00:00:00.000000000",
          "2025-02-11T00:00:00.000000000",
          "2025-02-12T00:00:00.000000000",
          "2025-02-13T00:00:00.000000000",
          "2025-02-14T00:00:00.000000000",
          "2025-02-18T00:00:00.000000000",
          "2025-02-19T00:00:00.000000000",
          "2025-02-20T00:00:00.000000000",
          "2025-02-21T00:00:00.000000000",
          "2025-02-24T00:00:00.000000000",
          "2025-02-25T00:00:00.000000000",
          "2025-02-26T00:00:00.000000000",
          "2025-02-27T00:00:00.000000000",
          "2025-02-28T00:00:00.000000000",
          "2025-03-03T00:00:00.000000000",
          "2025-03-04T00:00:00.000000000",
          "2025-03-05T00:00:00.000000000",
          "2025-03-06T00:00:00.000000000",
          "2025-03-07T00:00:00.000000000",
          "2025-03-10T00:00:00.000000000",
          "2025-03-11T00:00:00.000000000",
          "2025-03-12T00:00:00.000000000",
          "2025-03-13T00:00:00.000000000",
          "2025-03-14T00:00:00.000000000",
          "2025-03-17T00:00:00.000000000",
          "2025-03-18T00:00:00.000000000",
          "2025-03-19T00:00:00.000000000",
          "2025-03-20T00:00:00.000000000",
          "2025-03-21T00:00:00.000000000",
          "2025-03-24T00:00:00.000000000",
          "2025-03-25T00:00:00.000000000",
          "2025-03-26T00:00:00.000000000",
          "2025-03-27T00:00:00.000000000",
          "2025-03-28T00:00:00.000000000",
          "2025-03-31T00:00:00.000000000",
          "2025-04-01T00:00:00.000000000",
          "2025-04-02T00:00:00.000000000",
          "2025-04-03T00:00:00.000000000",
          "2025-04-04T00:00:00.000000000",
          "2025-04-07T00:00:00.000000000",
          "2025-04-08T00:00:00.000000000",
          "2025-04-09T00:00:00.000000000",
          "2025-04-10T00:00:00.000000000",
          "2025-04-11T00:00:00.000000000",
          "2025-04-14T00:00:00.000000000",
          "2025-04-15T00:00:00.000000000",
          "2025-04-16T00:00:00.000000000",
          "2025-04-17T00:00:00.000000000",
          "2025-04-21T00:00:00.000000000",
          "2025-04-22T00:00:00.000000000",
          "2025-04-23T00:00:00.000000000",
          "2025-04-24T00:00:00.000000000",
          "2025-04-25T00:00:00.000000000",
          "2025-04-28T00:00:00.000000000",
          "2025-04-29T00:00:00.000000000",
          "2025-04-30T00:00:00.000000000",
          "2025-05-01T00:00:00.000000000",
          "2025-05-02T00:00:00.000000000",
          "2025-05-05T00:00:00.000000000",
          "2025-05-06T00:00:00.000000000",
          "2025-05-07T00:00:00.000000000",
          "2025-05-08T00:00:00.000000000",
          "2025-05-09T00:00:00.000000000",
          "2025-05-12T00:00:00.000000000",
          "2025-05-13T00:00:00.000000000",
          "2025-05-14T00:00:00.000000000",
          "2025-05-15T00:00:00.000000000",
          "2025-05-16T00:00:00.000000000",
          "2025-05-19T00:00:00.000000000",
          "2025-05-20T00:00:00.000000000",
          "2025-05-21T00:00:00.000000000",
          "2025-05-22T00:00:00.000000000",
          "2025-05-23T00:00:00.000000000",
          "2025-05-27T00:00:00.000000000",
          "2025-05-28T00:00:00.000000000",
          "2025-05-29T00:00:00.000000000",
          "2025-05-30T00:00:00.000000000",
          "2025-06-02T00:00:00.000000000",
          "2025-06-03T00:00:00.000000000",
          "2025-06-04T00:00:00.000000000",
          "2025-06-05T00:00:00.000000000",
          "2025-06-06T00:00:00.000000000",
          "2025-06-09T00:00:00.000000000",
          "2025-06-10T00:00:00.000000000",
          "2025-06-11T00:00:00.000000000",
          "2025-06-12T00:00:00.000000000",
          "2025-06-13T00:00:00.000000000",
          "2025-06-16T00:00:00.000000000",
          "2025-06-17T00:00:00.000000000",
          "2025-06-18T00:00:00.000000000",
          "2025-06-20T00:00:00.000000000",
          "2025-06-23T00:00:00.000000000",
          "2025-06-24T00:00:00.000000000",
          "2025-06-25T00:00:00.000000000",
          "2025-06-26T00:00:00.000000000",
          "2025-06-27T00:00:00.000000000",
          "2025-06-30T00:00:00.000000000",
          "2025-07-01T00:00:00.000000000",
          "2025-07-02T00:00:00.000000000",
          "2025-07-03T00:00:00.000000000",
          "2025-07-07T00:00:00.000000000",
          "2025-07-08T00:00:00.000000000",
          "2025-07-09T00:00:00.000000000",
          "2025-07-10T00:00:00.000000000",
          "2025-07-11T00:00:00.000000000",
          "2025-07-14T00:00:00.000000000",
          "2025-07-15T00:00:00.000000000",
          "2025-07-16T00:00:00.000000000",
          "2025-07-17T00:00:00.000000000",
          "2025-07-18T00:00:00.000000000",
          "2025-07-21T00:00:00.000000000",
          "2025-07-22T00:00:00.000000000",
          "2025-07-23T00:00:00.000000000",
          "2025-07-24T00:00:00.000000000",
          "2025-07-25T00:00:00.000000000",
          "2025-07-28T00:00:00.000000000",
          "2025-07-29T00:00:00.000000000",
          "2025-07-30T00:00:00.000000000",
          "2025-07-31T00:00:00.000000000",
          "2025-08-01T00:00:00.000000000",
          "2025-08-04T00:00:00.000000000",
          "2025-08-05T00:00:00.000000000",
          "2025-08-06T00:00:00.000000000",
          "2025-08-07T00:00:00.000000000",
          "2025-08-08T00:00:00.000000000",
          "2025-08-11T00:00:00.000000000",
          "2025-08-12T00:00:00.000000000",
          "2025-08-13T00:00:00.000000000",
          "2025-08-14T00:00:00.000000000",
          "2025-08-15T00:00:00.000000000",
          "2025-08-18T00:00:00.000000000",
          "2025-08-19T00:00:00.000000000",
          "2025-08-20T00:00:00.000000000",
          "2025-08-21T00:00:00.000000000",
          "2025-08-22T00:00:00.000000000",
          "2025-08-25T00:00:00.000000000",
          "2025-08-26T00:00:00.000000000",
          "2025-08-27T00:00:00.000000000",
          "2025-08-28T00:00:00.000000000",
          "2025-08-29T00:00:00.000000000",
          "2025-09-02T00:00:00.000000000",
          "2025-09-03T00:00:00.000000000",
          "2025-09-04T00:00:00.000000000",
          "2025-09-05T00:00:00.000000000",
          "2025-09-08T00:00:00.000000000",
          "2025-09-09T00:00:00.000000000",
          "2025-09-10T00:00:00.000000000",
          "2025-09-11T00:00:00.000000000",
          "2025-09-12T00:00:00.000000000",
          "2025-09-15T00:00:00.000000000",
          "2025-09-16T00:00:00.000000000",
          "2025-09-17T00:00:00.000000000",
          "2025-09-18T00:00:00.000000000",
          "2025-09-19T00:00:00.000000000",
          "2025-09-22T00:00:00.000000000",
          "2025-09-23T00:00:00.000000000",
          "2025-09-24T00:00:00.000000000",
          "2025-09-25T00:00:00.000000000",
          "2025-09-26T00:00:00.000000000",
          "2025-09-29T00:00:00.000000000",
          "2025-09-30T00:00:00.000000000",
          "2025-10-01T00:00:00.000000000",
          "2025-10-02T00:00:00.000000000",
          "2025-10-03T00:00:00.000000000",
          "2025-10-06T00:00:00.000000000",
          "2025-10-07T00:00:00.000000000",
          "2025-10-08T00:00:00.000000000",
          "2025-10-09T00:00:00.000000000",
          "2025-10-10T00:00:00.000000000",
          "2025-10-13T00:00:00.000000000",
          "2025-10-14T00:00:00.000000000",
          "2025-10-15T00:00:00.000000000",
          "2025-10-16T00:00:00.000000000"
         ],
         "xaxis": "x",
         "y": {
          "bdata": "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",
          "dtype": "f8"
         },
         "yaxis": "y"
        },
        {
         "legendgroup": "LSTM forecast",
         "line": {
          "color": "cyan",
          "dash": "dash",
          "width": 1.5
         },
         "name": "Baseline scenario",
         "type": "scatter",
         "x": [
          "2025-10-17T00:00:00.000000000",
          "2025-10-18T00:00:00.000000000",
          "2025-10-19T00:00:00.000000000",
          "2025-10-20T00:00:00.000000000",
          "2025-10-21T00:00:00.000000000",
          "2025-10-22T00:00:00.000000000",
          "2025-10-23T00:00:00.000000000",
          "2025-10-24T00:00:00.000000000",
          "2025-10-25T00:00:00.000000000",
          "2025-10-26T00:00:00.000000000",
          "2025-10-27T00:00:00.000000000",
          "2025-10-28T00:00:00.000000000",
          "2025-10-29T00:00:00.000000000",
          "2025-10-30T00:00:00.000000000",
          "2025-10-31T00:00:00.000000000",
          "2025-11-01T00:00:00.000000000",
          "2025-11-02T00:00:00.000000000",
          "2025-11-03T00:00:00.000000000",
          "2025-11-04T00:00:00.000000000",
          "2025-11-05T00:00:00.000000000",
          "2025-11-06T00:00:00.000000000",
          "2025-11-07T00:00:00.000000000",
          "2025-11-08T00:00:00.000000000",
          "2025-11-09T00:00:00.000000000",
          "2025-11-10T00:00:00.000000000",
          "2025-11-11T00:00:00.000000000",
          "2025-11-12T00:00:00.000000000",
          "2025-11-13T00:00:00.000000000",
          "2025-11-14T00:00:00.000000000",
          "2025-11-15T00:00:00.000000000",
          "2025-11-16T00:00:00.000000000",
          "2025-11-17T00:00:00.000000000",
          "2025-11-18T00:00:00.000000000",
          "2025-11-19T00:00:00.000000000",
          "2025-11-20T00:00:00.000000000",
          "2025-11-21T00:00:00.000000000",
          "2025-11-22T00:00:00.000000000",
          "2025-11-23T00:00:00.000000000",
          "2025-11-24T00:00:00.000000000",
          "2025-11-25T00:00:00.000000000",
          "2025-11-26T00:00:00.000000000",
          "2025-11-27T00:00:00.000000000",
          "2025-11-28T00:00:00.000000000",
          "2025-11-29T00:00:00.000000000",
          "2025-11-30T00:00:00.000000000",
          "2025-12-01T00:00:00.000000000",
          "2025-12-02T00:00:00.000000000",
          "2025-12-03T00:00:00.000000000",
          "2025-12-04T00:00:00.000000000",
          "2025-12-05T00:00:00.000000000",
          "2025-12-06T00:00:00.000000000",
          "2025-12-07T00:00:00.000000000",
          "2025-12-08T00:00:00.000000000",
          "2025-12-09T00:00:00.000000000",
          "2025-12-10T00:00:00.000000000",
          "2025-12-11T00:00:00.000000000",
          "2025-12-12T00:00:00.000000000",
          "2025-12-13T00:00:00.000000000",
          "2025-12-14T00:00:00.000000000",
          "2025-12-15T00:00:00.000000000"
         ],
         "xaxis": "x",
         "y": {
          "bdata": "oKz5nKKJZkCgZPUT72hmQKBXVoOURmZAUKNyxUcjZkBQxJAUeP9lQKCooIlq22VAoHdIiUy3ZUDw9UF1PZNlQIDQ01dVb2VAMGnLj6VLZUBQb3oJPShlQMDf38MnBWVAcNF492/iZECAqPRfHsBkQHCW8oM5nmRAQDPMh8d8ZEAAMVnJzFtkQABCw7BMO2RAgGUUH0obZEAAm6j/xvtjQLDIUyPE3GNAwNTpWkK+Y0DA2ETLQaBjQDA7HxLCgmNAwOLwFMJlY0DAgitlQUljQAACcG0+LWNAIJQWjLcRY0DAbHcfq/ZiQJA/f0gX3GJAYPPOcfrBYkBAb1kQUqhiQLCzwjgcj2JAoKfU2lZ2YkBAZTa1/11iQPC515IURmJA4L9fMpMuYkAAXpiDeRdiQLBhcVHFAGJAWNgkSHTqYUCwtelphNRhQKjgiabzvmFAeLP2nb+pYUDAYYiu5pRhQBiswZBmgGFAaDkiUz1sYUDw1nA7aVhhQGA4mmroRGFAEOtDyrgxYUAwPKDd2B5hQKCS5NFGDGFAcAiP4AD6YEA4ka2GBehgQGBtBTVT1mBAwMOBN+jEYEDgB5xIw7NgQMgTiMDiomBACJsJO0WSYEBYxOJ+6YFgQCDQ2PzNcWBA",
          "dtype": "f8"
         },
         "yaxis": "y"
        },
        {
         "legendgroup": "LSTM forecast",
         "line": {
          "color": "rgba(85, 255, 210, 1)",
          "dash": "dash",
          "width": 1
         },
         "name": "Optimistic scenario",
         "type": "scatter",
         "x": [
          "2025-10-17T00:00:00.000000000",
          "2025-10-18T00:00:00.000000000",
          "2025-10-19T00:00:00.000000000",
          "2025-10-20T00:00:00.000000000",
          "2025-10-21T00:00:00.000000000",
          "2025-10-22T00:00:00.000000000",
          "2025-10-23T00:00:00.000000000",
          "2025-10-24T00:00:00.000000000",
          "2025-10-25T00:00:00.000000000",
          "2025-10-26T00:00:00.000000000",
          "2025-10-27T00:00:00.000000000",
          "2025-10-28T00:00:00.000000000",
          "2025-10-29T00:00:00.000000000",
          "2025-10-30T00:00:00.000000000",
          "2025-10-31T00:00:00.000000000",
          "2025-11-01T00:00:00.000000000",
          "2025-11-02T00:00:00.000000000",
          "2025-11-03T00:00:00.000000000",
          "2025-11-04T00:00:00.000000000",
          "2025-11-05T00:00:00.000000000",
          "2025-11-06T00:00:00.000000000",
          "2025-11-07T00:00:00.000000000",
          "2025-11-08T00:00:00.000000000",
          "2025-11-09T00:00:00.000000000",
          "2025-11-10T00:00:00.000000000",
          "2025-11-11T00:00:00.000000000",
          "2025-11-12T00:00:00.000000000",
          "2025-11-13T00:00:00.000000000",
          "2025-11-14T00:00:00.000000000",
          "2025-11-15T00:00:00.000000000",
          "2025-11-16T00:00:00.000000000",
          "2025-11-17T00:00:00.000000000",
          "2025-11-18T00:00:00.000000000",
          "2025-11-19T00:00:00.000000000",
          "2025-11-20T00:00:00.000000000",
          "2025-11-21T00:00:00.000000000",
          "2025-11-22T00:00:00.000000000",
          "2025-11-23T00:00:00.000000000",
          "2025-11-24T00:00:00.000000000",
          "2025-11-25T00:00:00.000000000",
          "2025-11-26T00:00:00.000000000",
          "2025-11-27T00:00:00.000000000",
          "2025-11-28T00:00:00.000000000",
          "2025-11-29T00:00:00.000000000",
          "2025-11-30T00:00:00.000000000",
          "2025-12-01T00:00:00.000000000",
          "2025-12-02T00:00:00.000000000",
          "2025-12-03T00:00:00.000000000",
          "2025-12-04T00:00:00.000000000",
          "2025-12-05T00:00:00.000000000",
          "2025-12-06T00:00:00.000000000",
          "2025-12-07T00:00:00.000000000",
          "2025-12-08T00:00:00.000000000",
          "2025-12-09T00:00:00.000000000",
          "2025-12-10T00:00:00.000000000",
          "2025-12-11T00:00:00.000000000",
          "2025-12-12T00:00:00.000000000",
          "2025-12-13T00:00:00.000000000",
          "2025-12-14T00:00:00.000000000",
          "2025-12-15T00:00:00.000000000"
         ],
         "xaxis": "x",
         "y": {
          "bdata": "oLloerSfZkDAwdsZMnlmQJAdeLp/LmZAgApYuO8vZkDwGzYcuRZmQLBA61pxAWZA8Cl0gaKvZUAwmfuZe7llQACStCt/mmVAEBfpr/6HZUCgFcsT1W9lQLCeW1B9O2VAgFVWGogJZUDg/2kgZxllQOAlHRlRDWVAUJDOu635ZECgaEz+MtFkQBB02xjOzGRAMG6N4aC2ZEDg9l+D8b5kQPA5dEmUiGRAkAr3iIp+ZEAgYTWX2FtkQKDZ/YtAY2RAUFF0NlNWZEAQ6z4uF1dkQNBG0mGFQmRAUPGmRohYZEBQDyI12y1kQIBJw2xmRGRAUMH9zRgyZECAwmYhNj1kQICRoRJuMmRAQM/C3/wlZEAgHEF9rChkQGA+8HdkJ2RAIMYTd3IeZEAArMTDJ0JkQHCKr7wUL2RAQMojZqY0ZEBwASp9niVkQADo3av9KmRAMI+PHcI5ZEDQHvZ0VUxkQAChDawMV2RAAHYnAE1cZEAQo/u5r2NkQDBREnaXbGRAINJc7o52ZEDQkCniz4hkQOCEx0cXfWRAcA62teiQZEAgdfIrxLBkQFAR+3WvnmRAoBQayUi1ZEAAAHIqidNkQED0xPNw6GRAsBysbuXvZECgTL7w7R9lQKDLRChrGWVA",
          "dtype": "f8"
         },
         "yaxis": "y"
        },
        {
         "legendgroup": "LSTM forecast",
         "line": {
          "color": "rgba(147, 146, 255, 1)",
          "dash": "dash",
          "width": 1
         },
         "name": "Pessimistic scenario",
         "type": "scatter",
         "x": [
          "2025-10-17T00:00:00.000000000",
          "2025-10-18T00:00:00.000000000",
          "2025-10-19T00:00:00.000000000",
          "2025-10-20T00:00:00.000000000",
          "2025-10-21T00:00:00.000000000",
          "2025-10-22T00:00:00.000000000",
          "2025-10-23T00:00:00.000000000",
          "2025-10-24T00:00:00.000000000",
          "2025-10-25T00:00:00.000000000",
          "2025-10-26T00:00:00.000000000",
          "2025-10-27T00:00:00.000000000",
          "2025-10-28T00:00:00.000000000",
          "2025-10-29T00:00:00.000000000",
          "2025-10-30T00:00:00.000000000",
          "2025-10-31T00:00:00.000000000",
          "2025-11-01T00:00:00.000000000",
          "2025-11-02T00:00:00.000000000",
          "2025-11-03T00:00:00.000000000",
          "2025-11-04T00:00:00.000000000",
          "2025-11-05T00:00:00.000000000",
          "2025-11-06T00:00:00.000000000",
          "2025-11-07T00:00:00.000000000",
          "2025-11-08T00:00:00.000000000",
          "2025-11-09T00:00:00.000000000",
          "2025-11-10T00:00:00.000000000",
          "2025-11-11T00:00:00.000000000",
          "2025-11-12T00:00:00.000000000",
          "2025-11-13T00:00:00.000000000",
          "2025-11-14T00:00:00.000000000",
          "2025-11-15T00:00:00.000000000",
          "2025-11-16T00:00:00.000000000",
          "2025-11-17T00:00:00.000000000",
          "2025-11-18T00:00:00.000000000",
          "2025-11-19T00:00:00.000000000",
          "2025-11-20T00:00:00.000000000",
          "2025-11-21T00:00:00.000000000",
          "2025-11-22T00:00:00.000000000",
          "2025-11-23T00:00:00.000000000",
          "2025-11-24T00:00:00.000000000",
          "2025-11-25T00:00:00.000000000",
          "2025-11-26T00:00:00.000000000",
          "2025-11-27T00:00:00.000000000",
          "2025-11-28T00:00:00.000000000",
          "2025-11-29T00:00:00.000000000",
          "2025-11-30T00:00:00.000000000",
          "2025-12-01T00:00:00.000000000",
          "2025-12-02T00:00:00.000000000",
          "2025-12-03T00:00:00.000000000",
          "2025-12-04T00:00:00.000000000",
          "2025-12-05T00:00:00.000000000",
          "2025-12-06T00:00:00.000000000",
          "2025-12-07T00:00:00.000000000",
          "2025-12-08T00:00:00.000000000",
          "2025-12-09T00:00:00.000000000",
          "2025-12-10T00:00:00.000000000",
          "2025-12-11T00:00:00.000000000",
          "2025-12-12T00:00:00.000000000",
          "2025-12-13T00:00:00.000000000",
          "2025-12-14T00:00:00.000000000",
          "2025-12-15T00:00:00.000000000"
         ],
         "xaxis": "x",
         "y": {
          "bdata": "QLyZ0waEZkBQ1Q2Hk1pmQDBbzthNQmZAkDEdXAEbZkBAVZWkF+9lQMCfF5g7uGVAAODaIpSOZUDwfONbGVZlQNDBvOCHU2VAcItYx1YIZUBQV2XczeVkQHDoAXXVoGRAEKEwnKiBZEAg1h8FalJkQFBz2/aoLmRAYNGGz7r7Y0AAWxR0PedjQIAJI05imWNAEOGo4Zd4Y0CAkQ7ujFRjQGBY4A/kSWNA8LvPvnMEY0DgIN5s6uZiQIDoGvwypGJA0Mpnk2h/YkBgaxHCOlZiQMC3ZknYCWJAUF+g8rPmYUAwMVonmM9hQBA3UxD6omFAGPqHIepbYUBQISWoUE1hQFjg/5BqIGFAkBUHEF7GYECoOQ9cUaJgQBBLqihGbWBAQKorfrM/YEAIa3iCtA9gQEChaI4J/l9AoPv7epBKX0Dw7/iS7wxfQLD2JQixj15AMLk2Em1SXkAQ7nsvVNhdQPCxLnctVV1AeIZiTDAnXUBoMPkax41cQCBOsURQM1xAYDDWgxv3W0AwSMubB2ZbQBj+NL8hCFtAQA2TMFynWkAg8npypmxaQEgNjabJjVlAIPNuYnVhWUCo+vwABytZQCiKPwjeZVhALotIvPcQWEAMrYXMBddXQAAAAKAUk1dA",
          "dtype": "f8"
         },
         "yaxis": "y"
        },
        {
         "legendgroup": "Daily returns",
         "line": {
          "color": "rgba(117, 183, 98, 1)",
          "width": 1
         },
         "name": "% dly rtn",
         "type": "scatter",
         "x": [
          "2024-10-17T00:00:00.000000000",
          "2024-10-18T00:00:00.000000000",
          "2024-10-21T00:00:00.000000000",
          "2024-10-22T00:00:00.000000000",
          "2024-10-23T00:00:00.000000000",
          "2024-10-24T00:00:00.000000000",
          "2024-10-25T00:00:00.000000000",
          "2024-10-28T00:00:00.000000000",
          "2024-10-29T00:00:00.000000000",
          "2024-10-30T00:00:00.000000000",
          "2024-10-31T00:00:00.000000000",
          "2024-11-01T00:00:00.000000000",
          "2024-11-04T00:00:00.000000000",
          "2024-11-05T00:00:00.000000000",
          "2024-11-06T00:00:00.000000000",
          "2024-11-07T00:00:00.000000000",
          "2024-11-08T00:00:00.000000000",
          "2024-11-11T00:00:00.000000000",
          "2024-11-12T00:00:00.000000000",
          "2024-11-13T00:00:00.000000000",
          "2024-11-14T00:00:00.000000000",
          "2024-11-15T00:00:00.000000000",
          "2024-11-18T00:00:00.000000000",
          "2024-11-19T00:00:00.000000000",
          "2024-11-20T00:00:00.000000000",
          "2024-11-21T00:00:00.000000000",
          "2024-11-22T00:00:00.000000000",
          "2024-11-25T00:00:00.000000000",
          "2024-11-26T00:00:00.000000000",
          "2024-11-27T00:00:00.000000000",
          "2024-11-29T00:00:00.000000000",
          "2024-12-02T00:00:00.000000000",
          "2024-12-03T00:00:00.000000000",
          "2024-12-04T00:00:00.000000000",
          "2024-12-05T00:00:00.000000000",
          "2024-12-06T00:00:00.000000000",
          "2024-12-09T00:00:00.000000000",
          "2024-12-10T00:00:00.000000000",
          "2024-12-11T00:00:00.000000000",
          "2024-12-12T00:00:00.000000000",
          "2024-12-13T00:00:00.000000000",
          "2024-12-16T00:00:00.000000000",
          "2024-12-17T00:00:00.000000000",
          "2024-12-18T00:00:00.000000000",
          "2024-12-19T00:00:00.000000000",
          "2024-12-20T00:00:00.000000000",
          "2024-12-23T00:00:00.000000000",
          "2024-12-24T00:00:00.000000000",
          "2024-12-26T00:00:00.000000000",
          "2024-12-27T00:00:00.000000000",
          "2024-12-30T00:00:00.000000000",
          "2024-12-31T00:00:00.000000000",
          "2025-01-02T00:00:00.000000000",
          "2025-01-03T00:00:00.000000000",
          "2025-01-06T00:00:00.000000000",
          "2025-01-07T00:00:00.000000000",
          "2025-01-08T00:00:00.000000000",
          "2025-01-10T00:00:00.000000000",
          "2025-01-13T00:00:00.000000000",
          "2025-01-14T00:00:00.000000000",
          "2025-01-15T00:00:00.000000000",
          "2025-01-16T00:00:00.000000000",
          "2025-01-17T00:00:00.000000000",
          "2025-01-21T00:00:00.000000000",
          "2025-01-22T00:00:00.000000000",
          "2025-01-23T00:00:00.000000000",
          "2025-01-24T00:00:00.000000000",
          "2025-01-27T00:00:00.000000000",
          "2025-01-28T00:00:00.000000000",
          "2025-01-29T00:00:00.000000000",
          "2025-01-30T00:00:00.000000000",
          "2025-01-31T00:00:00.000000000",
          "2025-02-03T00:00:00.000000000",
          "2025-02-04T00:00:00.000000000",
          "2025-02-05T00:00:00.000000000",
          "2025-02-06T00:00:00.000000000",
          "2025-02-07T00:00:00.000000000",
          "2025-02-10T00:00:00.000000000",
          "2025-02-11T00:00:00.000000000",
          "2025-02-12T00:00:00.000000000",
          "2025-02-13T00:00:00.000000000",
          "2025-02-14T00:00:00.000000000",
          "2025-02-18T00:00:00.000000000",
          "2025-02-19T00:00:00.000000000",
          "2025-02-20T00:00:00.000000000",
          "2025-02-21T00:00:00.000000000",
          "2025-02-24T00:00:00.000000000",
          "2025-02-25T00:00:00.000000000",
          "2025-02-26T00:00:00.000000000",
          "2025-02-27T00:00:00.000000000",
          "2025-02-28T00:00:00.000000000",
          "2025-03-03T00:00:00.000000000",
          "2025-03-04T00:00:00.000000000",
          "2025-03-05T00:00:00.000000000",
          "2025-03-06T00:00:00.000000000",
          "2025-03-07T00:00:00.000000000",
          "2025-03-10T00:00:00.000000000",
          "2025-03-11T00:00:00.000000000",
          "2025-03-12T00:00:00.000000000",
          "2025-03-13T00:00:00.000000000",
          "2025-03-14T00:00:00.000000000",
          "2025-03-17T00:00:00.000000000",
          "2025-03-18T00:00:00.000000000",
          "2025-03-19T00:00:00.000000000",
          "2025-03-20T00:00:00.000000000",
          "2025-03-21T00:00:00.000000000",
          "2025-03-24T00:00:00.000000000",
          "2025-03-25T00:00:00.000000000",
          "2025-03-26T00:00:00.000000000",
          "2025-03-27T00:00:00.000000000",
          "2025-03-28T00:00:00.000000000",
          "2025-03-31T00:00:00.000000000",
          "2025-04-01T00:00:00.000000000",
          "2025-04-02T00:00:00.000000000",
          "2025-04-03T00:00:00.000000000",
          "2025-04-04T00:00:00.000000000",
          "2025-04-07T00:00:00.000000000",
          "2025-04-08T00:00:00.000000000",
          "2025-04-09T00:00:00.000000000",
          "2025-04-10T00:00:00.000000000",
          "2025-04-11T00:00:00.000000000",
          "2025-04-14T00:00:00.000000000",
          "2025-04-15T00:00:00.000000000",
          "2025-04-16T00:00:00.000000000",
          "2025-04-17T00:00:00.000000000",
          "2025-04-21T00:00:00.000000000",
          "2025-04-22T00:00:00.000000000",
          "2025-04-23T00:00:00.000000000",
          "2025-04-24T00:00:00.000000000",
          "2025-04-25T00:00:00.000000000",
          "2025-04-28T00:00:00.000000000",
          "2025-04-29T00:00:00.000000000",
          "2025-04-30T00:00:00.000000000",
          "2025-05-01T00:00:00.000000000",
          "2025-05-02T00:00:00.000000000",
          "2025-05-05T00:00:00.000000000",
          "2025-05-06T00:00:00.000000000",
          "2025-05-07T00:00:00.000000000",
          "2025-05-08T00:00:00.000000000",
          "2025-05-09T00:00:00.000000000",
          "2025-05-12T00:00:00.000000000",
          "2025-05-13T00:00:00.000000000",
          "2025-05-14T00:00:00.000000000",
          "2025-05-15T00:00:00.000000000",
          "2025-05-16T00:00:00.000000000",
          "2025-05-19T00:00:00.000000000",
          "2025-05-20T00:00:00.000000000",
          "2025-05-21T00:00:00.000000000",
          "2025-05-22T00:00:00.000000000",
          "2025-05-23T00:00:00.000000000",
          "2025-05-27T00:00:00.000000000",
          "2025-05-28T00:00:00.000000000",
          "2025-05-29T00:00:00.000000000",
          "2025-05-30T00:00:00.000000000",
          "2025-06-02T00:00:00.000000000",
          "2025-06-03T00:00:00.000000000",
          "2025-06-04T00:00:00.000000000",
          "2025-06-05T00:00:00.000000000",
          "2025-06-06T00:00:00.000000000",
          "2025-06-09T00:00:00.000000000",
          "2025-06-10T00:00:00.000000000",
          "2025-06-11T00:00:00.000000000",
          "2025-06-12T00:00:00.000000000",
          "2025-06-13T00:00:00.000000000",
          "2025-06-16T00:00:00.000000000",
          "2025-06-17T00:00:00.000000000",
          "2025-06-18T00:00:00.000000000",
          "2025-06-20T00:00:00.000000000",
          "2025-06-23T00:00:00.000000000",
          "2025-06-24T00:00:00.000000000",
          "2025-06-25T00:00:00.000000000",
          "2025-06-26T00:00:00.000000000",
          "2025-06-27T00:00:00.000000000",
          "2025-06-30T00:00:00.000000000",
          "2025-07-01T00:00:00.000000000",
          "2025-07-02T00:00:00.000000000",
          "2025-07-03T00:00:00.000000000",
          "2025-07-07T00:00:00.000000000",
          "2025-07-08T00:00:00.000000000",
          "2025-07-09T00:00:00.000000000",
          "2025-07-10T00:00:00.000000000",
          "2025-07-11T00:00:00.000000000",
          "2025-07-14T00:00:00.000000000",
          "2025-07-15T00:00:00.000000000",
          "2025-07-16T00:00:00.000000000",
          "2025-07-17T00:00:00.000000000",
          "2025-07-18T00:00:00.000000000",
          "2025-07-21T00:00:00.000000000",
          "2025-07-22T00:00:00.000000000",
          "2025-07-23T00:00:00.000000000",
          "2025-07-24T00:00:00.000000000",
          "2025-07-25T00:00:00.000000000",
          "2025-07-28T00:00:00.000000000",
          "2025-07-29T00:00:00.000000000",
          "2025-07-30T00:00:00.000000000",
          "2025-07-31T00:00:00.000000000",
          "2025-08-01T00:00:00.000000000",
          "2025-08-04T00:00:00.000000000",
          "2025-08-05T00:00:00.000000000",
          "2025-08-06T00:00:00.000000000",
          "2025-08-07T00:00:00.000000000",
          "2025-08-08T00:00:00.000000000",
          "2025-08-11T00:00:00.000000000",
          "2025-08-12T00:00:00.000000000",
          "2025-08-13T00:00:00.000000000",
          "2025-08-14T00:00:00.000000000",
          "2025-08-15T00:00:00.000000000",
          "2025-08-18T00:00:00.000000000",
          "2025-08-19T00:00:00.000000000",
          "2025-08-20T00:00:00.000000000",
          "2025-08-21T00:00:00.000000000",
          "2025-08-22T00:00:00.000000000",
          "2025-08-25T00:00:00.000000000",
          "2025-08-26T00:00:00.000000000",
          "2025-08-27T00:00:00.000000000",
          "2025-08-28T00:00:00.000000000",
          "2025-08-29T00:00:00.000000000",
          "2025-09-02T00:00:00.000000000",
          "2025-09-03T00:00:00.000000000",
          "2025-09-04T00:00:00.000000000",
          "2025-09-05T00:00:00.000000000",
          "2025-09-08T00:00:00.000000000",
          "2025-09-09T00:00:00.000000000",
          "2025-09-10T00:00:00.000000000",
          "2025-09-11T00:00:00.000000000",
          "2025-09-12T00:00:00.000000000",
          "2025-09-15T00:00:00.000000000",
          "2025-09-16T00:00:00.000000000",
          "2025-09-17T00:00:00.000000000",
          "2025-09-18T00:00:00.000000000",
          "2025-09-19T00:00:00.000000000",
          "2025-09-22T00:00:00.000000000",
          "2025-09-23T00:00:00.000000000",
          "2025-09-24T00:00:00.000000000",
          "2025-09-25T00:00:00.000000000",
          "2025-09-26T00:00:00.000000000",
          "2025-09-29T00:00:00.000000000",
          "2025-09-30T00:00:00.000000000",
          "2025-10-01T00:00:00.000000000",
          "2025-10-02T00:00:00.000000000",
          "2025-10-03T00:00:00.000000000",
          "2025-10-06T00:00:00.000000000",
          "2025-10-07T00:00:00.000000000",
          "2025-10-08T00:00:00.000000000",
          "2025-10-09T00:00:00.000000000",
          "2025-10-10T00:00:00.000000000",
          "2025-10-13T00:00:00.000000000",
          "2025-10-14T00:00:00.000000000",
          "2025-10-15T00:00:00.000000000",
          "2025-10-16T00:00:00.000000000"
         ],
         "xaxis": "x2",
         "y": {
          "bdata": "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",
          "dtype": "f8"
         },
         "yaxis": "y2"
        },
        {
         "legendgroup": "Volatility",
         "line": {
          "color": "rgba(249, 180, 78, 1)",
          "width": 1
         },
         "name": "weekly volatility",
         "type": "scatter",
         "x": [
          "2024-10-17T00:00:00.000000000",
          "2024-10-18T00:00:00.000000000",
          "2024-10-21T00:00:00.000000000",
          "2024-10-22T00:00:00.000000000",
          "2024-10-23T00:00:00.000000000",
          "2024-10-24T00:00:00.000000000",
          "2024-10-25T00:00:00.000000000",
          "2024-10-28T00:00:00.000000000",
          "2024-10-29T00:00:00.000000000",
          "2024-10-30T00:00:00.000000000",
          "2024-10-31T00:00:00.000000000",
          "2024-11-01T00:00:00.000000000",
          "2024-11-04T00:00:00.000000000",
          "2024-11-05T00:00:00.000000000",
          "2024-11-06T00:00:00.000000000",
          "2024-11-07T00:00:00.000000000",
          "2024-11-08T00:00:00.000000000",
          "2024-11-11T00:00:00.000000000",
          "2024-11-12T00:00:00.000000000",
          "2024-11-13T00:00:00.000000000",
          "2024-11-14T00:00:00.000000000",
          "2024-11-15T00:00:00.000000000",
          "2024-11-18T00:00:00.000000000",
          "2024-11-19T00:00:00.000000000",
          "2024-11-20T00:00:00.000000000",
          "2024-11-21T00:00:00.000000000",
          "2024-11-22T00:00:00.000000000",
          "2024-11-25T00:00:00.000000000",
          "2024-11-26T00:00:00.000000000",
          "2024-11-27T00:00:00.000000000",
          "2024-11-29T00:00:00.000000000",
          "2024-12-02T00:00:00.000000000",
          "2024-12-03T00:00:00.000000000",
          "2024-12-04T00:00:00.000000000",
          "2024-12-05T00:00:00.000000000",
          "2024-12-06T00:00:00.000000000",
          "2024-12-09T00:00:00.000000000",
          "2024-12-10T00:00:00.000000000",
          "2024-12-11T00:00:00.000000000",
          "2024-12-12T00:00:00.000000000",
          "2024-12-13T00:00:00.000000000",
          "2024-12-16T00:00:00.000000000",
          "2024-12-17T00:00:00.000000000",
          "2024-12-18T00:00:00.000000000",
          "2024-12-19T00:00:00.000000000",
          "2024-12-20T00:00:00.000000000",
          "2024-12-23T00:00:00.000000000",
          "2024-12-24T00:00:00.000000000",
          "2024-12-26T00:00:00.000000000",
          "2024-12-27T00:00:00.000000000",
          "2024-12-30T00:00:00.000000000",
          "2024-12-31T00:00:00.000000000",
          "2025-01-02T00:00:00.000000000",
          "2025-01-03T00:00:00.000000000",
          "2025-01-06T00:00:00.000000000",
          "2025-01-07T00:00:00.000000000",
          "2025-01-08T00:00:00.000000000",
          "2025-01-10T00:00:00.000000000",
          "2025-01-13T00:00:00.000000000",
          "2025-01-14T00:00:00.000000000",
          "2025-01-15T00:00:00.000000000",
          "2025-01-16T00:00:00.000000000",
          "2025-01-17T00:00:00.000000000",
          "2025-01-21T00:00:00.000000000",
          "2025-01-22T00:00:00.000000000",
          "2025-01-23T00:00:00.000000000",
          "2025-01-24T00:00:00.000000000",
          "2025-01-27T00:00:00.000000000",
          "2025-01-28T00:00:00.000000000",
          "2025-01-29T00:00:00.000000000",
          "2025-01-30T00:00:00.000000000",
          "2025-01-31T00:00:00.000000000",
          "2025-02-03T00:00:00.000000000",
          "2025-02-04T00:00:00.000000000",
          "2025-02-05T00:00:00.000000000",
          "2025-02-06T00:00:00.000000000",
          "2025-02-07T00:00:00.000000000",
          "2025-02-10T00:00:00.000000000",
          "2025-02-11T00:00:00.000000000",
          "2025-02-12T00:00:00.000000000",
          "2025-02-13T00:00:00.000000000",
          "2025-02-14T00:00:00.000000000",
          "2025-02-18T00:00:00.000000000",
          "2025-02-19T00:00:00.000000000",
          "2025-02-20T00:00:00.000000000",
          "2025-02-21T00:00:00.000000000",
          "2025-02-24T00:00:00.000000000",
          "2025-02-25T00:00:00.000000000",
          "2025-02-26T00:00:00.000000000",
          "2025-02-27T00:00:00.000000000",
          "2025-02-28T00:00:00.000000000",
          "2025-03-03T00:00:00.000000000",
          "2025-03-04T00:00:00.000000000",
          "2025-03-05T00:00:00.000000000",
          "2025-03-06T00:00:00.000000000",
          "2025-03-07T00:00:00.000000000",
          "2025-03-10T00:00:00.000000000",
          "2025-03-11T00:00:00.000000000",
          "2025-03-12T00:00:00.000000000",
          "2025-03-13T00:00:00.000000000",
          "2025-03-14T00:00:00.000000000",
          "2025-03-17T00:00:00.000000000",
          "2025-03-18T00:00:00.000000000",
          "2025-03-19T00:00:00.000000000",
          "2025-03-20T00:00:00.000000000",
          "2025-03-21T00:00:00.000000000",
          "2025-03-24T00:00:00.000000000",
          "2025-03-25T00:00:00.000000000",
          "2025-03-26T00:00:00.000000000",
          "2025-03-27T00:00:00.000000000",
          "2025-03-28T00:00:00.000000000",
          "2025-03-31T00:00:00.000000000",
          "2025-04-01T00:00:00.000000000",
          "2025-04-02T00:00:00.000000000",
          "2025-04-03T00:00:00.000000000",
          "2025-04-04T00:00:00.000000000",
          "2025-04-07T00:00:00.000000000",
          "2025-04-08T00:00:00.000000000",
          "2025-04-09T00:00:00.000000000",
          "2025-04-10T00:00:00.000000000",
          "2025-04-11T00:00:00.000000000",
          "2025-04-14T00:00:00.000000000",
          "2025-04-15T00:00:00.000000000",
          "2025-04-16T00:00:00.000000000",
          "2025-04-17T00:00:00.000000000",
          "2025-04-21T00:00:00.000000000",
          "2025-04-22T00:00:00.000000000",
          "2025-04-23T00:00:00.000000000",
          "2025-04-24T00:00:00.000000000",
          "2025-04-25T00:00:00.000000000",
          "2025-04-28T00:00:00.000000000",
          "2025-04-29T00:00:00.000000000",
          "2025-04-30T00:00:00.000000000",
          "2025-05-01T00:00:00.000000000",
          "2025-05-02T00:00:00.000000000",
          "2025-05-05T00:00:00.000000000",
          "2025-05-06T00:00:00.000000000",
          "2025-05-07T00:00:00.000000000",
          "2025-05-08T00:00:00.000000000",
          "2025-05-09T00:00:00.000000000",
          "2025-05-12T00:00:00.000000000",
          "2025-05-13T00:00:00.000000000",
          "2025-05-14T00:00:00.000000000",
          "2025-05-15T00:00:00.000000000",
          "2025-05-16T00:00:00.000000000",
          "2025-05-19T00:00:00.000000000",
          "2025-05-20T00:00:00.000000000",
          "2025-05-21T00:00:00.000000000",
          "2025-05-22T00:00:00.000000000",
          "2025-05-23T00:00:00.000000000",
          "2025-05-27T00:00:00.000000000",
          "2025-05-28T00:00:00.000000000",
          "2025-05-29T00:00:00.000000000",
          "2025-05-30T00:00:00.000000000",
          "2025-06-02T00:00:00.000000000",
          "2025-06-03T00:00:00.000000000",
          "2025-06-04T00:00:00.000000000",
          "2025-06-05T00:00:00.000000000",
          "2025-06-06T00:00:00.000000000",
          "2025-06-09T00:00:00.000000000",
          "2025-06-10T00:00:00.000000000",
          "2025-06-11T00:00:00.000000000",
          "2025-06-12T00:00:00.000000000",
          "2025-06-13T00:00:00.000000000",
          "2025-06-16T00:00:00.000000000",
          "2025-06-17T00:00:00.000000000",
          "2025-06-18T00:00:00.000000000",
          "2025-06-20T00:00:00.000000000",
          "2025-06-23T00:00:00.000000000",
          "2025-06-24T00:00:00.000000000",
          "2025-06-25T00:00:00.000000000",
          "2025-06-26T00:00:00.000000000",
          "2025-06-27T00:00:00.000000000",
          "2025-06-30T00:00:00.000000000",
          "2025-07-01T00:00:00.000000000",
          "2025-07-02T00:00:00.000000000",
          "2025-07-03T00:00:00.000000000",
          "2025-07-07T00:00:00.000000000",
          "2025-07-08T00:00:00.000000000",
          "2025-07-09T00:00:00.000000000",
          "2025-07-10T00:00:00.000000000",
          "2025-07-11T00:00:00.000000000",
          "2025-07-14T00:00:00.000000000",
          "2025-07-15T00:00:00.000000000",
          "2025-07-16T00:00:00.000000000",
          "2025-07-17T00:00:00.000000000",
          "2025-07-18T00:00:00.000000000",
          "2025-07-21T00:00:00.000000000",
          "2025-07-22T00:00:00.000000000",
          "2025-07-23T00:00:00.000000000",
          "2025-07-24T00:00:00.000000000",
          "2025-07-25T00:00:00.000000000",
          "2025-07-28T00:00:00.000000000",
          "2025-07-29T00:00:00.000000000",
          "2025-07-30T00:00:00.000000000",
          "2025-07-31T00:00:00.000000000",
          "2025-08-01T00:00:00.000000000",
          "2025-08-04T00:00:00.000000000",
          "2025-08-05T00:00:00.000000000",
          "2025-08-06T00:00:00.000000000",
          "2025-08-07T00:00:00.000000000",
          "2025-08-08T00:00:00.000000000",
          "2025-08-11T00:00:00.000000000",
          "2025-08-12T00:00:00.000000000",
          "2025-08-13T00:00:00.000000000",
          "2025-08-14T00:00:00.000000000",
          "2025-08-15T00:00:00.000000000",
          "2025-08-18T00:00:00.000000000",
          "2025-08-19T00:00:00.000000000",
          "2025-08-20T00:00:00.000000000",
          "2025-08-21T00:00:00.000000000",
          "2025-08-22T00:00:00.000000000",
          "2025-08-25T00:00:00.000000000",
          "2025-08-26T00:00:00.000000000",
          "2025-08-27T00:00:00.000000000",
          "2025-08-28T00:00:00.000000000",
          "2025-08-29T00:00:00.000000000",
          "2025-09-02T00:00:00.000000000",
          "2025-09-03T00:00:00.000000000",
          "2025-09-04T00:00:00.000000000",
          "2025-09-05T00:00:00.000000000",
          "2025-09-08T00:00:00.000000000",
          "2025-09-09T00:00:00.000000000",
          "2025-09-10T00:00:00.000000000",
          "2025-09-11T00:00:00.000000000",
          "2025-09-12T00:00:00.000000000",
          "2025-09-15T00:00:00.000000000",
          "2025-09-16T00:00:00.000000000",
          "2025-09-17T00:00:00.000000000",
          "2025-09-18T00:00:00.000000000",
          "2025-09-19T00:00:00.000000000",
          "2025-09-22T00:00:00.000000000",
          "2025-09-23T00:00:00.000000000",
          "2025-09-24T00:00:00.000000000",
          "2025-09-25T00:00:00.000000000",
          "2025-09-26T00:00:00.000000000",
          "2025-09-29T00:00:00.000000000",
          "2025-09-30T00:00:00.000000000",
          "2025-10-01T00:00:00.000000000",
          "2025-10-02T00:00:00.000000000",
          "2025-10-03T00:00:00.000000000",
          "2025-10-06T00:00:00.000000000",
          "2025-10-07T00:00:00.000000000",
          "2025-10-08T00:00:00.000000000",
          "2025-10-09T00:00:00.000000000",
          "2025-10-10T00:00:00.000000000",
          "2025-10-13T00:00:00.000000000",
          "2025-10-14T00:00:00.000000000",
          "2025-10-15T00:00:00.000000000",
          "2025-10-16T00:00:00.000000000"
         ],
         "xaxis": "x3",
         "y": {
          "bdata": "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",
          "dtype": "f8"
         },
         "yaxis": "y3"
        },
        {
         "legendgroup": "Volatility",
         "line": {
          "color": "rgba(255, 121, 100, 1)",
          "width": 1
         },
         "name": "monthly volatility",
         "type": "scatter",
         "x": [
          "2024-10-17T00:00:00.000000000",
          "2024-10-18T00:00:00.000000000",
          "2024-10-21T00:00:00.000000000",
          "2024-10-22T00:00:00.000000000",
          "2024-10-23T00:00:00.000000000",
          "2024-10-24T00:00:00.000000000",
          "2024-10-25T00:00:00.000000000",
          "2024-10-28T00:00:00.000000000",
          "2024-10-29T00:00:00.000000000",
          "2024-10-30T00:00:00.000000000",
          "2024-10-31T00:00:00.000000000",
          "2024-11-01T00:00:00.000000000",
          "2024-11-04T00:00:00.000000000",
          "2024-11-05T00:00:00.000000000",
          "2024-11-06T00:00:00.000000000",
          "2024-11-07T00:00:00.000000000",
          "2024-11-08T00:00:00.000000000",
          "2024-11-11T00:00:00.000000000",
          "2024-11-12T00:00:00.000000000",
          "2024-11-13T00:00:00.000000000",
          "2024-11-14T00:00:00.000000000",
          "2024-11-15T00:00:00.000000000",
          "2024-11-18T00:00:00.000000000",
          "2024-11-19T00:00:00.000000000",
          "2024-11-20T00:00:00.000000000",
          "2024-11-21T00:00:00.000000000",
          "2024-11-22T00:00:00.000000000",
          "2024-11-25T00:00:00.000000000",
          "2024-11-26T00:00:00.000000000",
          "2024-11-27T00:00:00.000000000",
          "2024-11-29T00:00:00.000000000",
          "2024-12-02T00:00:00.000000000",
          "2024-12-03T00:00:00.000000000",
          "2024-12-04T00:00:00.000000000",
          "2024-12-05T00:00:00.000000000",
          "2024-12-06T00:00:00.000000000",
          "2024-12-09T00:00:00.000000000",
          "2024-12-10T00:00:00.000000000",
          "2024-12-11T00:00:00.000000000",
          "2024-12-12T00:00:00.000000000",
          "2024-12-13T00:00:00.000000000",
          "2024-12-16T00:00:00.000000000",
          "2024-12-17T00:00:00.000000000",
          "2024-12-18T00:00:00.000000000",
          "2024-12-19T00:00:00.000000000",
          "2024-12-20T00:00:00.000000000",
          "2024-12-23T00:00:00.000000000",
          "2024-12-24T00:00:00.000000000",
          "2024-12-26T00:00:00.000000000",
          "2024-12-27T00:00:00.000000000",
          "2024-12-30T00:00:00.000000000",
          "2024-12-31T00:00:00.000000000",
          "2025-01-02T00:00:00.000000000",
          "2025-01-03T00:00:00.000000000",
          "2025-01-06T00:00:00.000000000",
          "2025-01-07T00:00:00.000000000",
          "2025-01-08T00:00:00.000000000",
          "2025-01-10T00:00:00.000000000",
          "2025-01-13T00:00:00.000000000",
          "2025-01-14T00:00:00.000000000",
          "2025-01-15T00:00:00.000000000",
          "2025-01-16T00:00:00.000000000",
          "2025-01-17T00:00:00.000000000",
          "2025-01-21T00:00:00.000000000",
          "2025-01-22T00:00:00.000000000",
          "2025-01-23T00:00:00.000000000",
          "2025-01-24T00:00:00.000000000",
          "2025-01-27T00:00:00.000000000",
          "2025-01-28T00:00:00.000000000",
          "2025-01-29T00:00:00.000000000",
          "2025-01-30T00:00:00.000000000",
          "2025-01-31T00:00:00.000000000",
          "2025-02-03T00:00:00.000000000",
          "2025-02-04T00:00:00.000000000",
          "2025-02-05T00:00:00.000000000",
          "2025-02-06T00:00:00.000000000",
          "2025-02-07T00:00:00.000000000",
          "2025-02-10T00:00:00.000000000",
          "2025-02-11T00:00:00.000000000",
          "2025-02-12T00:00:00.000000000",
          "2025-02-13T00:00:00.000000000",
          "2025-02-14T00:00:00.000000000",
          "2025-02-18T00:00:00.000000000",
          "2025-02-19T00:00:00.000000000",
          "2025-02-20T00:00:00.000000000",
          "2025-02-21T00:00:00.000000000",
          "2025-02-24T00:00:00.000000000",
          "2025-02-25T00:00:00.000000000",
          "2025-02-26T00:00:00.000000000",
          "2025-02-27T00:00:00.000000000",
          "2025-02-28T00:00:00.000000000",
          "2025-03-03T00:00:00.000000000",
          "2025-03-04T00:00:00.000000000",
          "2025-03-05T00:00:00.000000000",
          "2025-03-06T00:00:00.000000000",
          "2025-03-07T00:00:00.000000000",
          "2025-03-10T00:00:00.000000000",
          "2025-03-11T00:00:00.000000000",
          "2025-03-12T00:00:00.000000000",
          "2025-03-13T00:00:00.000000000",
          "2025-03-14T00:00:00.000000000",
          "2025-03-17T00:00:00.000000000",
          "2025-03-18T00:00:00.000000000",
          "2025-03-19T00:00:00.000000000",
          "2025-03-20T00:00:00.000000000",
          "2025-03-21T00:00:00.000000000",
          "2025-03-24T00:00:00.000000000",
          "2025-03-25T00:00:00.000000000",
          "2025-03-26T00:00:00.000000000",
          "2025-03-27T00:00:00.000000000",
          "2025-03-28T00:00:00.000000000",
          "2025-03-31T00:00:00.000000000",
          "2025-04-01T00:00:00.000000000",
          "2025-04-02T00:00:00.000000000",
          "2025-04-03T00:00:00.000000000",
          "2025-04-04T00:00:00.000000000",
          "2025-04-07T00:00:00.000000000",
          "2025-04-08T00:00:00.000000000",
          "2025-04-09T00:00:00.000000000",
          "2025-04-10T00:00:00.000000000",
          "2025-04-11T00:00:00.000000000",
          "2025-04-14T00:00:00.000000000",
          "2025-04-15T00:00:00.000000000",
          "2025-04-16T00:00:00.000000000",
          "2025-04-17T00:00:00.000000000",
          "2025-04-21T00:00:00.000000000",
          "2025-04-22T00:00:00.000000000",
          "2025-04-23T00:00:00.000000000",
          "2025-04-24T00:00:00.000000000",
          "2025-04-25T00:00:00.000000000",
          "2025-04-28T00:00:00.000000000",
          "2025-04-29T00:00:00.000000000",
          "2025-04-30T00:00:00.000000000",
          "2025-05-01T00:00:00.000000000",
          "2025-05-02T00:00:00.000000000",
          "2025-05-05T00:00:00.000000000",
          "2025-05-06T00:00:00.000000000",
          "2025-05-07T00:00:00.000000000",
          "2025-05-08T00:00:00.000000000",
          "2025-05-09T00:00:00.000000000",
          "2025-05-12T00:00:00.000000000",
          "2025-05-13T00:00:00.000000000",
          "2025-05-14T00:00:00.000000000",
          "2025-05-15T00:00:00.000000000",
          "2025-05-16T00:00:00.000000000",
          "2025-05-19T00:00:00.000000000",
          "2025-05-20T00:00:00.000000000",
          "2025-05-21T00:00:00.000000000",
          "2025-05-22T00:00:00.000000000",
          "2025-05-23T00:00:00.000000000",
          "2025-05-27T00:00:00.000000000",
          "2025-05-28T00:00:00.000000000",
          "2025-05-29T00:00:00.000000000",
          "2025-05-30T00:00:00.000000000",
          "2025-06-02T00:00:00.000000000",
          "2025-06-03T00:00:00.000000000",
          "2025-06-04T00:00:00.000000000",
          "2025-06-05T00:00:00.000000000",
          "2025-06-06T00:00:00.000000000",
          "2025-06-09T00:00:00.000000000",
          "2025-06-10T00:00:00.000000000",
          "2025-06-11T00:00:00.000000000",
          "2025-06-12T00:00:00.000000000",
          "2025-06-13T00:00:00.000000000",
          "2025-06-16T00:00:00.000000000",
          "2025-06-17T00:00:00.000000000",
          "2025-06-18T00:00:00.000000000",
          "2025-06-20T00:00:00.000000000",
          "2025-06-23T00:00:00.000000000",
          "2025-06-24T00:00:00.000000000",
          "2025-06-25T00:00:00.000000000",
          "2025-06-26T00:00:00.000000000",
          "2025-06-27T00:00:00.000000000",
          "2025-06-30T00:00:00.000000000",
          "2025-07-01T00:00:00.000000000",
          "2025-07-02T00:00:00.000000000",
          "2025-07-03T00:00:00.000000000",
          "2025-07-07T00:00:00.000000000",
          "2025-07-08T00:00:00.000000000",
          "2025-07-09T00:00:00.000000000",
          "2025-07-10T00:00:00.000000000",
          "2025-07-11T00:00:00.000000000",
          "2025-07-14T00:00:00.000000000",
          "2025-07-15T00:00:00.000000000",
          "2025-07-16T00:00:00.000000000",
          "2025-07-17T00:00:00.000000000",
          "2025-07-18T00:00:00.000000000",
          "2025-07-21T00:00:00.000000000",
          "2025-07-22T00:00:00.000000000",
          "2025-07-23T00:00:00.000000000",
          "2025-07-24T00:00:00.000000000",
          "2025-07-25T00:00:00.000000000",
          "2025-07-28T00:00:00.000000000",
          "2025-07-29T00:00:00.000000000",
          "2025-07-30T00:00:00.000000000",
          "2025-07-31T00:00:00.000000000",
          "2025-08-01T00:00:00.000000000",
          "2025-08-04T00:00:00.000000000",
          "2025-08-05T00:00:00.000000000",
          "2025-08-06T00:00:00.000000000",
          "2025-08-07T00:00:00.000000000",
          "2025-08-08T00:00:00.000000000",
          "2025-08-11T00:00:00.000000000",
          "2025-08-12T00:00:00.000000000",
          "2025-08-13T00:00:00.000000000",
          "2025-08-14T00:00:00.000000000",
          "2025-08-15T00:00:00.000000000",
          "2025-08-18T00:00:00.000000000",
          "2025-08-19T00:00:00.000000000",
          "2025-08-20T00:00:00.000000000",
          "2025-08-21T00:00:00.000000000",
          "2025-08-22T00:00:00.000000000",
          "2025-08-25T00:00:00.000000000",
          "2025-08-26T00:00:00.000000000",
          "2025-08-27T00:00:00.000000000",
          "2025-08-28T00:00:00.000000000",
          "2025-08-29T00:00:00.000000000",
          "2025-09-02T00:00:00.000000000",
          "2025-09-03T00:00:00.000000000",
          "2025-09-04T00:00:00.000000000",
          "2025-09-05T00:00:00.000000000",
          "2025-09-08T00:00:00.000000000",
          "2025-09-09T00:00:00.000000000",
          "2025-09-10T00:00:00.000000000",
          "2025-09-11T00:00:00.000000000",
          "2025-09-12T00:00:00.000000000",
          "2025-09-15T00:00:00.000000000",
          "2025-09-16T00:00:00.000000000",
          "2025-09-17T00:00:00.000000000",
          "2025-09-18T00:00:00.000000000",
          "2025-09-19T00:00:00.000000000",
          "2025-09-22T00:00:00.000000000",
          "2025-09-23T00:00:00.000000000",
          "2025-09-24T00:00:00.000000000",
          "2025-09-25T00:00:00.000000000",
          "2025-09-26T00:00:00.000000000",
          "2025-09-29T00:00:00.000000000",
          "2025-09-30T00:00:00.000000000",
          "2025-10-01T00:00:00.000000000",
          "2025-10-02T00:00:00.000000000",
          "2025-10-03T00:00:00.000000000",
          "2025-10-06T00:00:00.000000000",
          "2025-10-07T00:00:00.000000000",
          "2025-10-08T00:00:00.000000000",
          "2025-10-09T00:00:00.000000000",
          "2025-10-10T00:00:00.000000000",
          "2025-10-13T00:00:00.000000000",
          "2025-10-14T00:00:00.000000000",
          "2025-10-15T00:00:00.000000000",
          "2025-10-16T00:00:00.000000000"
         ],
         "xaxis": "x3",
         "y": {
          "bdata": "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",
          "dtype": "f8"
         },
         "yaxis": "y3"
        },
        {
         "legendgroup": "Volume",
         "marker": {
          "color": "rgba(0, 150, 255, 0.6)"
         },
         "name": "Volume",
         "type": "bar",
         "x": [
          "2024-10-17T00:00:00.000000000",
          "2024-10-18T00:00:00.000000000",
          "2024-10-21T00:00:00.000000000",
          "2024-10-22T00:00:00.000000000",
          "2024-10-23T00:00:00.000000000",
          "2024-10-24T00:00:00.000000000",
          "2024-10-25T00:00:00.000000000",
          "2024-10-28T00:00:00.000000000",
          "2024-10-29T00:00:00.000000000",
          "2024-10-30T00:00:00.000000000",
          "2024-10-31T00:00:00.000000000",
          "2024-11-01T00:00:00.000000000",
          "2024-11-04T00:00:00.000000000",
          "2024-11-05T00:00:00.000000000",
          "2024-11-06T00:00:00.000000000",
          "2024-11-07T00:00:00.000000000",
          "2024-11-08T00:00:00.000000000",
          "2024-11-11T00:00:00.000000000",
          "2024-11-12T00:00:00.000000000",
          "2024-11-13T00:00:00.000000000",
          "2024-11-14T00:00:00.000000000",
          "2024-11-15T00:00:00.000000000",
          "2024-11-18T00:00:00.000000000",
          "2024-11-19T00:00:00.000000000",
          "2024-11-20T00:00:00.000000000",
          "2024-11-21T00:00:00.000000000",
          "2024-11-22T00:00:00.000000000",
          "2024-11-25T00:00:00.000000000",
          "2024-11-26T00:00:00.000000000",
          "2024-11-27T00:00:00.000000000",
          "2024-11-29T00:00:00.000000000",
          "2024-12-02T00:00:00.000000000",
          "2024-12-03T00:00:00.000000000",
          "2024-12-04T00:00:00.000000000",
          "2024-12-05T00:00:00.000000000",
          "2024-12-06T00:00:00.000000000",
          "2024-12-09T00:00:00.000000000",
          "2024-12-10T00:00:00.000000000",
          "2024-12-11T00:00:00.000000000",
          "2024-12-12T00:00:00.000000000",
          "2024-12-13T00:00:00.000000000",
          "2024-12-16T00:00:00.000000000",
          "2024-12-17T00:00:00.000000000",
          "2024-12-18T00:00:00.000000000",
          "2024-12-19T00:00:00.000000000",
          "2024-12-20T00:00:00.000000000",
          "2024-12-23T00:00:00.000000000",
          "2024-12-24T00:00:00.000000000",
          "2024-12-26T00:00:00.000000000",
          "2024-12-27T00:00:00.000000000",
          "2024-12-30T00:00:00.000000000",
          "2024-12-31T00:00:00.000000000",
          "2025-01-02T00:00:00.000000000",
          "2025-01-03T00:00:00.000000000",
          "2025-01-06T00:00:00.000000000",
          "2025-01-07T00:00:00.000000000",
          "2025-01-08T00:00:00.000000000",
          "2025-01-10T00:00:00.000000000",
          "2025-01-13T00:00:00.000000000",
          "2025-01-14T00:00:00.000000000",
          "2025-01-15T00:00:00.000000000",
          "2025-01-16T00:00:00.000000000",
          "2025-01-17T00:00:00.000000000",
          "2025-01-21T00:00:00.000000000",
          "2025-01-22T00:00:00.000000000",
          "2025-01-23T00:00:00.000000000",
          "2025-01-24T00:00:00.000000000",
          "2025-01-27T00:00:00.000000000",
          "2025-01-28T00:00:00.000000000",
          "2025-01-29T00:00:00.000000000",
          "2025-01-30T00:00:00.000000000",
          "2025-01-31T00:00:00.000000000",
          "2025-02-03T00:00:00.000000000",
          "2025-02-04T00:00:00.000000000",
          "2025-02-05T00:00:00.000000000",
          "2025-02-06T00:00:00.000000000",
          "2025-02-07T00:00:00.000000000",
          "2025-02-10T00:00:00.000000000",
          "2025-02-11T00:00:00.000000000",
          "2025-02-12T00:00:00.000000000",
          "2025-02-13T00:00:00.000000000",
          "2025-02-14T00:00:00.000000000",
          "2025-02-18T00:00:00.000000000",
          "2025-02-19T00:00:00.000000000",
          "2025-02-20T00:00:00.000000000",
          "2025-02-21T00:00:00.000000000",
          "2025-02-24T00:00:00.000000000",
          "2025-02-25T00:00:00.000000000",
          "2025-02-26T00:00:00.000000000",
          "2025-02-27T00:00:00.000000000",
          "2025-02-28T00:00:00.000000000",
          "2025-03-03T00:00:00.000000000",
          "2025-03-04T00:00:00.000000000",
          "2025-03-05T00:00:00.000000000",
          "2025-03-06T00:00:00.000000000",
          "2025-03-07T00:00:00.000000000",
          "2025-03-10T00:00:00.000000000",
          "2025-03-11T00:00:00.000000000",
          "2025-03-12T00:00:00.000000000",
          "2025-03-13T00:00:00.000000000",
          "2025-03-14T00:00:00.000000000",
          "2025-03-17T00:00:00.000000000",
          "2025-03-18T00:00:00.000000000",
          "2025-03-19T00:00:00.000000000",
          "2025-03-20T00:00:00.000000000",
          "2025-03-21T00:00:00.000000000",
          "2025-03-24T00:00:00.000000000",
          "2025-03-25T00:00:00.000000000",
          "2025-03-26T00:00:00.000000000",
          "2025-03-27T00:00:00.000000000",
          "2025-03-28T00:00:00.000000000",
          "2025-03-31T00:00:00.000000000",
          "2025-04-01T00:00:00.000000000",
          "2025-04-02T00:00:00.000000000",
          "2025-04-03T00:00:00.000000000",
          "2025-04-04T00:00:00.000000000",
          "2025-04-07T00:00:00.000000000",
          "2025-04-08T00:00:00.000000000",
          "2025-04-09T00:00:00.000000000",
          "2025-04-10T00:00:00.000000000",
          "2025-04-11T00:00:00.000000000",
          "2025-04-14T00:00:00.000000000",
          "2025-04-15T00:00:00.000000000",
          "2025-04-16T00:00:00.000000000",
          "2025-04-17T00:00:00.000000000",
          "2025-04-21T00:00:00.000000000",
          "2025-04-22T00:00:00.000000000",
          "2025-04-23T00:00:00.000000000",
          "2025-04-24T00:00:00.000000000",
          "2025-04-25T00:00:00.000000000",
          "2025-04-28T00:00:00.000000000",
          "2025-04-29T00:00:00.000000000",
          "2025-04-30T00:00:00.000000000",
          "2025-05-01T00:00:00.000000000",
          "2025-05-02T00:00:00.000000000",
          "2025-05-05T00:00:00.000000000",
          "2025-05-06T00:00:00.000000000",
          "2025-05-07T00:00:00.000000000",
          "2025-05-08T00:00:00.000000000",
          "2025-05-09T00:00:00.000000000",
          "2025-05-12T00:00:00.000000000",
          "2025-05-13T00:00:00.000000000",
          "2025-05-14T00:00:00.000000000",
          "2025-05-15T00:00:00.000000000",
          "2025-05-16T00:00:00.000000000",
          "2025-05-19T00:00:00.000000000",
          "2025-05-20T00:00:00.000000000",
          "2025-05-21T00:00:00.000000000",
          "2025-05-22T00:00:00.000000000",
          "2025-05-23T00:00:00.000000000",
          "2025-05-27T00:00:00.000000000",
          "2025-05-28T00:00:00.000000000",
          "2025-05-29T00:00:00.000000000",
          "2025-05-30T00:00:00.000000000",
          "2025-06-02T00:00:00.000000000",
          "2025-06-03T00:00:00.000000000",
          "2025-06-04T00:00:00.000000000",
          "2025-06-05T00:00:00.000000000",
          "2025-06-06T00:00:00.000000000",
          "2025-06-09T00:00:00.000000000",
          "2025-06-10T00:00:00.000000000",
          "2025-06-11T00:00:00.000000000",
          "2025-06-12T00:00:00.000000000",
          "2025-06-13T00:00:00.000000000",
          "2025-06-16T00:00:00.000000000",
          "2025-06-17T00:00:00.000000000",
          "2025-06-18T00:00:00.000000000",
          "2025-06-20T00:00:00.000000000",
          "2025-06-23T00:00:00.000000000",
          "2025-06-24T00:00:00.000000000",
          "2025-06-25T00:00:00.000000000",
          "2025-06-26T00:00:00.000000000",
          "2025-06-27T00:00:00.000000000",
          "2025-06-30T00:00:00.000000000",
          "2025-07-01T00:00:00.000000000",
          "2025-07-02T00:00:00.000000000",
          "2025-07-03T00:00:00.000000000",
          "2025-07-07T00:00:00.000000000",
          "2025-07-08T00:00:00.000000000",
          "2025-07-09T00:00:00.000000000",
          "2025-07-10T00:00:00.000000000",
          "2025-07-11T00:00:00.000000000",
          "2025-07-14T00:00:00.000000000",
          "2025-07-15T00:00:00.000000000",
          "2025-07-16T00:00:00.000000000",
          "2025-07-17T00:00:00.000000000",
          "2025-07-18T00:00:00.000000000",
          "2025-07-21T00:00:00.000000000",
          "2025-07-22T00:00:00.000000000",
          "2025-07-23T00:00:00.000000000",
          "2025-07-24T00:00:00.000000000",
          "2025-07-25T00:00:00.000000000",
          "2025-07-28T00:00:00.000000000",
          "2025-07-29T00:00:00.000000000",
          "2025-07-30T00:00:00.000000000",
          "2025-07-31T00:00:00.000000000",
          "2025-08-01T00:00:00.000000000",
          "2025-08-04T00:00:00.000000000",
          "2025-08-05T00:00:00.000000000",
          "2025-08-06T00:00:00.000000000",
          "2025-08-07T00:00:00.000000000",
          "2025-08-08T00:00:00.000000000",
          "2025-08-11T00:00:00.000000000",
          "2025-08-12T00:00:00.000000000",
          "2025-08-13T00:00:00.000000000",
          "2025-08-14T00:00:00.000000000",
          "2025-08-15T00:00:00.000000000",
          "2025-08-18T00:00:00.000000000",
          "2025-08-19T00:00:00.000000000",
          "2025-08-20T00:00:00.000000000",
          "2025-08-21T00:00:00.000000000",
          "2025-08-22T00:00:00.000000000",
          "2025-08-25T00:00:00.000000000",
          "2025-08-26T00:00:00.000000000",
          "2025-08-27T00:00:00.000000000",
          "2025-08-28T00:00:00.000000000",
          "2025-08-29T00:00:00.000000000",
          "2025-09-02T00:00:00.000000000",
          "2025-09-03T00:00:00.000000000",
          "2025-09-04T00:00:00.000000000",
          "2025-09-05T00:00:00.000000000",
          "2025-09-08T00:00:00.000000000",
          "2025-09-09T00:00:00.000000000",
          "2025-09-10T00:00:00.000000000",
          "2025-09-11T00:00:00.000000000",
          "2025-09-12T00:00:00.000000000",
          "2025-09-15T00:00:00.000000000",
          "2025-09-16T00:00:00.000000000",
          "2025-09-17T00:00:00.000000000",
          "2025-09-18T00:00:00.000000000",
          "2025-09-19T00:00:00.000000000",
          "2025-09-22T00:00:00.000000000",
          "2025-09-23T00:00:00.000000000",
          "2025-09-24T00:00:00.000000000",
          "2025-09-25T00:00:00.000000000",
          "2025-09-26T00:00:00.000000000",
          "2025-09-29T00:00:00.000000000",
          "2025-09-30T00:00:00.000000000",
          "2025-10-01T00:00:00.000000000",
          "2025-10-02T00:00:00.000000000",
          "2025-10-03T00:00:00.000000000",
          "2025-10-06T00:00:00.000000000",
          "2025-10-07T00:00:00.000000000",
          "2025-10-08T00:00:00.000000000",
          "2025-10-09T00:00:00.000000000",
          "2025-10-10T00:00:00.000000000",
          "2025-10-13T00:00:00.000000000",
          "2025-10-14T00:00:00.000000000",
          "2025-10-15T00:00:00.000000000",
          "2025-10-16T00:00:00.000000000"
         ],
         "xaxis": "x4",
         "y": {
          "bdata": "PNdDEljsfgoEyMQPsD19DRDyChFU7UUKNOo5DAy5WAoAsGQJ9LOxCjB6GBD4hFgMCHQtCzibkQn8S20OpIBbDIhyeApgEd4KzOzWC0Q2cAtERpcLpLnoDjRTLw0UfJQNVER4Eqj15Re4RRcOTGWPFFSPVwtUJX4NIKl0CPCrOwowwswJ7DPIDZD9SQoAXjwLuJ5ICySqhAzwbQULiF99CRSjzA182C4OfEl2D5R3iRCgD4AMWEFFEvxcfgqIkUQGICjtBkjiKgqsbf8JwCtHCSAD0QsEL6sNeFbRDzjF9xSMFY0NRMNfDMQiNQxkeagLFDEKC5CueAzA5f0LCGnJC8hFKg7sFEsJQJf8DTRezjDgAY0i2LHXGzyRaxdM3iIXdJsgFnCkSg8QU6EP0FX9DrzYmQ2s/e4MgNWpCkiojQnwisQLMMimC5heEA2AZfwJcMuTCABTmg1sxfsOXKwtEMjHORN4U2oaHA8xF5guhRhkfbsX7KbyEMzYJBNsxl4UaCfYFSTSJhVcrE0TDOLSEZy9ixC8pDoP9NvcERgnTBAE19QOxHHiD5TonQ2gCvsJBOV9EdTWHg50k7MNnJ/VEfDRRA1wGyYN+DUxFIjauR8UwGskyOViHBxkiCSwfBgaVF6uEugTxw/0waUNRP+pF3x2bxFsLTIRAHFdDnDywA6YXikNfPH2DlRhYQwMxigK+H4CDpztEg5wJFYLwOjvB6DocgmQ41IMxMXTC6j+7AdElWkNlPaxE4B6whCYI4INpMOADShOgwvYgqAJPCkhEICkKgu0xdkLAD2AC2z+HhIsLwIW1MjbE3wZyAswD3INoA/2CQzayg2YpC0JhJ8IC6yRSgmwzv4JSH6tCXgaxwoEZuoKoJ5KCFQ0oAmoN3sOJJEyCRQILguE2QoQpHbPC8SjsA9MD5kLMFC0DCSsNAoE75AI+FlaCAi+OwjQX/IKJPb+CRScigu4FSoISBi/DYyTdwmMPZYJUL+6CFTBVge8sIILmBsvCRgmsAcAaEoHzJZYCDwJLwkIy2MKmKY2DWjdMAwI99QIMJdSCWxjLQgAew0JXOJaBwClPgiE76sI1J+4ClDWuAdYj1UJQEjeB5BfCgss0dIMxNpYCJiOTArAYLcJSPoNCrS7CQ6YvcsQLNJ/DuRLxw3E7MwJ1LZxCDi0YA0M68IJcP9jCaB8hQ0EggIJmP1xB2D7wwgIfWMI2HqgDGQTbguUHCMOiFUSEPA5egtEnY4IjGFrCwQO2whM6oELCAsgDqSpXAqofScI5I8zCBT6ZQnAklkIRDjCB9BQ6AoALAUQMPYlCbjWQQxEQcgMRAWsCg==",
          "dtype": "i4"
         },
         "yaxis": "y4"
        }
       ],
       "layout": {
        "annotations": [
         {
          "font": {
           "size": 16
          },
          "showarrow": false,
          "text": "NVDA (NVIDIA Corporation) Stock Price",
          "x": 0.5,
          "xanchor": "center",
          "xref": "paper",
          "y": 1,
          "yanchor": "bottom",
          "yref": "paper"
         },
         {
          "font": {
           "size": 16
          },
          "showarrow": false,
          "text": " ",
          "x": 0.5,
          "xanchor": "center",
          "xref": "paper",
          "y": 0.525,
          "yanchor": "bottom",
          "yref": "paper"
         },
         {
          "font": {
           "size": 16
          },
          "showarrow": false,
          "text": " ",
          "x": 0.5,
          "xanchor": "center",
          "xref": "paper",
          "y": 0.29285714285714287,
          "yanchor": "bottom",
          "yref": "paper"
         }
        ],
        "height": 1000,
        "legend": {
         "orientation": "h",
         "x": 1,
         "xanchor": "right",
         "y": 1.02,
         "yanchor": "bottom"
        },
        "plot_bgcolor": "white",
        "template": {
         "data": {
          "bar": [
           {
            "error_x": {
             "color": "#2a3f5f"
            },
            "error_y": {
             "color": "#2a3f5f"
            },
            "marker": {
             "line": {
              "color": "#E5ECF6",
              "width": 0.5
             },
             "pattern": {
              "fillmode": "overlay",
              "size": 10,
              "solidity": 0.2
             }
            },
            "type": "bar"
           }
          ],
          "barpolar": [
           {
            "marker": {
             "line": {
              "color": "#E5ECF6",
              "width": 0.5
             },
             "pattern": {
              "fillmode": "overlay",
              "size": 10,
              "solidity": 0.2
             }
            },
            "type": "barpolar"
           }
          ],
          "carpet": [
           {
            "aaxis": {
             "endlinecolor": "#2a3f5f",
             "gridcolor": "white",
             "linecolor": "white",
             "minorgridcolor": "white",
             "startlinecolor": "#2a3f5f"
            },
            "baxis": {
             "endlinecolor": "#2a3f5f",
             "gridcolor": "white",
             "linecolor": "white",
             "minorgridcolor": "white",
             "startlinecolor": "#2a3f5f"
            },
            "type": "carpet"
           }
          ],
          "choropleth": [
           {
            "colorbar": {
             "outlinewidth": 0,
             "ticks": ""
            },
            "type": "choropleth"
           }
          ],
          "contour": [
           {
            "colorbar": {
             "outlinewidth": 0,
             "ticks": ""
            },
            "colorscale": [
             [
              0,
              "#0d0887"
             ],
             [
              0.1111111111111111,
              "#46039f"
             ],
             [
              0.2222222222222222,
              "#7201a8"
             ],
             [
              0.3333333333333333,
              "#9c179e"
             ],
             [
              0.4444444444444444,
              "#bd3786"
             ],
             [
              0.5555555555555556,
              "#d8576b"
             ],
             [
              0.6666666666666666,
              "#ed7953"
             ],
             [
              0.7777777777777778,
              "#fb9f3a"
             ],
             [
              0.8888888888888888,
              "#fdca26"
             ],
             [
              1,
              "#f0f921"
             ]
            ],
            "type": "contour"
           }
          ],
          "contourcarpet": [
           {
            "colorbar": {
             "outlinewidth": 0,
             "ticks": ""
            },
            "type": "contourcarpet"
           }
          ],
          "heatmap": [
           {
            "colorbar": {
             "outlinewidth": 0,
             "ticks": ""
            },
            "colorscale": [
             [
              0,
              "#0d0887"
             ],
             [
              0.1111111111111111,
              "#46039f"
             ],
             [
              0.2222222222222222,
              "#7201a8"
             ],
             [
              0.3333333333333333,
              "#9c179e"
             ],
             [
              0.4444444444444444,
              "#bd3786"
             ],
             [
              0.5555555555555556,
              "#d8576b"
             ],
             [
              0.6666666666666666,
              "#ed7953"
             ],
             [
              0.7777777777777778,
              "#fb9f3a"
             ],
             [
              0.8888888888888888,
              "#fdca26"
             ],
             [
              1,
              "#f0f921"
             ]
            ],
            "type": "heatmap"
           }
          ],
          "histogram": [
           {
            "marker": {
             "pattern": {
              "fillmode": "overlay",
              "size": 10,
              "solidity": 0.2
             }
            },
            "type": "histogram"
           }
          ],
          "histogram2d": [
           {
            "colorbar": {
             "outlinewidth": 0,
             "ticks": ""
            },
            "colorscale": [
             [
              0,
              "#0d0887"
             ],
             [
              0.1111111111111111,
              "#46039f"
             ],
             [
              0.2222222222222222,
              "#7201a8"
             ],
             [
              0.3333333333333333,
              "#9c179e"
             ],
             [
              0.4444444444444444,
              "#bd3786"
             ],
             [
              0.5555555555555556,
              "#d8576b"
             ],
             [
              0.6666666666666666,
              "#ed7953"
             ],
             [
              0.7777777777777778,
              "#fb9f3a"
             ],
             [
              0.8888888888888888,
              "#fdca26"
             ],
             [
              1,
              "#f0f921"
             ]
            ],
            "type": "histogram2d"
           }
          ],
          "histogram2dcontour": [
           {
            "colorbar": {
             "outlinewidth": 0,
             "ticks": ""
            },
            "colorscale": [
             [
              0,
              "#0d0887"
             ],
             [
              0.1111111111111111,
              "#46039f"
             ],
             [
              0.2222222222222222,
              "#7201a8"
             ],
             [
              0.3333333333333333,
              "#9c179e"
             ],
             [
              0.4444444444444444,
              "#bd3786"
             ],
             [
              0.5555555555555556,
              "#d8576b"
             ],
             [
              0.6666666666666666,
              "#ed7953"
             ],
             [
              0.7777777777777778,
              "#fb9f3a"
             ],
             [
              0.8888888888888888,
              "#fdca26"
             ],
             [
              1,
              "#f0f921"
             ]
            ],
            "type": "histogram2dcontour"
           }
          ],
          "mesh3d": [
           {
            "colorbar": {
             "outlinewidth": 0,
             "ticks": ""
            },
            "type": "mesh3d"
           }
          ],
          "parcoords": [
           {
            "line": {
             "colorbar": {
              "outlinewidth": 0,
              "ticks": ""
             }
            },
            "type": "parcoords"
           }
          ],
          "pie": [
           {
            "automargin": true,
            "type": "pie"
           }
          ],
          "scatter": [
           {
            "fillpattern": {
             "fillmode": "overlay",
             "size": 10,
             "solidity": 0.2
            },
            "type": "scatter"
           }
          ],
          "scatter3d": [
           {
            "line": {
             "colorbar": {
              "outlinewidth": 0,
              "ticks": ""
             }
            },
            "marker": {
             "colorbar": {
              "outlinewidth": 0,
              "ticks": ""
             }
            },
            "type": "scatter3d"
           }
          ],
          "scattercarpet": [
           {
            "marker": {
             "colorbar": {
              "outlinewidth": 0,
              "ticks": ""
             }
            },
            "type": "scattercarpet"
           }
          ],
          "scattergeo": [
           {
            "marker": {
             "colorbar": {
              "outlinewidth": 0,
              "ticks": ""
             }
            },
            "type": "scattergeo"
           }
          ],
          "scattergl": [
           {
            "marker": {
             "colorbar": {
              "outlinewidth": 0,
              "ticks": ""
             }
            },
            "type": "scattergl"
           }
          ],
          "scattermap": [
           {
            "marker": {
             "colorbar": {
              "outlinewidth": 0,
              "ticks": ""
             }
            },
            "type": "scattermap"
           }
          ],
          "scattermapbox": [
           {
            "marker": {
             "colorbar": {
              "outlinewidth": 0,
              "ticks": ""
             }
            },
            "type": "scattermapbox"
           }
          ],
          "scatterpolar": [
           {
            "marker": {
             "colorbar": {
              "outlinewidth": 0,
              "ticks": ""
             }
            },
            "type": "scatterpolar"
           }
          ],
          "scatterpolargl": [
           {
            "marker": {
             "colorbar": {
              "outlinewidth": 0,
              "ticks": ""
             }
            },
            "type": "scatterpolargl"
           }
          ],
          "scatterternary": [
           {
            "marker": {
             "colorbar": {
              "outlinewidth": 0,
              "ticks": ""
             }
            },
            "type": "scatterternary"
           }
          ],
          "surface": [
           {
            "colorbar": {
             "outlinewidth": 0,
             "ticks": ""
            },
            "colorscale": [
             [
              0,
              "#0d0887"
             ],
             [
              0.1111111111111111,
              "#46039f"
             ],
             [
              0.2222222222222222,
              "#7201a8"
             ],
             [
              0.3333333333333333,
              "#9c179e"
             ],
             [
              0.4444444444444444,
              "#bd3786"
             ],
             [
              0.5555555555555556,
              "#d8576b"
             ],
             [
              0.6666666666666666,
              "#ed7953"
             ],
             [
              0.7777777777777778,
              "#fb9f3a"
             ],
             [
              0.8888888888888888,
              "#fdca26"
             ],
             [
              1,
              "#f0f921"
             ]
            ],
            "type": "surface"
           }
          ],
          "table": [
           {
            "cells": {
             "fill": {
              "color": "#EBF0F8"
             },
             "line": {
              "color": "white"
             }
            },
            "header": {
             "fill": {
              "color": "#C8D4E3"
             },
             "line": {
              "color": "white"
             }
            },
            "type": "table"
           }
          ]
         },
         "layout": {
          "annotationdefaults": {
           "arrowcolor": "#2a3f5f",
           "arrowhead": 0,
           "arrowwidth": 1
          },
          "autotypenumbers": "strict",
          "coloraxis": {
           "colorbar": {
            "outlinewidth": 0,
            "ticks": ""
           }
          },
          "colorscale": {
           "diverging": [
            [
             0,
             "#8e0152"
            ],
            [
             0.1,
             "#c51b7d"
            ],
            [
             0.2,
             "#de77ae"
            ],
            [
             0.3,
             "#f1b6da"
            ],
            [
             0.4,
             "#fde0ef"
            ],
            [
             0.5,
             "#f7f7f7"
            ],
            [
             0.6,
             "#e6f5d0"
            ],
            [
             0.7,
             "#b8e186"
            ],
            [
             0.8,
             "#7fbc41"
            ],
            [
             0.9,
             "#4d9221"
            ],
            [
             1,
             "#276419"
            ]
           ],
           "sequential": [
            [
             0,
             "#0d0887"
            ],
            [
             0.1111111111111111,
             "#46039f"
            ],
            [
             0.2222222222222222,
             "#7201a8"
            ],
            [
             0.3333333333333333,
             "#9c179e"
            ],
            [
             0.4444444444444444,
             "#bd3786"
            ],
            [
             0.5555555555555556,
             "#d8576b"
            ],
            [
             0.6666666666666666,
             "#ed7953"
            ],
            [
             0.7777777777777778,
             "#fb9f3a"
            ],
            [
             0.8888888888888888,
             "#fdca26"
            ],
            [
             1,
             "#f0f921"
            ]
           ],
           "sequentialminus": [
            [
             0,
             "#0d0887"
            ],
            [
             0.1111111111111111,
             "#46039f"
            ],
            [
             0.2222222222222222,
             "#7201a8"
            ],
            [
             0.3333333333333333,
             "#9c179e"
            ],
            [
             0.4444444444444444,
             "#bd3786"
            ],
            [
             0.5555555555555556,
             "#d8576b"
            ],
            [
             0.6666666666666666,
             "#ed7953"
            ],
            [
             0.7777777777777778,
             "#fb9f3a"
            ],
            [
             0.8888888888888888,
             "#fdca26"
            ],
            [
             1,
             "#f0f921"
            ]
           ]
          },
          "colorway": [
           "#636efa",
           "#EF553B",
           "#00cc96",
           "#ab63fa",
           "#FFA15A",
           "#19d3f3",
           "#FF6692",
           "#B6E880",
           "#FF97FF",
           "#FECB52"
          ],
          "font": {
           "color": "#2a3f5f"
          },
          "geo": {
           "bgcolor": "white",
           "lakecolor": "white",
           "landcolor": "#E5ECF6",
           "showlakes": true,
           "showland": true,
           "subunitcolor": "white"
          },
          "hoverlabel": {
           "align": "left"
          },
          "hovermode": "closest",
          "mapbox": {
           "style": "light"
          },
          "paper_bgcolor": "white",
          "plot_bgcolor": "#E5ECF6",
          "polar": {
           "angularaxis": {
            "gridcolor": "white",
            "linecolor": "white",
            "ticks": ""
           },
           "bgcolor": "#E5ECF6",
           "radialaxis": {
            "gridcolor": "white",
            "linecolor": "white",
            "ticks": ""
           }
          },
          "scene": {
           "xaxis": {
            "backgroundcolor": "#E5ECF6",
            "gridcolor": "white",
            "gridwidth": 2,
            "linecolor": "white",
            "showbackground": true,
            "ticks": "",
            "zerolinecolor": "white"
           },
           "yaxis": {
            "backgroundcolor": "#E5ECF6",
            "gridcolor": "white",
            "gridwidth": 2,
            "linecolor": "white",
            "showbackground": true,
            "ticks": "",
            "zerolinecolor": "white"
           },
           "zaxis": {
            "backgroundcolor": "#E5ECF6",
            "gridcolor": "white",
            "gridwidth": 2,
            "linecolor": "white",
            "showbackground": true,
            "ticks": "",
            "zerolinecolor": "white"
           }
          },
          "shapedefaults": {
           "line": {
            "color": "#2a3f5f"
           }
          },
          "ternary": {
           "aaxis": {
            "gridcolor": "white",
            "linecolor": "white",
            "ticks": ""
           },
           "baxis": {
            "gridcolor": "white",
            "linecolor": "white",
            "ticks": ""
           },
           "bgcolor": "#E5ECF6",
           "caxis": {
            "gridcolor": "white",
            "linecolor": "white",
            "ticks": ""
           }
          },
          "title": {
           "x": 0.05
          },
          "xaxis": {
           "automargin": true,
           "gridcolor": "white",
           "linecolor": "white",
           "ticks": "",
           "title": {
            "standoff": 15
           },
           "zerolinecolor": "white",
           "zerolinewidth": 2
          },
          "yaxis": {
           "automargin": true,
           "gridcolor": "white",
           "linecolor": "white",
           "ticks": "",
           "title": {
            "standoff": 15
           },
           "zerolinecolor": "white",
           "zerolinewidth": 2
          }
         }
        },
        "title": {
         "text": "NVDA"
        },
        "width": 1000,
        "xaxis": {
         "anchor": "y",
         "domain": [
          0,
          1
         ],
         "gridcolor": "lightgrey",
         "gridwidth": 0.5,
         "matches": "x4",
         "nticks": 24,
         "rangeslider": {
          "visible": false
         },
         "showgrid": true,
         "showticklabels": false,
         "title": {
          "text": " "
         }
        },
        "xaxis2": {
         "anchor": "y2",
         "domain": [
          0,
          1
         ],
         "gridcolor": "lightgrey",
         "gridwidth": 0.5,
         "matches": "x4",
         "nticks": 24,
         "showgrid": true,
         "showticklabels": false
        },
        "xaxis3": {
         "anchor": "y3",
         "domain": [
          0,
          1
         ],
         "gridcolor": "lightgrey",
         "gridwidth": 0.5,
         "matches": "x4",
         "nticks": 24,
         "showgrid": true,
         "showticklabels": false
        },
        "xaxis4": {
         "anchor": "y4",
         "domain": [
          0,
          1
         ],
         "gridcolor": "lightgrey",
         "gridwidth": 0.5,
         "nticks": 24,
         "showgrid": true
        },
        "yaxis": {
         "anchor": "x",
         "domain": [
          0.5750000000000001,
          1
         ],
         "gridcolor": "lightgrey",
         "gridwidth": 0.5,
         "showgrid": true,
         "title": {
          "text": "Price ($)"
         }
        },
        "yaxis2": {
         "anchor": "x2",
         "domain": [
          0.34285714285714286,
          0.525
         ],
         "gridcolor": "lightgrey",
         "gridwidth": 0.5,
         "showgrid": true,
         "title": {
          "text": "Daily returns"
         }
        },
        "yaxis3": {
         "anchor": "x3",
         "domain": [
          0.11071428571428572,
          0.29285714285714287
         ],
         "gridcolor": "lightgrey",
         "gridwidth": 0.5,
         "showgrid": true,
         "title": {
          "text": "Volatility"
         }
        },
        "yaxis4": {
         "anchor": "x4",
         "domain": [
          0,
          0.06071428571428572
         ],
         "gridcolor": "lightgrey",
         "gridwidth": 0.5,
         "showgrid": true,
         "title": {
          "text": "Volume"
         }
        }
       }
      },
      "image/png": "[encoded data removed]"
     },
     "metadata": {},
     "output_type": "display_data"
    },
    {
     "data": {
      "application/vnd.plotly.v1+json": {
       "config": {
        "plotlyServerURL": "https://plot.ly"
       },
       "data": [
        {
         "bingroup": "x",
         "hovertemplate": "daily return=%{x}<br>count=%{y}<extra></extra>",
         "legendgroup": "",
         "marker": {
          "color": "rgba(117, 183, 98, 1)",
          "pattern": {
           "shape": ""
          }
         },
         "name": "",
         "orientation": "v",
         "showlegend": false,
         "type": "histogram",
         "x": {
          "bdata": "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",
          "dtype": "f8"
         },
         "xaxis": "x",
         "yaxis": "y"
        },
        {
         "hovertemplate": "daily return=%{x}<extra></extra>",
         "legendgroup": "",
         "marker": {
          "color": "rgba(117, 183, 98, 1)"
         },
         "name": "",
         "notched": true,
         "showlegend": false,
         "type": "box",
         "x": {
          "bdata": "AAAAAAAAAAAIj/4uXQHpP5XbF2j+jBBAYLMD6E5gtb/smR1H73MGwIgktq1tfeM/YPglPcTA6T9Uj4iOYQ/nvzgkl5GYn+A/XIjQ56qi9b/V7j38l+MSwOxcf2Eh0f8/UG/NvkC53j9yEQUzj7IGQE6Y/9bSSxBAlAYvEkj3AUAgbzbwD97qv9DJsbiqr/m/+IpY9/ivAEA0y3l6hcv1v8CO1x5YcNU/wQp0SF4OCsACWfn7aZ/0v50b06I9lBNAcBDwaxNh6L+YytKo5RvhP1iK1NCzvgnAnjwyjsm1EMAgrxsgbSzlP/5U65GmdvK/ELIaQ4IzAUDQ7jKqR5fRP+T0WdkV0PI/+qIjXYLVC0DAzhIRm7Kov+5G2HT95fy/zGMqmDtjBMCcLun49Y0FwNpBmpfgHAlAXpeYPyug9r/UpA7xxf8BwH6gWzLb0Pq/nOukOdWD87+wjHnzLinyv5i0wizy9/U/NqSExhucCEDOpQOXd4QNQGAk6bb3M9k/QAibsEF5yr83rEKAq7EAwDANl9bha9Y/7dfz4JaeAsDsiN5MufIHQOvaW8yn0BFAkE/Em0F3C0AEGBS1Kt4YwIBoTTnm6ZW/+pP3BCb7B8AA3Hau6Iz/v/Y3dWJkp/G/DK/DHn0zC0A6rStkSlv/v3C5fiDGywhAltRHNQQgAkC07OQUO7kRQMDXFX5OG7o/vGu2GSf/CMAGfFGu2fcwwH8KTG8L2iFAMK12pYZnEMBoVynvYpPoP/13gv7wZA3AC0pfhVa4BsBsEtDy/Ur7P2pLaCCb1RRAHsuRvWasCEB4mwnYv9jsP9Cz+hRz+wZAtFFY5m1y4r9mIaIlCwD0v2K4aUYCUQlAQFjvNBcNBUCg0mXa41nZP2A2Ly1qOL+/6ApMVbk55D9ScVxeQjcQwNCsuSZfsgjAKscBysxpBsAoqmMRgWANQLiUTb/E9CDAxOvCnZ7CD0BhNFDlGmMhwHAbGOvPEvs/CKV6Wg4S8j90QpzmHvMWwJzC9RZprf4/UzPhp5xEFMCErP0lM5/6P8bRBA7btRlAwONlHuexwb/snxT+iBMVQJoKp3dHJPy/hyGMS9pwC8CA1gnYTfj8P9ARNrVugOs/cOd4kGZo5r/MHdkwejcJQNx8318e+uK/eNXuBcv3FsAuMlqVpmIAwAb/TjqBRfm/2tI1svTR8r8we79WWCH6P2C0Ms4aYM8/boJbLuk5H8AQ9oioJW4dwEAxs3xJPwxAirxRR0L19b//2CEbBbkyQOXtq8GcphfAgpxUkAT9CECwU3D7m2LJv8jR4B6liPU/KMnM6JN8G8B+9MTi/vcGwInZjI0ODRLAGNsWNlJYAEDyJMlqLOcOQNZ0AYeJ+QxAZoxoIJc2EUBi06j/V24AwBB8w/fbEdE/YCxFIh97t7/6rb078sEDQFByZKwLtwRAUPuatiEB479Akh2z43zPv4QNYGxDzQhAgCQHW+vy0D/glAq3ZKHjv/BmGRpJxhVA8KJehVyJFkD2dRegtacQQGgrn/juHdi/8PiWy3EO2z/AwtEzQRLAP5TKASbTFuy/NOOB7/+3/r9ANI9F+wHpP5x8i5XRjPK/2hXQoC6nCUBk5ihVd0vgvwSy9TL//QlAvCGi38RVB8DYXdT6E6T6P3BRVPp8XAZAALwaulS53z/c2102NsL1vySTkDTNxfM/OHq3oz2M5D9wTC6259btP8SPatrW5ei//C/QggBP+D8Wx9LLnbcAwNTrgeqFp/4/SM/I5IE22b8YRhwCdDLuP/TgI74/7fG/AOyJ6kB5zD88lv58n7IEQG3Biy8JVhFAsPUqa39y3T+csoN8Ti38P+A5hldiecM/+r/ZgZC/B8DwZiLp9ZwEQDjK7ZbyQ/U/bP2HVkkX5r9gvtHtt8vxPxghRmHMzPw/aDPMdP/35z8QUEXE7vrfP1QnTScifuC/6fxw+e0pEEAwgLTdyx7ZP0DFkfrpb+4/MATOIJnT1b9gJ+kL/R3jv3hoaP1HTgTAetMxQ/n1AUCol8+pTLv7P6BugwqPrsG/lM/Aa5/4/T+wlwFWNnPmvyB38/iDIwFAhE8l9I396L8P9+LzUaoCwGTjaFaM6wxA9J3t8vzu7r84TEt829LkP+jgkXLjE+g/JFuuVRoV8T/4zVhyYGvWv8gFv/CbVeM/RIbSMf1t679g05FwZk/OP1xl09v3meu/aPlxSACq6z9dlzPel/8LwDCXHq2XfcG/AHNUPIKmzr+YvyXy84X7P1xSnZRJXPA/JGahZMpw8T+Ah0s9+PC3v/T/kdPNMum/Y8nf+N2YCsBKk6usYDv/v4BhTerS+7e/4JmlE2WB4z9nDjccyJ8FwPAsmMkkt+g/aI8VelNK9z8E9Ft1tMcOQOC/6K82qLW/0C2W3wh71z+AVm4zRiikv2b4QoqA1fm/9rkbj0//BMBmVoXazvMLQCCDopPHOs8/7k8zbQNtD0CWKRkM0pEGwLhTJpEML+q/cF1Bq9EJ2j8QnAO5RgLSP7xeFPeRbgBAniC7Tu/OBECgDcEfo6PWP/DwAYLxMuw/eJTlxOaD5b9sIMpg7bzxvxhgEnk4P9G/JiBDYaKYAUD8x+NzJkb9P1zuOjjQixPAAg7B46WJBkDPKvZpvJsRwKAS8At0cLy/5G0Te9md8T8=",
          "dtype": "f8"
         },
         "xaxis": "x2",
         "yaxis": "y2"
        }
       ],
       "layout": {
        "barmode": "relative",
        "legend": {
         "tracegroupgap": 0
        },
        "template": {
         "data": {
          "bar": [
           {
            "error_x": {
             "color": "#2a3f5f"
            },
            "error_y": {
             "color": "#2a3f5f"
            },
            "marker": {
             "line": {
              "color": "#E5ECF6",
              "width": 0.5
             },
             "pattern": {
              "fillmode": "overlay",
              "size": 10,
              "solidity": 0.2
             }
            },
            "type": "bar"
           }
          ],
          "barpolar": [
           {
            "marker": {
             "line": {
              "color": "#E5ECF6",
              "width": 0.5
             },
             "pattern": {
              "fillmode": "overlay",
              "size": 10,
              "solidity": 0.2
             }
            },
            "type": "barpolar"
           }
          ],
          "carpet": [
           {
            "aaxis": {
             "endlinecolor": "#2a3f5f",
             "gridcolor": "white",
             "linecolor": "white",
             "minorgridcolor": "white",
             "startlinecolor": "#2a3f5f"
            },
            "baxis": {
             "endlinecolor": "#2a3f5f",
             "gridcolor": "white",
             "linecolor": "white",
             "minorgridcolor": "white",
             "startlinecolor": "#2a3f5f"
            },
            "type": "carpet"
           }
          ],
          "choropleth": [
           {
            "colorbar": {
             "outlinewidth": 0,
             "ticks": ""
            },
            "type": "choropleth"
           }
          ],
          "contour": [
           {
            "colorbar": {
             "outlinewidth": 0,
             "ticks": ""
            },
            "colorscale": [
             [
              0,
              "#0d0887"
             ],
             [
              0.1111111111111111,
              "#46039f"
             ],
             [
              0.2222222222222222,
              "#7201a8"
             ],
             [
              0.3333333333333333,
              "#9c179e"
             ],
             [
              0.4444444444444444,
              "#bd3786"
             ],
             [
              0.5555555555555556,
              "#d8576b"
             ],
             [
              0.6666666666666666,
              "#ed7953"
             ],
             [
              0.7777777777777778,
              "#fb9f3a"
             ],
             [
              0.8888888888888888,
              "#fdca26"
             ],
             [
              1,
              "#f0f921"
             ]
            ],
            "type": "contour"
           }
          ],
          "contourcarpet": [
           {
            "colorbar": {
             "outlinewidth": 0,
             "ticks": ""
            },
            "type": "contourcarpet"
           }
          ],
          "heatmap": [
           {
            "colorbar": {
             "outlinewidth": 0,
             "ticks": ""
            },
            "colorscale": [
             [
              0,
              "#0d0887"
             ],
             [
              0.1111111111111111,
              "#46039f"
             ],
             [
              0.2222222222222222,
              "#7201a8"
             ],
             [
              0.3333333333333333,
              "#9c179e"
             ],
             [
              0.4444444444444444,
              "#bd3786"
             ],
             [
              0.5555555555555556,
              "#d8576b"
             ],
             [
              0.6666666666666666,
              "#ed7953"
             ],
             [
              0.7777777777777778,
              "#fb9f3a"
             ],
             [
              0.8888888888888888,
              "#fdca26"
             ],
             [
              1,
              "#f0f921"
             ]
            ],
            "type": "heatmap"
           }
          ],
          "histogram": [
           {
            "marker": {
             "pattern": {
              "fillmode": "overlay",
              "size": 10,
              "solidity": 0.2
             }
            },
            "type": "histogram"
           }
          ],
          "histogram2d": [
           {
            "colorbar": {
             "outlinewidth": 0,
             "ticks": ""
            },
            "colorscale": [
             [
              0,
              "#0d0887"
             ],
             [
              0.1111111111111111,
              "#46039f"
             ],
             [
              0.2222222222222222,
              "#7201a8"
             ],
             [
              0.3333333333333333,
              "#9c179e"
             ],
             [
              0.4444444444444444,
              "#bd3786"
             ],
             [
              0.5555555555555556,
              "#d8576b"
             ],
             [
              0.6666666666666666,
              "#ed7953"
             ],
             [
              0.7777777777777778,
              "#fb9f3a"
             ],
             [
              0.8888888888888888,
              "#fdca26"
             ],
             [
              1,
              "#f0f921"
             ]
            ],
            "type": "histogram2d"
           }
          ],
          "histogram2dcontour": [
           {
            "colorbar": {
             "outlinewidth": 0,
             "ticks": ""
            },
            "colorscale": [
             [
              0,
              "#0d0887"
             ],
             [
              0.1111111111111111,
              "#46039f"
             ],
             [
              0.2222222222222222,
              "#7201a8"
             ],
             [
              0.3333333333333333,
              "#9c179e"
             ],
             [
              0.4444444444444444,
              "#bd3786"
             ],
             [
              0.5555555555555556,
              "#d8576b"
             ],
             [
              0.6666666666666666,
              "#ed7953"
             ],
             [
              0.7777777777777778,
              "#fb9f3a"
             ],
             [
              0.8888888888888888,
              "#fdca26"
             ],
             [
              1,
              "#f0f921"
             ]
            ],
            "type": "histogram2dcontour"
           }
          ],
          "mesh3d": [
           {
            "colorbar": {
             "outlinewidth": 0,
             "ticks": ""
            },
            "type": "mesh3d"
           }
          ],
          "parcoords": [
           {
            "line": {
             "colorbar": {
              "outlinewidth": 0,
              "ticks": ""
             }
            },
            "type": "parcoords"
           }
          ],
          "pie": [
           {
            "automargin": true,
            "type": "pie"
           }
          ],
          "scatter": [
           {
            "fillpattern": {
             "fillmode": "overlay",
             "size": 10,
             "solidity": 0.2
            },
            "type": "scatter"
           }
          ],
          "scatter3d": [
           {
            "line": {
             "colorbar": {
              "outlinewidth": 0,
              "ticks": ""
             }
            },
            "marker": {
             "colorbar": {
              "outlinewidth": 0,
              "ticks": ""
             }
            },
            "type": "scatter3d"
           }
          ],
          "scattercarpet": [
           {
            "marker": {
             "colorbar": {
              "outlinewidth": 0,
              "ticks": ""
             }
            },
            "type": "scattercarpet"
           }
          ],
          "scattergeo": [
           {
            "marker": {
             "colorbar": {
              "outlinewidth": 0,
              "ticks": ""
             }
            },
            "type": "scattergeo"
           }
          ],
          "scattergl": [
           {
            "marker": {
             "colorbar": {
              "outlinewidth": 0,
              "ticks": ""
             }
            },
            "type": "scattergl"
           }
          ],
          "scattermap": [
           {
            "marker": {
             "colorbar": {
              "outlinewidth": 0,
              "ticks": ""
             }
            },
            "type": "scattermap"
           }
          ],
          "scattermapbox": [
           {
            "marker": {
             "colorbar": {
              "outlinewidth": 0,
              "ticks": ""
             }
            },
            "type": "scattermapbox"
           }
          ],
          "scatterpolar": [
           {
            "marker": {
             "colorbar": {
              "outlinewidth": 0,
              "ticks": ""
             }
            },
            "type": "scatterpolar"
           }
          ],
          "scatterpolargl": [
           {
            "marker": {
             "colorbar": {
              "outlinewidth": 0,
              "ticks": ""
             }
            },
            "type": "scatterpolargl"
           }
          ],
          "scatterternary": [
           {
            "marker": {
             "colorbar": {
              "outlinewidth": 0,
              "ticks": ""
             }
            },
            "type": "scatterternary"
           }
          ],
          "surface": [
           {
            "colorbar": {
             "outlinewidth": 0,
             "ticks": ""
            },
            "colorscale": [
             [
              0,
              "#0d0887"
             ],
             [
              0.1111111111111111,
              "#46039f"
             ],
             [
              0.2222222222222222,
              "#7201a8"
             ],
             [
              0.3333333333333333,
              "#9c179e"
             ],
             [
              0.4444444444444444,
              "#bd3786"
             ],
             [
              0.5555555555555556,
              "#d8576b"
             ],
             [
              0.6666666666666666,
              "#ed7953"
             ],
             [
              0.7777777777777778,
              "#fb9f3a"
             ],
             [
              0.8888888888888888,
              "#fdca26"
             ],
             [
              1,
              "#f0f921"
             ]
            ],
            "type": "surface"
           }
          ],
          "table": [
           {
            "cells": {
             "fill": {
              "color": "#EBF0F8"
             },
             "line": {
              "color": "white"
             }
            },
            "header": {
             "fill": {
              "color": "#C8D4E3"
             },
             "line": {
              "color": "white"
             }
            },
            "type": "table"
           }
          ]
         },
         "layout": {
          "annotationdefaults": {
           "arrowcolor": "#2a3f5f",
           "arrowhead": 0,
           "arrowwidth": 1
          },
          "autotypenumbers": "strict",
          "coloraxis": {
           "colorbar": {
            "outlinewidth": 0,
            "ticks": ""
           }
          },
          "colorscale": {
           "diverging": [
            [
             0,
             "#8e0152"
            ],
            [
             0.1,
             "#c51b7d"
            ],
            [
             0.2,
             "#de77ae"
            ],
            [
             0.3,
             "#f1b6da"
            ],
            [
             0.4,
             "#fde0ef"
            ],
            [
             0.5,
             "#f7f7f7"
            ],
            [
             0.6,
             "#e6f5d0"
            ],
            [
             0.7,
             "#b8e186"
            ],
            [
             0.8,
             "#7fbc41"
            ],
            [
             0.9,
             "#4d9221"
            ],
            [
             1,
             "#276419"
            ]
           ],
           "sequential": [
            [
             0,
             "#0d0887"
            ],
            [
             0.1111111111111111,
             "#46039f"
            ],
            [
             0.2222222222222222,
             "#7201a8"
            ],
            [
             0.3333333333333333,
             "#9c179e"
            ],
            [
             0.4444444444444444,
             "#bd3786"
            ],
            [
             0.5555555555555556,
             "#d8576b"
            ],
            [
             0.6666666666666666,
             "#ed7953"
            ],
            [
             0.7777777777777778,
             "#fb9f3a"
            ],
            [
             0.8888888888888888,
             "#fdca26"
            ],
            [
             1,
             "#f0f921"
            ]
           ],
           "sequentialminus": [
            [
             0,
             "#0d0887"
            ],
            [
             0.1111111111111111,
             "#46039f"
            ],
            [
             0.2222222222222222,
             "#7201a8"
            ],
            [
             0.3333333333333333,
             "#9c179e"
            ],
            [
             0.4444444444444444,
             "#bd3786"
            ],
            [
             0.5555555555555556,
             "#d8576b"
            ],
            [
             0.6666666666666666,
             "#ed7953"
            ],
            [
             0.7777777777777778,
             "#fb9f3a"
            ],
            [
             0.8888888888888888,
             "#fdca26"
            ],
            [
             1,
             "#f0f921"
            ]
           ]
          },
          "colorway": [
           "#636efa",
           "#EF553B",
           "#00cc96",
           "#ab63fa",
           "#FFA15A",
           "#19d3f3",
           "#FF6692",
           "#B6E880",
           "#FF97FF",
           "#FECB52"
          ],
          "font": {
           "color": "#2a3f5f"
          },
          "geo": {
           "bgcolor": "white",
           "lakecolor": "white",
           "landcolor": "#E5ECF6",
           "showlakes": true,
           "showland": true,
           "subunitcolor": "white"
          },
          "hoverlabel": {
           "align": "left"
          },
          "hovermode": "closest",
          "mapbox": {
           "style": "light"
          },
          "paper_bgcolor": "white",
          "plot_bgcolor": "#E5ECF6",
          "polar": {
           "angularaxis": {
            "gridcolor": "white",
            "linecolor": "white",
            "ticks": ""
           },
           "bgcolor": "#E5ECF6",
           "radialaxis": {
            "gridcolor": "white",
            "linecolor": "white",
            "ticks": ""
           }
          },
          "scene": {
           "xaxis": {
            "backgroundcolor": "#E5ECF6",
            "gridcolor": "white",
            "gridwidth": 2,
            "linecolor": "white",
            "showbackground": true,
            "ticks": "",
            "zerolinecolor": "white"
           },
           "yaxis": {
            "backgroundcolor": "#E5ECF6",
            "gridcolor": "white",
            "gridwidth": 2,
            "linecolor": "white",
            "showbackground": true,
            "ticks": "",
            "zerolinecolor": "white"
           },
           "zaxis": {
            "backgroundcolor": "#E5ECF6",
            "gridcolor": "white",
            "gridwidth": 2,
            "linecolor": "white",
            "showbackground": true,
            "ticks": "",
            "zerolinecolor": "white"
           }
          },
          "shapedefaults": {
           "line": {
            "color": "#2a3f5f"
           }
          },
          "ternary": {
           "aaxis": {
            "gridcolor": "white",
            "linecolor": "white",
            "ticks": ""
           },
           "baxis": {
            "gridcolor": "white",
            "linecolor": "white",
            "ticks": ""
           },
           "bgcolor": "#E5ECF6",
           "caxis": {
            "gridcolor": "white",
            "linecolor": "white",
            "ticks": ""
           }
          },
          "title": {
           "x": 0.05
          },
          "xaxis": {
           "automargin": true,
           "gridcolor": "white",
           "linecolor": "white",
           "ticks": "",
           "title": {
            "standoff": 15
           },
           "zerolinecolor": "white",
           "zerolinewidth": 2
          },
          "yaxis": {
           "automargin": true,
           "gridcolor": "white",
           "linecolor": "white",
           "ticks": "",
           "title": {
            "standoff": 15
           },
           "zerolinecolor": "white",
           "zerolinewidth": 2
          }
         }
        },
        "title": {
         "text": "Daily returns histogram"
        },
        "xaxis": {
         "anchor": "y",
         "domain": [
          0,
          1
         ],
         "title": {
          "text": "daily return"
         }
        },
        "xaxis2": {
         "anchor": "y2",
         "domain": [
          0,
          1
         ],
         "matches": "x",
         "showgrid": true,
         "showticklabels": false
        },
        "yaxis": {
         "anchor": "x",
         "domain": [
          0,
          0.8316
         ],
         "title": {
          "text": "count"
         }
        },
        "yaxis2": {
         "anchor": "x2",
         "domain": [
          0.8416,
          1
         ],
         "matches": "y2",
         "showgrid": false,
         "showline": false,
         "showticklabels": false,
         "ticks": ""
        }
       }
      },
      "image/png": "[encoded data removed]"
     },
     "metadata": {},
     "output_type": "display_data"
    },
    {
     "data": {
      "application/vnd.plotly.v1+json": {
       "config": {
        "plotlyServerURL": "https://plot.ly"
       },
       "data": [
        {
         "delta": {
          "reference": 0,
          "relative": false
         },
         "domain": {
          "column": 0,
          "row": 0
         },
         "gauge": {
          "axis": {
           "range": [
            -5,
            5
           ]
          },
          "bar": {
           "color": "green"
          },
          "steps": [
           {
            "color": "lightcoral",
            "range": [
             -5,
             -2
            ]
           },
           {
            "color": "lightgray",
            "range": [
             -2,
             2
            ]
           },
           {
            "color": "lightgreen",
            "range": [
             2,
             5
            ]
           }
          ],
          "threshold": {
           "line": {
            "color": "blue",
            "width": 4
           },
           "thickness": 0.75,
           "value": -0.07442254442454997
          }
         },
         "mode": "gauge+number",
         "number": {
          "valueformat": ".2f"
         },
         "title": {
          "text": "Skewness"
         },
         "type": "indicator",
         "value": -0.07442254442454997
        },
        {
         "delta": {
          "reference": 3,
          "relative": false
         },
         "domain": {
          "column": 1,
          "row": 0
         },
         "gauge": {
          "axis": {
           "range": [
            0,
            6
           ]
          },
          "bar": {
           "color": "darkblue"
          },
          "steps": [
           {
            "color": "lightgreen",
            "range": [
             0,
             2
            ]
           },
           {
            "color": "lightgray",
            "range": [
             2,
             4
            ]
           },
           {
            "color": "lightcoral",
            "range": [
             4,
             6
            ]
           }
          ],
          "threshold": {
           "line": {
            "color": "blue",
            "width": 4
           },
           "thickness": 0.75,
           "value": 8.073947880470389
          }
         },
         "mode": "gauge+number",
         "number": {
          "valueformat": ".2f"
         },
         "title": {
          "text": "Kurtosis"
         },
         "type": "indicator",
         "value": 8.073947880470389
        }
       ],
       "layout": {
        "grid": {
         "columns": 2,
         "pattern": "independent",
         "rows": 1
        },
        "template": {
         "data": {
          "bar": [
           {
            "error_x": {
             "color": "#2a3f5f"
            },
            "error_y": {
             "color": "#2a3f5f"
            },
            "marker": {
             "line": {
              "color": "white",
              "width": 0.5
             },
             "pattern": {
              "fillmode": "overlay",
              "size": 10,
              "solidity": 0.2
             }
            },
            "type": "bar"
           }
          ],
          "barpolar": [
           {
            "marker": {
             "line": {
              "color": "white",
              "width": 0.5
             },
             "pattern": {
              "fillmode": "overlay",
              "size": 10,
              "solidity": 0.2
             }
            },
            "type": "barpolar"
           }
          ],
          "carpet": [
           {
            "aaxis": {
             "endlinecolor": "#2a3f5f",
             "gridcolor": "#C8D4E3",
             "linecolor": "#C8D4E3",
             "minorgridcolor": "#C8D4E3",
             "startlinecolor": "#2a3f5f"
            },
            "baxis": {
             "endlinecolor": "#2a3f5f",
             "gridcolor": "#C8D4E3",
             "linecolor": "#C8D4E3",
             "minorgridcolor": "#C8D4E3",
             "startlinecolor": "#2a3f5f"
            },
            "type": "carpet"
           }
          ],
          "choropleth": [
           {
            "colorbar": {
             "outlinewidth": 0,
             "ticks": ""
            },
            "type": "choropleth"
           }
          ],
          "contour": [
           {
            "colorbar": {
             "outlinewidth": 0,
             "ticks": ""
            },
            "colorscale": [
             [
              0,
              "#0d0887"
             ],
             [
              0.1111111111111111,
              "#46039f"
             ],
             [
              0.2222222222222222,
              "#7201a8"
             ],
             [
              0.3333333333333333,
              "#9c179e"
             ],
             [
              0.4444444444444444,
              "#bd3786"
             ],
             [
              0.5555555555555556,
              "#d8576b"
             ],
             [
              0.6666666666666666,
              "#ed7953"
             ],
             [
              0.7777777777777778,
              "#fb9f3a"
             ],
             [
              0.8888888888888888,
              "#fdca26"
             ],
             [
              1,
              "#f0f921"
             ]
            ],
            "type": "contour"
           }
          ],
          "contourcarpet": [
           {
            "colorbar": {
             "outlinewidth": 0,
             "ticks": ""
            },
            "type": "contourcarpet"
           }
          ],
          "heatmap": [
           {
            "colorbar": {
             "outlinewidth": 0,
             "ticks": ""
            },
            "colorscale": [
             [
              0,
              "#0d0887"
             ],
             [
              0.1111111111111111,
              "#46039f"
             ],
             [
              0.2222222222222222,
              "#7201a8"
             ],
             [
              0.3333333333333333,
              "#9c179e"
             ],
             [
              0.4444444444444444,
              "#bd3786"
             ],
             [
              0.5555555555555556,
              "#d8576b"
             ],
             [
              0.6666666666666666,
              "#ed7953"
             ],
             [
              0.7777777777777778,
              "#fb9f3a"
             ],
             [
              0.8888888888888888,
              "#fdca26"
             ],
             [
              1,
              "#f0f921"
             ]
            ],
            "type": "heatmap"
           }
          ],
          "histogram": [
           {
            "marker": {
             "pattern": {
              "fillmode": "overlay",
              "size": 10,
              "solidity": 0.2
             }
            },
            "type": "histogram"
           }
          ],
          "histogram2d": [
           {
            "colorbar": {
             "outlinewidth": 0,
             "ticks": ""
            },
            "colorscale": [
             [
              0,
              "#0d0887"
             ],
             [
              0.1111111111111111,
              "#46039f"
             ],
             [
              0.2222222222222222,
              "#7201a8"
             ],
             [
              0.3333333333333333,
              "#9c179e"
             ],
             [
              0.4444444444444444,
              "#bd3786"
             ],
             [
              0.5555555555555556,
              "#d8576b"
             ],
             [
              0.6666666666666666,
              "#ed7953"
             ],
             [
              0.7777777777777778,
              "#fb9f3a"
             ],
             [
              0.8888888888888888,
              "#fdca26"
             ],
             [
              1,
              "#f0f921"
             ]
            ],
            "type": "histogram2d"
           }
          ],
          "histogram2dcontour": [
           {
            "colorbar": {
             "outlinewidth": 0,
             "ticks": ""
            },
            "colorscale": [
             [
              0,
              "#0d0887"
             ],
             [
              0.1111111111111111,
              "#46039f"
             ],
             [
              0.2222222222222222,
              "#7201a8"
             ],
             [
              0.3333333333333333,
              "#9c179e"
             ],
             [
              0.4444444444444444,
              "#bd3786"
             ],
             [
              0.5555555555555556,
              "#d8576b"
             ],
             [
              0.6666666666666666,
              "#ed7953"
             ],
             [
              0.7777777777777778,
              "#fb9f3a"
             ],
             [
              0.8888888888888888,
              "#fdca26"
             ],
             [
              1,
              "#f0f921"
             ]
            ],
            "type": "histogram2dcontour"
           }
          ],
          "mesh3d": [
           {
            "colorbar": {
             "outlinewidth": 0,
             "ticks": ""
            },
            "type": "mesh3d"
           }
          ],
          "parcoords": [
           {
            "line": {
             "colorbar": {
              "outlinewidth": 0,
              "ticks": ""
             }
            },
            "type": "parcoords"
           }
          ],
          "pie": [
           {
            "automargin": true,
            "type": "pie"
           }
          ],
          "scatter": [
           {
            "fillpattern": {
             "fillmode": "overlay",
             "size": 10,
             "solidity": 0.2
            },
            "type": "scatter"
           }
          ],
          "scatter3d": [
           {
            "line": {
             "colorbar": {
              "outlinewidth": 0,
              "ticks": ""
             }
            },
            "marker": {
             "colorbar": {
              "outlinewidth": 0,
              "ticks": ""
             }
            },
            "type": "scatter3d"
           }
          ],
          "scattercarpet": [
           {
            "marker": {
             "colorbar": {
              "outlinewidth": 0,
              "ticks": ""
             }
            },
            "type": "scattercarpet"
           }
          ],
          "scattergeo": [
           {
            "marker": {
             "colorbar": {
              "outlinewidth": 0,
              "ticks": ""
             }
            },
            "type": "scattergeo"
           }
          ],
          "scattergl": [
           {
            "marker": {
             "colorbar": {
              "outlinewidth": 0,
              "ticks": ""
             }
            },
            "type": "scattergl"
           }
          ],
          "scattermap": [
           {
            "marker": {
             "colorbar": {
              "outlinewidth": 0,
              "ticks": ""
             }
            },
            "type": "scattermap"
           }
          ],
          "scattermapbox": [
           {
            "marker": {
             "colorbar": {
              "outlinewidth": 0,
              "ticks": ""
             }
            },
            "type": "scattermapbox"
           }
          ],
          "scatterpolar": [
           {
            "marker": {
             "colorbar": {
              "outlinewidth": 0,
              "ticks": ""
             }
            },
            "type": "scatterpolar"
           }
          ],
          "scatterpolargl": [
           {
            "marker": {
             "colorbar": {
              "outlinewidth": 0,
              "ticks": ""
             }
            },
            "type": "scatterpolargl"
           }
          ],
          "scatterternary": [
           {
            "marker": {
             "colorbar": {
              "outlinewidth": 0,
              "ticks": ""
             }
            },
            "type": "scatterternary"
           }
          ],
          "surface": [
           {
            "colorbar": {
             "outlinewidth": 0,
             "ticks": ""
            },
            "colorscale": [
             [
              0,
              "#0d0887"
             ],
             [
              0.1111111111111111,
              "#46039f"
             ],
             [
              0.2222222222222222,
              "#7201a8"
             ],
             [
              0.3333333333333333,
              "#9c179e"
             ],
             [
              0.4444444444444444,
              "#bd3786"
             ],
             [
              0.5555555555555556,
              "#d8576b"
             ],
             [
              0.6666666666666666,
              "#ed7953"
             ],
             [
              0.7777777777777778,
              "#fb9f3a"
             ],
             [
              0.8888888888888888,
              "#fdca26"
             ],
             [
              1,
              "#f0f921"
             ]
            ],
            "type": "surface"
           }
          ],
          "table": [
           {
            "cells": {
             "fill": {
              "color": "#EBF0F8"
             },
             "line": {
              "color": "white"
             }
            },
            "header": {
             "fill": {
              "color": "#C8D4E3"
             },
             "line": {
              "color": "white"
             }
            },
            "type": "table"
           }
          ]
         },
         "layout": {
          "annotationdefaults": {
           "arrowcolor": "#2a3f5f",
           "arrowhead": 0,
           "arrowwidth": 1
          },
          "autotypenumbers": "strict",
          "coloraxis": {
           "colorbar": {
            "outlinewidth": 0,
            "ticks": ""
           }
          },
          "colorscale": {
           "diverging": [
            [
             0,
             "#8e0152"
            ],
            [
             0.1,
             "#c51b7d"
            ],
            [
             0.2,
             "#de77ae"
            ],
            [
             0.3,
             "#f1b6da"
            ],
            [
             0.4,
             "#fde0ef"
            ],
            [
             0.5,
             "#f7f7f7"
            ],
            [
             0.6,
             "#e6f5d0"
            ],
            [
             0.7,
             "#b8e186"
            ],
            [
             0.8,
             "#7fbc41"
            ],
            [
             0.9,
             "#4d9221"
            ],
            [
             1,
             "#276419"
            ]
           ],
           "sequential": [
            [
             0,
             "#0d0887"
            ],
            [
             0.1111111111111111,
             "#46039f"
            ],
            [
             0.2222222222222222,
             "#7201a8"
            ],
            [
             0.3333333333333333,
             "#9c179e"
            ],
            [
             0.4444444444444444,
             "#bd3786"
            ],
            [
             0.5555555555555556,
             "#d8576b"
            ],
            [
             0.6666666666666666,
             "#ed7953"
            ],
            [
             0.7777777777777778,
             "#fb9f3a"
            ],
            [
             0.8888888888888888,
             "#fdca26"
            ],
            [
             1,
             "#f0f921"
            ]
           ],
           "sequentialminus": [
            [
             0,
             "#0d0887"
            ],
            [
             0.1111111111111111,
             "#46039f"
            ],
            [
             0.2222222222222222,
             "#7201a8"
            ],
            [
             0.3333333333333333,
             "#9c179e"
            ],
            [
             0.4444444444444444,
             "#bd3786"
            ],
            [
             0.5555555555555556,
             "#d8576b"
            ],
            [
             0.6666666666666666,
             "#ed7953"
            ],
            [
             0.7777777777777778,
             "#fb9f3a"
            ],
            [
             0.8888888888888888,
             "#fdca26"
            ],
            [
             1,
             "#f0f921"
            ]
           ]
          },
          "colorway": [
           "#636efa",
           "#EF553B",
           "#00cc96",
           "#ab63fa",
           "#FFA15A",
           "#19d3f3",
           "#FF6692",
           "#B6E880",
           "#FF97FF",
           "#FECB52"
          ],
          "font": {
           "color": "#2a3f5f"
          },
          "geo": {
           "bgcolor": "white",
           "lakecolor": "white",
           "landcolor": "white",
           "showlakes": true,
           "showland": true,
           "subunitcolor": "#C8D4E3"
          },
          "hoverlabel": {
           "align": "left"
          },
          "hovermode": "closest",
          "mapbox": {
           "style": "light"
          },
          "paper_bgcolor": "white",
          "plot_bgcolor": "white",
          "polar": {
           "angularaxis": {
            "gridcolor": "#EBF0F8",
            "linecolor": "#EBF0F8",
            "ticks": ""
           },
           "bgcolor": "white",
           "radialaxis": {
            "gridcolor": "#EBF0F8",
            "linecolor": "#EBF0F8",
            "ticks": ""
           }
          },
          "scene": {
           "xaxis": {
            "backgroundcolor": "white",
            "gridcolor": "#DFE8F3",
            "gridwidth": 2,
            "linecolor": "#EBF0F8",
            "showbackground": true,
            "ticks": "",
            "zerolinecolor": "#EBF0F8"
           },
           "yaxis": {
            "backgroundcolor": "white",
            "gridcolor": "#DFE8F3",
            "gridwidth": 2,
            "linecolor": "#EBF0F8",
            "showbackground": true,
            "ticks": "",
            "zerolinecolor": "#EBF0F8"
           },
           "zaxis": {
            "backgroundcolor": "white",
            "gridcolor": "#DFE8F3",
            "gridwidth": 2,
            "linecolor": "#EBF0F8",
            "showbackground": true,
            "ticks": "",
            "zerolinecolor": "#EBF0F8"
           }
          },
          "shapedefaults": {
           "line": {
            "color": "#2a3f5f"
           }
          },
          "ternary": {
           "aaxis": {
            "gridcolor": "#DFE8F3",
            "linecolor": "#A2B1C6",
            "ticks": ""
           },
           "baxis": {
            "gridcolor": "#DFE8F3",
            "linecolor": "#A2B1C6",
            "ticks": ""
           },
           "bgcolor": "white",
           "caxis": {
            "gridcolor": "#DFE8F3",
            "linecolor": "#A2B1C6",
            "ticks": ""
           }
          },
          "title": {
           "x": 0.05
          },
          "xaxis": {
           "automargin": true,
           "gridcolor": "#EBF0F8",
           "linecolor": "#EBF0F8",
           "ticks": "",
           "title": {
            "standoff": 15
           },
           "zerolinecolor": "#EBF0F8",
           "zerolinewidth": 2
          },
          "yaxis": {
           "automargin": true,
           "gridcolor": "#EBF0F8",
           "linecolor": "#EBF0F8",
           "ticks": "",
           "title": {
            "standoff": 15
           },
           "zerolinecolor": "#EBF0F8",
           "zerolinewidth": 2
          }
         }
        }
       }
      },
      "image/png": "[encoded data removed]"
     },
     "metadata": {},
     "output_type": "display_data"
    },
    {
     "name": "stdout",
     "output_type": "stream",
     "text": [
      "Skewness: -0.0744, skewed to the left: there is a long tail of large negative outliers.\n",
      "Kurtosis: 8.0739, Excess kurtosis: 5.0739. This is a leptokurtic distribution: the tails are heavy, there is a high tail risk and hence usually more erratic returns.\n",
      " \n",
      "Variance: 9.7138\n",
      "Standard deviation: 3.1167\n",
      " \n",
      "AI financial analysis:\n"
     ]
    },
    {
     "data": {
      "text/markdown": [
       "✅ **Ollama analysis (using gpt-oss:20b):**\n",
       "\n",
       "1. Over the last 12 months NVIDIA’s share price has climbed from roughly $139 to $182 – a near‑30 % gain – yet the stock remains highly volatile, with monthly swings around 2.3 % and several sharp pullbacks. 2. Key strengths include its dominant GPU portfolio, robust cash‑flow generation and leading position in AI, while its weaknesses are a lofty valuation relative to peers, cyclical demand for chips, and exposure to supply‑chain bottlenecks and geopolitical tensions. 3. PESTEL analysis shows political headwinds (US‑China trade friction), economic uncertainty (interest‑rate sensitivity), rapid technological change (AI/ML demand), environmental pressure (energy‑intensive data‑centres) and regulatory scrutiny over data‑privacy and antitrust. 4. Given the client’s objective to pursue growth with an acceptable risk tolerance, I recommend a **buy/hold** stance, allocating a modest portion of the portfolio to NVDA while diversifying across other semiconductor and non‑tech assets. 5. If the client’s goal is capital preservation, a cautious **hold** with a stop‑loss around the recent low would be more prudent. 6. For a 60‑day horizon, the outlook is moderately bullish: AI‑driven demand should sustain upward momentum, but earnings releases, supply‑chain updates and macro‑policy moves could trigger short‑term volatility. 7. In practice, the stock is likely to trade within a range that reflects its current valuation premium, with upside potential limited by macro‑headwinds until a clear earnings beat materialises. 8. Overall, NVIDIA offers compelling upside if the investor can tolerate volatility and the current valuation, but it should be paired with a diversified strategy to mitigate sector‑specific risks."
      ],
      "text/plain": [
       "<IPython.core.display.Markdown object>"
      ]
     },
     "metadata": {},
     "output_type": "display_data"
    },
    {
     "data": {
      "text/html": [
       "<pre style=\"white-space:pre;overflow-x:auto;line-height:normal;font-family:Menlo,'DejaVu Sans Mono',consolas,'Courier New',monospace\"></pre>\n"
      ],
      "text/plain": []
     },
     "metadata": {},
     "output_type": "display_data"
    },
    {
     "name": "stdout",
     "output_type": "stream",
     "text": [
      "\u001b[36m╭─────────────────────────────────╮\u001b[0m                                                                                \n",
      "\u001b[36m│\u001b[0mII. Financial statements analysis\u001b[36m│\u001b[0m                                                                                \n",
      "\u001b[36m╰─────────────────────────────────╯\u001b[0m                                                                                \n",
      "\n",
      " \n",
      "Industry of your company: Semiconductors\n",
      " \n",
      "\u001b[1m\u001b[107m\u001b[34m   Profitability ratios:\u001b[0m\n",
      "|    | Metric                                           | 2025-01-31   | 2024-01-31   | 2023-01-31   | Description                       |\n",
      "|---:|:-------------------------------------------------|:-------------|:-------------|:-------------|:----------------------------------|\n",
      "|  0 | Gross profit margin                              | 74.99%       | 72.72%       | 56.93%       | Gross profit/ revenue             |\n",
      "|  1 | \u001b[34mGross profit margin variation\u001b[0m                    | \u001b[32m+3.12%\u001b[0m       | \u001b[32m+27.74%\u001b[0m      | ----         | \u001b[34mVariation of previous ratio\u001b[0m       |\n",
      "|  2 | Operating profit margin                          | 62.42%       | 54.12%       | 20.68%       | Operating income/ revenue         |\n",
      "|  3 | \u001b[34mOperating profit margin variation\u001b[0m                | \u001b[32m+15.34%\u001b[0m      | \u001b[32m+161.70%\u001b[0m     | ----         | \u001b[34mVariation of previous ratio\u001b[0m       |\n",
      "|  4 | Net profit margin                                | 55.85%       | 48.85%       | 16.19%       | Net income/ revenue               |\n",
      "|  5 | \u001b[34mNet profit margin variation\u001b[0m                      | \u001b[32m+14.33%\u001b[0m      | \u001b[32m+201.73%\u001b[0m     | ----         | \u001b[34mVariation of previous ratio\u001b[0m       |\n",
      "|  6 | --------                                         | --------     | --------     | --------     | ------------------------------    |\n",
      "|  7 | ROA (Return On Assets)                           | 65.30%       | 45.28%       | 10.61%       | Net income/ Total assets          |\n",
      "|  8 | \u001b[34mROA (Return On Assets) variation\u001b[0m                 | \u001b[32m+44.21%\u001b[0m      | \u001b[32m+326.77%\u001b[0m     | ----         | \u001b[34mVariation of previous ratio\u001b[0m       |\n",
      "|  9 | Operating return on assets                       | 72.99%       | 50.16%       | 13.54%       | Operating income/ total assets    |\n",
      "| 10 | \u001b[34mOperating return on assets variation\u001b[0m             | \u001b[32m+45.51%\u001b[0m      | \u001b[32m+270.46%\u001b[0m     | ----         | \u001b[34mVariation of previous ratio\u001b[0m       |\n",
      "| 11 | Simp.ROCE (Return On Capital Employed)           | 94.06%       | 63.06%       | 13.02%       | EBIT/ (total debt + Total equity) |\n",
      "| 12 | \u001b[34mSimp.ROCE (Return On Capital Employed) variation\u001b[0m | \u001b[32m+49.16%\u001b[0m      | \u001b[32m+384.33%\u001b[0m     | ----         | \u001b[34mVariation of previous ratio\u001b[0m       |\n",
      "| 13 | ROE (Return on Equity)                           | 91.87%       | 69.24%       | 19.76%       | Net income/ total equity          |\n",
      "| 14 | \u001b[34mROE (Return on Equity) variation\u001b[0m                 | \u001b[32m+32.68%\u001b[0m      | \u001b[32m+250.40%\u001b[0m     | ----         | \u001b[34mVariation of previous ratio\u001b[0m       |\n",
      " \n",
      "AI financial analysis on profitability ratios:\n"
     ]
    },
    {
     "data": {
      "text/markdown": [
       "✅ **Ollama analysis (using gpt-oss:20b):**\n",
       "\n",
       "In 2024‑25 the company’s profit margins surged, with a gross margin rising from 38 % to 43 % and operating margin from 30 % to 64 %, driven by a doubling of revenue and tighter cost control (particularly in R&D and SG&A). Net income more than doubled to $73 M, largely because of a one‑time gain and a strong operating cash‑flow performance that outpaced the modest capital outlays and share‑repurchase activity. The return‑on‑equity jump (from 14 % to 20 %) reflects the firm’s lower leverage (net debt fell to zero) and higher effective tax rate, indicating a healthier tax position than before. In its industry—a fast‑growing, cloud‑centric tech sector—competitors face intense price‑pressure, but the company’s focus on niche services and strong pricing power mitigates this risk. PESTEL analysis shows that data‑privacy and cybersecurity regulations are tightening, but the firm’s robust compliance framework positions it well to capitalize on the rising demand for secure cloud solutions. Economic headwinds such as rising input costs and supply‑chain bottlenecks are offset by the company’s efficient inventory management and improved working‑capital dynamics. Politically, stable trade relations in key markets reduce tariff risks, while social trends toward remote work further support the firm’s product relevance. Environmentally, the company’s modest capex and steady free‑cash‑flow indicate a gradual shift toward sustainability‑aligned investment, aligning with ESG expectations in its sector."
      ],
      "text/plain": [
       "<IPython.core.display.Markdown object>"
      ]
     },
     "metadata": {},
     "output_type": "display_data"
    },
    {
     "name": "stdout",
     "output_type": "stream",
     "text": [
      " \n",
      " \n",
      "\u001b[1m\u001b[107m\u001b[34m   Asset related ratios:\u001b[0m\n",
      "|    | Metric                          | 2025-01-31   | 2024-01-31   | 2023-01-31   | Description                                                 |\n",
      "|---:|:--------------------------------|:-------------|:-------------|:-------------|:------------------------------------------------------------|\n",
      "|  0 | Fixed assets turnover           | 16.16        | 11.58        | 5.57         | revenue/ net fixed assets                                   |\n",
      "|  1 | \u001b[34mFixed assets turnover variation\u001b[0m | \u001b[32m+39.55%\u001b[0m      | \u001b[32m+107.90%\u001b[0m     | ----         | \u001b[34mVariation of previous ratio\u001b[0m                                 |\n",
      "|  2 | Total asset turnover            | 1.17         | 0.93         | 0.65         | revenue/ total assets                                       |\n",
      "|  3 | \u001b[34mTotal asset turnover variation\u001b[0m  | \u001b[32m+25.81%\u001b[0m      | \u001b[32m+43.08%\u001b[0m      | ----         | \u001b[34mVariation of previous ratio\u001b[0m                                 |\n",
      "|  4 | Working capital turnover        | 272.46%      | 242.60%      | ----         | Total revenue/ Avg working capital using previous year data |\n",
      " \n",
      "AI financial analysis on asset ratios ratios:\n"
     ]
    },
    {
     "data": {
      "text/markdown": [
       "✅ **Ollama analysis (using gpt-oss:20b):**\n",
       "\n",
       "NVIDIA’s fixed‑asset turnover of 16.16 in 2025 reflects a highly efficient use of its capital‑intensive semiconductor plant, a 39.6 % jump from 2024, while total‑asset turnover of 1.17 (up 25.8 %) shows that the firm’s operating cash flow of €64 bn is largely driven by high‑margin GPU and AI‑chip sales rather than heavy inventory or R&D expenditures.  The 2025 working‑capital change of –€9.4 bn demonstrates disciplined cash‑conversion and a tightening of receivables, supported by a free‑cash‑flow surge to €60.9 bn versus €27.0 bn the year before, indicating robust liquidity and the ability to fund the €33.7 bn share‑repurchase program without distorting the debt‑equity balance.  Debt‑to‑asset and debt‑to‑cash ratios, with total debt at $10.27 bn and free cash flow generating $60.9 bn, suggest a comfortable coverage of the €1.25 bn debt repayment and a net‑positive cash‑position growth to $8.59 bn, mitigating leverage risk in an industry where margins can be volatile.  In the broader AI‑driven GPU market, NVIDIA remains the clear leader, but its high asset‑turnover figures also mask a rising CAPEX intensity (‑$3.24 bn in 2025) that could pressure future cash‑flow if supply‑chain constraints or price competition intensify.  PESTEL analysis points to a favourable macro backdrop: strong U.S. tech policy support and high consumer demand for AI, but heightened geopolitical tensions and semiconductor export controls could restrict access to critical raw materials or limit market expansion in China.  Technological disruptions—particularly the shift toward edge computing and new GPU‑light architectures—pose both opportunity (expansion into automotive and data‑center AI) and risk (rapid obsolescence if rivals leapfrog in chip efficiency).  Environmental and regulatory scrutiny over power usage and carbon emissions is already influencing NVIDIA’s capital‑expenditure decisions, as evidenced by the €3.24 bn CAPEX and the €4.48 bn deferred‑tax charge, underscoring the need to balance growth with sustainability commitments.  Overall, NVIDIA’s asset ratios demonstrate superior operational efficiency and liquidity, but the firm must navigate supply‑chain volatility, geopolitical headwinds, and evolving AI regulations to sustain its competitive edge in the high‑growth but highly cyclical semiconductor sector."
      ],
      "text/plain": [
       "<IPython.core.display.Markdown object>"
      ]
     },
     "metadata": {},
     "output_type": "display_data"
    },
    {
     "name": "stdout",
     "output_type": "stream",
     "text": [
      " \n",
      " \n",
      "\u001b[1m\u001b[107m\u001b[34m   Liquidity ratios:\u001b[0m\n",
      "|    | Metric                               | 2025-01-31   | 2024-01-31   | 2023-01-31   | Description                                             |\n",
      "|---:|:-------------------------------------|:-------------|:-------------|:-------------|:--------------------------------------------------------|\n",
      "|  0 | Full current ratio                   | 4.44         | 4.17         | 3.52         | Uses total current assets, better for sector comparison |\n",
      "|  1 | \u001b[34mFull current ratio variation\u001b[0m         | \u001b[32m+6.47%\u001b[0m       | \u001b[32m+18.47%\u001b[0m      | ----         | \u001b[34mVariation of previous ratio\u001b[0m                             |\n",
      "|  2 | Conservative current ratio           | 4.23         | 3.88         | 3.4          | Takes in count cash/receivables/inventory only.         |\n",
      "|  3 | \u001b[34mConservative current ratio variation\u001b[0m | \u001b[32m+9.02%\u001b[0m       | \u001b[32m+14.12%\u001b[0m      | ----         | \u001b[34mVariation of previous ratio\u001b[0m                             |\n",
      "|  4 | Quick ratio                          | 3.67         | 3.38         | 2.61         | Current ratio without inventory                         |\n",
      "|  5 | \u001b[34mQuick ratio variation\u001b[0m                | \u001b[32m+8.58%\u001b[0m       | \u001b[32m+29.50%\u001b[0m      | ----         | \u001b[34mVariation of previous ratio\u001b[0m                             |\n",
      "|  6 | Cash ratio                           | 2.39         | 2.44         | 2.03         | Current ratio without inventory/ receivables            |\n",
      "|  7 | \u001b[34mCash ratio variation\u001b[0m                 | \u001b[31m-2.05%\u001b[0m       | \u001b[32m+20.20%\u001b[0m      | ----         | \u001b[34mVariation of previous ratio\u001b[0m                             |\n",
      " \n",
      "AI financial analysis on liquidity ratios:\n"
     ]
    },
    {
     "data": {
      "text/markdown": [
       "✅ **Ollama analysis (using gpt-oss:20b):**\n",
       "\n",
       "NVIDIA’s current ratio of 6.07 in 2025 shows ample short‑term liquidity, but the quick ratio’s decline from 4.70 to 1.82 over three years signals a growing reliance on short‑term investments that may not be instantly liquid if market conditions deteriorate. The firm now holds $43.21 B in cash and short‑term investments, a jump from $25.98 B, and its free cash flow surged to $60.85 B in 2025 versus $27.02 B in 2024, underscoring a strong operating cash cushion. NVIDIA’s aggressive share‑repurchase programme—$33.71 B in 2025 versus $9.53 B in 2024—temporarily strains cash balances, yet this is largely offset by robust operating cash flow of $64.09 B. Net debt fell sharply from $7.56 B in 2023 to $2.43 B in 2024, indicating the company’s capacity to refinance and reduce leverage. In the semiconductor sector, US‑China trade tensions threaten the supply chain, potentially inflating inventory and receivables. The PESTEL landscape—rising global inflation, tightening monetary policy, and heightened regulatory scrutiny on AI data usage and export controls—could elevate borrowing costs and constrain NVIDIA’s GPU business. Rapid shifts toward cloud‑based AI workloads pressure NVIDIA to sustain R&D spending and invest in new manufacturing fabs, further testing liquidity. While NVIDIA enjoys solid short‑term liquidity and strong cash generation, it must vigilantly manage share repurchases, debt levels, and geopolitical supply risks to preserve its liquidity amid a volatile macroeconomic and regulatory backdrop."
      ],
      "text/plain": [
       "<IPython.core.display.Markdown object>"
      ]
     },
     "metadata": {},
     "output_type": "display_data"
    },
    {
     "name": "stdout",
     "output_type": "stream",
     "text": [
      " \n",
      " \n",
      "\u001b[1m\u001b[107m\u001b[34m   Solvency ratios:\u001b[0m\n",
      " \n",
      "\u001b[1m\u001b[34m      Level of debt ratios:\u001b[0m\n",
      "|    | Metric                             | 2025-01-31   | 2024-01-31   | 2023-01-31   | Description                                         |\n",
      "|---:|:-----------------------------------|:-------------|:-------------|:-------------|:----------------------------------------------------|\n",
      "|  0 | Debt to assets ratio               | 0.32         | 0.49         | 0.63         | Total debt/ total assets                            |\n",
      "|  1 | \u001b[34mDebt to assets ratio variation\u001b[0m     | \u001b[32m-34.69%\u001b[0m      | \u001b[32m-22.22%\u001b[0m      | ----         | \u001b[34mVariation of previous ratio\u001b[0m                         |\n",
      "|  2 | Debt to capital ratio              | 0.11         | 0.2          | 0.35         | Total debt/(total debt + total shareholders equity) |\n",
      "|  3 | \u001b[34mDebt to capital ratio variation\u001b[0m    | \u001b[32m-45.00%\u001b[0m      | \u001b[32m-42.86%\u001b[0m      | ----         | \u001b[34mVariation of previous ratio\u001b[0m                         |\n",
      "|  4 | Debt to equity ratio               | 0.13         | 0.26         | 0.54         | Total debt/ total shareholders equity               |\n",
      "|  5 | \u001b[34mDebt to equity ratio variation\u001b[0m     | \u001b[32m-50.00%\u001b[0m      | \u001b[32m-51.85%\u001b[0m      | ----         | \u001b[34mVariation of previous ratio\u001b[0m                         |\n",
      "|  6 | Financial leverage ratio           | 1.41         | 1.53         | 1.86         | Total assets/ total equity. Higher=more debt used   |\n",
      "|  7 | \u001b[34mFinancial leverage ratio variation\u001b[0m | \u001b[32m-7.84%\u001b[0m       | \u001b[32m-17.74%\u001b[0m      | ----         | \u001b[34mVariation of previous ratio\u001b[0m                         |\n",
      " \n",
      "AI financial analysis on level of debt ratios:\n"
     ]
    },
    {
     "data": {
      "text/markdown": [
       "✅ **Ollama analysis (using gpt-oss:20b):**\n",
       "\n",
       "Nvidia’s debt‑to‑equity has eased from 1.32 in 2023 to 1.27 in 2024, yet the company still carries $12 billion in total debt, with net debt rising from $7.6 billion in 2023 to $2.4 billion in 2024 as it continues to service and repurchase stock. The free‑cash‑flow jump from $27 billion to $61 billion in 2025 comfortably exceeds debt repayments and supports aggressive share buy‑backs, masking that the company’s leverage remains high despite ratio improvements. However, the semiconductor sector still faces global supply‑chain bottlenecks and escalating raw‑material costs, which could squeeze Nvidia’s operating margins and reduce its ability to sustain the current debt level. U.S.–China trade tensions threaten access to key components and markets, while geopolitical friction in Eastern Europe risks further supply‑chain disruptions. The PESTEL backdrop—elevated U.S. inflation, tightening monetary policy, and stricter EU environmental regulations—raises borrowing costs and caps capital‑expenditure, tightening Nvidia’s liquidity cushion. Legal scrutiny over recent acquisitions may delay integration and increase financing costs, while antitrust investigations could delay product roll‑outs in high‑growth AI segments. In sum, Nvidia’s debt profile appears manageable under present conditions, but the convergence of supply‑chain fragility, geopolitical volatility, and tightening regulatory and monetary environments could compress margins and pressure the firm’s liquidity that underpins its debt strategy."
      ],
      "text/plain": [
       "<IPython.core.display.Markdown object>"
      ]
     },
     "metadata": {},
     "output_type": "display_data"
    },
    {
     "name": "stdout",
     "output_type": "stream",
     "text": [
      " \n",
      " \n",
      "\u001b[1m\u001b[34m      Coverage ratios:\u001b[0m\n",
      "|    | Metric                      | 2025-01-31   | 2024-01-31   | 2023-01-31   | Description                                            |\n",
      "|---:|:----------------------------|:-------------|:-------------|:-------------|:-------------------------------------------------------|\n",
      "|  0 | Interest coverage           | 341.19       | 132.59       | 16.96        | EBIT/ interest payments. Ability to pay debt interests |\n",
      "|  1 | \u001b[34mInterest coverage variation\u001b[0m | \u001b[32m+157.33%\u001b[0m     | \u001b[32m+681.78%\u001b[0m     | ----         | \u001b[34mVariation of previous ratio\u001b[0m                            |\n",
      "|  2 | Debt to EBITDA              | 0.12         | 0.31         | 2.01         | Number of years to pay off debt from earnings          |\n",
      "|  3 | \u001b[34mDebt to EBITDA variation\u001b[0m    | \u001b[32m-61.29%\u001b[0m      | \u001b[32m-84.58%\u001b[0m      | ----         | \u001b[34mVariation of previous ratio\u001b[0m                            |\n",
      " \n",
      "AI financial analysis on coverage ratios:\n"
     ]
    },
    {
     "data": {
      "text/markdown": [
       "✅ **Ollama analysis (using gpt-oss:20b):**\n",
       "\n",
       "1. NVIDIA’s interest coverage has surged from roughly 27× in 2024 to about 61× in 2025, reflecting an explosive earnings growth, yet this figure masks the fact that the underlying cash‑flow engine—free cash flow—only grew modestly from $27 bn to $61 bn, leaving a narrow cushion against a sudden slowdown in data‑center demand.  \n",
       "2. The debt‑to‑EBITDA ratio fell from 11.1× to 10.3×, signaling lower leverage, but the metric conceals the company’s aggressive $33.7 bn stock‑repurchase program that has tightened the equity base, thereby inflating the ratio in a way that does not capture the potential dilution of earnings per share.  \n",
       "3. Total debt remains high at $10.3 bn, yet NVIDIA’s cash and short‑term investment pool has more than doubled to $43.2 bn, providing a robust buffer that the coverage ratios alone would not reveal.  \n",
       "4. The semiconductor sector is riding a wave of AI, gaming, and autonomous‑vehicle demand, yet U.S.‑China trade tensions and export‑control tightening threaten to curtail supply‑chain stability, subtly eroding projected revenue growth that the static ratios overlook.  \n",
       "5. Energy price volatility and the global push for ESG‑compliant chip manufacturing could squeeze operating margins, yet NVIDIA’s recent capital‑expenditure cuts signal a deliberate focus on cost discipline that could sustain profitability.  \n",
       "6. In a PESTEL context, regulatory scrutiny over AI data privacy, geopolitical risks in the Indo‑Pacific, and the rise of green‑chip mandates create both opportunities and headwinds that a simple debt‑coverage snapshot cannot capture.  \n",
       "7. While the interest‑coverage ratio looks dazzling, it largely reflects past earnings momentum and does not fully account for the cyclical nature of gaming and the risk‑adjusted nature of data‑center demand.  \n",
       "8. Overall, NVIDIA’s strong cash generation and low leverage are attractive, but a young investor should weigh sector volatility, geopolitical constraints, and regulatory headwinds before committing."
      ],
      "text/plain": [
       "<IPython.core.display.Markdown object>"
      ]
     },
     "metadata": {},
     "output_type": "display_data"
    },
    {
     "name": "stdout",
     "output_type": "stream",
     "text": [
      " \n",
      " \n",
      "\u001b[1m\u001b[107m\u001b[34m   Cash flows calculations: Operational ratios:\u001b[0m\n",
      "|    | Metric                                  | 2025-01-31   | 2024-01-31   | 2023-01-31   | Description                                         |\n",
      "|---:|:----------------------------------------|:-------------|:-------------|:-------------|:----------------------------------------------------|\n",
      "|  0 | CFI: Investing Cashflow                 | -20.42       | -10.57       | 7.38         | cash received on asset sales - investment in assets |\n",
      "|  1 | \u001b[34mCFI: Investing Cashflow variation\u001b[0m       | \u001b[31m-93.19%\u001b[0m      | \u001b[31m-243.22%\u001b[0m     | ----         | \u001b[34mVariation of previous ratio\u001b[0m                         |\n",
      "|  2 | CFF: Financing Cashflow                 | -42.36       | -13.63       | -11.62       | change in debt/common stock + cash dividends paid   |\n",
      "|  3 | \u001b[34mCFF: Financing Cashflow variation\u001b[0m       | \u001b[31m-210.79%\u001b[0m     | \u001b[31m-17.30%\u001b[0m      | ----         | \u001b[34mVariation of previous ratio\u001b[0m                         |\n",
      "|  4 | CFO: Cashflow from Operations           | 64.09        | 28.09        | 5.64         | Qualitative if higher than reported earnings        |\n",
      "|  5 | \u001b[34mCFO: Cashflow from Operations variation\u001b[0m | \u001b[32m+128.16%\u001b[0m     | \u001b[32m+398.05%\u001b[0m     | ----         | \u001b[34mVariation of previous ratio\u001b[0m                         |\n",
      "|  6 | --------                                | --------     | --------     | --------     | ------------------------------                      |\n",
      "|  7 | CFO to revenue                          | 0.49         | 0.46         | 0.21         | CFO/ net revenue                                    |\n",
      "|  8 | \u001b[34mCFO to revenue variation\u001b[0m                | \u001b[32m+6.52%\u001b[0m       | \u001b[32m+119.05%\u001b[0m     | ----         | \u001b[34mVariation of previous ratio\u001b[0m                         |\n",
      "|  9 | Cash return on assets                   | 0.57         | 0.43         | 0.14         | CFO/ total assets                                   |\n",
      "| 10 | \u001b[34mCash return on assets variation\u001b[0m         | \u001b[32m+32.56%\u001b[0m      | \u001b[32m+207.14%\u001b[0m     | ----         | \u001b[34mVariation of previous ratio\u001b[0m                         |\n",
      "| 11 | Debt coverage                           | 6.24         | 2.54         | 0.47         | CFO/ total debt                                     |\n",
      "| 12 | \u001b[34mDebt coverage variation\u001b[0m                 | \u001b[32m+145.67%\u001b[0m     | \u001b[32m+440.43%\u001b[0m     | ----         | \u001b[34mVariation of previous ratio\u001b[0m                         |\n",
      " \n",
      "AI financial analysis on solvency ratios:\n"
     ]
    },
    {
     "data": {
      "text/markdown": [
       "✅ **Ollama analysis (using gpt-oss:20b):**\n",
       "\n",
       "The company’s solvency is stronger than its raw ratios imply: net debt is only $2.43 m in 2024 and equity remains roughly $24 m, giving a debt‑to‑equity ratio well below industry norms for a high‑growth tech firm. Operating cash flow of $64 m in 2024 demonstrates robust liquidity, yet the recent large share repurchases (≈$34 m) and $1.25 m debt repayments erode that cushion, exposing the firm to refinancing risk should interest rates rise. Within its sector—cloud‑based infrastructure—intense competition from large incumbents and the need for continual R&D spending mean that a modest $3.2 m CAPEX is insufficient to maintain market share without additional capital. Politically, tightening data‑privacy regulations in key markets (e.g., GDPR and upcoming U.S. privacy bills) could increase compliance costs, squeezing margins further. Economically, a global slowdown and rising commodity prices have already raised cost of goods sold, but the firm’s strong gross profit margin (≈$43 m) buffers this pressure. Technologically, rapid AI and edge‑computing developments present both a growth opportunity and a capital‑intensive threat that may require additional borrowing beyond the current $2.43 m debt. Environmentally, the firm’s modest deferred tax outflows and modest carbon‑neutral initiatives hint at a nascent but growing ESG focus, which could attract investors yet also bring scrutiny. Overall, while solvency remains acceptable, the company’s heavy reliance on share repurchases, rising R&D costs, and regulatory uncertainty in the PESTEL landscape suggest cautious optimism for its near‑term financial health."
      ],
      "text/plain": [
       "<IPython.core.display.Markdown object>"
      ]
     },
     "metadata": {},
     "output_type": "display_data"
    },
    {
     "name": "stdout",
     "output_type": "stream",
     "text": [
      " \n",
      "\u001b[1m\u001b[107m\u001b[34m   Bankrupcy and financial health scores:\u001b[0m\n",
      "|    | Metric                   | 2025-01-31   | 2024-01-31   | 2023-01-31   | Description                                               |\n",
      "|---:|:-------------------------|:-------------|:-------------|:-------------|:----------------------------------------------------------|\n",
      "|  0 | Altman Z-score           | 6.66         | 5.02         | 2.53         | Safe > 3, distress < 1.8. For manufacturing firms mainly. |\n",
      "|  1 | \u001b[34mAltman Z-score variation\u001b[0m | \u001b[32m+32.67%\u001b[0m      | \u001b[32m+98.42%\u001b[0m      | ----         | \u001b[34mVariation of previous ratio\u001b[0m                               |\n",
      "|  2 | Ohlson O-score           | -4.87        | -3.51        | -1.09        | Broader. Good if < 0.5                                    |\n",
      "|  3 | \u001b[34mOhlson O-score variation\u001b[0m | \u001b[32m-38.75%\u001b[0m      | \u001b[32m-222.02%\u001b[0m     | ----         | \u001b[34mVariation of previous ratio\u001b[0m                               |\n",
      " \n",
      "AI financial analysis on bankrupcy scores ratios:\n"
     ]
    },
    {
     "data": {
      "text/markdown": [
       "✅ **Ollama analysis (using gpt-oss:20b):**\n",
       "\n",
       "1. NVIDIA’s Altman Z‑score rose to 6.66 in the first quarter of FY‑25, up from 5.02 the year before, well above the safety threshold of 3 and indicating a very low bankruptcy probability.  \n",
       "2. The Ohlson O‑score remains negative (probability of default < 10 %), confirming that the firm’s leverage and profitability metrics place it firmly in the “no‑risk” zone.  \n",
       "3. Operating earnings surged to $72.88 bn with free cash flow exceeding $60 bn, while net debt collapsed to zero after large share‑repurchase programmes, underscoring strong liquidity and an absence of immediate debt‑servicing pressure.  \n",
       "4. NVIDIA’s leadership in AI‑driven GPUs, gaming, and automotive inference keeps its revenue mix above the semiconductor median, insulating it from typical cycle swings.  \n",
       "5. Politically, U.S. export controls on advanced silicon to China threaten about a 30 % revenue slice, yet U.S.‑centric AI‑infrastructure spending largely offsets that exposure.  \n",
       "6. Economically, rising interest rates and supply‑chain bottlenecks are mitigated by ample cash reserves and diversified funding, preserving capital‑raising flexibility.  \n",
       "7. Technologically, the shift toward edge AI, autonomous vehicles, and cloud‑based ML presents high‑margin growth, but intensifying rivalry from AMD, Intel, and new entrants could compress GPU pricing.  \n",
       "8. Within the PESTEL backdrop—stricter carbon‑emission rules, heightened antitrust scrutiny, and evolving consumer data‑privacy expectations—NVIDIA’s robust ESG commitments and sustained R&D investment keep its bankruptcy risk negligible while positioning it for long‑term resilience."
      ],
      "text/plain": [
       "<IPython.core.display.Markdown object>"
      ]
     },
     "metadata": {},
     "output_type": "display_data"
    },
    {
     "name": "stdout",
     "output_type": "stream",
     "text": [
      " \n"
     ]
    },
    {
     "data": {
      "text/html": [
       "<pre style=\"white-space:pre;overflow-x:auto;line-height:normal;font-family:Menlo,'DejaVu Sans Mono',consolas,'Courier New',monospace\"></pre>\n"
      ],
      "text/plain": []
     },
     "metadata": {},
     "output_type": "display_data"
    },
    {
     "name": "stdout",
     "output_type": "stream",
     "text": [
      "\u001b[36m╭────────────────────────────────────────╮\u001b[0m                                                                         \n",
      "\u001b[36m│\u001b[0mAppendix: Financial statements in detail\u001b[36m│\u001b[0m                                                                         \n",
      "\u001b[36m╰────────────────────────────────────────╯\u001b[0m                                                                         \n",
      "\n"
     ]
    },
    {
     "data": {
      "text/html": [
       "<pre style=\"white-space:pre;overflow-x:auto;line-height:normal;font-family:Menlo,'DejaVu Sans Mono',consolas,'Courier New',monospace\"></pre>\n"
      ],
      "text/plain": []
     },
     "metadata": {},
     "output_type": "display_data"
    },
    {
     "name": "stdout",
     "output_type": "stream",
     "text": [
      "\u001b[37m╭─────────────────────────────────────────╮\u001b[0m                                                                        \n",
      "\u001b[37m│\u001b[0mIncome statement (expressed in Billions):\u001b[37m│\u001b[0m                                                                        \n",
      "\u001b[37m╰─────────────────────────────────────────╯\u001b[0m                                                                        \n",
      "\n",
      "|                                                            |   2025-01-31 |   2024-01-31 |   2023-01-31 |\n",
      "|:-----------------------------------------------------------|-------------:|-------------:|-------------:|\n",
      "| Tax Effect Of Unusual Items                                |     0        |     0        |    -0.28413  |\n",
      "| Tax Rate For Calcs                                         |     1.33e-10 |     1.2e-10  |     2.1e-10  |\n",
      "| Normalized EBITDA                                          |    86.137    |    35.583    |     7.339    |\n",
      "| Total Unusual Items                                        |     0        |     0        |    -1.353    |\n",
      "| Total Unusual Items Excluding Goodwill                     |     0        |     0        |    -1.353    |\n",
      "| Net Income From Continuing Operation Net Minority Interest |    72.88     |    29.76     |     4.368    |\n",
      "| Reconciled Depreciation                                    |     1.864    |     1.508    |     1.543    |\n",
      "| Reconciled Cost Of Revenue                                 |    32.639    |    16.621    |    11.618    |\n",
      "| EBITDA                                                     |    86.137    |    35.583    |     5.986    |\n",
      "| EBIT                                                       |    84.273    |    34.075    |     4.443    |\n",
      "| Net Interest Income                                        |     1.539    |     0.609    |     0.005    |\n",
      "| Interest Expense                                           |     0.247    |     0.257    |     0.262    |\n",
      "| Interest Income                                            |     1.786    |     0.866    |     0.267    |\n",
      "| Normalized Income                                          |    72.88     |    29.76     |     5.43687  |\n",
      "| Net Income From Continuing And Discontinued Operation      |    72.88     |    29.76     |     4.368    |\n",
      "| Total Expenses                                             |    49.044    |    27.95     |    21.397    |\n",
      "| Total Operating Income As Reported                         |    81.453    |    32.972    |     4.224    |\n",
      "| Diluted Average Shares                                     |    24.804    |    24.94     |    25.07     |\n",
      "| Basic Average Shares                                       |    24.555    |    24.69     |    24.87     |\n",
      "| Diluted EPS                                                |     2.94e-09 |     1.19e-09 |     1.74e-10 |\n",
      "| Basic EPS                                                  |     2.97e-09 |     1.21e-09 |     1.76e-10 |\n",
      "| Diluted NI Availto Com Stockholders                        |    72.88     |    29.76     |     4.368    |\n",
      "| Net Income Common Stockholders                             |    72.88     |    29.76     |     4.368    |\n",
      "| Net Income                                                 |    72.88     |    29.76     |     4.368    |\n",
      "| Net Income Including Noncontrolling Interests              |    72.88     |    29.76     |     4.368    |\n",
      "| Net Income Continuous Operations                           |    72.88     |    29.76     |     4.368    |\n",
      "| Tax Provision                                              |    11.146    |     4.058    |    -0.187    |\n",
      "| Pretax Income                                              |    84.026    |    33.818    |     4.181    |\n",
      "| Other Income Expense                                       |     1.034    |     0.237    |    -1.401    |\n",
      "| Other Non Operating Income Expenses                        |     1.034    |     0.237    |    -0.048    |\n",
      "| Special Income Charges                                     |     0        |     0        |    -1.353    |\n",
      "| Restructuring And Mergern Acquisition                      |     0        |     0        |     1.353    |\n",
      "| Net Non Operating Interest Income Expense                  |     1.539    |     0.609    |     0.005    |\n",
      "| Interest Expense Non Operating                             |     0.247    |     0.257    |     0.262    |\n",
      "| Interest Income Non Operating                              |     1.786    |     0.866    |     0.267    |\n",
      "| Operating Income                                           |    81.453    |    32.972    |     5.577    |\n",
      "| Operating Expense                                          |    16.405    |    11.329    |     9.779    |\n",
      "| Research And Development                                   |    12.914    |     8.675    |     7.339    |\n",
      "| Selling General And Administration                         |     3.491    |     2.654    |     2.44     |\n",
      "| Gross Profit                                               |    97.858    |    44.301    |    15.356    |\n",
      "| Cost Of Revenue                                            |    32.639    |    16.621    |    11.618    |\n",
      "| Total Revenue                                              |   130.497    |    60.922    |    26.974    |\n",
      "| Operating Revenue                                          |   130.497    |    60.922    |    26.974    |\n"
     ]
    },
    {
     "data": {
      "text/html": [
       "<pre style=\"white-space:pre;overflow-x:auto;line-height:normal;font-family:Menlo,'DejaVu Sans Mono',consolas,'Courier New',monospace\"></pre>\n"
      ],
      "text/plain": []
     },
     "metadata": {},
     "output_type": "display_data"
    },
    {
     "name": "stdout",
     "output_type": "stream",
     "text": [
      "\u001b[37m╭──────────────────────────────────────╮\u001b[0m                                                                           \n",
      "\u001b[37m│\u001b[0mBalance sheet (expressed in Billions):\u001b[37m│\u001b[0m                                                                           \n",
      "\u001b[37m╰──────────────────────────────────────╯\u001b[0m                                                                           \n",
      "\n",
      "|                                                     |   2025-01-31 |   2024-01-31 |   2023-01-31 |\n",
      "|:----------------------------------------------------|-------------:|-------------:|-------------:|\n",
      "| Treasury Shares Number                              |      nan     |      nan     |     nan      |\n",
      "| Ordinary Shares Number                              |       24.477 |       24.64  |      24.6614 |\n",
      "| Share Issued                                        |       24.477 |       24.64  |      24.6614 |\n",
      "| Net Debt                                            |      nan     |        2.429 |       7.564  |\n",
      "| Total Debt                                          |       10.27  |       11.056 |      12.031  |\n",
      "| Tangible Book Value                                 |       73.332 |       37.436 |      16.053  |\n",
      "| Invested Capital                                    |       87.79  |       52.687 |      33.054  |\n",
      "| Working Capital                                     |       62.079 |       33.714 |      16.51   |\n",
      "| Net Tangible Assets                                 |       73.332 |       37.436 |      16.053  |\n",
      "| Capital Lease Obligations                           |        1.807 |        1.347 |       1.078  |\n",
      "| Common Stock Equity                                 |       79.327 |       42.978 |      22.101  |\n",
      "| Total Capitalization                                |       87.79  |       51.437 |      31.804  |\n",
      "| Total Equity Gross Minority Interest                |       79.327 |       42.978 |      22.101  |\n",
      "| Stockholders Equity                                 |       79.327 |       42.978 |      22.101  |\n",
      "| Gains Losses Not Affecting Retained Earnings        |        0.028 |        0.027 |      -0.043  |\n",
      "| Other Equity Adjustments                            |        0.028 |        0.027 |      -0.043  |\n",
      "| Treasury Stock                                      |      nan     |      nan     |     nan      |\n",
      "| Retained Earnings                                   |       68.038 |       29.817 |      10.171  |\n",
      "| Additional Paid In Capital                          |       11.237 |       13.109 |      11.971  |\n",
      "| Capital Stock                                       |        0.024 |        0.025 |       0.002  |\n",
      "| Common Stock                                        |        0.024 |        0.025 |       0.002  |\n",
      "| Preferred Stock                                     |        0     |        0     |       0      |\n",
      "| Total Liabilities Net Minority Interest             |       32.274 |       22.75  |      19.081  |\n",
      "| Total Non Current Liabilities Net Minority Interest |       14.227 |       12.119 |      12.518  |\n",
      "| Other Non Current Liabilities                       |        0.079 |        0.065 |       0.063  |\n",
      "| Employee Benefits                                   |      nan     |      nan     |     nan      |\n",
      "| Tradeand Other Payables Non Current                 |        2.304 |        1.441 |       1.385  |\n",
      "| Non Current Deferred Liabilities                    |        1.862 |        1.035 |       0.465  |\n",
      "| Non Current Deferred Revenue                        |        0.976 |        0.573 |       0.218  |\n",
      "| Non Current Deferred Taxes Liabilities              |        0.886 |        0.462 |       0.247  |\n",
      "| Long Term Debt And Capital Lease Obligation         |        9.982 |        9.578 |      10.605  |\n",
      "| Long Term Capital Lease Obligation                  |        1.519 |        1.119 |       0.902  |\n",
      "| Long Term Debt                                      |        8.463 |        8.459 |       9.703  |\n",
      "| Current Liabilities                                 |       18.047 |       10.631 |       6.563  |\n",
      "| Other Current Liabilities                           |        0.228 |        0.199 |       0.069  |\n",
      "| Current Deferred Liabilities                        |        0.837 |        0.764 |       0.354  |\n",
      "| Current Deferred Revenue                            |        0.837 |        0.764 |       0.354  |\n",
      "| Current Debt And Capital Lease Obligation           |        0.288 |        1.478 |       1.426  |\n",
      "| Current Capital Lease Obligation                    |        0.288 |        0.228 |       0.176  |\n",
      "| Current Debt                                        |      nan     |        1.25  |       1.25   |\n",
      "| Other Current Borrowings                            |      nan     |        1.25  |       1.25   |\n",
      "| Current Provisions                                  |        1.373 |        0.415 |       0.108  |\n",
      "| Payables And Accrued Expenses                       |       15.321 |        7.775 |       4.606  |\n",
      "| Current Accrued Expenses                            |        8.13  |        4.78  |       2.946  |\n",
      "| Interest Payable                                    |      nan     |      nan     |     nan      |\n",
      "| Payables                                            |        7.191 |        2.995 |       1.66   |\n",
      "| Total Tax Payable                                   |        0.881 |        0.296 |       0.467  |\n",
      "| Accounts Payable                                    |        6.31  |        2.699 |       1.193  |\n",
      "| Total Assets                                        |      111.601 |       65.728 |      41.182  |\n",
      "| Total Non Current Assets                            |       31.475 |       21.383 |      18.109  |\n",
      "| Other Non Current Assets                            |        0.201 |        0.357 |       0.145  |\n",
      "| Non Current Prepaid Assets                          |        2.087 |        2.822 |       3.376  |\n",
      "| Non Current Deferred Assets                         |       10.979 |        6.081 |       3.396  |\n",
      "| Non Current Deferred Taxes Assets                   |       10.979 |        6.081 |       3.396  |\n",
      "| Non Current Accounts Receivable                     |        0.75  |      nan     |     nan      |\n",
      "| Investments And Advances                            |        3.387 |        1.321 |       0.299  |\n",
      "| Other Investments                                   |      nan     |        1.546 |       0.299  |\n",
      "| Investmentin Financial Assets                       |        3.387 |        1.321 |     nan      |\n",
      "| Available For Sale Securities                       |        3.387 |        1.321 |     nan      |\n",
      "| Goodwill And Other Intangible Assets                |        5.995 |        5.542 |       6.048  |\n",
      "| Other Intangible Assets                             |        0.807 |        1.112 |       1.676  |\n",
      "| Goodwill                                            |        5.188 |        4.43  |       4.372  |\n",
      "| Net PPE                                             |        8.076 |        5.26  |       4.845  |\n",
      "| Accumulated Depreciation                            |       -4.401 |       -3.509 |      -2.694  |\n",
      "| Gross PPE                                           |       12.477 |        8.769 |       7.539  |\n",
      "| Leases                                              |      nan     |      nan     |     nan      |\n",
      "| Construction In Progress                            |        0.529 |        0.189 |       0.382  |\n",
      "| Other Properties                                    |        1.793 |        1.346 |       1.038  |\n",
      "| Machinery Furniture Equipment                       |        7.568 |        5.2   |       4.303  |\n",
      "| Buildings And Improvements                          |        2.076 |        1.816 |       1.598  |\n",
      "| Land And Improvements                               |        0.511 |        0.218 |       0.218  |\n",
      "| Properties                                          |        0     |        0     |       0      |\n",
      "| Current Assets                                      |       80.126 |       44.345 |      23.073  |\n",
      "| Other Current Assets                                |        3.771 |        3.08  |       0.791  |\n",
      "| Prepaid Assets                                      |      nan     |      nan     |     nan      |\n",
      "| Inventory                                           |       10.08  |        5.282 |       5.159  |\n",
      "| Finished Goods                                      |        3.273 |        2.058 |       2.263  |\n",
      "| Work In Process                                     |        3.399 |        1.505 |       0.466  |\n",
      "| Raw Materials                                       |        3.408 |        1.719 |       2.43   |\n",
      "| Receivables                                         |       23.065 |        9.999 |       3.827  |\n",
      "| Accounts Receivable                                 |       23.065 |        9.999 |       3.827  |\n",
      "| Allowance For Doubtful Accounts Receivable          |      nan     |      nan     |     nan      |\n",
      "| Gross Accounts Receivable                           |      nan     |      nan     |     nan      |\n",
      "| Cash Cash Equivalents And Short Term Investments    |       43.21  |       25.984 |      13.296  |\n",
      "| Other Short Term Investments                        |       34.621 |       18.704 |       9.907  |\n",
      "| Cash And Cash Equivalents                           |        8.589 |        7.28  |       3.389  |\n"
     ]
    },
    {
     "data": {
      "text/html": [
       "<pre style=\"white-space:pre;overflow-x:auto;line-height:normal;font-family:Menlo,'DejaVu Sans Mono',consolas,'Courier New',monospace\"></pre>\n"
      ],
      "text/plain": []
     },
     "metadata": {},
     "output_type": "display_data"
    },
    {
     "name": "stdout",
     "output_type": "stream",
     "text": [
      "\u001b[37m╭───────────────────────────────────────────╮\u001b[0m                                                                      \n",
      "\u001b[37m│\u001b[0mCashflow Statement (expressed in Billions):\u001b[37m│\u001b[0m                                                                      \n",
      "\u001b[37m╰───────────────────────────────────────────╯\u001b[0m                                                                      \n",
      "\n",
      "|                                                |   2025-01-31 |   2024-01-31 |   2023-01-31 |\n",
      "|:-----------------------------------------------|-------------:|-------------:|-------------:|\n",
      "| Free Cash Flow                                 |       60.853 |       27.021 |        3.808 |\n",
      "| Repurchase Of Capital Stock                    |      -33.706 |       -9.533 |      -10.039 |\n",
      "| Repayment Of Debt                              |       -1.25  |       -1.25  |        0     |\n",
      "| Issuance Of Debt                               |      nan     |        0     |        0     |\n",
      "| Capital Expenditure                            |       -3.236 |       -1.069 |       -1.833 |\n",
      "| Interest Paid Supplemental Data                |        0.246 |        0.252 |        0.254 |\n",
      "| Income Tax Paid Supplemental Data              |       15.118 |        6.549 |        1.404 |\n",
      "| End Cash Position                              |        8.589 |        7.28  |        3.389 |\n",
      "| Beginning Cash Position                        |        7.28  |        3.389 |        1.99  |\n",
      "| Changes In Cash                                |        1.309 |        3.891 |        1.399 |\n",
      "| Financing Cash Flow                            |      -42.359 |      -13.633 |      -11.617 |\n",
      "| Cash Flow From Continuing Financing Activities |      -42.359 |      -13.633 |      -11.617 |\n",
      "| Net Other Financing Charges                    |       -7.059 |       -2.858 |       -1.535 |\n",
      "| Proceeds From Stock Option Exercised           |        0.49  |        0.403 |        0.355 |\n",
      "| Cash Dividends Paid                            |       -0.834 |       -0.395 |       -0.398 |\n",
      "| Common Stock Dividend Paid                     |       -0.834 |       -0.395 |       -0.398 |\n",
      "| Net Common Stock Issuance                      |      -33.706 |       -9.533 |      -10.039 |\n",
      "| Common Stock Payments                          |      -33.706 |       -9.533 |      -10.039 |\n",
      "| Net Issuance Payments Of Debt                  |       -1.25  |       -1.25  |        0     |\n",
      "| Net Long Term Debt Issuance                    |       -1.25  |       -1.25  |        0     |\n",
      "| Long Term Debt Payments                        |       -1.25  |       -1.25  |        0     |\n",
      "| Long Term Debt Issuance                        |      nan     |        0     |        0     |\n",
      "| Investing Cash Flow                            |      -20.421 |      -10.566 |        7.375 |\n",
      "| Cash Flow From Continuing Investing Activities |      -20.421 |      -10.566 |        7.375 |\n",
      "| Net Other Investing Changes                    |        0.022 |       -0.124 |      nan     |\n",
      "| Net Investment Purchase And Sale               |      -16.2   |       -9.29  |        9.257 |\n",
      "| Sale Of Investment                             |       11.861 |        9.783 |       21.239 |\n",
      "| Purchase Of Investment                         |      -28.061 |      -19.073 |      -11.982 |\n",
      "| Net Business Purchase And Sale                 |       -1.007 |       -0.083 |       -0.049 |\n",
      "| Purchase Of Business                           |       -1.007 |       -0.083 |       -0.049 |\n",
      "| Net PPE Purchase And Sale                      |       -3.236 |       -1.069 |       -1.833 |\n",
      "| Purchase Of PPE                                |       -3.236 |       -1.069 |       -1.833 |\n",
      "| Capital Expenditure Reported                   |      nan     |      nan     |      nan     |\n",
      "| Operating Cash Flow                            |       64.089 |       28.09  |        5.641 |\n",
      "| Cash Flow From Continuing Operating Activities |       64.089 |       28.09  |        5.64  |\n",
      "| Change In Working Capital                      |       -9.383 |       -3.722 |       -2.207 |\n",
      "| Change In Other Working Capital                |      nan     |      nan     |      nan     |\n",
      "| Change In Other Current Liabilities            |        1.221 |        0.514 |        0.252 |\n",
      "| Change In Payables And Accrued Expense         |        7.635 |        3.556 |        0.79  |\n",
      "| Change In Accrued Expense                      |        4.278 |        2.025 |        1.341 |\n",
      "| Change In Payable                              |        3.357 |        1.531 |       -0.551 |\n",
      "| Change In Account Payable                      |        3.357 |        1.531 |       -0.551 |\n",
      "| Change In Prepaid Assets                       |       -0.395 |       -1.522 |       -1.517 |\n",
      "| Change In Inventory                            |       -4.781 |       -0.098 |       -2.554 |\n",
      "| Change In Receivables                          |      -13.063 |       -6.172 |        0.822 |\n",
      "| Changes In Account Receivables                 |      -13.063 |       -6.172 |        0.822 |\n",
      "| Other Non Cash Items                           |       -0.502 |       -0.278 |        1.347 |\n",
      "| Stock Based Compensation                       |        4.737 |        3.549 |        2.709 |\n",
      "| Deferred Tax                                   |       -4.477 |       -2.489 |       -2.164 |\n",
      "| Deferred Income Tax                            |       -4.477 |       -2.489 |       -2.164 |\n",
      "| Depreciation Amortization Depletion            |        1.864 |        1.508 |        1.543 |\n",
      "| Depreciation And Amortization                  |        1.864 |        1.508 |        1.543 |\n",
      "| Amortization Cash Flow                         |      nan     |        0.614 |        0.699 |\n",
      "| Amortization Of Intangibles                    |      nan     |        0.614 |        0.699 |\n",
      "| Depreciation                                   |      nan     |        0.894 |        0.844 |\n",
      "| Operating Gains Losses                         |       -1.03  |       -0.238 |        0.045 |\n",
      "| Gain Loss On Investment Securities             |       -1.03  |       -0.238 |        0.045 |\n",
      "| Net Income From Continuing Operations          |       72.88  |       29.76  |        4.368 |\n"
     ]
    },
    {
     "data": {
      "text/html": [
       "<pre style=\"white-space:pre;overflow-x:auto;line-height:normal;font-family:Menlo,'DejaVu Sans Mono',consolas,'Courier New',monospace\"></pre>\n"
      ],
      "text/plain": []
     },
     "metadata": {},
     "output_type": "display_data"
    },
    {
     "name": "stdout",
     "output_type": "stream",
     "text": [
      "\u001b[37m╭────────────────────────────────╮\u001b[0m                                                                                 \n",
      "\u001b[37m│\u001b[0mCode: © G.RUQUILLA - CC BY-NC-SA\u001b[37m│\u001b[0m                                                                                 \n",
      "\u001b[37m╰────────────────────────────────╯\u001b[0m                                                                                 \n",
      "\n",
      "This license enables reusers to distribute, remix, adapt, and build upon the material in any medium or format for noncommercial purposes only, and only so long as attribution is given to the creator. If you remix, adapt, or build upon the material, you must license the modified material under identical terms. Data is fetched from Yahoo Finance through Yfinance and Google RSS feeds through pygooglenews. The information provided is for general informational and educational purposes only and does not constitute investment advice, financial advice, trading advice, or any other form of advice.\n"
     ]
    }
   ],
   "source": [
    "# Developed with Python 3.13\n",
    "# Check out requirements.txt before running the script to install all required libraries.\n",
    "import pandas as pd\n",
    "import numpy as np\n",
    "import datetime as dt\n",
    "import yfinance as yfin\n",
    "from pandas_datareader import data as pdr\n",
    "import plotly.express as px\n",
    "import seaborn as sns\n",
    "import matplotlib.pyplot as plt\n",
    "import plotly.graph_objects as go\n",
    "from plotly.subplots import make_subplots\n",
    "from pygooglenews import GoogleNews\n",
    "from datetime import datetime, timedelta\n",
    "import time\n",
    "import sys\n",
    "from pyboxen import boxen\n",
    "import tabulate\n",
    "import colorama\n",
    "from termcolor import colored\n",
    "from ollama import chat, ChatResponse\n",
    "from rich.console import Console\n",
    "from threading import Thread\n",
    "import warnings\n",
    "import uuid\n",
    "from sklearn.preprocessing import MinMaxScaler\n",
    "import tensorflow as tf\n",
    "from tensorflow.keras.models import Sequential\n",
    "from tensorflow.keras.layers import LSTM, Dense, Input, Dropout\n",
    "from IPython.display import display, Markdown, update_display\n",
    "from transformers import pipeline, AutoTokenizer, AutoModelForSequenceClassification\n",
    "import scipy.stats as stats\n",
    "import torch\n",
    "warnings.filterwarnings(\"ignore\", category=DeprecationWarning) #A deprecation warning shows up every time concerning date parsing format, however the usage of the code excludes the situation in which this would be problematic.\n",
    "warnings.filterwarnings(\"ignore\", category=FutureWarning) #Error related to working with different timezones. You might not encounter this error if you don't change timezones yourself.\n",
    "\n",
    "## Prologue: Ticker input collection and essential functions and data ##------------------------------------------------------------------\n",
    "print(boxen(\"FinAPy: Financial Analysis with Python\", color=\"cyan\"))\n",
    "ticker=input(\"Enter the ticker of the stock: \") #I mainly use Input instead of widgets in Jupyter Notebook so the script can later be easily edited outside Jupyter.\n",
    "stock= yfin.Ticker(ticker)\n",
    "AI_analysis_request=input('Would you like to have local AI synthetic analysis? This feature requires Ollama and demands both time and processing power. Type y for yes, n for no')\n",
    "if AI_analysis_request=='y':\n",
    "    AI_analysis=True\n",
    "else: AI_analysis=False\n",
    "\n",
    "try:\n",
    "    stock_info=yfin.Ticker(ticker).info\n",
    "    #Let's get basic information about the stock to provide a quick summary.\n",
    "    stock_name=stock_info.get('shortName')\n",
    "    stock_industry=stock_info.get('industry')\n",
    "    stock_sector=stock_info.get('sector')\n",
    "    stock_summary=stock_info.get('longBusinessSummary')\n",
    "    stock_employees=stock_info.get('fullTimeEmployees')\n",
    "    stock_city=stock_info.get('city')\n",
    "    stock_country=stock_info.get('country')\n",
    "    print(boxen(f'I identified the company as {stock_name}. It is a company of the {stock_industry} industry, part of the {stock_sector} sector, based in {stock_city}, {stock_country}. It employs {stock_employees} full time employees. I am now fetching the news, it can take a few minutes...', color=\"green\"))\n",
    "    display(Markdown(f\"\"\"In the meantime, for your information, {stock_summary}\"\"\"))\n",
    "except: \n",
    "    print(boxen(f'Sorry, no results for {ticker}. Please make sure the ticker is correct and refers to a company. The analysis can\"t proceed.', color=\"red\"))\n",
    "    sys.exit(1) #Radical, but we need a new valid input to go further on.\n",
    "\n",
    "def ollama_chat(prompt, model_used='gpt-oss:20b'):\n",
    "    #This function will be used later if the user enables the AI analysis.\n",
    "    #You need Ollama installed on your computer to run it, as well as GPT-OSS:20B.\n",
    "    #For the moment, this model gives the best result for a local use. Better models exist, but require more advanced hardware (GPT OSS 120B,...)\n",
    "    #I ran this script succesfully on a RTX 4070 8GB/ 32GB RAM Laptop with AI analysis enabled to give you an idea of the processing power and VRAM memory required.\n",
    "    #You can also change the name of the model in this function if you prefer downloading and using another one. Deepseek R1:8B provides good results as well and can be the resource-efficient alternative.\n",
    "    if AI_analysis==True:\n",
    "        # Generate a unique display ID for each call\n",
    "        display_id = str(uuid.uuid4())\n",
    "        display(Markdown(\"🌀 ** Analysing the data using Ollama... This can take some time.**\"), display_id=display_id)\n",
    "        def task():\n",
    "            try:\n",
    "                response = chat(model=model_used, messages=[{'role': 'user', 'content': prompt},])\n",
    "                resp = response['message']['content'].replace('<br>', '\\n')\n",
    "            except:\n",
    "                resp = 'Apologies, the Ollama AI assistant could not provide additional analysis. Make sure Ollama is installed on your computer. If it does not solve the problem, try opening Ollama in the background and re-execute the script.'\n",
    "            update_display(Markdown(f\"✅ **Ollama analysis (using {model_used} - This output is informational/educational only and does not constitute an investment recommendation - Remember AIs can sometimes hallucinate):**\\n\\n{resp}\"), display_id=display_id)\n",
    "        Thread(target=task).start()\n",
    "    else: print('AI Analysis has been disabled at the beginning of the analysis.')\n",
    "\n",
    "stock_df = pd.DataFrame(stock.history(period=\"1y\", interval=\"1d\"))\n",
    "#Computing basic metrics and filling the N/A values.\n",
    "stock_df['Daily Return'] = stock_df['Close'].pct_change(1) * 100\n",
    "stock_df.fillna({\"Daily Return\": 0}, inplace=True)\n",
    "stock_df['monthly volatility'] = stock_df['Daily Return'].rolling(window=21).std()\n",
    "stock_df.fillna({\"monthly volatility\": 0}, inplace=True)\n",
    "stock_df['weekly volatility'] = stock_df['Daily Return'].rolling(window=5).std()\n",
    "stock_df.fillna({\"weekly volatility\": 0}, inplace=True)\n",
    "stock_df.describe().round(2)\n",
    "stock_df = stock_df.reset_index()\n",
    "stock_df = stock_df.rename(columns=lambda x: x.lower())\n",
    "stock_df['date'] = pd.to_datetime(stock_df['date']).dt.tz_localize(None)\n",
    "\n",
    "\n",
    "## Step 1: Events and news fetching ##------------------------------------------------------------------\n",
    "try:\n",
    "    stock_calendar=pd.DataFrame(yfin.Ticker(ticker).calendar)\n",
    "    stock_calendar=stock_calendar.drop(['Earnings High', 'Earnings Low', 'Earnings Average','Revenue High','Revenue Low','Revenue Average'], axis=1)\n",
    "    stock_calendar=stock_calendar.transpose()\n",
    "    stock_calendar=stock_calendar.reset_index()\n",
    "    stock_calendar=stock_calendar.rename(columns={'index':'Event',0:'Date'})\n",
    "    stock_calendar=stock_calendar[stock_calendar.columns[::-1]]\n",
    "    event_data=True # Using a boolean to know wether or not we have been able to fetch event data so the graph doesn't crash the code in case an error has been encountered.\n",
    "except: \n",
    "    print(boxen(\"Unfortunately, I have not been able to gather information about the events of the company. The analysis will proceed, but I won't be able to provide any data about earnings date, dividends date and so on.\", color=\"red\"))\n",
    "    event_data=False\n",
    "\n",
    "def get_ticker_news_with_sentiment(ticker_name, ticker, max_results=100):\n",
    "    # Load FinBERT model and tokenizer\n",
    "    model_name = \"ProsusAI/finbert\"\n",
    "    tokenizer = AutoTokenizer.from_pretrained(model_name)\n",
    "    model = AutoModelForSequenceClassification.from_pretrained(model_name)\n",
    "    finbert = pipeline(\"sentiment-analysis\", model=model, tokenizer=tokenizer, device=0 if torch.cuda.is_available() else -1)\n",
    "\n",
    "    # Initialize GoogleNews\n",
    "    gn = GoogleNews(lang='en', country='US')\n",
    "\n",
    "    # Date range: last 12 months\n",
    "    end_date = datetime.now()\n",
    "    start_date = end_date - timedelta(days=365)\n",
    "    start_date_str = start_date.strftime('%Y-%m-%d')\n",
    "    end_date_str = end_date.strftime('%Y-%m-%d')\n",
    "\n",
    "    # Search query\n",
    "    search_term = f\"{ticker_name} stock OR {ticker} stock\"\n",
    "    search = gn.search(search_term, from_=start_date_str, to_=end_date_str)\n",
    "\n",
    "    articles = []\n",
    "    count = 0\n",
    "    for entry in search['entries']:\n",
    "        if count >= max_results:\n",
    "            break\n",
    "        try:\n",
    "            date = pd.to_datetime(entry.published)\n",
    "            if date.tzinfo is not None:\n",
    "                date = date.tz_localize(None)\n",
    "\n",
    "            title = entry.title\n",
    "            summary = entry.get('summary', '').strip()\n",
    "            text = summary if summary else title # Trying the sentiment analysis on the summary rather than on simply the title for more accurate results. However, the summary is not always available.\n",
    "\n",
    "            # Run FinBERT sentiment analysis\n",
    "            result = finbert(text)[0]\n",
    "            label = result['label'].lower()\n",
    "            raw_score = result['score']\n",
    "\n",
    "            # Convert label to signed score\n",
    "            if label == 'positive':\n",
    "                sentiment = round(raw_score, 4)\n",
    "            elif label == 'negative':\n",
    "                sentiment = round(-raw_score, 4)\n",
    "            else:  # neutral\n",
    "                sentiment = 0.0\n",
    "\n",
    "            articles.append({\n",
    "                'date': date,\n",
    "                'headline': title,\n",
    "                'summary': summary,\n",
    "                'sentiment': sentiment\n",
    "            })\n",
    "            count += 1\n",
    "            time.sleep(0.1)\n",
    "        except Exception as e:\n",
    "            print(f\"Error processing an article: {e}\")\n",
    "            continue\n",
    "\n",
    "    df = pd.DataFrame(articles)\n",
    "    if not df.empty:\n",
    "        df['date'] = pd.to_datetime(df['date'])\n",
    "        df = df.sort_values('date', ascending=False)\n",
    "\n",
    "    return df\n",
    "    \n",
    "news_df = get_ticker_news_with_sentiment(stock_name, ticker)\n",
    "print(f\"\\nFound {len(news_df)} news articles for {stock_name}. I will now proceed to the analysis, this can take a few minutes.\") #Essentially a log to track the news fetching and indicate how rich the sualitative data treated are.\n",
    "if len(news_df)==0:\n",
    "    print(boxen(\"Unfortunately, I have not been able to find any news about your company. The analysis will proceed, but you won't get any news-related data.\", color=\"red\"))\n",
    "    news_data=False\n",
    "else:\n",
    "    news_data=True\n",
    "\n",
    "## Step 2: Forecast using Machine Learning LSTM ##--------------------------------------------------------------------------------------------\n",
    "# --- Prepare Data with Multiple Features ---\n",
    "# Use close, high, and low prices for optimal accuracy.\n",
    "feature_columns = ['close', 'high', 'low']\n",
    "price_data = stock_df[feature_columns].values\n",
    "scaler = MinMaxScaler(feature_range=(0, 1))\n",
    "scaled_data = scaler.fit_transform(price_data)\n",
    "\n",
    "# --- Create Sequences with Multiple Features ---\n",
    "def create_multivariate_sequences(data, seq_length):\n",
    "    X, y = [], []\n",
    "    for i in range(seq_length, len(data)):\n",
    "        # Each X sequence now contains all features\n",
    "        X.append(data[i-seq_length:i])\n",
    "        # Target remains the closing price only\n",
    "        y.append(data[i, 0])  # 0 index is for close price\n",
    "    return np.array(X), np.array(y)\n",
    "\n",
    "seq_length = 90\n",
    "X, y = create_multivariate_sequences(scaled_data, seq_length)\n",
    "\n",
    "# --- Train/Test Split ---\n",
    "split = int(len(X) * 0.8)\n",
    "X_train, X_test = X[:split], X[split:]\n",
    "y_train, y_test = y[:split], y[split:]\n",
    "\n",
    "# --- Build Enhanced LSTM Model ---\n",
    "def build_enhanced_model(input_shape, dropout_rate=0.2):\n",
    "    model = Sequential()\n",
    "    model.add(Input(shape=input_shape))\n",
    "    model.add(LSTM(units=100, return_sequences=True))\n",
    "    model.add(Dropout(dropout_rate))\n",
    "    model.add(LSTM(units=100))\n",
    "    model.add(Dropout(dropout_rate))\n",
    "    model.add(Dense(1))\n",
    "    model.compile(optimizer='adam', loss='huber')\n",
    "    return model\n",
    "\n",
    "# Train enhanced model with multiple features\n",
    "enhanced_model = build_enhanced_model(input_shape=(seq_length, len(feature_columns)))\n",
    "enhanced_model.fit(X_train, y_train, epochs=30, batch_size=32, verbose=0)\n",
    "\n",
    "# --- Modified Generate Forecast Function ---\n",
    "def generate_multivariate_forecast(model, last_sequence, periods=60, noise_level=0.0, trend_factor=0.0):\n",
    "    forecast = []\n",
    "    current_sequence = last_sequence.copy()\n",
    "    \n",
    "    for i in range(periods):\n",
    "        input_seq = current_sequence.reshape(1, seq_length, len(feature_columns))\n",
    "        pred = model.predict(input_seq, verbose=0)[0][0]\n",
    "        \n",
    "        # Add noise and trend adjustments\n",
    "        adjusted_pred = pred + np.random.normal(0, noise_level) + (i * trend_factor)\n",
    "        adjusted_pred = max(0, min(1, adjusted_pred))\n",
    "        \n",
    "        forecast.append(adjusted_pred)\n",
    "        \n",
    "        # Create a new row with predicted close and estimated high/low\n",
    "        # For simplicity, we'll use the same value for all features\n",
    "        # In a more sophisticated approach, you could predict high/low separately\n",
    "        new_row = np.array([[adjusted_pred] * len(feature_columns)])\n",
    "        \n",
    "        # Update the sequence by removing the first row and adding the new prediction\n",
    "        current_sequence = np.append(current_sequence[1:], new_row, axis=0)\n",
    "    return np.array(forecast)\n",
    "\n",
    "# Get the last sequence from our multivariate data\n",
    "last_sequence = scaled_data[-seq_length:]\n",
    "\n",
    "# Generate different scenarios with the enhanced model\n",
    "forecast_periods = 60\n",
    "\n",
    "# Generate forecasts with the enhanced model and variants. The variants are statistically generated at the moment, the integration of qualitative information is something I am working on at the moment.\n",
    "baseline_forecast = generate_multivariate_forecast(enhanced_model, last_sequence, forecast_periods)\n",
    "optimistic_forecast = generate_multivariate_forecast(enhanced_model, last_sequence, forecast_periods, \n",
    "                                                   noise_level=0.005, trend_factor=0.001)\n",
    "pessimistic_forecast = generate_multivariate_forecast(enhanced_model, last_sequence, forecast_periods, \n",
    "                                                    noise_level=0.005, trend_factor=-0.001)\n",
    "\n",
    "# --- Inverse Transform & Create Forecast DataFrame ---\n",
    "# We need to reshape and pad the forecasts to match the original feature dimensions\n",
    "def inverse_transform_forecast(forecast, feature_index=0):\n",
    "    # Create a placeholder array with the same number of features as the original data\n",
    "    padded_forecast = np.zeros((len(forecast), len(feature_columns)))\n",
    "    # Place the forecast values in the appropriate feature column (0 for close price)\n",
    "    padded_forecast[:, feature_index] = forecast\n",
    "    # Inverse transform\n",
    "    return scaler.inverse_transform(padded_forecast)[:, feature_index]\n",
    "\n",
    "baseline_prices = inverse_transform_forecast(baseline_forecast)\n",
    "optimistic_prices = inverse_transform_forecast(optimistic_forecast)\n",
    "pessimistic_prices = inverse_transform_forecast(pessimistic_forecast)\n",
    "\n",
    "# Create future dates\n",
    "future_dates = pd.date_range(start=stock_df['date'].iloc[-1] + pd.Timedelta(days=1), periods=forecast_periods)\n",
    "\n",
    "# Create forecast dataframe with all scenarios\n",
    "forecast_df = pd.DataFrame({\n",
    "    'date': future_dates,\n",
    "    'Baseline': baseline_prices,\n",
    "    'Optimistic': optimistic_prices,\n",
    "    'Pessimistic': pessimistic_prices,\n",
    "})\n",
    "## Step 3: Market data restitution ##----------------------------------------------------------------------------------------------------------\n",
    "print(boxen(\"I. Market data analysis\", color=\"cyan\"))\n",
    "fig = make_subplots(rows=4, cols=1, shared_xaxes=True,\n",
    "                    vertical_spacing=0.05, subplot_titles=(f'{ticker} ({stock_name}) Stock Price', ' ', ' '), \n",
    "                    row_heights=[0.7, 0.3, 0.3, 0.1]) #Using a single shart so using customised windows will update all the visuals at once. It should improve the user experience.\n",
    "\n",
    "# Add candlestick chart\n",
    "fig.add_trace(go.Candlestick(\n",
    "    x=stock_df['date'],\n",
    "    open=stock_df['open'],\n",
    "    high=stock_df['high'],\n",
    "    low=stock_df['low'],\n",
    "    close=stock_df['close'],\n",
    "    name='Price',\n",
    "    legendgroup='Base information'\n",
    "), row=1, col=1)\n",
    "\n",
    "\n",
    "if news_data == True:\n",
    "    sentiment_values = news_df['sentiment'].clip(-1, 1)  # Ensure values are in [-1, 1]\n",
    "    abs_sentiment = sentiment_values.abs()\n",
    "    # Scale marker size: map abs sentiment [0,1] to size range [6, 20].\n",
    "    marker_sizes = abs_sentiment * 14 + 6\n",
    "    colorscale = [\n",
    "        [0.0, 'crimson'],     # Highly negative\n",
    "        [0.5, 'white'],       # Neutral\n",
    "        [1.0, 'springGreen']  # Highly positive\n",
    "    ]\n",
    "    fig.add_trace(go.Scatter(\n",
    "        x=news_df['date'],\n",
    "        y=stock_df['close'],\n",
    "        name='News Headlines',\n",
    "        legendgroup='Events',\n",
    "        mode='markers',\n",
    "        text=news_df['headline'],\n",
    "        hoverinfo='text+x',\n",
    "        marker=dict(\n",
    "            color=sentiment_values,         # Color by raw sentiment\n",
    "            size=marker_sizes,              # Size by absolute sentiment\n",
    "            colorscale=colorscale,\n",
    "            cmin=-1,\n",
    "            cmax=1,\n",
    "            colorbar=dict(title='Sentiment'),\n",
    "            symbol='circle',\n",
    "            line=dict(width=1, color='dodgerblue')\n",
    "        )\n",
    "    ), row=1, col=1)\n",
    "\n",
    "if event_data==True:\n",
    "    fig.add_trace(go.Scatter(\n",
    "        x=stock_calendar['Date'],\n",
    "        y=stock_df['close'],\n",
    "        name='Events',  # Use a simple string name for the series\n",
    "        legendgroup='Events',\n",
    "        mode='markers',  # Add mode='markers' to show points\n",
    "        text=stock_calendar['Event'],  # Use the headlines as hover text\n",
    "        hoverinfo='text+x',  # Show the text and x-value on hover\n",
    "        marker=dict(\n",
    "            color='rgba(0, 200, 200, 1)',  # Set marker color to blue\n",
    "            size=8,  # Optional: adjust the size of the markers\n",
    "            symbol='diamond'\n",
    "            \n",
    "        )\n",
    "    ), row=1, col=1)\n",
    "\n",
    "fig.add_trace(go.Scatter(\n",
    "    x=stock_df['date'],\n",
    "    y=stock_df['close'],\n",
    "    name='Closing price',\n",
    "    legendgroup='Base information',\n",
    "    line=dict(color='rgba(0, 0, 0, 0.25)', width=1)\n",
    "), row=1, col=1)\n",
    "\n",
    "# Add moving averages to give more data and give perspective on the LSTM forecast.\n",
    "ma10 = stock_df['close'].rolling(window=10).mean()\n",
    "ma20 = stock_df['close'].rolling(window=20).mean()\n",
    "ma50 = stock_df['close'].rolling(window=50).mean()\n",
    "\n",
    "fig.add_trace(go.Scatter(\n",
    "    x=stock_df['date'],\n",
    "    y=ma10,\n",
    "    name='10-day MA',\n",
    "    legendgroup='SMA',\n",
    "    line=dict(color='rgba(80, 80, 255, 1)', width=1)\n",
    "), row=1, col=1)\n",
    "\n",
    "fig.add_trace(go.Scatter(\n",
    "    x=stock_df['date'],\n",
    "    y=ma20,\n",
    "    name='20-day MA',\n",
    "    legendgroup='SMA',\n",
    "    line=dict(color='rgba(130, 80, 200, 1)', width=1)\n",
    "), row=1, col=1)\n",
    "\n",
    "fig.add_trace(go.Scatter(\n",
    "    x=stock_df['date'],\n",
    "    y=ma50,\n",
    "    name='50-day MA',\n",
    "    legendgroup='SMA',\n",
    "    line=dict(color='rgba(255, 80, 255, 1)', width=1)\n",
    "), row=1, col=1)\n",
    "\n",
    "#Add to Plot forecast\n",
    "fig.add_trace(go.Scatter(\n",
    "    x=forecast_df['date'],\n",
    "    y=forecast_df['Baseline'],\n",
    "    name='Baseline scenario',\n",
    "    legendgroup='LSTM forecast',\n",
    "    line=dict(color='cyan', width=1.5, dash='dash')\n",
    "), row=1, col=1)\n",
    "\n",
    "fig.add_trace(go.Scatter(\n",
    "    x=forecast_df['date'],\n",
    "    y=forecast_df['Optimistic'],\n",
    "    name='Optimistic scenario',\n",
    "    legendgroup='LSTM forecast',\n",
    "    line=dict(color='rgba(85, 255, 210, 1)', width=1, dash='dash')\n",
    "), row=1, col=1)\n",
    "\n",
    "fig.add_trace(go.Scatter(\n",
    "    x=forecast_df['date'],\n",
    "    y=forecast_df['Pessimistic'],\n",
    "    name='Pessimistic scenario',\n",
    "    legendgroup='LSTM forecast',\n",
    "    line=dict(color='rgba(147, 146, 255, 1)', width=1, dash='dash')\n",
    "), row=1, col=1)\n",
    "\n",
    "fig.add_trace(go.Scatter(\n",
    "    x=stock_df['date'],\n",
    "    y=stock_df['daily return'],\n",
    "    name='% dly rtn',\n",
    "    legendgroup='Daily returns',\n",
    "    line=dict(color='rgba(117, 183, 98, 1)', width=1)\n",
    "), row=2, col=1)\n",
    "\n",
    "fig.add_trace(go.Scatter(\n",
    "    x=stock_df['date'],\n",
    "    y=stock_df['weekly volatility'],\n",
    "    name='weekly volatility',\n",
    "    legendgroup='Volatility',\n",
    "    line=dict(color='rgba(249, 180, 78, 1)', width=1)\n",
    "), row=3, col=1)\n",
    "\n",
    "fig.add_trace(go.Scatter(\n",
    "    x=stock_df['date'],\n",
    "    y=stock_df['monthly volatility'],\n",
    "    name='monthly volatility',\n",
    "    legendgroup='Volatility',\n",
    "    line=dict(color='rgba(255, 121, 100, 1)', width=1)\n",
    "), row=3, col=1)\n",
    "\n",
    "# Add volume bar chart\n",
    "fig.add_trace(go.Bar(\n",
    "    x=stock_df['date'],\n",
    "    y=stock_df['volume'],\n",
    "    name='Volume',\n",
    "    legendgroup='Volume',\n",
    "    marker_color='rgba(0, 150, 255, 0.6)'\n",
    "), row=4, col=1)\n",
    "\n",
    "# Update layout\n",
    "fig.update_layout(\n",
    "    title=f'{ticker}',\n",
    "    xaxis_title=' ',\n",
    "    yaxis_title='Price ($)',\n",
    "    xaxis_rangeslider_visible=False,\n",
    "    plot_bgcolor='white',\n",
    "    height=1000,\n",
    "    width=1000,\n",
    "    legend=dict(orientation=\"h\", yanchor=\"bottom\", y=1.02, xanchor=\"right\", x=1)\n",
    ")\n",
    "\n",
    "# Update y-axes\n",
    "fig.update_yaxes(title_text=\"Price ($)\", row=1, col=1)\n",
    "fig.update_yaxes(title_text=\"Daily returns\", row=2, col=1)\n",
    "fig.update_yaxes(title_text=\"Volatility\", row=3, col=1)\n",
    "fig.update_yaxes(title_text=\"Volume\", row=4, col=1)\n",
    "fig.update_yaxes(showgrid=True,gridwidth=0.5,gridcolor='lightgrey')\n",
    "fig.update_xaxes(showgrid=True,gridwidth=0.5,gridcolor='lightgrey', nticks=24)\n",
    "# Show the figure\n",
    "fig.show()\n",
    "\n",
    "figu = px.histogram(stock_df, x='daily return',marginal=\"box\", title='Daily returns histogram')\n",
    "figu.update_traces(marker_color='rgba(117, 183, 98, 1)')\n",
    "figu.show()\n",
    "\n",
    "#Treating statistical data often studied on the CFA L1 for context, with explanation. This way, candidates can visualise real-life data of stocks to give a practical context to the concept.\n",
    "\n",
    "sk=stock_df['daily return'].skew()\n",
    "if sk>0:\n",
    "    sk_type=\"skewed to the right: there is a long tail of large positive outliers.\"\n",
    "elif sk<0:\n",
    "    sk_type=\"skewed to the left: there is a long tail of large negative outliers.\"\n",
    "else: sk_type=\"returns are not skewed. Returns are usually stable and predictable.\"\n",
    "\n",
    "kurt=stock_df['daily return'].kurt()\n",
    "excess_kurt=kurt-3\n",
    "if kurt>3 :\n",
    "    kr_type=\"leptokurtic distribution: the tails are heavy, there is a high tail risk and hence usually more erratic returns.\"\n",
    "elif kurt==3 :\n",
    "    kr_type=\"mesokurtic distribution: the distribution is relatively normal.\"\n",
    "else: kr_type=\"platykurtic distribution: the tails are light, there is a lower tail risk and hence usually more stable returns.\"\n",
    "import plotly.graph_objects as go\n",
    "\n",
    "variance=stock_df['daily return'].var()\n",
    "std=stock_df['daily return'].std()\n",
    "\n",
    "fig = go.Figure()\n",
    "\n",
    "# Skewness Indicator\n",
    "fig.add_trace(go.Indicator(\n",
    "    mode=\"gauge+number\",\n",
    "    value=sk,\n",
    "    delta={'reference': 0, 'relative': False},\n",
    "    title={\"text\": \"Skewness\"},\n",
    "    number={\"valueformat\": \".2f\"},\n",
    "    domain={'row': 0, 'column': 0},\n",
    "    gauge={\n",
    "        'axis': {'range': [-5, 5]},\n",
    "        'bar': {'color': \"green\"},\n",
    "        'steps': [\n",
    "            {'range': [-5, -2], 'color': \"lightcoral\"},\n",
    "            {'range': [-2, 2], 'color': \"lightgray\"},\n",
    "            {'range': [2, 5], 'color': \"lightgreen\"}\n",
    "        ],\n",
    "        'threshold': {\n",
    "            'line': {'color': \"blue\", 'width': 4},\n",
    "            'thickness': 0.75,\n",
    "            'value': sk\n",
    "        }\n",
    "    }\n",
    "))\n",
    "\n",
    "# Kurtosis Indicator\n",
    "fig.add_trace(go.Indicator(\n",
    "    mode=\"gauge+number\",\n",
    "    value=kurt,\n",
    "    delta={'reference': 3, 'relative': False},\n",
    "    title={\"text\": \"Kurtosis\"},\n",
    "    number={\"valueformat\": \".2f\"},\n",
    "    domain={'row': 0, 'column': 1},\n",
    "    gauge={\n",
    "        'axis': {'range': [0, 6]},\n",
    "        'bar': {'color': \"darkblue\"},\n",
    "        'steps': [\n",
    "            {'range': [0, 2], 'color': \"lightgreen\"},\n",
    "            {'range': [2, 4], 'color': \"lightgray\"},\n",
    "            {'range': [4, 6], 'color': \"lightcoral\"}\n",
    "        ],\n",
    "        'threshold': {\n",
    "            'line': {'color': \"blue\", 'width': 4},\n",
    "            'thickness': 0.75,\n",
    "            'value': kurt\n",
    "        }\n",
    "    }\n",
    "))\n",
    "\n",
    "# Layout and annotations\n",
    "fig.update_layout(\n",
    "    grid={'rows': 1, 'columns': 2, 'pattern': \"independent\"},\n",
    "    template=\"plotly_white\",\n",
    ")\n",
    "\n",
    "fig.show()\n",
    "\n",
    "print(f'Skewness: {round(sk,4)}, {sk_type}')\n",
    "print(f'Kurtosis: {round(kurt,4)}, Excess kurtosis: {round(excess_kurt,4)}. This is a {kr_type}')\n",
    "print(' ')\n",
    "print(f'Variance: {round(variance,4)}')\n",
    "print(f'Standard deviation: {round(std,4)}')\n",
    "print(' ')\n",
    "\n",
    "print('AI financial analysis:')\n",
    "ollama_chat(f'You are a senior financial analyst, with more than 20 years of experience and a proven track of success and expertise. Your team, clients and colleagues appreciate not only your expertise, but also your ability to put things in perspective, your pedagogy, and your reserve about things you are not sure about. One of your client is considering a company for his investments. You will have to do your best to advise him. He is not a finance expert, but he is capable of understanding intermediate to high-end financial concepts once explained. At your disposal, you have informations about the stock {ticker}, such as the industry of the company which is {stock_industry}, as well as {news_df} the latest news of the company, as well as {stock_df} the historical valus of the stock, as well as {stock_calendar} the main events related to the stock, as well as {kurt} the kurtosis of the returns and {sk} their skewness. You will output a very brief summary of your analysis of the company (8 sentences maximum). This summary shall include: 1: A brief interpretation of the stock price evolution over the last year. 2: an immediate appreciation of the qualities and defaults of the stock right now, taking into consideration the industry in the context of its sector and of the current PESTEL landscape. 3: an investment recommendation, declined depending on the investment objectives of the client. 4: a simple 60 days horizon qualitative prevision of how the stock price will evolve.')\n",
    "\n",
    "## Step 4: Financial statement analysis ##-----------------------------------------------------------------------------------------------\n",
    "print(boxen(\"II. Financial statements analysis\", color=\"cyan\"))\n",
    "print(' ')\n",
    "print(f'Industry of your company: {stock_industry}')\n",
    "print(' ')\n",
    "\n",
    "def Ollama_Analysis_Quant(ratiosDf, metric):\n",
    "    time.sleep(1) # Sometimes, not adding a delay doesn't allow Ollama to collect the accurate information about the company, especially during the first iterations.\n",
    "    print(' ')\n",
    "    print(f'AI financial analysis on {metric} ratios:')\n",
    "    ollama_chat(f'You are a senior financial analyst, with more than 20 years of experience and a proven track of success and expertise. Your team, clients and colleagues appreciate not only your expertise, but also your ability to put things in perspective, your pedagogy, and your reserve about things you are not sure about. One of your young colleagues is considering a company for his investments. You will have to do your best to advise him. He doesn’t have much experience, but he is capable of understanding intermediate to high-end financial concepts once explained. You have to deliver to that young colleague your sentiment about the {metric} of the company {stock_name}. You will begin by analysing the ratios of {ratiosDf}, and then analyse the financial statements {income_statement}, {balance_sheet} and {cashflow} by highlighting the information about {metric} the ratios do not highlight on their own or even conceal. Enrich your analysis with elements in context with the current situation of the company in its sector, and overall the current PESTEL environment that might affect the company and its sector. You will output a 8 sentences maximum summary that covers all these elements.')\n",
    "    print(' ')\n",
    "\n",
    "def scale_dataframe(df, numeric_columns=None):\n",
    "    import re\n",
    "    # Create a copy to avoid modifying the original\n",
    "    scaled_df = df.copy()\n",
    "    # Format date column names\n",
    "    new_column_names = {}\n",
    "    for col in scaled_df.columns:\n",
    "        # Check if column name matches date format YYYY-MM-DD XX:XX:XX\n",
    "        date_match = re.match(r'(\\d{4}-\\d{2}-\\d{2})\\s\\d{2}:\\d{2}:\\d{2}', str(col))\n",
    "        if date_match:\n",
    "            # Extract just the YYYY-MM-DD part\n",
    "            new_column_names[col] = date_match.group(1)\n",
    "    # Rename columns with date format\n",
    "    scaled_df = scaled_df.rename(columns=new_column_names)\n",
    "    # Identify numeric columns if not specified\n",
    "    if numeric_columns is None:\n",
    "        numeric_columns = scaled_df.select_dtypes(include=[np.number]).columns.tolist()\n",
    "    # Find the maximum absolute value to determine scale\n",
    "    max_value = np.nanmax(np.abs(scaled_df[numeric_columns].values))\n",
    "    # Determine appropriate scale\n",
    "    if max_value >= 2_000_000_000:\n",
    "        scale = 1_000_000_000\n",
    "        unit = 'Billions'  # Billions\n",
    "    elif max_value >= 2_000_000:\n",
    "        scale = 1_000_000\n",
    "        unit = 'Millions'  # Millions\n",
    "    else:\n",
    "        scale = 1_000\n",
    "        unit = 'K Thousands'  # Thousands\n",
    "    # Apply scaling to all numeric columns\n",
    "    for col in numeric_columns:\n",
    "        scaled_df[col] = scaled_df[col] / scale    \n",
    "    return scaled_df, unit\n",
    "\n",
    "try:\n",
    "    #Fetching income statement\n",
    "    income_statement=yfin.Ticker(ticker).income_stmt\n",
    "    income_statement, unit=scale_dataframe(income_statement)\n",
    "    income_statement=income_statement.iloc[:, :3]\n",
    "\n",
    "    #Fetching balance sheet\n",
    "    balance_sheet=yfin.Ticker(ticker).balance_sheet\n",
    "    balance_sheet, unit=scale_dataframe(balance_sheet)\n",
    "    balance_sheet=balance_sheet.iloc[:, :3]\n",
    "    \n",
    "    #fetching cashflow statement\n",
    "    cashflow=yfin.Ticker(ticker).cashflow\n",
    "    cashflow, unit=scale_dataframe(cashflow)\n",
    "    cashflow=cashflow.iloc[:, :3]\n",
    "    \n",
    "    marketcap=yfin.Ticker(ticker).info.get('marketCap')\n",
    "    forward_pe=yfin.Ticker(ticker).info.get('forwardPE')\n",
    "    div_yield=yfin.Ticker(ticker).info.get('dividendYield')\n",
    "    trailing_eps=yfin.Ticker(ticker).info.get('trailingEps')\n",
    "except: \n",
    "    print(boxen(f'Sorry, I could not fetch the financial statement data for your company.', color=\"red\"))\n",
    "    sys.exit(1)\n",
    "\n",
    "print(colored('   Profitability ratios:', 'blue', 'on_white', attrs=['bold']))\n",
    "#value = df.loc[name_of_row].iloc[column_number]\n",
    "\n",
    "def variation_over_years(df, NbRow, Reverse=False):\n",
    "    # Convert percentage strings to floats before calculations\n",
    "    try:\n",
    "        # Get the values for all three years\n",
    "        Ratio = df.iloc[(NbRow-1), 0]\n",
    "        val_year1 = df.iloc[(NbRow-1), 1]  # First year (most recent)\n",
    "        val_year2 = df.iloc[(NbRow-1), 2]  # Second year\n",
    "        val_year3 = df.iloc[(NbRow-1), 3]  # Third year (oldest)\n",
    "        \n",
    "        # Convert percentage strings to floats by removing '%' and dividing by 100\n",
    "        if isinstance(val_year1, str) and '%' in val_year1:\n",
    "            val_year1 = float(val_year1.strip('%')) / 100\n",
    "        else:\n",
    "            val_year1 = float(val_year1)\n",
    "            \n",
    "        if isinstance(val_year2, str) and '%' in val_year2:\n",
    "            val_year2 = float(val_year2.strip('%')) / 100\n",
    "        else:\n",
    "            val_year2 = float(val_year2)\n",
    "            \n",
    "        if isinstance(val_year3, str) and '%' in val_year3:\n",
    "            val_year3 = float(val_year3.strip('%')) / 100\n",
    "        else:\n",
    "            val_year3 = float(val_year3)\n",
    "        \n",
    "        # Calculate variations - handle negative values properly\n",
    "        # For negative values, we need to be careful with the calculation\n",
    "        if val_year2 != 0:\n",
    "            var1 = (val_year1 - val_year2) / abs(val_year2)\n",
    "        else:\n",
    "            var1 = 0\n",
    "            \n",
    "        if val_year3 != 0:\n",
    "            var2 = (val_year2 - val_year3) / abs(val_year3)\n",
    "        else:\n",
    "            var2 = 0\n",
    "        \n",
    "        # Determine colors based on Reverse parameter\n",
    "        pos_color = 'red' if Reverse else 'green'\n",
    "        neg_color = 'green' if Reverse else 'red'\n",
    "        \n",
    "        # Format variations as colored percentages with \"+\" for positive values\n",
    "        var1_formatted = colored(\"+{:.2%}\".format(var1) if var1 >= 0 else \"{:.2%}\".format(var1), \n",
    "                                pos_color if var1 >= 0 else neg_color)\n",
    "        var2_formatted = colored(\"+{:.2%}\".format(var2) if var2 >= 0 else \"{:.2%}\".format(var2), \n",
    "                                pos_color if var2 >= 0 else neg_color)\n",
    "        \n",
    "        # Create the new row with colored variations\n",
    "        df.loc[NbRow] = [colored(f'{Ratio} variation','blue'), \n",
    "                         var1_formatted,\n",
    "                         var2_formatted,\n",
    "                         \"----\", \n",
    "                         colored(f'Variation of previous ratio','blue')]\n",
    "    except Exception as e:\n",
    "        print(f\"Error in variation_over_years: {e}\")\n",
    "        # Add a placeholder row instead of failing\n",
    "        df.loc[NbRow] = [colored(f'{Ratio} variation', 'blue'), \n",
    "                         \"Error\",\n",
    "                         \"Error\",\n",
    "                         \"----\", \n",
    "                         colored(f'Variation of previous ratio', 'blue')]\n",
    "    \n",
    "    return df.loc[NbRow]\n",
    "#Profitability ratios:\n",
    "try :\n",
    "    prof_ratios_df = pd.DataFrame(columns=['Metric'] + income_statement.columns[-3:].tolist() + ['Description'])\n",
    "    prof_ratios_df.loc[0]=['Gross profit margin', \n",
    "                       \"{:.2%}\".format(income_statement.loc['Gross Profit'].iloc[0]/income_statement.loc['Total Revenue'].iloc[0]),\n",
    "                       \"{:.2%}\".format(income_statement.loc['Gross Profit'].iloc[1]/income_statement.loc['Total Revenue'].iloc[1]),\n",
    "                       \"{:.2%}\".format(income_statement.loc['Gross Profit'].iloc[2]/income_statement.loc['Total Revenue'].iloc[2]),\n",
    "                       'Gross profit/ revenue']\n",
    "\n",
    "    variation_over_years(prof_ratios_df,1)\n",
    "\n",
    "    prof_ratios_df.loc[2]=['Operating profit margin', \n",
    "                       \"{:.2%}\".format(income_statement.loc['Operating Income'].iloc[0]/income_statement.loc['Total Revenue'].iloc[0]),\n",
    "                       \"{:.2%}\".format(income_statement.loc['Operating Income'].iloc[1]/income_statement.loc['Total Revenue'].iloc[1]),\n",
    "                       \"{:.2%}\".format(income_statement.loc['Operating Income'].iloc[2]/income_statement.loc['Total Revenue'].iloc[2]),\n",
    "                       'Operating income/ revenue']\n",
    "\n",
    "    variation_over_years(prof_ratios_df,3)\n",
    "\n",
    "    prof_ratios_df.loc[4]=['Net profit margin',\n",
    "                       \"{:.2%}\".format(income_statement.loc['Net Income'].iloc[0]/income_statement.loc['Total Revenue'].iloc[0]),\n",
    "                       \"{:.2%}\".format(income_statement.loc['Net Income'].iloc[1]/income_statement.loc['Total Revenue'].iloc[1]),\n",
    "                       \"{:.2%}\".format(income_statement.loc['Net Income'].iloc[2]/income_statement.loc['Total Revenue'].iloc[2]),\n",
    "                       'Net income/ revenue']\n",
    "\n",
    "    variation_over_years(prof_ratios_df,5)\n",
    "\n",
    "    prof_ratios_df.loc[6]=['--------', '--------', '--------', '--------', '------------------------------']\n",
    "\n",
    "    prof_ratios_df.loc[7]=['ROA (Return On Assets)', \n",
    "                       \"{:.2%}\".format(income_statement.loc['Net Income'].iloc[0]/balance_sheet.loc['Total Assets'].iloc[0]),\n",
    "                       \"{:.2%}\".format(income_statement.loc['Net Income'].iloc[1]/balance_sheet.loc['Total Assets'].iloc[1]),\n",
    "                       \"{:.2%}\".format(income_statement.loc['Net Income'].iloc[2]/balance_sheet.loc['Total Assets'].iloc[2]),\n",
    "                       'Net income/ Total assets']\n",
    "\n",
    "    variation_over_years(prof_ratios_df,8)\n",
    "\n",
    "    prof_ratios_df.loc[9]=['Operating return on assets', \n",
    "                       \"{:.2%}\".format(income_statement.loc['Operating Income'].iloc[0]/balance_sheet.loc['Total Assets'].iloc[0]),\n",
    "                       \"{:.2%}\".format(income_statement.loc['Operating Income'].iloc[1]/balance_sheet.loc['Total Assets'].iloc[1]),\n",
    "                       \"{:.2%}\".format(income_statement.loc['Operating Income'].iloc[2]/balance_sheet.loc['Total Assets'].iloc[2]),\n",
    "                       'Operating income/ total assets']\n",
    "\n",
    "    variation_over_years(prof_ratios_df,10)\n",
    "\n",
    "    prof_ratios_df.loc[11]=['Simp.ROCE (Return On Capital Employed)', \n",
    "                       \"{:.2%}\".format(income_statement.loc['EBIT'].iloc[0]/(balance_sheet.loc['Total Debt'].iloc[0]+balance_sheet.loc['Total Equity Gross Minority Interest'].iloc[0])),\n",
    "                       \"{:.2%}\".format(income_statement.loc['EBIT'].iloc[1]/(balance_sheet.loc['Total Debt'].iloc[1]+balance_sheet.loc['Total Equity Gross Minority Interest'].iloc[1])),\n",
    "                       \"{:.2%}\".format(income_statement.loc['EBIT'].iloc[2]/(balance_sheet.loc['Total Debt'].iloc[2]+balance_sheet.loc['Total Equity Gross Minority Interest'].iloc[2])),\n",
    "                       'EBIT/ (total debt + Total equity)']\n",
    "\n",
    "    variation_over_years(prof_ratios_df,12)\n",
    "\n",
    "    prof_ratios_df.loc[13]=['ROE (Return on Equity)', \n",
    "                       \"{:.2%}\".format(income_statement.loc['Net Income'].iloc[0]/balance_sheet.loc['Total Equity Gross Minority Interest'].iloc[0]),\n",
    "                       \"{:.2%}\".format(income_statement.loc['Net Income'].iloc[1]/balance_sheet.loc['Total Equity Gross Minority Interest'].iloc[1]),\n",
    "                       \"{:.2%}\".format(income_statement.loc['Net Income'].iloc[2]/balance_sheet.loc['Total Equity Gross Minority Interest'].iloc[2]),\n",
    "                       'Net income/ total equity']\n",
    "\n",
    "    variation_over_years(prof_ratios_df,14)\n",
    "\n",
    "    print(prof_ratios_df.to_markdown())\n",
    "    Ollama_Analysis_Quant(prof_ratios_df, 'profitability')\n",
    "except: print('Computing the ratios of this section failed. This might be due to a change of the financial statement layout on Yahoo Finance which varies when fetched from certain providers.')\n",
    "print(' ')\n",
    "\n",
    "print(colored('   Asset related ratios:', 'blue', 'on_white', attrs=['bold']))\n",
    "assets_ratios_df = pd.DataFrame(columns=['Metric'] + income_statement.columns[-3:].tolist() + ['Description'])\n",
    "\n",
    "try:\n",
    "    assets_ratios_df.loc[0]=['Fixed assets turnover', \n",
    "                       round(income_statement.loc['Total Revenue'].iloc[0]/balance_sheet.loc['Net PPE'].iloc[0],2),\n",
    "                       round(income_statement.loc['Total Revenue'].iloc[1]/balance_sheet.loc['Net PPE'].iloc[1],2),\n",
    "                       round(income_statement.loc['Total Revenue'].iloc[2]/balance_sheet.loc['Net PPE'].iloc[2],2),\n",
    "                       'revenue/ net fixed assets']\n",
    "    variation_over_years(assets_ratios_df,1)\n",
    "\n",
    "    assets_ratios_df.loc[2]=['Total asset turnover', \n",
    "                       round(income_statement.loc['Total Revenue'].iloc[0]/balance_sheet.loc['Total Assets'].iloc[0],2),\n",
    "                       round(income_statement.loc['Total Revenue'].iloc[1]/balance_sheet.loc['Total Assets'].iloc[1],2),\n",
    "                       round(income_statement.loc['Total Revenue'].iloc[2]/balance_sheet.loc['Total Assets'].iloc[2],2),\n",
    "                       'revenue/ total assets']\n",
    "    variation_over_years(assets_ratios_df,3)\n",
    "\n",
    "    assets_ratios_df.loc[4]=['Working capital turnover', \n",
    "                       \"{:.2%}\".format(income_statement.loc['Total Revenue'].iloc[0]/((balance_sheet.loc['Working Capital'].iloc[0]+balance_sheet.loc['Working Capital'].iloc[1])/2)),\n",
    "                        \"{:.2%}\".format(income_statement.loc['Total Revenue'].iloc[1]/((balance_sheet.loc['Working Capital'].iloc[1]+balance_sheet.loc['Working Capital'].iloc[2])/2)),\n",
    "                        '----',\n",
    "                       'Total revenue/ Avg working capital using previous year data']\n",
    "\n",
    "    print(assets_ratios_df.to_markdown())\n",
    "    Ollama_Analysis_Quant(assets_ratios_df, 'asset ratios')\n",
    "except: print('Computing the ratios of this section failed. This might be due to a change of the financial statement layout on Yahoo Finance which varies when fetched from certain providers.')\n",
    "print(' ')\n",
    "\n",
    "print(colored('   Liquidity ratios:', 'blue', 'on_white', attrs=['bold']))\n",
    "#Liquidity ratios:\n",
    "liq_ratios_df = pd.DataFrame(columns=['Metric'] + income_statement.columns[-3:].tolist() + ['Description'])\n",
    "\n",
    "try:\n",
    "\n",
    "    liq_ratios_df.loc[0]=['Full current ratio', \n",
    "                       round((balance_sheet.loc['Current Assets'].iloc[0])/balance_sheet.loc['Current Liabilities'].iloc[0],2),\n",
    "                       round((balance_sheet.loc['Current Assets'].iloc[1])/balance_sheet.loc['Current Liabilities'].iloc[1],2),\n",
    "                       round((balance_sheet.loc['Current Assets'].iloc[2])/balance_sheet.loc['Current Liabilities'].iloc[2],2),\n",
    "                       'Uses total current assets, better for sector comparison']\n",
    "    variation_over_years(liq_ratios_df,1)\n",
    "\n",
    "\n",
    "    liq_ratios_df.loc[2]=['Conservative current ratio', \n",
    "                       round((balance_sheet.loc['Cash Cash Equivalents And Short Term Investments'].iloc[0]+balance_sheet.loc['Accounts Receivable'].iloc[0]+balance_sheet.loc['Inventory'].iloc[0])/balance_sheet.loc['Current Liabilities'].iloc[0],2),\n",
    "                       round((balance_sheet.loc['Cash Cash Equivalents And Short Term Investments'].iloc[1]+balance_sheet.loc['Accounts Receivable'].iloc[1]+balance_sheet.loc['Inventory'].iloc[1])/balance_sheet.loc['Current Liabilities'].iloc[1],2),\n",
    "                       round((balance_sheet.loc['Cash Cash Equivalents And Short Term Investments'].iloc[2]+balance_sheet.loc['Accounts Receivable'].iloc[2]+balance_sheet.loc['Inventory'].iloc[2])/balance_sheet.loc['Current Liabilities'].iloc[2],2),\n",
    "                       'Takes in count cash/receivables/inventory only.']\n",
    "    variation_over_years(liq_ratios_df,3)\n",
    "\n",
    "    liq_ratios_df.loc[4]=['Quick ratio', \n",
    "                       round((balance_sheet.loc['Cash Cash Equivalents And Short Term Investments'].iloc[0]+balance_sheet.loc['Accounts Receivable'].iloc[0])/balance_sheet.loc['Current Liabilities'].iloc[0],2),\n",
    "                       round((balance_sheet.loc['Cash Cash Equivalents And Short Term Investments'].iloc[1]+balance_sheet.loc['Accounts Receivable'].iloc[1])/balance_sheet.loc['Current Liabilities'].iloc[1],2),\n",
    "                       round((balance_sheet.loc['Cash Cash Equivalents And Short Term Investments'].iloc[2]+balance_sheet.loc['Accounts Receivable'].iloc[2])/balance_sheet.loc['Current Liabilities'].iloc[2],2),\n",
    "                       'Current ratio without inventory']\n",
    "    variation_over_years(liq_ratios_df,5)\n",
    "\n",
    "    liq_ratios_df.loc[6]=['Cash ratio', \n",
    "                       round((balance_sheet.loc['Cash Cash Equivalents And Short Term Investments'].iloc[0])/balance_sheet.loc['Current Liabilities'].iloc[0],2),\n",
    "                       round((balance_sheet.loc['Cash Cash Equivalents And Short Term Investments'].iloc[1])/balance_sheet.loc['Current Liabilities'].iloc[1],2),\n",
    "                       round((balance_sheet.loc['Cash Cash Equivalents And Short Term Investments'].iloc[2])/balance_sheet.loc['Current Liabilities'].iloc[2],2),\n",
    "                       'Current ratio without inventory/ receivables']\n",
    "    variation_over_years(liq_ratios_df,7)\n",
    "\n",
    "    print(liq_ratios_df.to_markdown())\n",
    "    Ollama_Analysis_Quant(liq_ratios_df, 'liquidity')\n",
    "except: print('Computing the ratios of this section failed. This might be due to a change of the financial statement layout on Yahoo Finance which varies when fetched from certain providers.')\n",
    "print(' ')\n",
    "\n",
    "print(colored('   Solvency ratios:', 'blue', 'on_white', attrs=['bold']))\n",
    "print(' ')\n",
    "#Solvency ratios\n",
    "print(colored('      Level of debt ratios:', 'blue', attrs=['bold']))\n",
    "dbt_ratios_df = pd.DataFrame(columns=['Metric'] + income_statement.columns[-3:].tolist() + ['Description'])\n",
    "\n",
    "try:\n",
    "    dbt_ratios_df.loc[0]=['Debt to assets ratio', \n",
    "                       round((balance_sheet.loc['Total Debt'].iloc[0])/balance_sheet.loc['Total Liabilities Net Minority Interest'].iloc[0],2),\n",
    "                       round((balance_sheet.loc['Total Debt'].iloc[1])/balance_sheet.loc['Total Liabilities Net Minority Interest'].iloc[1],2),\n",
    "                       round((balance_sheet.loc['Total Debt'].iloc[2])/balance_sheet.loc['Total Liabilities Net Minority Interest'].iloc[2],2),\n",
    "                       'Total debt/ total assets']\n",
    "    variation_over_years(dbt_ratios_df,1, True)\n",
    "\n",
    "    dbt_ratios_df.loc[2]=['Debt to capital ratio', \n",
    "                       round(balance_sheet.loc['Total Debt'].iloc[0]/(balance_sheet.loc['Total Debt'].iloc[0]+balance_sheet.loc['Stockholders Equity'].iloc[0]),2),\n",
    "                       round(balance_sheet.loc['Total Debt'].iloc[1]/(balance_sheet.loc['Total Debt'].iloc[1]+balance_sheet.loc['Stockholders Equity'].iloc[1]),2),\n",
    "                       round(balance_sheet.loc['Total Debt'].iloc[2]/(balance_sheet.loc['Total Debt'].iloc[2]+balance_sheet.loc['Stockholders Equity'].iloc[2]),2),\n",
    "                       'Total debt/(total debt + total shareholders equity)']\n",
    "    variation_over_years(dbt_ratios_df,3, True)\n",
    "\n",
    "    dbt_ratios_df.loc[4]=['Debt to equity ratio', \n",
    "                       round((balance_sheet.loc['Total Debt'].iloc[0])/balance_sheet.loc['Stockholders Equity'].iloc[0],2),\n",
    "                       round((balance_sheet.loc['Total Debt'].iloc[1])/balance_sheet.loc['Stockholders Equity'].iloc[1],2),\n",
    "                       round((balance_sheet.loc['Total Debt'].iloc[2])/balance_sheet.loc['Stockholders Equity'].iloc[2],2),\n",
    "                       'Total debt/ total shareholders equity']\n",
    "    variation_over_years(dbt_ratios_df,5, True)\n",
    "\n",
    "    dbt_ratios_df.loc[6]=['Financial leverage ratio', \n",
    "                       round((balance_sheet.loc['Total Assets'].iloc[0])/balance_sheet.loc['Stockholders Equity'].iloc[0],2),\n",
    "                       round((balance_sheet.loc['Total Assets'].iloc[1])/balance_sheet.loc['Stockholders Equity'].iloc[1],2),\n",
    "                       round((balance_sheet.loc['Total Assets'].iloc[2])/balance_sheet.loc['Stockholders Equity'].iloc[2],2),\n",
    "                       'Total assets/ total equity. Higher=more debt used']\n",
    "    variation_over_years(dbt_ratios_df,7, True)\n",
    "\n",
    "    print(dbt_ratios_df.to_markdown())\n",
    "    Ollama_Analysis_Quant(dbt_ratios_df, 'level of debt')\n",
    "except: print('Computing the ratios of this section failed. This might be due to a change of the financial statement layout on Yahoo Finance which varies when fetched from certain providers.')\n",
    "print(' ')\n",
    "print(colored('      Coverage ratios:', 'blue', attrs=['bold']))\n",
    "\n",
    "cov_ratios_df = pd.DataFrame(columns=['Metric'] + income_statement.columns[-3:].tolist() + ['Description'])\n",
    "\n",
    "try:\n",
    "    cov_ratios_df.loc[0]=['Interest coverage', \n",
    "                       round(income_statement.loc['EBIT'].iloc[0]/income_statement.loc['Interest Expense'].iloc[0],2),\n",
    "                       round(income_statement.loc['EBIT'].iloc[1]/income_statement.loc['Interest Expense'].iloc[1],2),\n",
    "                       round(income_statement.loc['EBIT'].iloc[2]/income_statement.loc['Interest Expense'].iloc[2],2),\n",
    "                       'EBIT/ interest payments. Ability to pay debt interests']\n",
    "    variation_over_years(cov_ratios_df,1)\n",
    "\n",
    "    cov_ratios_df.loc[2]=['Debt to EBITDA', \n",
    "                       round(balance_sheet.loc['Total Debt'].iloc[0]/income_statement.loc['EBITDA'].iloc[0],2),\n",
    "                       round(balance_sheet.loc['Total Debt'].iloc[1]/income_statement.loc['EBITDA'].iloc[1],2),\n",
    "                       round(balance_sheet.loc['Total Debt'].iloc[2]/income_statement.loc['EBITDA'].iloc[2],2),\n",
    "                       'Number of years to pay off debt from earnings']\n",
    "    variation_over_years(cov_ratios_df,3, True)\n",
    "\n",
    "    print(cov_ratios_df.to_markdown())\n",
    "    Ollama_Analysis_Quant(cov_ratios_df, 'coverage')\n",
    "except: print('Computing the ratios of this section failed. This might be due to a change of the financial statement layout on Yahoo Finance which varies when fetched from certain providers.')\n",
    "print(' ')\n",
    "\n",
    "print(colored('   Cash flows calculations: Operational ratios:', 'blue', 'on_white', attrs=['bold']))\n",
    "\n",
    "cf_ratios_df = pd.DataFrame(columns=['Metric'] + income_statement.columns[-3:].tolist() + ['Description'])\n",
    "\n",
    "try:\n",
    "    cf_ratios_df.loc[0]=['CFI: Investing Cashflow', \n",
    "                       round(cashflow.loc['Investing Cash Flow'].iloc[0],2),\n",
    "                       round(cashflow.loc['Investing Cash Flow'].iloc[1],2),\n",
    "                       round(cashflow.loc['Investing Cash Flow'].iloc[2],2),\n",
    "                       'cash received on asset sales - investment in assets']\n",
    "    variation_over_years(cf_ratios_df,1)\n",
    "\n",
    "    cf_ratios_df.loc[2]=['CFF: Financing Cashflow', \n",
    "                       round(cashflow.loc['Financing Cash Flow'].iloc[0],2),\n",
    "                       round(cashflow.loc['Financing Cash Flow'].iloc[1],2),\n",
    "                       round(cashflow.loc['Financing Cash Flow'].iloc[2],2),\n",
    "                       'change in debt/common stock + cash dividends paid']\n",
    "    variation_over_years(cf_ratios_df,3)\n",
    "\n",
    "    cf_ratios_df.loc[4]=['CFO: Cashflow from Operations', \n",
    "                       round(cashflow.loc['Operating Cash Flow'].iloc[0],2),\n",
    "                       round(cashflow.loc['Operating Cash Flow'].iloc[1],2),\n",
    "                       round(cashflow.loc['Operating Cash Flow'].iloc[2],2),\n",
    "                       'Qualitative if higher than reported earnings']\n",
    "    variation_over_years(cf_ratios_df,5)\n",
    "\n",
    "    cf_ratios_df.loc[6]=['--------', '--------', '--------', '--------', '------------------------------']\n",
    "\n",
    "    cf_ratios_df.loc[7]=['CFO to revenue', \n",
    "                       round(cashflow.loc['Operating Cash Flow'].iloc[0]/income_statement.loc['Total Revenue'].iloc[0],2),\n",
    "                       round(cashflow.loc['Operating Cash Flow'].iloc[1]/income_statement.loc['Total Revenue'].iloc[1],2),\n",
    "                       round(cashflow.loc['Operating Cash Flow'].iloc[2]/income_statement.loc['Total Revenue'].iloc[2],2),\n",
    "                       'CFO/ net revenue']\n",
    "    variation_over_years(cf_ratios_df,8)\n",
    "\n",
    "    cf_ratios_df.loc[9]=['Cash return on assets', \n",
    "                       round(cashflow.loc['Operating Cash Flow'].iloc[0]/balance_sheet.loc['Total Assets'].iloc[0],2),\n",
    "                       round(cashflow.loc['Operating Cash Flow'].iloc[1]/balance_sheet.loc['Total Assets'].iloc[1],2),\n",
    "                       round(cashflow.loc['Operating Cash Flow'].iloc[2]/balance_sheet.loc['Total Assets'].iloc[2],2),\n",
    "                       'CFO/ total assets']\n",
    "    variation_over_years(cf_ratios_df,10)\n",
    "\n",
    "    cf_ratios_df.loc[11]=['Debt coverage', \n",
    "                       round(cashflow.loc['Operating Cash Flow'].iloc[0]/balance_sheet.loc['Total Debt'].iloc[0],2),\n",
    "                       round(cashflow.loc['Operating Cash Flow'].iloc[1]/balance_sheet.loc['Total Debt'].iloc[1],2),\n",
    "                       round(cashflow.loc['Operating Cash Flow'].iloc[2]/balance_sheet.loc['Total Debt'].iloc[2],2),\n",
    "                       'CFO/ total debt']\n",
    "    variation_over_years(cf_ratios_df,12)\n",
    "\n",
    "    print(cf_ratios_df.to_markdown())\n",
    "    Ollama_Analysis_Quant(cf_ratios_df, 'solvency')\n",
    "except: print('Computing the ratios of this section failed. This might be due to a change of the financial statement layout on Yahoo Finance which varies when fetched from certain providers.')\n",
    "\n",
    "print(colored('   Bankrupcy and financial health scores:', 'blue', 'on_white', attrs=['bold']))\n",
    "\n",
    "# Normalize labels to avoid whitespace issues\n",
    "balance_sheet.index = balance_sheet.index.str.strip()\n",
    "income_statement.index = income_statement.index.str.strip()\n",
    "cashflow.index = cashflow.index.str.strip()\n",
    "\n",
    "# Create output dataframe\n",
    "bs_df = pd.DataFrame(columns=['Metric'] + income_statement.columns[-3:].tolist() + ['Description'])\n",
    "balance_sheet.index = balance_sheet.index.str.strip()\n",
    "\n",
    "try:\n",
    "    # === Altman Z-score ===\n",
    "    z_scores = []\n",
    "    for i in range(3):\n",
    "        wc = balance_sheet.loc['Working Capital'].iloc[i]\n",
    "        re = balance_sheet.loc['Retained Earnings'].iloc[i]\n",
    "        ebit = income_statement.loc['EBIT'].iloc[i]\n",
    "        mve = balance_sheet.loc['Stockholders Equity'].iloc[i]\n",
    "        sales = income_statement.loc['Total Revenue'].iloc[i]\n",
    "        ta = balance_sheet.loc['Total Assets'].iloc[i]\n",
    "        tl = balance_sheet.loc['Total Liabilities Net Minority Interest'].iloc[i]\n",
    "        z = 1.2 * wc / ta + 1.4 * re / ta + 3.3 * ebit / ta + 0.6 * mve / tl + 1.0 * sales / ta\n",
    "        z_scores.append(round(z, 2))\n",
    "\n",
    "    bs_df.loc[0] = ['Altman Z-score'] + z_scores + ['Safe > 3, distress < 1.8. For manufacturing firms mainly.']\n",
    "    variation_over_years(bs_df, 1)\n",
    "\n",
    "    # === Ohlson O-score ===\n",
    "    o_scores = []\n",
    "    for i in range(3):\n",
    "        cl = balance_sheet.loc['Current Liabilities'].iloc[i]\n",
    "        ca = balance_sheet.loc['Current Assets'].iloc[i]\n",
    "        ni = income_statement.loc['Net Income'].iloc[i]\n",
    "        ffo = cashflow.loc['Operating Cash Flow'].iloc[i]\n",
    "        wc = balance_sheet.loc['Working Capital'].iloc[i]\n",
    "        ta = balance_sheet.loc['Total Assets'].iloc[i]\n",
    "        tl = balance_sheet.loc['Total Liabilities Net Minority Interest'].iloc[i]\n",
    "        X = 1 if tl > ta else 0\n",
    "        Y = 1 if ni < 0 else 0\n",
    "        o = (-1.32 - 0.407 * np.log(ta) + 6.03 * tl / ta - 1.43 * wc / ta +\n",
    "             0.076 * cl / ca - 1.72 * X - 2.37 * ni / ta - 1.83 * ffo / ta + 0.285 * Y)\n",
    "        o_scores.append(round(o, 2))\n",
    "\n",
    "    bs_df.loc[2] = ['Ohlson O-score'] + o_scores + ['Broader. Good if < 0.5']\n",
    "    variation_over_years(bs_df, 3, True)\n",
    "    print(bs_df.to_markdown())\n",
    "    Ollama_Analysis_Quant(bs_df, 'bankrupcy scores')\n",
    "except Exception as e:\n",
    "    print(f\"Bankruptcy score computation failed: {e}\")\n",
    "\n",
    "## Step 5: Appendix ##------------------------------------------------------------------\n",
    "print(boxen(\"Appendix: Financial statements in detail\", color=\"cyan\"))\n",
    "#This way, if something seems unusual in the ratios/ AI commentaries, the user can check out for himself the raw data. It is also used for debugging when adding new features. Limitation: The conversion in billions/ millions/... also affects percentages such as tax rates.\n",
    "\n",
    "print(boxen(f'Income statement (expressed in {unit}):'))\n",
    "print(income_statement.to_markdown())\n",
    "print(boxen(f'Balance sheet (expressed in {unit}):'))\n",
    "print(balance_sheet.to_markdown())\n",
    "print(boxen(f'Cashflow Statement (expressed in {unit}):'))\n",
    "print(cashflow.to_markdown())\n",
    "\n",
    "## Credits ##------------------------------------------------------------------\n",
    "print(boxen(\"Code: © G.RUQUILLA - CC BY-NC-SA\"))\n",
    "print(\"This license enables reusers to distribute, remix, adapt, and build upon the material in any medium or format for noncommercial purposes only, and only so long as attribution is given to the creator. If you remix, adapt, or build upon the material, you must license the modified material under identical terms. Data is fetched from Yahoo Finance through Yfinance and Google RSS feeds through pygooglenews. The information provided is for general informational and educational purposes only and does not constitute investment advice, financial advice, trading advice, or any other form of advice.\")"
   ]
  },
  {
   "cell_type": "code",
   "execution_count": null,
   "id": "d018d7ff-0998-43b6-b005-c4d300632b78",
   "metadata": {},
   "outputs": [],
   "source": []
  }
 ],
 "metadata": {
  "kernelspec": {
   "display_name": "Python [conda env:base] *",
   "language": "python",
   "name": "conda-base-py"
  },
  "language_info": {
   "codemirror_mode": {
    "name": "ipython",
    "version": 3
   },
   "file_extension": ".py",
   "mimetype": "text/x-python",
   "name": "python",
   "nbconvert_exporter": "python",
   "pygments_lexer": "ipython3",
   "version": "3.13.5"
  }
 },
 "nbformat": 4,
 "nbformat_minor": 5
}
